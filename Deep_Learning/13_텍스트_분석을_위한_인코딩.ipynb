{
  "nbformat": 4,
  "nbformat_minor": 0,
  "metadata": {
    "colab": {
      "name": "13. 텍스트 분석을 위한 인코딩",
      "provenance": [],
      "authorship_tag": "ABX9TyMW8Wa/GyrPk4DRl2susM+j",
      "include_colab_link": true
    },
    "kernelspec": {
      "name": "python3",
      "display_name": "Python 3"
    }
  },
  "cells": [
    {
      "cell_type": "markdown",
      "metadata": {
        "id": "view-in-github",
        "colab_type": "text"
      },
      "source": [
        "<a href=\"https://colab.research.google.com/github/wjh818/Data_hwj/blob/main/Deep_Learning/13_%ED%85%8D%EC%8A%A4%ED%8A%B8_%EB%B6%84%EC%84%9D%EC%9D%84_%EC%9C%84%ED%95%9C_%EC%9D%B8%EC%BD%94%EB%94%A9.ipynb\" target=\"_parent\"><img src=\"https://colab.research.google.com/assets/colab-badge.svg\" alt=\"Open In Colab\"/></a>"
      ]
    },
    {
      "cell_type": "markdown",
      "metadata": {
        "id": "2us6ZZErEEbj"
      },
      "source": [
        "# 텍스트의 수치화\r\n",
        "\r\n",
        "컴퓨터는 텍스트보다 숫자를 더 잘 처리한다.\r\n",
        "\r\n",
        "* Integer Encoding ( 정수 인코딩 )\r\n",
        " * 단어 토큰화( Word Tokenization )또는 형태소 분리 후 각 단어에 **고유한 정수**를 부여\r\n",
        " * 중복이 허용되지 않는 모든 단어들의 집합을 만들어야 한다. **단어 집합(Vocabulary)**이라고 한다.\r\n",
        "* Padding\r\n",
        " * 모든 문장에 대해서 정수 인코딩을 수행했을 때 문장마다의 길이는 다를 수 있다.\r\n",
        " * 이 때 가상의 단어를 만들어 길이를 추가해 준다. ( 보통은 0으로 추가 ) 이를 padding 작업이라고 한다.\r\n",
        "* Vectorization\r\n",
        " * One-Hot Encoding\r\n",
        "   * 전체 단어 집합의 크기를 벡터의 차원으로 갖습니다.\r\n",
        "   * 각 단어에 고유한 정수 인덱스를 부여하고, 해당 인덱스의 원소는 1, 나머지원소는 0으로 가지는 벡터를 만든다.\r\n",
        " * Document Term Matrix(DTM)\r\n",
        "   * 각 단어에 고유한 인덱스를 부여한 후에, 문서 마다 해당 단어가 등장한 횟수를 인덱스의 값으로 가진다.\r\n",
        "\r\n",
        " * TF-IDF( Term Frequency - Inverse Document Frequency )\r\n",
        "   * 단어 빈도 - 역 문서 빈도\r\n",
        "   * TF와 IDF라는 값을 곱한 값이다.\r\n",
        "   * 문서의 유사도, 검색 시스템에서 검색 결과의 순위 등을 구하는 일에 사용된다.\r\n",
        "   * 인공 신경망의 입력으로도 사용이 가능\r\n",
        "\r\n",
        "임베딩에 대한 이해가 필수적이다."
      ]
    },
    {
      "cell_type": "markdown",
      "metadata": {
        "id": "yNfH5h_vEKw3"
      },
      "source": [
        "# Integer Encoding\r\n",
        "문장을 단어 토큰화 또는 형태소 분리를 진행하면 각 단어 및 형태소들을 얻어 낼 수 있다. Integer Encoding은 아주 단순히 문장을 구성하는 단어들에 대해 **숫자를 부여** 했다고 생각하면 된다.\r\n",
        "\r\n",
        "숫자를 부여하는 기준은 **ABC(가나다)**순, 또는 **빈도가 높은 순**으로 순서를 구성한다."
      ]
    },
    {
      "cell_type": "code",
      "metadata": {
        "colab": {
          "base_uri": "https://localhost:8080/"
        },
        "id": "BDpv2ZDdEHWe",
        "outputId": "f1c3f0d2-eddc-45b4-a638-2e02065fe6c4"
      },
      "source": [
        "import nltk\r\n",
        "nltk.download('punkt')"
      ],
      "execution_count": null,
      "outputs": [
        {
          "output_type": "stream",
          "text": [
            "[nltk_data] Downloading package punkt to /root/nltk_data...\n",
            "[nltk_data]   Package punkt is already up-to-date!\n"
          ],
          "name": "stdout"
        },
        {
          "output_type": "execute_result",
          "data": {
            "text/plain": [
              "True"
            ]
          },
          "metadata": {
            "tags": []
          },
          "execution_count": 1
        }
      ]
    },
    {
      "cell_type": "markdown",
      "metadata": {
        "id": "DDXqF78cEfy5"
      },
      "source": [
        "## [English] Sentence Tokenization"
      ]
    },
    {
      "cell_type": "code",
      "metadata": {
        "colab": {
          "base_uri": "https://localhost:8080/"
        },
        "id": "KJvLKVkhEHZX",
        "outputId": "ce4bc2e4-c549-4b92-b855-3f4fd8d2bebc"
      },
      "source": [
        "from nltk.tokenize import sent_tokenize\r\n",
        "\r\n",
        "text = \"\"\"Isn't she lovely.\r\n",
        "Isn't she wonderful.\r\n",
        "Isn't she precious.\r\n",
        "Less than one minute old.\r\n",
        "I never thought through love we'd be.\r\n",
        "Making one as lovely as she.\r\n",
        "But isn't she lovely made from love.\r\n",
        "Isn't she pretty.\r\n",
        "Truly the angel's best.\r\n",
        "Boy, I'm so happy.\r\n",
        "We have been heaven blessed.\r\n",
        "I can't believe what God has done.\r\n",
        "Through us he's given life to one.\r\n",
        "But isn't she lovely made from love.\r\n",
        "Isn't she lovely.\r\n",
        "Life and love are the same.\r\n",
        "Life is Aisha.\r\n",
        "The meaning of her name.\r\n",
        "Londie, it could have not been done.\r\n",
        "Without you who conceived the one.\r\n",
        "That's so very lovely made from love.\"\"\"\r\n",
        "\r\n",
        "text = sent_tokenize(text)\r\n",
        "print(text)"
      ],
      "execution_count": null,
      "outputs": [
        {
          "output_type": "stream",
          "text": [
            "[\"Isn't she lovely.\", \"Isn't she wonderful.\", \"Isn't she precious.\", 'Less than one minute old.', \"I never thought through love we'd be.\", 'Making one as lovely as she.', \"But isn't she lovely made from love.\", \"Isn't she pretty.\", \"Truly the angel's best.\", \"Boy, I'm so happy.\", 'We have been heaven blessed.', \"I can't believe what God has done.\", \"Through us he's given life to one.\", \"But isn't she lovely made from love.\", \"Isn't she lovely.\", 'Life and love are the same.', 'Life is Aisha.', 'The meaning of her name.', 'Londie, it could have not been done.', 'Without you who conceived the one.', \"That's so very lovely made from love.\"]\n"
          ],
          "name": "stdout"
        }
      ]
    },
    {
      "cell_type": "markdown",
      "metadata": {
        "id": "8NqNGU56Ekmm"
      },
      "source": [
        "## [English] Word Tokenization"
      ]
    },
    {
      "cell_type": "code",
      "metadata": {
        "colab": {
          "base_uri": "https://localhost:8080/"
        },
        "id": "7LQoPTgbEHbu",
        "outputId": "bd88c6b4-f0d8-42e6-92a4-f08efd0aa683"
      },
      "source": [
        "nltk.download('stopwords')"
      ],
      "execution_count": null,
      "outputs": [
        {
          "output_type": "stream",
          "text": [
            "[nltk_data] Downloading package stopwords to /root/nltk_data...\n",
            "[nltk_data]   Package stopwords is already up-to-date!\n"
          ],
          "name": "stdout"
        },
        {
          "output_type": "execute_result",
          "data": {
            "text/plain": [
              "True"
            ]
          },
          "metadata": {
            "tags": []
          },
          "execution_count": 3
        }
      ]
    },
    {
      "cell_type": "code",
      "metadata": {
        "colab": {
          "base_uri": "https://localhost:8080/"
        },
        "id": "NntHErF7EHeT",
        "outputId": "bd2714c9-1a3b-4e78-89c6-165fda7bb5a1"
      },
      "source": [
        "from nltk.corpus import stopwords\r\n",
        "from nltk.tokenize import word_tokenize\r\n",
        "\r\n",
        "# 단어 토큰화된 전체 문장을 가지고 있을 배열\r\n",
        "sentences = []\r\n",
        "stop_words = set(stopwords.words('english')) # 불용어를 집합화\r\n",
        "\r\n",
        "# 문장들을 하나씩 꺼내서 단어 토큰화\r\n",
        "for i in text:\r\n",
        "  sentence = word_tokenize(i) # 단어 토큰화\r\n",
        "  result = [] # 정제 작업이 완료된 단어를 추가할 배열\r\n",
        "\r\n",
        "  for word in sentence:\r\n",
        "    # 소문자화\r\n",
        "    word = word.lower() # 모든 단어를 소문자화하여 단어의 개수를 줄인다.\r\n",
        "\r\n",
        "    if word not in stop_words: # 불용어 처리\r\n",
        "      # 길이가 2이하인 경우도 걸러줍니다.\r\n",
        "      if len(word) > 2:\r\n",
        "        result.append(word)\r\n",
        "  \r\n",
        "  sentences.append(result)\r\n",
        "\r\n",
        "print(sentences)"
      ],
      "execution_count": null,
      "outputs": [
        {
          "output_type": "stream",
          "text": [
            "[[\"n't\", 'lovely'], [\"n't\", 'wonderful'], [\"n't\", 'precious'], ['less', 'one', 'minute', 'old'], ['never', 'thought', 'love'], ['making', 'one', 'lovely'], [\"n't\", 'lovely', 'made', 'love'], [\"n't\", 'pretty'], ['truly', 'angel', 'best'], ['boy', 'happy'], ['heaven', 'blessed'], [\"n't\", 'believe', 'god', 'done'], ['given', 'life', 'one'], [\"n't\", 'lovely', 'made', 'love'], [\"n't\", 'lovely'], ['life', 'love'], ['life', 'aisha'], ['meaning', 'name'], ['londie', 'could', 'done'], ['without', 'conceived', 'one'], ['lovely', 'made', 'love']]\n"
          ],
          "name": "stdout"
        }
      ]
    },
    {
      "cell_type": "markdown",
      "metadata": {
        "id": "-ORdhmU5ErAh"
      },
      "source": [
        "## [English] 단어 집합 만들기 ( Python )\r\n",
        "단어 집합이란? 중복을 제거한 단어들의 집합"
      ]
    },
    {
      "cell_type": "code",
      "metadata": {
        "colab": {
          "base_uri": "https://localhost:8080/"
        },
        "id": "Zn6IO1CEEHhB",
        "outputId": "f76bd48e-1c92-40b7-a5c9-745a2dfe0726"
      },
      "source": [
        "# 각 배열에 등장한 횟수가 많을 수록 앞 번호에 위치\r\n",
        "from collections import Counter\r\n",
        "words = sum(sentences, []) # sentences에 들있는 모든 배열을 비어있는 배열에 합치는 역할 ( extends )\r\n",
        "print(words)"
      ],
      "execution_count": null,
      "outputs": [
        {
          "output_type": "stream",
          "text": [
            "[\"n't\", 'lovely', \"n't\", 'wonderful', \"n't\", 'precious', 'less', 'one', 'minute', 'old', 'never', 'thought', 'love', 'making', 'one', 'lovely', \"n't\", 'lovely', 'made', 'love', \"n't\", 'pretty', 'truly', 'angel', 'best', 'boy', 'happy', 'heaven', 'blessed', \"n't\", 'believe', 'god', 'done', 'given', 'life', 'one', \"n't\", 'lovely', 'made', 'love', \"n't\", 'lovely', 'life', 'love', 'life', 'aisha', 'meaning', 'name', 'londie', 'could', 'done', 'without', 'conceived', 'one', 'lovely', 'made', 'love']\n"
          ],
          "name": "stdout"
        }
      ]
    },
    {
      "cell_type": "code",
      "metadata": {
        "colab": {
          "base_uri": "https://localhost:8080/"
        },
        "id": "5FdyawJJEHjt",
        "outputId": "c6df8080-ab7e-4310-b34c-8a7d146f21a0"
      },
      "source": [
        "# 단어 집합 만들기\r\n",
        "vocab = Counter(words) # 파이썬의 Counter 모듈을 이용하면 단어의 모든 빈도를 쉽계 계산 가능\r\n",
        "print(vocab)"
      ],
      "execution_count": null,
      "outputs": [
        {
          "output_type": "stream",
          "text": [
            "Counter({\"n't\": 8, 'lovely': 6, 'love': 5, 'one': 4, 'made': 3, 'life': 3, 'done': 2, 'wonderful': 1, 'precious': 1, 'less': 1, 'minute': 1, 'old': 1, 'never': 1, 'thought': 1, 'making': 1, 'pretty': 1, 'truly': 1, 'angel': 1, 'best': 1, 'boy': 1, 'happy': 1, 'heaven': 1, 'blessed': 1, 'believe': 1, 'god': 1, 'given': 1, 'aisha': 1, 'meaning': 1, 'name': 1, 'londie': 1, 'could': 1, 'without': 1, 'conceived': 1})\n"
          ],
          "name": "stdout"
        }
      ]
    },
    {
      "cell_type": "code",
      "metadata": {
        "colab": {
          "base_uri": "https://localhost:8080/"
        },
        "id": "SKQE7POOEHmK",
        "outputId": "61adfac6-3ab1-4fee-e8e7-7853e4a7bbd8"
      },
      "source": [
        "# lovely가 몇번 나왔는가?\r\n",
        "print(vocab['lovely'])"
      ],
      "execution_count": null,
      "outputs": [
        {
          "output_type": "stream",
          "text": [
            "6\n"
          ],
          "name": "stdout"
        }
      ]
    },
    {
      "cell_type": "markdown",
      "metadata": {
        "id": "AHYxv7-IEygE"
      },
      "source": [
        "## [English] Integer Encoding ( Python )\r\n",
        "가나다 순 또는 빈도 내림차순으로 정렬하여 각 단어에 중복되지 않는 정수를 부여"
      ]
    },
    {
      "cell_type": "code",
      "metadata": {
        "colab": {
          "base_uri": "https://localhost:8080/"
        },
        "id": "eY_Bk0byEyp4",
        "outputId": "cc62ace7-52b2-4961-e811-b6797e5b634c"
      },
      "source": [
        "# 빈도수가 높은 순서대로 정렬\r\n",
        "vocab_sorted = sorted(vocab.items(), key = lambda x : x[1], reverse = True)\r\n",
        "print(vocab_sorted)"
      ],
      "execution_count": null,
      "outputs": [
        {
          "output_type": "stream",
          "text": [
            "[(\"n't\", 8), ('lovely', 6), ('love', 5), ('one', 4), ('made', 3), ('life', 3), ('done', 2), ('wonderful', 1), ('precious', 1), ('less', 1), ('minute', 1), ('old', 1), ('never', 1), ('thought', 1), ('making', 1), ('pretty', 1), ('truly', 1), ('angel', 1), ('best', 1), ('boy', 1), ('happy', 1), ('heaven', 1), ('blessed', 1), ('believe', 1), ('god', 1), ('given', 1), ('aisha', 1), ('meaning', 1), ('name', 1), ('londie', 1), ('could', 1), ('without', 1), ('conceived', 1)]\n"
          ],
          "name": "stdout"
        }
      ]
    },
    {
      "cell_type": "code",
      "metadata": {
        "colab": {
          "base_uri": "https://localhost:8080/"
        },
        "id": "Jk8xt_oFEysc",
        "outputId": "e675a879-df12-4af7-c2d7-df88c703ef2b"
      },
      "source": [
        "# 높은 빈도수를 가진 단어일 수록 낮은 정수 인덱스를 부여 ( 앞쪽에 배치 )\r\n",
        "word2idx = {}\r\n",
        "i = 0\r\n",
        "\r\n",
        "for (word, frequency) in vocab_sorted:\r\n",
        "  if frequency > 1 : # 정제(Cleaning)작업. 빈도수가 적은 단어는 제외\r\n",
        "    i = i + 1\r\n",
        "    word2idx[word] = i\r\n",
        "\r\n",
        "print(word2idx)"
      ],
      "execution_count": null,
      "outputs": [
        {
          "output_type": "stream",
          "text": [
            "{\"n't\": 1, 'lovely': 2, 'love': 3, 'one': 4, 'made': 5, 'life': 6, 'done': 7}\n"
          ],
          "name": "stdout"
        }
      ]
    },
    {
      "cell_type": "markdown",
      "metadata": {
        "id": "Cg1v6mS4E60P"
      },
      "source": [
        "빈도수가 가장 높은 상위 n개만 선택해서 단어집합으로 사용하기"
      ]
    },
    {
      "cell_type": "code",
      "metadata": {
        "colab": {
          "base_uri": "https://localhost:8080/"
        },
        "id": "ft5q-kuJEyvL",
        "outputId": "ddc71978-0830-4f23-a820-822f9192643f"
      },
      "source": [
        "vocab_size = 5 # 반드시 외워 두세요 : 단어 집합의 크기\r\n",
        "\r\n",
        "# 단어 집합의 인덱스를 구해오기\r\n",
        "words_frequency = [w for w, c in word2idx.items() if c >= vocab_size + 1]\r\n",
        "print(words_frequency)"
      ],
      "execution_count": null,
      "outputs": [
        {
          "output_type": "stream",
          "text": [
            "['life', 'done']\n"
          ],
          "name": "stdout"
        }
      ]
    },
    {
      "cell_type": "code",
      "metadata": {
        "colab": {
          "base_uri": "https://localhost:8080/"
        },
        "id": "ltiUmtUxEyxv",
        "outputId": "d8f77518-9ae9-4a9c-f245-15d2b90dc46d"
      },
      "source": [
        "for w in words_frequency:\r\n",
        "  del word2idx[w] # 해당 단어에 대한 인덱스 정보를 삭제\r\n",
        "  \r\n",
        "print(word2idx)"
      ],
      "execution_count": null,
      "outputs": [
        {
          "output_type": "stream",
          "text": [
            "{\"n't\": 1, 'lovely': 2, 'love': 3, 'one': 4, 'made': 5}\n"
          ],
          "name": "stdout"
        }
      ]
    },
    {
      "cell_type": "markdown",
      "metadata": {
        "id": "DMa5luMdFA_Q"
      },
      "source": [
        "### OOV (Out Of Vocabulary) 처리\r\n",
        "UNK (UnKnown) 토큰을 추가할 것이다. UNK(OOV)란 단어집합에 없는 단어를 위한 인덱스 ( 신조어, 오타, 단어 집합에 포함되지 않는 단어를 위한 처리 )"
      ]
    },
    {
      "cell_type": "code",
      "metadata": {
        "colab": {
          "base_uri": "https://localhost:8080/"
        },
        "id": "JAQHrILFEy0Z",
        "outputId": "848c6a26-1dbb-4ee8-e341-2e27b2b82130"
      },
      "source": [
        "word2idx['UNK'] = 6\r\n",
        "print(word2idx)"
      ],
      "execution_count": null,
      "outputs": [
        {
          "output_type": "stream",
          "text": [
            "{\"n't\": 1, 'lovely': 2, 'love': 3, 'one': 4, 'made': 5, 'UNK': 6}\n"
          ],
          "name": "stdout"
        }
      ]
    },
    {
      "cell_type": "markdown",
      "metadata": {
        "id": "QcTBbxr4FGco"
      },
      "source": [
        "### Encoding 수행\r\n",
        "* 단어를 숫자로 표현하는 것을 인코딩 이라고 한다."
      ]
    },
    {
      "cell_type": "code",
      "metadata": {
        "colab": {
          "base_uri": "https://localhost:8080/"
        },
        "id": "ntzpVhuvEy2m",
        "outputId": "d1e88a10-1c7d-4a53-f926-74b9ff18cedf"
      },
      "source": [
        "# 인코딩된 데이터를 저장하기 위한 배열\r\n",
        "encoded = []\r\n",
        "\r\n",
        "for s in sentences:\r\n",
        "  # 임시로 인코딩된 내용을 저장할 배열\r\n",
        "  temp = []\r\n",
        "\r\n",
        "  # 단어 하나씩 꺼내기\r\n",
        "  for w in s:\r\n",
        "    # 있는 키라면\r\n",
        "    try:\r\n",
        "      # 단어 집합에서 꺼내서 임시 배열에 추가\r\n",
        "      temp.append(word2idx[w])\r\n",
        "    except KeyError:\r\n",
        "      # 없는 키라면\r\n",
        "      # 단어 집합에 없었던 단어이기 때문에 UNK 인코딩을 수행한다.\r\n",
        "      temp.append(word2idx[\"UNK\"])\r\n",
        "  encoded.append(temp)\r\n",
        "\r\n",
        "print(\"변환 전 : {}\".format(sentences[:5]))\r\n",
        "print(\"변환 후 : {}\".format(encoded[:5]))"
      ],
      "execution_count": null,
      "outputs": [
        {
          "output_type": "stream",
          "text": [
            "변환 전 : [[\"n't\", 'lovely'], [\"n't\", 'wonderful'], [\"n't\", 'precious'], ['less', 'one', 'minute', 'old'], ['never', 'thought', 'love']]\n",
            "변환 후 : [[1, 2], [1, 6], [1, 6], [6, 4, 6, 6], [6, 6, 3]]\n"
          ],
          "name": "stdout"
        }
      ]
    },
    {
      "cell_type": "markdown",
      "metadata": {
        "id": "9jNtC-IGFJf6"
      },
      "source": [
        "## [English] Vocab & Integer Encoding (Tensorflow)"
      ]
    },
    {
      "cell_type": "code",
      "metadata": {
        "colab": {
          "base_uri": "https://localhost:8080/"
        },
        "id": "DS4jHMO0Ey5D",
        "outputId": "aba66f3b-2dd6-47e1-f04a-e4ff607feae5"
      },
      "source": [
        "from tensorflow.keras.preprocessing.text import Tokenizer\r\n",
        "\r\n",
        "tokenizer = Tokenizer()\r\n",
        "\r\n",
        "# fit_on_texts() 함수에 코퍼스 (sentences)를 집어 넣으면 바로 빈도수를 기준으로 단어집합을 만들어 준다.\r\n",
        "tokenizer.fit_on_texts(sentences)\r\n",
        "\r\n",
        "print(tokenizer.word_index) # 생성된 단어집합 (vocab)확인하기"
      ],
      "execution_count": null,
      "outputs": [
        {
          "output_type": "stream",
          "text": [
            "{\"n't\": 1, 'lovely': 2, 'love': 3, 'one': 4, 'made': 5, 'life': 6, 'done': 7, 'wonderful': 8, 'precious': 9, 'less': 10, 'minute': 11, 'old': 12, 'never': 13, 'thought': 14, 'making': 15, 'pretty': 16, 'truly': 17, 'angel': 18, 'best': 19, 'boy': 20, 'happy': 21, 'heaven': 22, 'blessed': 23, 'believe': 24, 'god': 25, 'given': 26, 'aisha': 27, 'meaning': 28, 'name': 29, 'londie': 30, 'could': 31, 'without': 32, 'conceived': 33}\n"
          ],
          "name": "stdout"
        }
      ]
    },
    {
      "cell_type": "code",
      "metadata": {
        "colab": {
          "base_uri": "https://localhost:8080/"
        },
        "id": "Zn3yKnt2FOdw",
        "outputId": "614589a3-1025-4dd0-b0e8-8609ff84a6b9"
      },
      "source": [
        "# 단어의 빈도수 확인하기\r\n",
        "print(tokenizer.word_counts)"
      ],
      "execution_count": null,
      "outputs": [
        {
          "output_type": "stream",
          "text": [
            "OrderedDict([(\"n't\", 8), ('lovely', 6), ('wonderful', 1), ('precious', 1), ('less', 1), ('one', 4), ('minute', 1), ('old', 1), ('never', 1), ('thought', 1), ('love', 5), ('making', 1), ('made', 3), ('pretty', 1), ('truly', 1), ('angel', 1), ('best', 1), ('boy', 1), ('happy', 1), ('heaven', 1), ('blessed', 1), ('believe', 1), ('god', 1), ('done', 2), ('given', 1), ('life', 3), ('aisha', 1), ('meaning', 1), ('name', 1), ('londie', 1), ('could', 1), ('without', 1), ('conceived', 1)])\n"
          ],
          "name": "stdout"
        }
      ]
    },
    {
      "cell_type": "code",
      "metadata": {
        "colab": {
          "base_uri": "https://localhost:8080/"
        },
        "id": "KJFNFCi3FOgb",
        "outputId": "faf1706f-a674-4017-f0cf-171c3b932280"
      },
      "source": [
        "# 인코딩 수행하기\r\n",
        "print(tokenizer.texts_to_sequences(sentences))"
      ],
      "execution_count": null,
      "outputs": [
        {
          "output_type": "stream",
          "text": [
            "[[1, 2], [1, 8], [1, 9], [10, 4, 11, 12], [13, 14, 3], [15, 4, 2], [1, 2, 5, 3], [1, 16], [17, 18, 19], [20, 21], [22, 23], [1, 24, 25, 7], [26, 6, 4], [1, 2, 5, 3], [1, 2], [6, 3], [6, 27], [28, 29], [30, 31, 7], [32, 33, 4], [2, 5, 3]]\n"
          ],
          "name": "stdout"
        }
      ]
    },
    {
      "cell_type": "code",
      "metadata": {
        "colab": {
          "base_uri": "https://localhost:8080/"
        },
        "id": "1XpnU7fiFOjv",
        "outputId": "90fc87ee-d81b-4db2-da9e-8bc1bf6da834"
      },
      "source": [
        "# 디코딩 수행하기\r\n",
        "print(tokenizer.sequences_to_texts([[1, 2], [1, 9]]))"
      ],
      "execution_count": null,
      "outputs": [
        {
          "output_type": "stream",
          "text": [
            "[\"n't lovely\", \"n't precious\"]\n"
          ],
          "name": "stdout"
        }
      ]
    },
    {
      "cell_type": "markdown",
      "metadata": {
        "id": "hcIp2VaFFVZs"
      },
      "source": [
        "## OOV 및 PADDING 설정\r\n",
        "keras의 Tokenizer에 PADDING과 OOV를 사용하기로 했으면, `PAD : 0`으로, `OOV : 1`로 자동 설정 된다."
      ]
    },
    {
      "cell_type": "code",
      "metadata": {
        "colab": {
          "base_uri": "https://localhost:8080/"
        },
        "id": "hvrG4IJsFV4r",
        "outputId": "e9cc0a97-405a-45e8-850f-f52ab423210a"
      },
      "source": [
        "# 상위 다섯개의 토큰만 사용하기\r\n",
        "vocab_size = 5\r\n",
        "\r\n",
        "# num_words : 사용할 단어 집합의 단어 개수\r\n",
        "# +2를 한 이유 : Padding, OOV 토큰을 추가적으로 부여해야 하기 때문!\r\n",
        "tokenizer = Tokenizer(num_words=vocab_size + 2, oov_token=\"OOV\")\r\n",
        "tokenizer.fit_on_texts(sentences)\r\n",
        "print(tokenizer.texts_to_sequences(sentences))"
      ],
      "execution_count": null,
      "outputs": [
        {
          "output_type": "stream",
          "text": [
            "[[2, 3], [2, 1], [2, 1], [1, 5, 1, 1], [1, 1, 4], [1, 5, 3], [2, 3, 6, 4], [2, 1], [1, 1, 1], [1, 1], [1, 1], [2, 1, 1, 1], [1, 1, 5], [2, 3, 6, 4], [2, 3], [1, 4], [1, 1], [1, 1], [1, 1, 1], [1, 1, 5], [3, 6, 4]]\n"
          ],
          "name": "stdout"
        }
      ]
    },
    {
      "cell_type": "code",
      "metadata": {
        "colab": {
          "base_uri": "https://localhost:8080/"
        },
        "id": "aPu7bSXrFV9J",
        "outputId": "dc920a69-cffc-4105-fa9c-86995a0b22e9"
      },
      "source": [
        "print(\"OOV 토큰의 인덱스 : {}\".format(tokenizer.word_index['OOV']))"
      ],
      "execution_count": null,
      "outputs": [
        {
          "output_type": "stream",
          "text": [
            "OOV 토큰의 인덱스 : 1\n"
          ],
          "name": "stdout"
        }
      ]
    },
    {
      "cell_type": "markdown",
      "metadata": {
        "id": "-LPohHWsFaOy"
      },
      "source": [
        "## [Korean] 토큰화 및 정수 인코딩을 Tensorflow로 구현"
      ]
    },
    {
      "cell_type": "code",
      "metadata": {
        "colab": {
          "base_uri": "https://localhost:8080/"
        },
        "id": "O7xAWeNJFcGm",
        "outputId": "2c321022-02e2-423f-f79f-5deef6f267e5"
      },
      "source": [
        "!pip install konlpy"
      ],
      "execution_count": null,
      "outputs": [
        {
          "output_type": "stream",
          "text": [
            "Requirement already satisfied: konlpy in /usr/local/lib/python3.6/dist-packages (0.5.2)\n",
            "Requirement already satisfied: lxml>=4.1.0 in /usr/local/lib/python3.6/dist-packages (from konlpy) (4.2.6)\n",
            "Requirement already satisfied: numpy>=1.6 in /usr/local/lib/python3.6/dist-packages (from konlpy) (1.19.5)\n",
            "Requirement already satisfied: beautifulsoup4==4.6.0 in /usr/local/lib/python3.6/dist-packages (from konlpy) (4.6.0)\n",
            "Requirement already satisfied: tweepy>=3.7.0 in /usr/local/lib/python3.6/dist-packages (from konlpy) (3.10.0)\n",
            "Requirement already satisfied: colorama in /usr/local/lib/python3.6/dist-packages (from konlpy) (0.4.4)\n",
            "Requirement already satisfied: JPype1>=0.7.0 in /usr/local/lib/python3.6/dist-packages (from konlpy) (1.2.1)\n",
            "Requirement already satisfied: requests[socks]>=2.11.1 in /usr/local/lib/python3.6/dist-packages (from tweepy>=3.7.0->konlpy) (2.23.0)\n",
            "Requirement already satisfied: requests-oauthlib>=0.7.0 in /usr/local/lib/python3.6/dist-packages (from tweepy>=3.7.0->konlpy) (1.3.0)\n",
            "Requirement already satisfied: six>=1.10.0 in /usr/local/lib/python3.6/dist-packages (from tweepy>=3.7.0->konlpy) (1.15.0)\n",
            "Requirement already satisfied: typing-extensions; python_version < \"3.8\" in /usr/local/lib/python3.6/dist-packages (from JPype1>=0.7.0->konlpy) (3.7.4.3)\n",
            "Requirement already satisfied: idna<3,>=2.5 in /usr/local/lib/python3.6/dist-packages (from requests[socks]>=2.11.1->tweepy>=3.7.0->konlpy) (2.10)\n",
            "Requirement already satisfied: chardet<4,>=3.0.2 in /usr/local/lib/python3.6/dist-packages (from requests[socks]>=2.11.1->tweepy>=3.7.0->konlpy) (3.0.4)\n",
            "Requirement already satisfied: urllib3!=1.25.0,!=1.25.1,<1.26,>=1.21.1 in /usr/local/lib/python3.6/dist-packages (from requests[socks]>=2.11.1->tweepy>=3.7.0->konlpy) (1.24.3)\n",
            "Requirement already satisfied: certifi>=2017.4.17 in /usr/local/lib/python3.6/dist-packages (from requests[socks]>=2.11.1->tweepy>=3.7.0->konlpy) (2020.12.5)\n",
            "Requirement already satisfied: PySocks!=1.5.7,>=1.5.6; extra == \"socks\" in /usr/local/lib/python3.6/dist-packages (from requests[socks]>=2.11.1->tweepy>=3.7.0->konlpy) (1.7.1)\n",
            "Requirement already satisfied: oauthlib>=3.0.0 in /usr/local/lib/python3.6/dist-packages (from requests-oauthlib>=0.7.0->tweepy>=3.7.0->konlpy) (3.1.0)\n"
          ],
          "name": "stdout"
        }
      ]
    },
    {
      "cell_type": "code",
      "metadata": {
        "id": "ZS36kpsDFcJE"
      },
      "source": [
        "import pandas as pd\r\n",
        "import numpy as np\r\n",
        "import urllib.request\r\n",
        "from tensorflow.keras.preprocessing.text import Tokenizer"
      ],
      "execution_count": null,
      "outputs": []
    },
    {
      "cell_type": "code",
      "metadata": {
        "colab": {
          "base_uri": "https://localhost:8080/"
        },
        "id": "F30ctFz0FcMS",
        "outputId": "127fc5db-1e71-4101-cd4e-0bfe352360c3"
      },
      "source": [
        "urllib.request.urlretrieve(\"https://raw.githubusercontent.com/e9t/nsmc/master/ratings_test.txt\", filename=\"ratings_test.txt\")"
      ],
      "execution_count": null,
      "outputs": [
        {
          "output_type": "execute_result",
          "data": {
            "text/plain": [
              "('ratings_test.txt', <http.client.HTTPMessage at 0x7f1ba4581da0>)"
            ]
          },
          "metadata": {
            "tags": []
          },
          "execution_count": 22
        }
      ]
    },
    {
      "cell_type": "code",
      "metadata": {
        "colab": {
          "base_uri": "https://localhost:8080/"
        },
        "id": "-Wdxkgn1FcOy",
        "outputId": "8e7bd23d-00b0-41d4-ec17-9414c7d70f63"
      },
      "source": [
        "train_data = pd.read_table('ratings_test.txt')\r\n",
        "train_data.info()"
      ],
      "execution_count": null,
      "outputs": [
        {
          "output_type": "stream",
          "text": [
            "<class 'pandas.core.frame.DataFrame'>\n",
            "RangeIndex: 50000 entries, 0 to 49999\n",
            "Data columns (total 3 columns):\n",
            " #   Column    Non-Null Count  Dtype \n",
            "---  ------    --------------  ----- \n",
            " 0   id        50000 non-null  int64 \n",
            " 1   document  49997 non-null  object\n",
            " 2   label     50000 non-null  int64 \n",
            "dtypes: int64(2), object(1)\n",
            "memory usage: 1.1+ MB\n"
          ],
          "name": "stdout"
        }
      ]
    },
    {
      "cell_type": "code",
      "metadata": {
        "colab": {
          "base_uri": "https://localhost:8080/",
          "height": 212
        },
        "id": "sOvMfFHeFcSB",
        "outputId": "194922bc-afc6-4267-c90d-fdc6e89a5052"
      },
      "source": [
        "train_data.head()"
      ],
      "execution_count": null,
      "outputs": [
        {
          "output_type": "execute_result",
          "data": {
            "text/html": [
              "<div>\n",
              "<style scoped>\n",
              "    .dataframe tbody tr th:only-of-type {\n",
              "        vertical-align: middle;\n",
              "    }\n",
              "\n",
              "    .dataframe tbody tr th {\n",
              "        vertical-align: top;\n",
              "    }\n",
              "\n",
              "    .dataframe thead th {\n",
              "        text-align: right;\n",
              "    }\n",
              "</style>\n",
              "<table border=\"1\" class=\"dataframe\">\n",
              "  <thead>\n",
              "    <tr style=\"text-align: right;\">\n",
              "      <th></th>\n",
              "      <th>id</th>\n",
              "      <th>document</th>\n",
              "      <th>label</th>\n",
              "    </tr>\n",
              "  </thead>\n",
              "  <tbody>\n",
              "    <tr>\n",
              "      <th>0</th>\n",
              "      <td>6270596</td>\n",
              "      <td>굳 ㅋ</td>\n",
              "      <td>1</td>\n",
              "    </tr>\n",
              "    <tr>\n",
              "      <th>1</th>\n",
              "      <td>9274899</td>\n",
              "      <td>GDNTOPCLASSINTHECLUB</td>\n",
              "      <td>0</td>\n",
              "    </tr>\n",
              "    <tr>\n",
              "      <th>2</th>\n",
              "      <td>8544678</td>\n",
              "      <td>뭐야 이 평점들은.... 나쁘진 않지만 10점 짜리는 더더욱 아니잖아</td>\n",
              "      <td>0</td>\n",
              "    </tr>\n",
              "    <tr>\n",
              "      <th>3</th>\n",
              "      <td>6825595</td>\n",
              "      <td>지루하지는 않은데 완전 막장임... 돈주고 보기에는....</td>\n",
              "      <td>0</td>\n",
              "    </tr>\n",
              "    <tr>\n",
              "      <th>4</th>\n",
              "      <td>6723715</td>\n",
              "      <td>3D만 아니었어도 별 다섯 개 줬을텐데.. 왜 3D로 나와서 제 심기를 불편하게 하죠??</td>\n",
              "      <td>0</td>\n",
              "    </tr>\n",
              "  </tbody>\n",
              "</table>\n",
              "</div>"
            ],
            "text/plain": [
              "        id                                           document  label\n",
              "0  6270596                                                굳 ㅋ      1\n",
              "1  9274899                               GDNTOPCLASSINTHECLUB      0\n",
              "2  8544678             뭐야 이 평점들은.... 나쁘진 않지만 10점 짜리는 더더욱 아니잖아      0\n",
              "3  6825595                   지루하지는 않은데 완전 막장임... 돈주고 보기에는....      0\n",
              "4  6723715  3D만 아니었어도 별 다섯 개 줬을텐데.. 왜 3D로 나와서 제 심기를 불편하게 하죠??      0"
            ]
          },
          "metadata": {
            "tags": []
          },
          "execution_count": 24
        }
      ]
    },
    {
      "cell_type": "markdown",
      "metadata": {
        "id": "ns8IJsvaKnRH"
      },
      "source": [
        "1. null 값 제거\r\n",
        "2. 중복 제거\r\n",
        "3. 특수문자 및 영어 제거"
      ]
    },
    {
      "cell_type": "code",
      "metadata": {
        "colab": {
          "base_uri": "https://localhost:8080/"
        },
        "id": "0vx6ZaHFFcUb",
        "outputId": "f623c03f-c563-4c28-b079-cf4f61d08ad2"
      },
      "source": [
        "train_data['document'].nunique() # 중복되지 않은 데이터의 개수확인"
      ],
      "execution_count": null,
      "outputs": [
        {
          "output_type": "execute_result",
          "data": {
            "text/plain": [
              "49157"
            ]
          },
          "metadata": {
            "tags": []
          },
          "execution_count": 25
        }
      ]
    },
    {
      "cell_type": "code",
      "metadata": {
        "id": "P2qlo4vuFcW_"
      },
      "source": [
        "# 중복 데이터 제거 및 null값 제거\r\n",
        "train_data.drop_duplicates(subset=['document'], inplace=True) # 중복 제거\r\n",
        "train_data = train_data.dropna(how='any') # null값이 존재하는 행을 제거"
      ],
      "execution_count": null,
      "outputs": []
    },
    {
      "cell_type": "code",
      "metadata": {
        "colab": {
          "base_uri": "https://localhost:8080/",
          "height": 212
        },
        "id": "qtrEj_ZhFcaN",
        "outputId": "c8794c93-03e8-4af5-e1e4-3712ab654e6e"
      },
      "source": [
        "# 정규식을 이용해서 한글만 추출\r\n",
        "train_data['document'] = train_data['document'].str.replace(\"[^ㄱ-ㅎㅏ-ㅣ가-힣 ]\", \"\") # 한글 및 공백이 아닌 문자는 모두 \"\"\r\n",
        "train_data.head()"
      ],
      "execution_count": null,
      "outputs": [
        {
          "output_type": "execute_result",
          "data": {
            "text/html": [
              "<div>\n",
              "<style scoped>\n",
              "    .dataframe tbody tr th:only-of-type {\n",
              "        vertical-align: middle;\n",
              "    }\n",
              "\n",
              "    .dataframe tbody tr th {\n",
              "        vertical-align: top;\n",
              "    }\n",
              "\n",
              "    .dataframe thead th {\n",
              "        text-align: right;\n",
              "    }\n",
              "</style>\n",
              "<table border=\"1\" class=\"dataframe\">\n",
              "  <thead>\n",
              "    <tr style=\"text-align: right;\">\n",
              "      <th></th>\n",
              "      <th>id</th>\n",
              "      <th>document</th>\n",
              "      <th>label</th>\n",
              "    </tr>\n",
              "  </thead>\n",
              "  <tbody>\n",
              "    <tr>\n",
              "      <th>0</th>\n",
              "      <td>6270596</td>\n",
              "      <td>굳 ㅋ</td>\n",
              "      <td>1</td>\n",
              "    </tr>\n",
              "    <tr>\n",
              "      <th>1</th>\n",
              "      <td>9274899</td>\n",
              "      <td></td>\n",
              "      <td>0</td>\n",
              "    </tr>\n",
              "    <tr>\n",
              "      <th>2</th>\n",
              "      <td>8544678</td>\n",
              "      <td>뭐야 이 평점들은 나쁘진 않지만 점 짜리는 더더욱 아니잖아</td>\n",
              "      <td>0</td>\n",
              "    </tr>\n",
              "    <tr>\n",
              "      <th>3</th>\n",
              "      <td>6825595</td>\n",
              "      <td>지루하지는 않은데 완전 막장임 돈주고 보기에는</td>\n",
              "      <td>0</td>\n",
              "    </tr>\n",
              "    <tr>\n",
              "      <th>4</th>\n",
              "      <td>6723715</td>\n",
              "      <td>만 아니었어도 별 다섯 개 줬을텐데 왜 로 나와서 제 심기를 불편하게 하죠</td>\n",
              "      <td>0</td>\n",
              "    </tr>\n",
              "  </tbody>\n",
              "</table>\n",
              "</div>"
            ],
            "text/plain": [
              "        id                                   document  label\n",
              "0  6270596                                        굳 ㅋ      1\n",
              "1  9274899                                                 0\n",
              "2  8544678           뭐야 이 평점들은 나쁘진 않지만 점 짜리는 더더욱 아니잖아      0\n",
              "3  6825595                  지루하지는 않은데 완전 막장임 돈주고 보기에는      0\n",
              "4  6723715  만 아니었어도 별 다섯 개 줬을텐데 왜 로 나와서 제 심기를 불편하게 하죠      0"
            ]
          },
          "metadata": {
            "tags": []
          },
          "execution_count": 27
        }
      ]
    },
    {
      "cell_type": "markdown",
      "metadata": {
        "id": "iARWvq5DKukY"
      },
      "source": [
        "비어있는 문자열 정제"
      ]
    },
    {
      "cell_type": "code",
      "metadata": {
        "colab": {
          "base_uri": "https://localhost:8080/"
        },
        "id": "AXDMeKXzFccr",
        "outputId": "bbcf8603-f443-407a-caed-51e5972537b4"
      },
      "source": [
        "train_data['document'].replace('', np.nan, inplace=True)\r\n",
        "train_data.isnull().sum() # null 값 개수 세기"
      ],
      "execution_count": null,
      "outputs": [
        {
          "output_type": "execute_result",
          "data": {
            "text/plain": [
              "id            0\n",
              "document    162\n",
              "label         0\n",
              "dtype: int64"
            ]
          },
          "metadata": {
            "tags": []
          },
          "execution_count": 28
        }
      ]
    },
    {
      "cell_type": "code",
      "metadata": {
        "colab": {
          "base_uri": "https://localhost:8080/"
        },
        "id": "_cs3DjnnFcgQ",
        "outputId": "4df5a4ec-9566-4aba-82fc-62f454360ed6"
      },
      "source": [
        "train_data = train_data.dropna(how = 'any')\r\n",
        "print(len(train_data))"
      ],
      "execution_count": null,
      "outputs": [
        {
          "output_type": "stream",
          "text": [
            "48995\n"
          ],
          "name": "stdout"
        }
      ]
    },
    {
      "cell_type": "code",
      "metadata": {
        "id": "DXMVEhV3FcjL"
      },
      "source": [
        "stopwords = ['의','가','이','은','들','는','좀','잘','걍','과','도','를','으로','자','에','와','한','하다']"
      ],
      "execution_count": null,
      "outputs": []
    },
    {
      "cell_type": "markdown",
      "metadata": {
        "id": "qaSDaNzGK0i6"
      },
      "source": [
        "보통 한국어에서의 불용어 처리는 stemming 또는 normalization 적용 후에 한다"
      ]
    },
    {
      "cell_type": "code",
      "metadata": {
        "colab": {
          "base_uri": "https://localhost:8080/"
        },
        "id": "v0kQPL99FcmA",
        "outputId": "33bca7d3-94da-4af9-91cc-8062c9f1aff6"
      },
      "source": [
        "from konlpy.tag import Okt\r\n",
        "\r\n",
        "okt = Okt()\r\n",
        "okt.morphs(\"뭐야 이 평점들은 나쁘진 않지만 점 짜리는 더더욱 아니잖아\", stem=True)"
      ],
      "execution_count": null,
      "outputs": [
        {
          "output_type": "execute_result",
          "data": {
            "text/plain": [
              "['뭐',\n",
              " '야',\n",
              " '이',\n",
              " '평점',\n",
              " '들',\n",
              " '은',\n",
              " '나쁘다',\n",
              " '않다',\n",
              " '점',\n",
              " '짜다',\n",
              " '리',\n",
              " '는',\n",
              " '더',\n",
              " '더욱',\n",
              " '아니다']"
            ]
          },
          "metadata": {
            "tags": []
          },
          "execution_count": 31
        }
      ]
    },
    {
      "cell_type": "code",
      "metadata": {
        "id": "h6CK3VerFcpO"
      },
      "source": [
        "X_train = []\r\n",
        "\r\n",
        "for sentence in train_data['document']:\r\n",
        "  temp_X = []\r\n",
        "  temp_X = okt.morphs(sentence, stem=True) # 토큰화\r\n",
        "  temp_X = [ word for word in temp_X if not word in stopwords ] # 불용어 제거\r\n",
        "  X_train.append(temp_X)"
      ],
      "execution_count": null,
      "outputs": []
    },
    {
      "cell_type": "code",
      "metadata": {
        "id": "wGfMUxjmFcs_"
      },
      "source": [
        "tokenizer = Tokenizer()\r\n",
        "tokenizer.fit_on_texts(X_train)"
      ],
      "execution_count": null,
      "outputs": []
    },
    {
      "cell_type": "code",
      "metadata": {
        "colab": {
          "base_uri": "https://localhost:8080/"
        },
        "id": "Voap-BgQFcwz",
        "outputId": "9cfab263-a057-4bc7-ef51-5ef058b018e5"
      },
      "source": [
        "tokenizer.word_counts"
      ],
      "execution_count": null,
      "outputs": [
        {
          "output_type": "execute_result",
          "data": {
            "text/plain": [
              "OrderedDict([('굳다', 137),\n",
              "             ('ㅋ', 811),\n",
              "             ('뭐', 1178),\n",
              "             ('야', 508),\n",
              "             ('평점', 2210),\n",
              "             ('나쁘다', 218),\n",
              "             ('않다', 2555),\n",
              "             ('점', 2531),\n",
              "             ('짜다', 318),\n",
              "             ('리', 106),\n",
              "             ('더', 1509),\n",
              "             ('더욱', 94),\n",
              "             ('아니다', 2667),\n",
              "             ('지루하다', 1159),\n",
              "             ('완전', 813),\n",
              "             ('막장', 228),\n",
              "             ('임', 702),\n",
              "             ('돈', 696),\n",
              "             ('주다', 1275),\n",
              "             ('보기', 551),\n",
              "             ('에는', 355),\n",
              "             ('만', 2976),\n",
              "             ('별', 634),\n",
              "             ('다섯', 36),\n",
              "             ('개', 698),\n",
              "             ('왜', 1706),\n",
              "             ('로', 2648),\n",
              "             ('나오다', 2168),\n",
              "             ('제', 491),\n",
              "             ('심기', 1),\n",
              "             ('불편하다', 103),\n",
              "             ('음악', 390),\n",
              "             ('주가', 16),\n",
              "             ('되다', 3030),\n",
              "             ('최고', 1950),\n",
              "             ('영화', 17231),\n",
              "             ('진정하다', 109),\n",
              "             ('쓰레기', 1068),\n",
              "             ('마치', 68),\n",
              "             ('미국', 216),\n",
              "             ('애니', 293),\n",
              "             ('에서', 2330),\n",
              "             ('튀어나오다', 19),\n",
              "             ('창의력', 2),\n",
              "             ('없다', 5308),\n",
              "             ('로봇', 36),\n",
              "             ('디자인', 19),\n",
              "             ('부터가', 27),\n",
              "             ('고개', 13),\n",
              "             ('젖다', 21),\n",
              "             ('갈수록', 189),\n",
              "             ('개판', 59),\n",
              "             ('중국영화', 28),\n",
              "             ('유치하다', 386),\n",
              "             ('내용', 1347),\n",
              "             ('폼', 19),\n",
              "             ('잡다', 119),\n",
              "             ('끝나다', 477),\n",
              "             ('말', 1445),\n",
              "             ('안되다', 763),\n",
              "             ('무기', 25),\n",
              "             ('남무', 1),\n",
              "             ('아', 1375),\n",
              "             ('그리다', 217),\n",
              "             ('동사서독', 2),\n",
              "             ('같다', 2825),\n",
              "             ('이건', 876),\n",
              "             ('류', 209),\n",
              "             ('류작', 24),\n",
              "             ('이다', 4484),\n",
              "             ('이별', 20),\n",
              "             ('아픔', 40),\n",
              "             ('뒤', 193),\n",
              "             ('찾아오다', 17),\n",
              "             ('새롭다', 147),\n",
              "             ('인연', 20),\n",
              "             ('기쁨', 7),\n",
              "             ('모든', 398),\n",
              "             ('사람', 1641),\n",
              "             ('그렇다', 1034),\n",
              "             ('괜찮다', 613),\n",
              "             ('오랜', 261),\n",
              "             ('포켓몬스터', 4),\n",
              "             ('잼밌', 1),\n",
              "             ('어', 220),\n",
              "             ('요', 1266),\n",
              "             ('한국', 450),\n",
              "             ('독립영화', 69),\n",
              "             ('한계', 50),\n",
              "             ('그렇게', 215),\n",
              "             ('아버지', 123),\n",
              "             ('비교', 154),\n",
              "             ('청춘', 66),\n",
              "             ('아름답다', 576),\n",
              "             ('그', 1933),\n",
              "             ('움', 295),\n",
              "             ('이성', 12),\n",
              "             ('을', 7691),\n",
              "             ('흔들다', 19),\n",
              "             ('놓다', 231),\n",
              "             ('찰나', 4),\n",
              "             ('자다', 1230),\n",
              "             ('포착', 2),\n",
              "             ('섬세하다', 44),\n",
              "             ('수채화', 6),\n",
              "             ('퀴어', 8),\n",
              "             ('눈', 337),\n",
              "             ('보이다', 317),\n",
              "             ('반전', 480),\n",
              "             ('흡인', 5),\n",
              "             ('력', 246),\n",
              "             ('사라지다', 65),\n",
              "             ('스토리', 1696),\n",
              "             ('연출', 707),\n",
              "             ('연기', 2161),\n",
              "             ('비주', 46),\n",
              "             ('얼', 58),\n",
              "             ('등', 199),\n",
              "             ('기본', 46),\n",
              "             ('조차', 90),\n",
              "             ('무슨', 528),\n",
              "             ('평', 103),\n",
              "             ('해', 210),\n",
              "             ('이렇다', 1516),\n",
              "             ('찍다', 342),\n",
              "             ('김문옥', 1),\n",
              "             ('감독', 1411),\n",
              "             ('내', 1975),\n",
              "             ('경력', 9),\n",
              "             ('몇', 249),\n",
              "             ('인데', 660),\n",
              "             ('조무래기', 2),\n",
              "             ('평론', 8),\n",
              "             ('마인드', 19),\n",
              "             ('빠지다', 274),\n",
              "             ('소위', 3),\n",
              "             ('ㅈ', 28),\n",
              "             ('문', 67),\n",
              "             ('가라', 15),\n",
              "             ('냐', 425),\n",
              "             ('발연기', 126),\n",
              "             ('도저히', 71),\n",
              "             ('못', 1743),\n",
              "             ('보다', 13796),\n",
              "             ('진짜', 2927),\n",
              "             ('이렇게', 787),\n",
              "             ('상상', 108),\n",
              "             ('나이스', 1),\n",
              "             ('재미', 1306),\n",
              "             ('우려', 44),\n",
              "             ('먹다', 548),\n",
              "             ('챔프', 1),\n",
              "             ('방송', 147),\n",
              "             ('몇번', 119),\n",
              "             ('ㅋㅋㅋㅋㅋㅋㅋㅋㅋㅋㅋ', 14),\n",
              "             ('일', 552),\n",
              "             ('금요일', 10),\n",
              "             ('나이트메어', 5),\n",
              "             ('시리즈', 360),\n",
              "             ('함께', 187),\n",
              "             ('가장', 393),\n",
              "             ('많다', 828),\n",
              "             ('양산', 5),\n",
              "             ('해내다', 35),\n",
              "             ('헬레', 1),\n",
              "             ('저', 856),\n",
              "             ('첫', 122),\n",
              "             ('편', 526),\n",
              "             ('작가', 279),\n",
              "             ('상상력', 67),\n",
              "             ('돋보이다', 102),\n",
              "             ('작품', 1007),\n",
              "             ('이며', 70),\n",
              "             ('갈고리', 1),\n",
              "             ('사지', 9),\n",
              "             ('찢다', 11),\n",
              "             ('고어씬', 1),\n",
              "             ('지금', 738),\n",
              "             ('보더', 11),\n",
              "             ('라도', 143),\n",
              "             ('상당하다', 151),\n",
              "             ('잔인하다', 111),\n",
              "             ('충격', 180),\n",
              "             ('적', 2907),\n",
              "             ('나름', 278),\n",
              "             ('교훈', 120),\n",
              "             ('돋다', 146),\n",
              "             ('하지만', 383),\n",
              "             ('어쩔', 99),\n",
              "             ('수없이', 13),\n",
              "             ('받다', 625),\n",
              "             ('질', 167),\n",
              "             ('섹스', 68),\n",
              "             ('코미디', 367),\n",
              "             ('꽤', 144),\n",
              "             ('재밌다', 2984),\n",
              "             ('민주화', 9),\n",
              "             ('시대', 217),\n",
              "             ('억눌리다', 3),\n",
              "             ('영혼', 40),\n",
              "             ('관음', 2),\n",
              "             ('인', 1884),\n",
              "             ('욕구', 12),\n",
              "             ('분출', 1),\n",
              "             ('인상', 211),\n",
              "             ('일본', 324),\n",
              "             ('천황', 4),\n",
              "             ('으로부터', 13),\n",
              "             ('면죄부', 2),\n",
              "             ('긴박하다', 18),\n",
              "             ('과정', 80),\n",
              "             ('루즈', 24),\n",
              "             ('하고', 1169),\n",
              "             ('지저분하다', 12),\n",
              "             ('늘어놓다', 9),\n",
              "             ('괜히', 89),\n",
              "             ('때', 1519),\n",
              "             ('어미', 3),\n",
              "             ('알', 436),\n",
              "             ('건드리다', 11),\n",
              "             ('긁다', 7),\n",
              "             ('부스', 3),\n",
              "             ('름', 1),\n",
              "             ('만들다', 2236),\n",
              "             ('분', 625),\n",
              "             ('아래', 37),\n",
              "             ('제대로', 228),\n",
              "             ('안', 1852),\n",
              "             ('딱', 261),\n",
              "             ('끄다', 489),\n",
              "             ('새끼', 107),\n",
              "             ('그냥', 1350),\n",
              "             ('가면', 50),\n",
              "             ('놈', 292),\n",
              "             ('한테', 263),\n",
              "             ('당하다', 131),\n",
              "             ('것임', 8),\n",
              "             ('두', 564),\n",
              "             ('막', 93),\n",
              "             ('게', 1744),\n",
              "             ('뻔하다', 508),\n",
              "             ('작살', 11),\n",
              "             ('낼', 22),\n",
              "             ('수', 1117),\n",
              "             ('밖에', 281),\n",
              "             ('번은', 34),\n",
              "             ('어쩜', 31),\n",
              "             ('실화', 152),\n",
              "             ('라서', 123),\n",
              "             ('찡하다', 45),\n",
              "             ('많이', 648),\n",
              "             ('울다', 271),\n",
              "             ('벌써', 67),\n",
              "             ('년', 681),\n",
              "             ('이란', 268),\n",
              "             ('시간', 1279),\n",
              "             ('흐르다', 110),\n",
              "             ('노답', 61),\n",
              "             ('이네', 328),\n",
              "             ('년대', 237),\n",
              "             ('어린이', 73),\n",
              "             ('보고', 1520),\n",
              "             ('본받다', 4),\n",
              "             ('까지', 1333),\n",
              "             ('중', 1334),\n",
              "             ('마음', 506),\n",
              "             ('따뜻하다', 271),\n",
              "             ('너무', 3735),\n",
              "             ('안보', 131),\n",
              "             ('면', 640),\n",
              "             ('후회', 168),\n",
              "             ('ㅠㅠ', 888),\n",
              "             ('점도', 284),\n",
              "             ('주기', 61),\n",
              "             ('싫어지다', 27),\n",
              "             ('배우', 1401),\n",
              "             ('나', 1847),\n",
              "             ('이라는', 306),\n",
              "             ('이나', 545),\n",
              "             ('영', 510),\n",
              "             ('화판', 11),\n",
              "             ('그리고', 625),\n",
              "             ('알바생', 16),\n",
              "             ('티', 88),\n",
              "             ('나다', 795),\n",
              "             ('정말', 3241),\n",
              "             ('표현', 340),\n",
              "             ('엉', 175),\n",
              "             ('성하다', 117),\n",
              "             ('액션', 781),\n",
              "             ('시나리오', 226),\n",
              "             ('왜그러지', 4),\n",
              "             ('막판', 47),\n",
              "             ('대동단결', 2),\n",
              "             ('아깝다', 1453),\n",
              "             ('북괴', 8),\n",
              "             ('우리', 411),\n",
              "             ('주적', 2),\n",
              "             ('뿐', 416),\n",
              "             ('ㅋㅋㅋ', 798),\n",
              "             ('난생처음', 8),\n",
              "             ('로그인', 29),\n",
              "             ('남다', 615),\n",
              "             ('빡치다', 50),\n",
              "             ('알바', 245),\n",
              "             ('속지', 21),\n",
              "             ('말다', 461),\n",
              "             ('ㄱ', 27),\n",
              "             ('ㅐ', 14),\n",
              "             ('낭비', 121),\n",
              "             ('마이너스', 44),\n",
              "             ('오만', 7),\n",
              "             ('셰익스피어', 6),\n",
              "             ('고', 1481),\n",
              "             ('이영화', 610),\n",
              "             ('한국영', 207),\n",
              "             ('화', 407),\n",
              "             ('특선', 6),\n",
              "             ('개막', 41),\n",
              "             ('작', 305),\n",
              "             ('선정', 23),\n",
              "             ('왤다', 11),\n",
              "             ('궁금', 7),\n",
              "             ('이율', 1),\n",
              "             ('모르다', 1031),\n",
              "             ('라는', 449),\n",
              "             ('밖에는', 14),\n",
              "             ('가다', 1153),\n",
              "             ('롭', 6),\n",
              "             ('코헨', 1),\n",
              "             ('몰락', 7),\n",
              "             ('감동', 1631),\n",
              "             ('은빛', 3),\n",
              "             ('날개', 9),\n",
              "             ('조종사', 3),\n",
              "             ('보신', 24),\n",
              "             ('분들', 163),\n",
              "             ('이해', 642),\n",
              "             ('늘다', 354),\n",
              "             ('망', 49),\n",
              "             ('장', 124),\n",
              "             ('졸작', 204),\n",
              "             ('죠', 124),\n",
              "             ('솔직하다', 404),\n",
              "             ('선', 119),\n",
              "             ('이유', 259),\n",
              "             ('예', 81),\n",
              "             ('엽기적인그녀', 3),\n",
              "             ('기다', 204),\n",
              "             ('두다', 168),\n",
              "             ('코', 140),\n",
              "             ('메다', 114),\n",
              "             ('멜로', 111),\n",
              "             ('렷습', 2),\n",
              "             ('니', 414),\n",
              "             ('다', 3388),\n",
              "             ('단시간', 2),\n",
              "             ('분안', 4),\n",
              "             ('것', 2127),\n",
              "             ('소화', 15),\n",
              "             ('욕심', 32),\n",
              "             ('코믹', 184),\n",
              "             ('채다', 11),\n",
              "             ('돼다', 340),\n",
              "             ('갑자기', 98),\n",
              "             ('생뚱맞', 3),\n",
              "             ('슬프다', 480),\n",
              "             ('깔리다', 6),\n",
              "             ('이런', 597),\n",
              "             ('스타일', 98),\n",
              "             ('액션영화', 99),\n",
              "             ('굿굿', 38),\n",
              "             ('제임스', 23),\n",
              "             ('헷', 2),\n",
              "             ('필드', 2),\n",
              "             ('파워', 21),\n",
              "             ('풀다', 122),\n",
              "             ('지다', 351),\n",
              "             ('ㅋㅋㅋㅋ', 334),\n",
              "             ('있다', 4129),\n",
              "             ('보단', 164),\n",
              "             ('덥다', 83),\n",
              "             ('따다', 197),\n",
              "             ('레이토', 2),\n",
              "             ('다미앙', 1),\n",
              "             ('시원하다', 46),\n",
              "             ('어디', 145),\n",
              "             ('ㅁㅊ', 13),\n",
              "             ('차다', 757),\n",
              "             ('이딴', 202),\n",
              "             ('걸', 750),\n",
              "             ('드라마', 1642),\n",
              "             ('라고', 633),\n",
              "             ('세계보건기구', 1),\n",
              "             ('발암', 11),\n",
              "             ('물질', 13),\n",
              "             ('올리다', 108),\n",
              "             ('극장', 293),\n",
              "             ('아무', 231),\n",
              "             ('기대', 335),\n",
              "             ('없이', 457),\n",
              "             ('들어가다', 121),\n",
              "             ('감탄', 66),\n",
              "             ('년도', 129),\n",
              "             ('아이디어', 27),\n",
              "             ('아주', 315),\n",
              "             ('좋다', 4008),\n",
              "             ('난', 636),\n",
              "             ('왜케', 56),\n",
              "             ('낮다', 456),\n",
              "             ('역사', 178),\n",
              "             ('얘기', 179),\n",
              "             ('영화배우', 17),\n",
              "             ('들다', 1089),\n",
              "             ('관심', 86),\n",
              "             ('간다', 112),\n",
              "             ('만에', 75),\n",
              "             ('아메리칸', 10),\n",
              "             ('조', 185),\n",
              "             ('크보', 1),\n",
              "             ('웃다', 265),\n",
              "             ('하아', 21),\n",
              "             ('맛', 133),\n",
              "             ('이야', 190),\n",
              "             ('바로', 150),\n",
              "             ('신선하다', 220),\n",
              "             ('의미', 262),\n",
              "             ('영상', 312),\n",
              "             ('여름', 33),\n",
              "             ('이면', 46),\n",
              "             ('한결같이', 3),\n",
              "             ('생각나다', 222),\n",
              "             ('콩콩', 5),\n",
              "             ('ㅋㄲㅈㅁ', 1),\n",
              "             ('으', 83),\n",
              "             ('의도', 102),\n",
              "             ('전달', 113),\n",
              "             ('아빠', 103),\n",
              "             ('낚', 90),\n",
              "             ('여서', 117),\n",
              "             ('본적', 31),\n",
              "             ('슈래기', 1),\n",
              "             ('결혼', 85),\n",
              "             ('현실', 470),\n",
              "             ('이에요', 115),\n",
              "             ('징징', 2),\n",
              "             ('징', 20),\n",
              "             ('성현아', 2),\n",
              "             ('벗기다', 8),\n",
              "             ('정도', 847),\n",
              "             ('엠비씨', 3),\n",
              "             ('무비', 88),\n",
              "             ('채널', 88),\n",
              "             ('또', 567),\n",
              "             ('엄청', 237),\n",
              "             ('잼', 260),\n",
              "             ('어우', 11),\n",
              "             ('무섭다', 508),\n",
              "             ('볼때', 107),\n",
              "             ('마다', 205),\n",
              "             ('재미있다', 1313),\n",
              "             ('후', 283),\n",
              "             ('속편', 90),\n",
              "             ('기다리다', 127),\n",
              "             ('드', 87),\n",
              "             ('네', 1094),\n",
              "             ('결말', 500),\n",
              "             ('알다', 970),\n",
              "             ('한번', 473),\n",
              "             ('업', 21),\n",
              "             ('지만', 364),\n",
              "             ('성경', 7),\n",
              "             ('지나치다', 75),\n",
              "             ('의인', 4),\n",
              "             ('말고', 109),\n",
              "             ('지혜롭', 2),\n",
              "             ('주인공', 800),\n",
              "             ('착하다', 74),\n",
              "             ('남자', 453),\n",
              "             ('컴플렉스', 4),\n",
              "             ('결국', 224),\n",
              "             ('엉망', 99),\n",
              "             ('직장', 13),\n",
              "             ('해고', 2),\n",
              "             ('부인', 20),\n",
              "             ('에게', 551),\n",
              "             ('거부', 33),\n",
              "             ('당', 99),\n",
              "             ('터전', 1),\n",
              "             ('잃다', 99),\n",
              "             ('불륜', 71),\n",
              "             ('생기다', 140),\n",
              "             ('아이', 444),\n",
              "             ('중요하다', 108),\n",
              "             ('미치다', 336),\n",
              "             ('집합소', 2),\n",
              "             ('빵점', 25),\n",
              "             ('구성', 171),\n",
              "             ('하', 757),\n",
              "             ('작다', 81),\n",
              "             ('그림', 107),\n",
              "             ('기대하다', 365),\n",
              "             ('수염', 4),\n",
              "             ('색깔', 19),\n",
              "             ('원작', 352),\n",
              "             ('비', 172),\n",
              "             ('충실', 3),\n",
              "             ('ㄹㄹ', 2),\n",
              "             ('볼', 1025),\n",
              "             ('거', 1341),\n",
              "             ('관객모독', 5),\n",
              "             ('ㅠㅜㅜㅜ', 1),\n",
              "             ('쇼타', 2),\n",
              "             ('군', 102),\n",
              "             ('넘다', 685),\n",
              "             ('돈키호테', 1),\n",
              "             ('대박', 326),\n",
              "             ('대단하다', 318),\n",
              "             ('천재', 99),\n",
              "             ('함', 408),\n",
              "             ('제시카', 13),\n",
              "             ('벗다', 53),\n",
              "             ('달려들다', 2),\n",
              "             ('쌩까다', 2),\n",
              "             ('급', 414),\n",
              "             ('이하', 125),\n",
              "             ('이기다', 113),\n",
              "             ('ㅎㅎ', 488),\n",
              "             ('개성', 45),\n",
              "             ('몬스터', 14),\n",
              "             ('귀엽다', 270),\n",
              "             ('여자아이', 8),\n",
              "             ('만나다', 140),\n",
              "             ('뿜어내다', 5),\n",
              "             ('매력', 463),\n",
              "             ('퐁당', 1),\n",
              "             ('제목', 307),\n",
              "             ('찰지구나', 1),\n",
              "             ('믿다', 285),\n",
              "             ('디테', 17),\n",
              "             ('안소니', 13),\n",
              "             ('퀸', 10),\n",
              "             ('명연기', 15),\n",
              "             ('또한', 103),\n",
              "             ('물론', 93),\n",
              "             ('아찔하다', 3),\n",
              "             ('사랑', 1061),\n",
              "             ('줄다리기', 2),\n",
              "             ('ㅎ', 281),\n",
              "             ('중간', 338),\n",
              "             ('화면', 102),\n",
              "             ('끊기다', 24),\n",
              "             ('빼다', 245),\n",
              "             ('단어', 32),\n",
              "             ('필요없다', 210),\n",
              "             ('재수없다', 9),\n",
              "             ('충분하다', 161),\n",
              "             ('바다', 34),\n",
              "             ('차원', 28),\n",
              "             ('고양이', 42),\n",
              "             ('도라에몽', 13),\n",
              "             ('진구', 10),\n",
              "             ('친구', 261),\n",
              "             ('미지', 7),\n",
              "             ('탐험', 5),\n",
              "             ('이야기', 746),\n",
              "             ('우주', 36),\n",
              "             ('꺼', 38),\n",
              "             ('지', 987),\n",
              "             ('로코', 30),\n",
              "             ('굉장하다', 155),\n",
              "             ('즐기다', 113),\n",
              "             ('별로', 672),\n",
              "             ('뭔가', 338),\n",
              "             ('개그', 107),\n",
              "             ('억지스럽다', 80),\n",
              "             ('느낌', 677),\n",
              "             ('후속작', 31),\n",
              "             ('계획', 15),\n",
              "             ('ㅜ', 117),\n",
              "             ('엔딩', 186),\n",
              "             ('음성', 8),\n",
              "             ('넣다', 99),\n",
              "             ('오버', 60),\n",
              "             ('극치', 52),\n",
              "             ('단', 104),\n",
              "             ('마디', 14),\n",
              "             ('뭘', 234),\n",
              "             ('건가', 158),\n",
              "             ('전기톱', 2),\n",
              "             ('엔진', 2),\n",
              "             ('톱', 9),\n",
              "             ('겠다', 47),\n",
              "             ('엇', 70),\n",
              "             ('완', 10),\n",
              "             ('목표', 10),\n",
              "             ('ㄷ', 12),\n",
              "             ('원조', 19),\n",
              "             ('아내', 48),\n",
              "             ('사별', 1),\n",
              "             ('얼마나', 171),\n",
              "             ('지나다', 125),\n",
              "             ('여자', 609),\n",
              "             ('다니다', 86),\n",
              "             ('맥', 40),\n",
              "             ('라이언', 24),\n",
              "             ('꽂히다', 5),\n",
              "             ('톰', 40),\n",
              "             ('행크스', 18),\n",
              "             ('약혼자', 2),\n",
              "             ('랑', 510),\n",
              "             ('썸', 6),\n",
              "             ('타', 93),\n",
              "             ('다가', 82),\n",
              "             ('엔', 512),\n",
              "             ('버리다', 589),\n",
              "             ('쪼르르', 1),\n",
              "             ('달려가다', 11),\n",
              "             ('가끔', 87),\n",
              "             ('문득', 27),\n",
              "             ('다시', 954),\n",
              "             ('색감', 43),\n",
              "             ('예술', 167),\n",
              "             ('강렬하다', 47),\n",
              "             ('화려하다', 148),\n",
              "             ('츠지', 1),\n",
              "             ('안나', 74),\n",
              "             ('너무도', 28),\n",
              "             ('리즈시절', 15),\n",
              "             ('걸작', 162),\n",
              "             ('넘치다', 111),\n",
              "             ('지겹다', 89),\n",
              "             ('자체', 408),\n",
              "             ('의문', 52),\n",
              "             ('남지', 10),\n",
              "             ('펑퍼짐하다', 1),\n",
              "             ('건빵', 1),\n",
              "             ('바지', 9),\n",
              "             ('크다', 456),\n",
              "             ('입다', 52),\n",
              "             ('오도바이', 1),\n",
              "             ('탈때', 2),\n",
              "             ('잠바', 2),\n",
              "             ('주인', 26),\n",
              "             ('공겸', 1),\n",
              "             ('앞', 219),\n",
              "             ('차기', 10),\n",
              "             ('옆', 35),\n",
              "             ('뒷', 50),\n",
              "             ('돌려차기', 2),\n",
              "             ('기술', 41),\n",
              "             ('구사해', 1),\n",
              "             ('악당', 59),\n",
              "             ('소탕', 2),\n",
              "             ('주먹질', 4),\n",
              "             ('비중', 27),\n",
              "             ('생각', 1824),\n",
              "             ('놀라다', 180),\n",
              "             ('개봉', 344),\n",
              "             ('내다', 378),\n",
              "             ('린줄', 1),\n",
              "             ('ㅠ', 341),\n",
              "             ('이제', 355),\n",
              "             ('서다', 211),\n",
              "             ('커플', 65),\n",
              "             ('댄스', 18),\n",
              "             ('명', 269),\n",
              "             ('장면', 804),\n",
              "             ('아쉽다', 464),\n",
              "             ('단순', 19),\n",
              "             ('상업', 32),\n",
              "             ('춤', 62),\n",
              "             ('보', 129),\n",
              "             ('니까', 196),\n",
              "             ('용하다', 7),\n",
              "             ('제작비', 83),\n",
              "             ('라고는', 14),\n",
              "             ('찾아보다', 101),\n",
              "             ('특히', 283),\n",
              "             ('마지막', 897),\n",
              "             ('여자애', 21),\n",
              "             ('경상도', 9),\n",
              "             ('코웃음', 2),\n",
              "             ('칠', 49),\n",
              "             ('만큼', 105),\n",
              "             ('어색하다', 198),\n",
              "             ('사투리', 26),\n",
              "             ('엄마', 192),\n",
              "             ('그나마', 150),\n",
              "             ('잡히다', 24),\n",
              "             ('감정', 194),\n",
              "             ('깨다', 43),\n",
              "             ('단연', 41),\n",
              "             ('글쌔슬프', 1),\n",
              "             ('짜이다', 26),\n",
              "             ('여기', 181),\n",
              "             ('서', 626),\n",
              "             ('땡', 18),\n",
              "             ('칠이', 13),\n",
              "             ('얘', 47),\n",
              "             ('낳다', 45),\n",
              "             ('뭐라다', 106),\n",
              "             ('견자단', 45),\n",
              "             ('제일', 242),\n",
              "             ('노잼', 254),\n",
              "             ('욕', 266),\n",
              "             ('셍', 1),\n",
              "             ('휴', 137),\n",
              "             ('실제', 125),\n",
              "             ('사실', 210),\n",
              "             ('어떻다', 504),\n",
              "             ('로운', 20),\n",
              "             ('협객', 1),\n",
              "             ('으로서', 45),\n",
              "             ('김두한', 4),\n",
              "             ('거지', 104),\n",
              "             ('패', 36),\n",
              "             ('종로', 2),\n",
              "             ('주먹', 14),\n",
              "             ('평정하다', 1),\n",
              "             ('초기', 13),\n",
              "             ('모습', 387),\n",
              "             ('줌', 72),\n",
              "             ('배경음악', 30),\n",
              "             ('어울리다', 159),\n",
              "             ('참고', 96),\n",
              "             ('황정민', 21),\n",
              "             ('우미관', 1),\n",
              "             ('지배인', 1),\n",
              "             ('유명하다', 33),\n",
              "             ('자막', 66),\n",
              "             ('읽다', 157),\n",
              "             ('힘들다', 214),\n",
              "             ('영어권', 1),\n",
              "             ('몰입', 287),\n",
              "             ('공간', 33),\n",
              "             ('한정', 10),\n",
              "             ('만으로도', 83),\n",
              "             ('재미나', 34),\n",
              "             ('바이러스', 13),\n",
              "             ('언어', 10),\n",
              "             ('참신하다', 72),\n",
              "             ('바', 125),\n",
              "             ('이르다', 127),\n",
              "             ('소문', 9),\n",
              "             ('괴담', 5),\n",
              "             ('선동', 39),\n",
              "             ('찌라시', 5),\n",
              "             ('언론플레이', 2),\n",
              "             ('대입', 5),\n",
              "             ('해보다', 252),\n",
              "             ('극', 223),\n",
              "             ('장가', 30),\n",
              "             ('피다', 29),\n",
              "             ('물', 211),\n",
              "             ('진하다', 38),\n",
              "             ('한마디', 168),\n",
              "             ('이뿌다', 8),\n",
              "             ('어렷을때', 6),\n",
              "             ('박준형', 3),\n",
              "             ('배신', 25),\n",
              "             ('감', 301),\n",
              "             ('차인표', 8),\n",
              "             ('말투', 33),\n",
              "             ('적응', 5),\n",
              "             ('송선미', 3),\n",
              "             ('이쁘다', 340),\n",
              "             ('과소', 4),\n",
              "             ('평가', 180),\n",
              "             ('확실하다', 99),\n",
              "             ('유쾌하다', 141),\n",
              "             ('훌륭하다', 249),\n",
              "             ('뛰어나다', 111),\n",
              "             ('연', 310),\n",
              "             ('출진', 2),\n",
              "             ('편의', 59),\n",
              "             ('만들어지다', 103),\n",
              "             ('소재', 461),\n",
              "             ('식상하다', 96),\n",
              "             ('둘째', 39),\n",
              "             ('치고', 111),\n",
              "             ('재밋게', 1),\n",
              "             ('잭', 27),\n",
              "             ('바우어', 2),\n",
              "             ('형님', 77),\n",
              "             ('처음', 813),\n",
              "             ('볼땐', 20),\n",
              "             ('느끼다', 583),\n",
              "             ('하나', 948),\n",
              "             ('재미없다', 1180),\n",
              "             ('ㅡㅡ', 719),\n",
              "             ('가슴', 462),\n",
              "             ('아프다', 232),\n",
              "             ('질리다', 29),\n",
              "             ('요도', 2),\n",
              "             ('구해', 9),\n",
              "             ('탄생', 34),\n",
              "             ('재밋', 132),\n",
              "             ('어요', 5),\n",
              "             ('만해', 33),\n",
              "             ('신기록', 1),\n",
              "             ('갱신', 3),\n",
              "             ('인가', 373),\n",
              "             ('간닷', 1),\n",
              "             ('오시', 4),\n",
              "             ('마모루', 4),\n",
              "             ('통해', 85),\n",
              "             ('책', 141),\n",
              "             ('넘어서다', 35),\n",
              "             ('데어데블', 2),\n",
              "             ('악마', 44),\n",
              "             ('인형', 32),\n",
              "             ('탈', 27),\n",
              "             ('쓰다', 411),\n",
              "             ('웃기', 146),\n",
              "             ('인물', 151),\n",
              "             ('관계', 67),\n",
              "             ('짧다', 91),\n",
              "             ('러닝', 48),\n",
              "             ('타임', 82),\n",
              "             ('고맙다', 65),\n",
              "             ('마트', 2),\n",
              "             ('폐쇄된', 3),\n",
              "             ('속', 467),\n",
              "             ('갇히다', 10),\n",
              "             ('심리', 84),\n",
              "             ('변화', 39),\n",
              "             ('적다', 187),\n",
              "             ('현', 111),\n",
              "             ('실적', 13),\n",
              "             ('오다', 853),\n",
              "             ('닿다', 77),\n",
              "             ('왕초', 2),\n",
              "             ('건지다', 341),\n",
              "             ('쥐다', 23),\n",
              "             ('때문', 619),\n",
              "             ('살다', 400),\n",
              "             ('연기력', 352),\n",
              "             ('눈물', 418),\n",
              "             ('방울', 4),\n",
              "             ('흘리다', 78),\n",
              "             ('본', 440),\n",
              "             ('이름', 188),\n",
              "             ('달', 50),\n",
              "             ('엉엉', 15),\n",
              "             ('무', 91),\n",
              "             ('서버', 2),\n",
              "             ('아직', 167),\n",
              "             ('잊다', 167),\n",
              "             ('부터', 583),\n",
              "             ('잔잔하다', 279),\n",
              "             ('소', 116),\n",
              "             ('낙비', 1),\n",
              "             ('피해', 22),\n",
              "             ('달다', 123),\n",
              "             ('부분', 328),\n",
              "             ('어느', 147),\n",
              "             ('멋진날', 4),\n",
              "             ('햇살', 3),\n",
              "             ('비추다', 82),\n",
              "             ('행복하다', 168),\n",
              "             ('빗속', 3),\n",
              "             ('달리다', 33),\n",
              "             ('느껴지다', 270),\n",
              "             ('가볍다', 118),\n",
              "             ('스릴러', 254),\n",
              "             ('무겁다', 55),\n",
              "             ('오히려', 83),\n",
              "             ('김민', 2),\n",
              "             ('어설프다', 252),\n",
              "             ('어지럽다', 20),\n",
              "             ('성함', 11),\n",
              "             ('지루함', 178),\n",
              "             ('연속', 34),\n",
              "             ('예수', 12),\n",
              "             ('쟁이', 21),\n",
              "             ('제발', 210),\n",
              "             ('인터넷', 35),\n",
              "             ('예리하다', 4),\n",
              "             ('필', 32),\n",
              "             ('박수', 65),\n",
              "             ('보내다', 123),\n",
              "             ('진보', 14),\n",
              "             ('란', 128),\n",
              "             ('시청률', 123),\n",
              "             ('의식', 53),\n",
              "             ('으로도', 114),\n",
              "             ('부탁드리다', 17),\n",
              "             ('성', 561),\n",
              "             ('떠나다', 135),\n",
              "             ('찝찝하다', 37),\n",
              "             ('초', 108),\n",
              "             ('중학생', 23),\n",
              "             ('수준', 523),\n",
              "             ('단조롭다', 8),\n",
              "             ('대사', 296),\n",
              "             ('참으로', 41),\n",
              "             ('ㅋㅋ', 1383),\n",
              "             ('편이', 145),\n",
              "             ('오억만배', 1),\n",
              "             ('편도', 39),\n",
              "             ('대로는', 3),\n",
              "             ('수작', 194),\n",
              "             ('국수', 4),\n",
              "             ('주의', 97),\n",
              "             ('라', 666),\n",
              "             ('시점', 47),\n",
              "             ('전쟁', 178),\n",
              "             ('손가락', 26),\n",
              "             ('꼽', 22),\n",
              "             ('라인', 51),\n",
              "             ('살리다', 181),\n",
              "             ('언제', 146),\n",
              "             ('지난', 61),\n",
              "             ('클럽', 9),\n",
              "             ('사건', 110),\n",
              "             ('연결', 39),\n",
              "             ('전혀', 314),\n",
              "             ('흥미', 86),\n",
              "             ('거리', 77),\n",
              "             ('연관', 19),\n",
              "             ('다니엘', 14),\n",
              "             ('미쉘', 5),\n",
              "             ('페이퍼', 1),\n",
              "             ('마틴', 17),\n",
              "             ('스콜', 7),\n",
              "             ('세지', 8),\n",
              "             ('쵝오', 37),\n",
              "             ('탕웨이', 7),\n",
              "             ('이제껏', 7),\n",
              "             ('이번', 105),\n",
              "             ('계기', 37),\n",
              "             ('간만', 118),\n",
              "             ('필요하다', 143),\n",
              "             ('아마', 44),\n",
              "             ('법무관', 1),\n",
              "             ('또는', 16),\n",
              "             ('법조인', 1),\n",
              "             ('품', 8),\n",
              "             ('개다', 77),\n",
              "             ('죠스', 11),\n",
              "             ('집', 168),\n",
              "             ('발', 133),\n",
              "             ('닦다', 18),\n",
              "             ('잠', 96),\n",
              "             ('자라', 8),\n",
              "             ('굿', 265),\n",
              "             ('도서', 2),\n",
              "             ('카드', 8),\n",
              "             ('그려지다', 25),\n",
              "             ('이츠키', 1),\n",
              "             ('아직도', 238),\n",
              "             ('떠올리다', 24),\n",
              "             ('지네', 17),\n",
              "             ('완전하다', 53),\n",
              "             ('삶다', 26),\n",
              "             ('그저', 189),\n",
              "             ('씩', 96),\n",
              "             ('배우다', 154),\n",
              "             ('나가다', 206),\n",
              "             ('어르다', 12),\n",
              "             ('이즈', 5),\n",
              "             ('나은', 27),\n",
              "             ('이라', 327),\n",
              "             ('그래도', 352),\n",
              "             ('조금', 280),\n",
              "             ('이나마', 17),\n",
              "             ('한편', 94),\n",
              "             ('극장판', 117),\n",
              "             ('주제', 143),\n",
              "             ('오프닝', 21),\n",
              "             ('애프터', 1),\n",
              "             ('펙트', 2),\n",
              "             ('처', 40),\n",
              "             ('바르다', 19),\n",
              "             ('바뀌다', 63),\n",
              "             ('예산', 81),\n",
              "             ('모자라다', 35),\n",
              "             ('미키', 8),\n",
              "             ('루크', 12),\n",
              "             ('홈', 6),\n",
              "             ('보이', 88),\n",
              "             ('계시', 4),\n",
              "             ('놀', 8),\n",
              "             ('라울', 5),\n",
              "             ('팬', 183),\n",
              "             ('ㅋㅋㅋㅋㅋㅋㅋㅋㅋㅋㅋㅋ', 16),\n",
              "             ('케이블', 74),\n",
              "             ('우연히', 96),\n",
              "             ('월광보합', 3),\n",
              "             ('깔깔', 10),\n",
              "             ('선리기연', 3),\n",
              "             ('일생', 19),\n",
              "             ('애가', 31),\n",
              "             ('흘러나오다', 9),\n",
              "             ('되돌리다', 5),\n",
              "             ('만발', 3),\n",
              "             ('싸랑', 2),\n",
              "             ('키르', 3),\n",
              "             ('심심하다', 58),\n",
              "             ...])"
            ]
          },
          "metadata": {
            "tags": []
          },
          "execution_count": 34
        }
      ]
    },
    {
      "cell_type": "markdown",
      "metadata": {
        "id": "hg8xjxHWLBAk"
      },
      "source": [
        "## TF-IDF (Term Frequency - Inverse Document Frequency)\r\n",
        "DTM을 기반으로 중요한 단어에 가중치는 주는 방식이에요! 결과적으로만 말하자면 TF-IDF의 값을 기반으로 중요한 단어는 값이 올라가고, TF-IDF 기준으로 중요하지 않은 단어는 값이 DOWN이 됩니다!\r\n",
        "\r\n",
        "tf-idf의 정의에 대해 이야기 해보겠습니다.\r\n",
        "\r\n",
        "* $tf(d, t)$ : 특정 문서 d에서의 특정 단어 $t$의 등장 횟수. 즉 DTM 상에서의 단어들의 값\r\n",
        "* $df(t)$ : 단어 $t$가 등장한 문서의 수\r\n",
        "* $idf(t)$ : $df(t)$에 반비례 하는 수.\r\n",
        "\r\n",
        "참고로 idf는 다음과 같아요!\r\n",
        "\r\n",
        "$$\r\n",
        "idf(t) = log(\\frac{n}{1+df(t)})\r\n",
        "$$\r\n",
        "\r\n",
        "위 식에서 $n$은 문서의 개수입니다!"
      ]
    },
    {
      "cell_type": "code",
      "metadata": {
        "id": "Jn2cRZ6UFc01"
      },
      "source": [
        "# tf 구현하기\r\n",
        "# n번 문서 (document)에서 단어 (term)이 등장한 횟수\r\n",
        "def term_frequency(term, document):\r\n",
        "  return document.count(term)\r\n",
        "\r\n",
        "# term(단어)이 몇개의 문서'들' (documents)에서 등장을 했는지 세어주기\r\n",
        "def document_frequency(term, documents):\r\n",
        "  term_count = 0\r\n",
        "\r\n",
        "  # 문서 들에서 문서를 하나씩 꺼낸 다음에\r\n",
        "  for document in documents:\r\n",
        "    # 문서에 단어가 들어있는지 검사 후 더하기\r\n",
        "    term_count += term in document\r\n",
        "  \r\n",
        "  return term_count\r\n",
        "\r\n",
        "def inverse_document_frequency(term, documents):\r\n",
        "  from math import log\r\n",
        "\r\n",
        "  N = len(documents) # 전체 문서의 개수\r\n",
        "  df = document_frequency(term, documents) # term이 등장한 문서의 개수\r\n",
        "\r\n",
        "  # idf 구해서 리턴\r\n",
        "  return log( N / ( df + 1 ))\r\n",
        "\r\n",
        "def tf_idf(term, documents, idx):\r\n",
        "\r\n",
        "  # 원하는 문서를 구하기\r\n",
        "  document = documents[idx]\r\n",
        "\r\n",
        "  return term_frequency(term, document) * inverse_document_frequency(term, documents)\r\n"
      ],
      "execution_count": null,
      "outputs": []
    },
    {
      "cell_type": "code",
      "metadata": {
        "colab": {
          "base_uri": "https://localhost:8080/"
        },
        "id": "20ihOr4VFc5k",
        "outputId": "9c8f9610-b5be-4b17-8e1f-fde47c0c2382"
      },
      "source": [
        "!pip install konlpy"
      ],
      "execution_count": null,
      "outputs": [
        {
          "output_type": "stream",
          "text": [
            "Requirement already satisfied: konlpy in /usr/local/lib/python3.6/dist-packages (0.5.2)\n",
            "Requirement already satisfied: colorama in /usr/local/lib/python3.6/dist-packages (from konlpy) (0.4.4)\n",
            "Requirement already satisfied: tweepy>=3.7.0 in /usr/local/lib/python3.6/dist-packages (from konlpy) (3.10.0)\n",
            "Requirement already satisfied: JPype1>=0.7.0 in /usr/local/lib/python3.6/dist-packages (from konlpy) (1.2.1)\n",
            "Requirement already satisfied: beautifulsoup4==4.6.0 in /usr/local/lib/python3.6/dist-packages (from konlpy) (4.6.0)\n",
            "Requirement already satisfied: numpy>=1.6 in /usr/local/lib/python3.6/dist-packages (from konlpy) (1.19.5)\n",
            "Requirement already satisfied: lxml>=4.1.0 in /usr/local/lib/python3.6/dist-packages (from konlpy) (4.2.6)\n",
            "Requirement already satisfied: requests-oauthlib>=0.7.0 in /usr/local/lib/python3.6/dist-packages (from tweepy>=3.7.0->konlpy) (1.3.0)\n",
            "Requirement already satisfied: requests[socks]>=2.11.1 in /usr/local/lib/python3.6/dist-packages (from tweepy>=3.7.0->konlpy) (2.23.0)\n",
            "Requirement already satisfied: six>=1.10.0 in /usr/local/lib/python3.6/dist-packages (from tweepy>=3.7.0->konlpy) (1.15.0)\n",
            "Requirement already satisfied: typing-extensions; python_version < \"3.8\" in /usr/local/lib/python3.6/dist-packages (from JPype1>=0.7.0->konlpy) (3.7.4.3)\n",
            "Requirement already satisfied: oauthlib>=3.0.0 in /usr/local/lib/python3.6/dist-packages (from requests-oauthlib>=0.7.0->tweepy>=3.7.0->konlpy) (3.1.0)\n",
            "Requirement already satisfied: chardet<4,>=3.0.2 in /usr/local/lib/python3.6/dist-packages (from requests[socks]>=2.11.1->tweepy>=3.7.0->konlpy) (3.0.4)\n",
            "Requirement already satisfied: certifi>=2017.4.17 in /usr/local/lib/python3.6/dist-packages (from requests[socks]>=2.11.1->tweepy>=3.7.0->konlpy) (2020.12.5)\n",
            "Requirement already satisfied: urllib3!=1.25.0,!=1.25.1,<1.26,>=1.21.1 in /usr/local/lib/python3.6/dist-packages (from requests[socks]>=2.11.1->tweepy>=3.7.0->konlpy) (1.24.3)\n",
            "Requirement already satisfied: idna<3,>=2.5 in /usr/local/lib/python3.6/dist-packages (from requests[socks]>=2.11.1->tweepy>=3.7.0->konlpy) (2.10)\n",
            "Requirement already satisfied: PySocks!=1.5.7,>=1.5.6; extra == \"socks\" in /usr/local/lib/python3.6/dist-packages (from requests[socks]>=2.11.1->tweepy>=3.7.0->konlpy) (1.7.1)\n"
          ],
          "name": "stdout"
        }
      ]
    },
    {
      "cell_type": "code",
      "metadata": {
        "id": "cTpcUtAyFc-T"
      },
      "source": [
        "from konlpy.tag import Okt\r\n",
        "okt = Okt()\r\n",
        "\r\n",
        "docs = [\r\n",
        "  '동해 물과 백두산이 마르고 닳도록 하느님이 보우하사 우리나라 만세. 무궁화 삼천리 화려 강산 대한 사람, 대한으로 길이 보전하세. 동해 가고 싶다',\r\n",
        "  '남산 위에 저 소나무, 철갑을 두른 듯 바람 서리 불변함은 우리 기상일세. 무궁화 삼천리 화려 강산 대한 사람, 대한으로 길이 보전하세. 소나무 이쁘다',\r\n",
        "  '가을 하늘 공활한데 높고 구름 없이 밝은 달은 우리 가슴 일편단심일세. 무궁화 삼천리 화려 강산 대한 사람, 대한으로 길이 보전하세. 가을 하늘 보고 싶다.',\r\n",
        "  '이 기상과 이 마음으로 충성을 다하여 괴로우나 즐거우나 나라 사랑하세. 무궁화 삼천리 화려 강산 대한 사람, 대한으로 길이 보전하세. 나라를 사랑하자'\r\n",
        "] "
      ],
      "execution_count": null,
      "outputs": []
    },
    {
      "cell_type": "code",
      "metadata": {
        "colab": {
          "base_uri": "https://localhost:8080/"
        },
        "id": "5KeIKVJuFdB-",
        "outputId": "ba86e561-7916-46d4-8403-7411a8e0be51"
      },
      "source": [
        "vocab = list(set(w for doc in docs for w in okt.nouns(doc)))\r\n",
        "vocab"
      ],
      "execution_count": null,
      "outputs": [
        {
          "output_type": "execute_result",
          "data": {
            "text/plain": [
              "['하느님',\n",
              " '우리',\n",
              " '하늘',\n",
              " '철갑',\n",
              " '위',\n",
              " '백두산',\n",
              " '삼천리',\n",
              " '길이',\n",
              " '보고',\n",
              " '무궁화',\n",
              " '마음',\n",
              " '만세',\n",
              " '나라',\n",
              " '바람',\n",
              " '마르고',\n",
              " '사람',\n",
              " '가슴',\n",
              " '활',\n",
              " '서리',\n",
              " '달',\n",
              " '데',\n",
              " '화려',\n",
              " '충성',\n",
              " '가을',\n",
              " '보전',\n",
              " '하사',\n",
              " '우리나라',\n",
              " '소나무',\n",
              " '듯',\n",
              " '불변',\n",
              " '동해',\n",
              " '강산',\n",
              " '기상',\n",
              " '구름',\n",
              " '사랑',\n",
              " '함',\n",
              " '남산',\n",
              " '일편단심',\n",
              " '이',\n",
              " '물',\n",
              " '보우',\n",
              " '저',\n",
              " '대한']"
            ]
          },
          "metadata": {
            "tags": []
          },
          "execution_count": 47
        }
      ]
    },
    {
      "cell_type": "code",
      "metadata": {
        "id": "3JQZ9VHAFdHZ"
      },
      "source": [
        "# 가나다 순으로 정렬\r\n",
        "vocab.sort()"
      ],
      "execution_count": null,
      "outputs": []
    },
    {
      "cell_type": "code",
      "metadata": {
        "colab": {
          "base_uri": "https://localhost:8080/",
          "height": 236
        },
        "id": "f45IhWkgFdLS",
        "outputId": "8f86b21a-6b71-46c0-86d5-3f262276eb79"
      },
      "source": [
        "import pandas as pd\r\n",
        "\r\n",
        "# tf 결과를 데이터프레임으로 확인\r\n",
        "\r\n",
        "result = []\r\n",
        "\r\n",
        "for i in range(len(docs)):\r\n",
        "  result.append([])\r\n",
        "  d = docs[i]\r\n",
        "\r\n",
        "  for j in range(len(vocab)):\r\n",
        "    t = vocab [j]\r\n",
        "    result[-1].append(term_frequency(t, d))\r\n",
        "\r\n",
        "tf_ = pd.DataFrame(result, columns=vocab)\r\n",
        "tf_"
      ],
      "execution_count": null,
      "outputs": [
        {
          "output_type": "execute_result",
          "data": {
            "text/html": [
              "<div>\n",
              "<style scoped>\n",
              "    .dataframe tbody tr th:only-of-type {\n",
              "        vertical-align: middle;\n",
              "    }\n",
              "\n",
              "    .dataframe tbody tr th {\n",
              "        vertical-align: top;\n",
              "    }\n",
              "\n",
              "    .dataframe thead th {\n",
              "        text-align: right;\n",
              "    }\n",
              "</style>\n",
              "<table border=\"1\" class=\"dataframe\">\n",
              "  <thead>\n",
              "    <tr style=\"text-align: right;\">\n",
              "      <th></th>\n",
              "      <th>가슴</th>\n",
              "      <th>가을</th>\n",
              "      <th>강산</th>\n",
              "      <th>구름</th>\n",
              "      <th>기상</th>\n",
              "      <th>길이</th>\n",
              "      <th>나라</th>\n",
              "      <th>남산</th>\n",
              "      <th>달</th>\n",
              "      <th>대한</th>\n",
              "      <th>데</th>\n",
              "      <th>동해</th>\n",
              "      <th>듯</th>\n",
              "      <th>마르고</th>\n",
              "      <th>마음</th>\n",
              "      <th>만세</th>\n",
              "      <th>무궁화</th>\n",
              "      <th>물</th>\n",
              "      <th>바람</th>\n",
              "      <th>백두산</th>\n",
              "      <th>보고</th>\n",
              "      <th>보우</th>\n",
              "      <th>보전</th>\n",
              "      <th>불변</th>\n",
              "      <th>사람</th>\n",
              "      <th>사랑</th>\n",
              "      <th>삼천리</th>\n",
              "      <th>서리</th>\n",
              "      <th>소나무</th>\n",
              "      <th>우리</th>\n",
              "      <th>우리나라</th>\n",
              "      <th>위</th>\n",
              "      <th>이</th>\n",
              "      <th>일편단심</th>\n",
              "      <th>저</th>\n",
              "      <th>철갑</th>\n",
              "      <th>충성</th>\n",
              "      <th>하느님</th>\n",
              "      <th>하늘</th>\n",
              "      <th>하사</th>\n",
              "      <th>함</th>\n",
              "      <th>화려</th>\n",
              "      <th>활</th>\n",
              "    </tr>\n",
              "  </thead>\n",
              "  <tbody>\n",
              "    <tr>\n",
              "      <th>0</th>\n",
              "      <td>0</td>\n",
              "      <td>0</td>\n",
              "      <td>1</td>\n",
              "      <td>0</td>\n",
              "      <td>0</td>\n",
              "      <td>1</td>\n",
              "      <td>1</td>\n",
              "      <td>0</td>\n",
              "      <td>0</td>\n",
              "      <td>2</td>\n",
              "      <td>0</td>\n",
              "      <td>2</td>\n",
              "      <td>0</td>\n",
              "      <td>1</td>\n",
              "      <td>0</td>\n",
              "      <td>1</td>\n",
              "      <td>1</td>\n",
              "      <td>1</td>\n",
              "      <td>0</td>\n",
              "      <td>1</td>\n",
              "      <td>0</td>\n",
              "      <td>1</td>\n",
              "      <td>1</td>\n",
              "      <td>0</td>\n",
              "      <td>1</td>\n",
              "      <td>0</td>\n",
              "      <td>1</td>\n",
              "      <td>0</td>\n",
              "      <td>0</td>\n",
              "      <td>1</td>\n",
              "      <td>1</td>\n",
              "      <td>0</td>\n",
              "      <td>3</td>\n",
              "      <td>0</td>\n",
              "      <td>0</td>\n",
              "      <td>0</td>\n",
              "      <td>0</td>\n",
              "      <td>1</td>\n",
              "      <td>0</td>\n",
              "      <td>1</td>\n",
              "      <td>0</td>\n",
              "      <td>1</td>\n",
              "      <td>0</td>\n",
              "    </tr>\n",
              "    <tr>\n",
              "      <th>1</th>\n",
              "      <td>0</td>\n",
              "      <td>0</td>\n",
              "      <td>1</td>\n",
              "      <td>0</td>\n",
              "      <td>1</td>\n",
              "      <td>1</td>\n",
              "      <td>0</td>\n",
              "      <td>1</td>\n",
              "      <td>0</td>\n",
              "      <td>2</td>\n",
              "      <td>0</td>\n",
              "      <td>0</td>\n",
              "      <td>1</td>\n",
              "      <td>0</td>\n",
              "      <td>0</td>\n",
              "      <td>0</td>\n",
              "      <td>1</td>\n",
              "      <td>0</td>\n",
              "      <td>1</td>\n",
              "      <td>0</td>\n",
              "      <td>0</td>\n",
              "      <td>0</td>\n",
              "      <td>1</td>\n",
              "      <td>1</td>\n",
              "      <td>1</td>\n",
              "      <td>0</td>\n",
              "      <td>1</td>\n",
              "      <td>1</td>\n",
              "      <td>2</td>\n",
              "      <td>1</td>\n",
              "      <td>0</td>\n",
              "      <td>1</td>\n",
              "      <td>2</td>\n",
              "      <td>0</td>\n",
              "      <td>1</td>\n",
              "      <td>1</td>\n",
              "      <td>0</td>\n",
              "      <td>0</td>\n",
              "      <td>0</td>\n",
              "      <td>0</td>\n",
              "      <td>1</td>\n",
              "      <td>1</td>\n",
              "      <td>0</td>\n",
              "    </tr>\n",
              "    <tr>\n",
              "      <th>2</th>\n",
              "      <td>1</td>\n",
              "      <td>2</td>\n",
              "      <td>1</td>\n",
              "      <td>1</td>\n",
              "      <td>0</td>\n",
              "      <td>1</td>\n",
              "      <td>0</td>\n",
              "      <td>0</td>\n",
              "      <td>1</td>\n",
              "      <td>2</td>\n",
              "      <td>1</td>\n",
              "      <td>0</td>\n",
              "      <td>0</td>\n",
              "      <td>0</td>\n",
              "      <td>0</td>\n",
              "      <td>0</td>\n",
              "      <td>1</td>\n",
              "      <td>0</td>\n",
              "      <td>0</td>\n",
              "      <td>0</td>\n",
              "      <td>1</td>\n",
              "      <td>0</td>\n",
              "      <td>1</td>\n",
              "      <td>0</td>\n",
              "      <td>1</td>\n",
              "      <td>0</td>\n",
              "      <td>1</td>\n",
              "      <td>0</td>\n",
              "      <td>0</td>\n",
              "      <td>1</td>\n",
              "      <td>0</td>\n",
              "      <td>0</td>\n",
              "      <td>2</td>\n",
              "      <td>1</td>\n",
              "      <td>0</td>\n",
              "      <td>0</td>\n",
              "      <td>0</td>\n",
              "      <td>0</td>\n",
              "      <td>2</td>\n",
              "      <td>0</td>\n",
              "      <td>0</td>\n",
              "      <td>1</td>\n",
              "      <td>1</td>\n",
              "    </tr>\n",
              "    <tr>\n",
              "      <th>3</th>\n",
              "      <td>0</td>\n",
              "      <td>0</td>\n",
              "      <td>1</td>\n",
              "      <td>0</td>\n",
              "      <td>1</td>\n",
              "      <td>1</td>\n",
              "      <td>2</td>\n",
              "      <td>0</td>\n",
              "      <td>0</td>\n",
              "      <td>2</td>\n",
              "      <td>0</td>\n",
              "      <td>0</td>\n",
              "      <td>0</td>\n",
              "      <td>0</td>\n",
              "      <td>1</td>\n",
              "      <td>0</td>\n",
              "      <td>1</td>\n",
              "      <td>0</td>\n",
              "      <td>0</td>\n",
              "      <td>0</td>\n",
              "      <td>0</td>\n",
              "      <td>0</td>\n",
              "      <td>1</td>\n",
              "      <td>0</td>\n",
              "      <td>1</td>\n",
              "      <td>2</td>\n",
              "      <td>1</td>\n",
              "      <td>0</td>\n",
              "      <td>0</td>\n",
              "      <td>0</td>\n",
              "      <td>0</td>\n",
              "      <td>0</td>\n",
              "      <td>3</td>\n",
              "      <td>0</td>\n",
              "      <td>0</td>\n",
              "      <td>0</td>\n",
              "      <td>1</td>\n",
              "      <td>0</td>\n",
              "      <td>0</td>\n",
              "      <td>0</td>\n",
              "      <td>0</td>\n",
              "      <td>1</td>\n",
              "      <td>0</td>\n",
              "    </tr>\n",
              "  </tbody>\n",
              "</table>\n",
              "</div>"
            ],
            "text/plain": [
              "   가슴  가을  강산  구름  기상  길이  나라  남산  달  ...  저  철갑  충성  하느님  하늘  하사  함  화려  활\n",
              "0   0   0   1   0   0   1   1   0  0  ...  0   0   0    1   0   1  0   1  0\n",
              "1   0   0   1   0   1   1   0   1  0  ...  1   1   0    0   0   0  1   1  0\n",
              "2   1   2   1   1   0   1   0   0  1  ...  0   0   0    0   2   0  0   1  1\n",
              "3   0   0   1   0   1   1   2   0  0  ...  0   0   1    0   0   0  0   1  0\n",
              "\n",
              "[4 rows x 43 columns]"
            ]
          },
          "metadata": {
            "tags": []
          },
          "execution_count": 49
        }
      ]
    },
    {
      "cell_type": "code",
      "metadata": {
        "colab": {
          "base_uri": "https://localhost:8080/",
          "height": 1000
        },
        "id": "vrNMqTfGW9OG",
        "outputId": "42f1cc14-735c-47c8-bb09-36210ec72256"
      },
      "source": [
        "# idf 결과를 데이터 프레임으로 확인\r\n",
        "result = []\r\n",
        "for j in range(len(vocab)):\r\n",
        "  t = vocab[j]\r\n",
        "  result.append(inverse_document_frequency(t, docs))\r\n",
        "\r\n",
        "idf_ = pd.DataFrame(result, index=vocab, columns=[\"IDF\"])\r\n",
        "idf_"
      ],
      "execution_count": null,
      "outputs": [
        {
          "output_type": "execute_result",
          "data": {
            "text/html": [
              "<div>\n",
              "<style scoped>\n",
              "    .dataframe tbody tr th:only-of-type {\n",
              "        vertical-align: middle;\n",
              "    }\n",
              "\n",
              "    .dataframe tbody tr th {\n",
              "        vertical-align: top;\n",
              "    }\n",
              "\n",
              "    .dataframe thead th {\n",
              "        text-align: right;\n",
              "    }\n",
              "</style>\n",
              "<table border=\"1\" class=\"dataframe\">\n",
              "  <thead>\n",
              "    <tr style=\"text-align: right;\">\n",
              "      <th></th>\n",
              "      <th>IDF</th>\n",
              "    </tr>\n",
              "  </thead>\n",
              "  <tbody>\n",
              "    <tr>\n",
              "      <th>가슴</th>\n",
              "      <td>0.693147</td>\n",
              "    </tr>\n",
              "    <tr>\n",
              "      <th>가을</th>\n",
              "      <td>0.693147</td>\n",
              "    </tr>\n",
              "    <tr>\n",
              "      <th>강산</th>\n",
              "      <td>-0.223144</td>\n",
              "    </tr>\n",
              "    <tr>\n",
              "      <th>구름</th>\n",
              "      <td>0.693147</td>\n",
              "    </tr>\n",
              "    <tr>\n",
              "      <th>기상</th>\n",
              "      <td>0.287682</td>\n",
              "    </tr>\n",
              "    <tr>\n",
              "      <th>길이</th>\n",
              "      <td>-0.223144</td>\n",
              "    </tr>\n",
              "    <tr>\n",
              "      <th>나라</th>\n",
              "      <td>0.287682</td>\n",
              "    </tr>\n",
              "    <tr>\n",
              "      <th>남산</th>\n",
              "      <td>0.693147</td>\n",
              "    </tr>\n",
              "    <tr>\n",
              "      <th>달</th>\n",
              "      <td>0.693147</td>\n",
              "    </tr>\n",
              "    <tr>\n",
              "      <th>대한</th>\n",
              "      <td>-0.223144</td>\n",
              "    </tr>\n",
              "    <tr>\n",
              "      <th>데</th>\n",
              "      <td>0.693147</td>\n",
              "    </tr>\n",
              "    <tr>\n",
              "      <th>동해</th>\n",
              "      <td>0.693147</td>\n",
              "    </tr>\n",
              "    <tr>\n",
              "      <th>듯</th>\n",
              "      <td>0.693147</td>\n",
              "    </tr>\n",
              "    <tr>\n",
              "      <th>마르고</th>\n",
              "      <td>0.693147</td>\n",
              "    </tr>\n",
              "    <tr>\n",
              "      <th>마음</th>\n",
              "      <td>0.693147</td>\n",
              "    </tr>\n",
              "    <tr>\n",
              "      <th>만세</th>\n",
              "      <td>0.693147</td>\n",
              "    </tr>\n",
              "    <tr>\n",
              "      <th>무궁화</th>\n",
              "      <td>-0.223144</td>\n",
              "    </tr>\n",
              "    <tr>\n",
              "      <th>물</th>\n",
              "      <td>0.693147</td>\n",
              "    </tr>\n",
              "    <tr>\n",
              "      <th>바람</th>\n",
              "      <td>0.693147</td>\n",
              "    </tr>\n",
              "    <tr>\n",
              "      <th>백두산</th>\n",
              "      <td>0.693147</td>\n",
              "    </tr>\n",
              "    <tr>\n",
              "      <th>보고</th>\n",
              "      <td>0.693147</td>\n",
              "    </tr>\n",
              "    <tr>\n",
              "      <th>보우</th>\n",
              "      <td>0.693147</td>\n",
              "    </tr>\n",
              "    <tr>\n",
              "      <th>보전</th>\n",
              "      <td>-0.223144</td>\n",
              "    </tr>\n",
              "    <tr>\n",
              "      <th>불변</th>\n",
              "      <td>0.693147</td>\n",
              "    </tr>\n",
              "    <tr>\n",
              "      <th>사람</th>\n",
              "      <td>-0.223144</td>\n",
              "    </tr>\n",
              "    <tr>\n",
              "      <th>사랑</th>\n",
              "      <td>0.693147</td>\n",
              "    </tr>\n",
              "    <tr>\n",
              "      <th>삼천리</th>\n",
              "      <td>-0.223144</td>\n",
              "    </tr>\n",
              "    <tr>\n",
              "      <th>서리</th>\n",
              "      <td>0.693147</td>\n",
              "    </tr>\n",
              "    <tr>\n",
              "      <th>소나무</th>\n",
              "      <td>0.693147</td>\n",
              "    </tr>\n",
              "    <tr>\n",
              "      <th>우리</th>\n",
              "      <td>0.000000</td>\n",
              "    </tr>\n",
              "    <tr>\n",
              "      <th>우리나라</th>\n",
              "      <td>0.693147</td>\n",
              "    </tr>\n",
              "    <tr>\n",
              "      <th>위</th>\n",
              "      <td>0.693147</td>\n",
              "    </tr>\n",
              "    <tr>\n",
              "      <th>이</th>\n",
              "      <td>-0.223144</td>\n",
              "    </tr>\n",
              "    <tr>\n",
              "      <th>일편단심</th>\n",
              "      <td>0.693147</td>\n",
              "    </tr>\n",
              "    <tr>\n",
              "      <th>저</th>\n",
              "      <td>0.693147</td>\n",
              "    </tr>\n",
              "    <tr>\n",
              "      <th>철갑</th>\n",
              "      <td>0.693147</td>\n",
              "    </tr>\n",
              "    <tr>\n",
              "      <th>충성</th>\n",
              "      <td>0.693147</td>\n",
              "    </tr>\n",
              "    <tr>\n",
              "      <th>하느님</th>\n",
              "      <td>0.693147</td>\n",
              "    </tr>\n",
              "    <tr>\n",
              "      <th>하늘</th>\n",
              "      <td>0.693147</td>\n",
              "    </tr>\n",
              "    <tr>\n",
              "      <th>하사</th>\n",
              "      <td>0.693147</td>\n",
              "    </tr>\n",
              "    <tr>\n",
              "      <th>함</th>\n",
              "      <td>0.693147</td>\n",
              "    </tr>\n",
              "    <tr>\n",
              "      <th>화려</th>\n",
              "      <td>-0.223144</td>\n",
              "    </tr>\n",
              "    <tr>\n",
              "      <th>활</th>\n",
              "      <td>0.693147</td>\n",
              "    </tr>\n",
              "  </tbody>\n",
              "</table>\n",
              "</div>"
            ],
            "text/plain": [
              "           IDF\n",
              "가슴    0.693147\n",
              "가을    0.693147\n",
              "강산   -0.223144\n",
              "구름    0.693147\n",
              "기상    0.287682\n",
              "길이   -0.223144\n",
              "나라    0.287682\n",
              "남산    0.693147\n",
              "달     0.693147\n",
              "대한   -0.223144\n",
              "데     0.693147\n",
              "동해    0.693147\n",
              "듯     0.693147\n",
              "마르고   0.693147\n",
              "마음    0.693147\n",
              "만세    0.693147\n",
              "무궁화  -0.223144\n",
              "물     0.693147\n",
              "바람    0.693147\n",
              "백두산   0.693147\n",
              "보고    0.693147\n",
              "보우    0.693147\n",
              "보전   -0.223144\n",
              "불변    0.693147\n",
              "사람   -0.223144\n",
              "사랑    0.693147\n",
              "삼천리  -0.223144\n",
              "서리    0.693147\n",
              "소나무   0.693147\n",
              "우리    0.000000\n",
              "우리나라  0.693147\n",
              "위     0.693147\n",
              "이    -0.223144\n",
              "일편단심  0.693147\n",
              "저     0.693147\n",
              "철갑    0.693147\n",
              "충성    0.693147\n",
              "하느님   0.693147\n",
              "하늘    0.693147\n",
              "하사    0.693147\n",
              "함     0.693147\n",
              "화려   -0.223144\n",
              "활     0.693147"
            ]
          },
          "metadata": {
            "tags": []
          },
          "execution_count": 50
        }
      ]
    },
    {
      "cell_type": "code",
      "metadata": {
        "colab": {
          "base_uri": "https://localhost:8080/",
          "height": 202
        },
        "id": "BhboY2YQXL57",
        "outputId": "f83e1b00-1a64-4db3-b114-34fe5e33f3cc"
      },
      "source": [
        "# tf-idf 구하기\r\n",
        "result = []\r\n",
        "N = len(docs)\r\n",
        "\r\n",
        "for i in range(N):\r\n",
        "  result.append([])\r\n",
        "  for j in range(len(vocab)):\r\n",
        "    t = vocab[j]\r\n",
        "    result[-1].append(tf_idf(t, docs, i))\r\n",
        "\r\n",
        "tfidf_ = pd.DataFrame(result, columns=vocab)\r\n",
        "tfidf_"
      ],
      "execution_count": null,
      "outputs": [
        {
          "output_type": "execute_result",
          "data": {
            "text/html": [
              "<div>\n",
              "<style scoped>\n",
              "    .dataframe tbody tr th:only-of-type {\n",
              "        vertical-align: middle;\n",
              "    }\n",
              "\n",
              "    .dataframe tbody tr th {\n",
              "        vertical-align: top;\n",
              "    }\n",
              "\n",
              "    .dataframe thead th {\n",
              "        text-align: right;\n",
              "    }\n",
              "</style>\n",
              "<table border=\"1\" class=\"dataframe\">\n",
              "  <thead>\n",
              "    <tr style=\"text-align: right;\">\n",
              "      <th></th>\n",
              "      <th>가슴</th>\n",
              "      <th>가을</th>\n",
              "      <th>강산</th>\n",
              "      <th>구름</th>\n",
              "      <th>기상</th>\n",
              "      <th>길이</th>\n",
              "      <th>나라</th>\n",
              "      <th>남산</th>\n",
              "      <th>달</th>\n",
              "      <th>대한</th>\n",
              "      <th>데</th>\n",
              "      <th>동해</th>\n",
              "      <th>듯</th>\n",
              "      <th>마르고</th>\n",
              "      <th>마음</th>\n",
              "      <th>만세</th>\n",
              "      <th>무궁화</th>\n",
              "      <th>물</th>\n",
              "      <th>바람</th>\n",
              "      <th>백두산</th>\n",
              "      <th>보고</th>\n",
              "      <th>보우</th>\n",
              "      <th>보전</th>\n",
              "      <th>불변</th>\n",
              "      <th>사람</th>\n",
              "      <th>사랑</th>\n",
              "      <th>삼천리</th>\n",
              "      <th>서리</th>\n",
              "      <th>소나무</th>\n",
              "      <th>우리</th>\n",
              "      <th>우리나라</th>\n",
              "      <th>위</th>\n",
              "      <th>이</th>\n",
              "      <th>일편단심</th>\n",
              "      <th>저</th>\n",
              "      <th>철갑</th>\n",
              "      <th>충성</th>\n",
              "      <th>하느님</th>\n",
              "      <th>하늘</th>\n",
              "      <th>하사</th>\n",
              "      <th>함</th>\n",
              "      <th>화려</th>\n",
              "      <th>활</th>\n",
              "    </tr>\n",
              "  </thead>\n",
              "  <tbody>\n",
              "    <tr>\n",
              "      <th>0</th>\n",
              "      <td>0.000000</td>\n",
              "      <td>0.000000</td>\n",
              "      <td>-0.223144</td>\n",
              "      <td>0.000000</td>\n",
              "      <td>0.000000</td>\n",
              "      <td>-0.223144</td>\n",
              "      <td>0.287682</td>\n",
              "      <td>0.000000</td>\n",
              "      <td>0.000000</td>\n",
              "      <td>-0.446287</td>\n",
              "      <td>0.000000</td>\n",
              "      <td>1.386294</td>\n",
              "      <td>0.000000</td>\n",
              "      <td>0.693147</td>\n",
              "      <td>0.000000</td>\n",
              "      <td>0.693147</td>\n",
              "      <td>-0.223144</td>\n",
              "      <td>0.693147</td>\n",
              "      <td>0.000000</td>\n",
              "      <td>0.693147</td>\n",
              "      <td>0.000000</td>\n",
              "      <td>0.693147</td>\n",
              "      <td>-0.223144</td>\n",
              "      <td>0.000000</td>\n",
              "      <td>-0.223144</td>\n",
              "      <td>0.000000</td>\n",
              "      <td>-0.223144</td>\n",
              "      <td>0.000000</td>\n",
              "      <td>0.000000</td>\n",
              "      <td>0.0</td>\n",
              "      <td>0.693147</td>\n",
              "      <td>0.000000</td>\n",
              "      <td>-0.669431</td>\n",
              "      <td>0.000000</td>\n",
              "      <td>0.000000</td>\n",
              "      <td>0.000000</td>\n",
              "      <td>0.000000</td>\n",
              "      <td>0.693147</td>\n",
              "      <td>0.000000</td>\n",
              "      <td>0.693147</td>\n",
              "      <td>0.000000</td>\n",
              "      <td>-0.223144</td>\n",
              "      <td>0.000000</td>\n",
              "    </tr>\n",
              "    <tr>\n",
              "      <th>1</th>\n",
              "      <td>0.000000</td>\n",
              "      <td>0.000000</td>\n",
              "      <td>-0.223144</td>\n",
              "      <td>0.000000</td>\n",
              "      <td>0.287682</td>\n",
              "      <td>-0.223144</td>\n",
              "      <td>0.000000</td>\n",
              "      <td>0.693147</td>\n",
              "      <td>0.000000</td>\n",
              "      <td>-0.446287</td>\n",
              "      <td>0.000000</td>\n",
              "      <td>0.000000</td>\n",
              "      <td>0.693147</td>\n",
              "      <td>0.000000</td>\n",
              "      <td>0.000000</td>\n",
              "      <td>0.000000</td>\n",
              "      <td>-0.223144</td>\n",
              "      <td>0.000000</td>\n",
              "      <td>0.693147</td>\n",
              "      <td>0.000000</td>\n",
              "      <td>0.000000</td>\n",
              "      <td>0.000000</td>\n",
              "      <td>-0.223144</td>\n",
              "      <td>0.693147</td>\n",
              "      <td>-0.223144</td>\n",
              "      <td>0.000000</td>\n",
              "      <td>-0.223144</td>\n",
              "      <td>0.693147</td>\n",
              "      <td>1.386294</td>\n",
              "      <td>0.0</td>\n",
              "      <td>0.000000</td>\n",
              "      <td>0.693147</td>\n",
              "      <td>-0.446287</td>\n",
              "      <td>0.000000</td>\n",
              "      <td>0.693147</td>\n",
              "      <td>0.693147</td>\n",
              "      <td>0.000000</td>\n",
              "      <td>0.000000</td>\n",
              "      <td>0.000000</td>\n",
              "      <td>0.000000</td>\n",
              "      <td>0.693147</td>\n",
              "      <td>-0.223144</td>\n",
              "      <td>0.000000</td>\n",
              "    </tr>\n",
              "    <tr>\n",
              "      <th>2</th>\n",
              "      <td>0.693147</td>\n",
              "      <td>1.386294</td>\n",
              "      <td>-0.223144</td>\n",
              "      <td>0.693147</td>\n",
              "      <td>0.000000</td>\n",
              "      <td>-0.223144</td>\n",
              "      <td>0.000000</td>\n",
              "      <td>0.000000</td>\n",
              "      <td>0.693147</td>\n",
              "      <td>-0.446287</td>\n",
              "      <td>0.693147</td>\n",
              "      <td>0.000000</td>\n",
              "      <td>0.000000</td>\n",
              "      <td>0.000000</td>\n",
              "      <td>0.000000</td>\n",
              "      <td>0.000000</td>\n",
              "      <td>-0.223144</td>\n",
              "      <td>0.000000</td>\n",
              "      <td>0.000000</td>\n",
              "      <td>0.000000</td>\n",
              "      <td>0.693147</td>\n",
              "      <td>0.000000</td>\n",
              "      <td>-0.223144</td>\n",
              "      <td>0.000000</td>\n",
              "      <td>-0.223144</td>\n",
              "      <td>0.000000</td>\n",
              "      <td>-0.223144</td>\n",
              "      <td>0.000000</td>\n",
              "      <td>0.000000</td>\n",
              "      <td>0.0</td>\n",
              "      <td>0.000000</td>\n",
              "      <td>0.000000</td>\n",
              "      <td>-0.446287</td>\n",
              "      <td>0.693147</td>\n",
              "      <td>0.000000</td>\n",
              "      <td>0.000000</td>\n",
              "      <td>0.000000</td>\n",
              "      <td>0.000000</td>\n",
              "      <td>1.386294</td>\n",
              "      <td>0.000000</td>\n",
              "      <td>0.000000</td>\n",
              "      <td>-0.223144</td>\n",
              "      <td>0.693147</td>\n",
              "    </tr>\n",
              "    <tr>\n",
              "      <th>3</th>\n",
              "      <td>0.000000</td>\n",
              "      <td>0.000000</td>\n",
              "      <td>-0.223144</td>\n",
              "      <td>0.000000</td>\n",
              "      <td>0.287682</td>\n",
              "      <td>-0.223144</td>\n",
              "      <td>0.575364</td>\n",
              "      <td>0.000000</td>\n",
              "      <td>0.000000</td>\n",
              "      <td>-0.446287</td>\n",
              "      <td>0.000000</td>\n",
              "      <td>0.000000</td>\n",
              "      <td>0.000000</td>\n",
              "      <td>0.000000</td>\n",
              "      <td>0.693147</td>\n",
              "      <td>0.000000</td>\n",
              "      <td>-0.223144</td>\n",
              "      <td>0.000000</td>\n",
              "      <td>0.000000</td>\n",
              "      <td>0.000000</td>\n",
              "      <td>0.000000</td>\n",
              "      <td>0.000000</td>\n",
              "      <td>-0.223144</td>\n",
              "      <td>0.000000</td>\n",
              "      <td>-0.223144</td>\n",
              "      <td>1.386294</td>\n",
              "      <td>-0.223144</td>\n",
              "      <td>0.000000</td>\n",
              "      <td>0.000000</td>\n",
              "      <td>0.0</td>\n",
              "      <td>0.000000</td>\n",
              "      <td>0.000000</td>\n",
              "      <td>-0.669431</td>\n",
              "      <td>0.000000</td>\n",
              "      <td>0.000000</td>\n",
              "      <td>0.000000</td>\n",
              "      <td>0.693147</td>\n",
              "      <td>0.000000</td>\n",
              "      <td>0.000000</td>\n",
              "      <td>0.000000</td>\n",
              "      <td>0.000000</td>\n",
              "      <td>-0.223144</td>\n",
              "      <td>0.000000</td>\n",
              "    </tr>\n",
              "  </tbody>\n",
              "</table>\n",
              "</div>"
            ],
            "text/plain": [
              "         가슴        가을        강산  ...         함        화려         활\n",
              "0  0.000000  0.000000 -0.223144  ...  0.000000 -0.223144  0.000000\n",
              "1  0.000000  0.000000 -0.223144  ...  0.693147 -0.223144  0.000000\n",
              "2  0.693147  1.386294 -0.223144  ...  0.000000 -0.223144  0.693147\n",
              "3  0.000000  0.000000 -0.223144  ...  0.000000 -0.223144  0.000000\n",
              "\n",
              "[4 rows x 43 columns]"
            ]
          },
          "metadata": {
            "tags": []
          },
          "execution_count": 51
        }
      ]
    },
    {
      "cell_type": "markdown",
      "metadata": {
        "id": "s1XYF_XAYqS8"
      },
      "source": [
        "## 텐서플로우로 BOW 구현하기"
      ]
    },
    {
      "cell_type": "code",
      "metadata": {
        "id": "ybH0qZx5Yqcz"
      },
      "source": [
        "import numpy as np\r\n",
        "from tensorflow.keras.preprocessing.text import Tokenizer"
      ],
      "execution_count": null,
      "outputs": []
    },
    {
      "cell_type": "code",
      "metadata": {
        "colab": {
          "base_uri": "https://localhost:8080/"
        },
        "id": "kWAKSJ0DZhka",
        "outputId": "6b5de0c1-c093-4065-9692-29c28163bde1"
      },
      "source": [
        "t = Tokenizer()\r\n",
        "t.fit_on_texts(docs)\r\n",
        "print(t.word_index)"
      ],
      "execution_count": null,
      "outputs": [
        {
          "output_type": "stream",
          "text": [
            "{'무궁화': 1, '삼천리': 2, '화려': 3, '강산': 4, '대한': 5, '사람': 6, '대한으로': 7, '길이': 8, '보전하세': 9, '동해': 10, '싶다': 11, '소나무': 12, '우리': 13, '가을': 14, '하늘': 15, '이': 16, '물과': 17, '백두산이': 18, '마르고': 19, '닳도록': 20, '하느님이': 21, '보우하사': 22, '우리나라': 23, '만세': 24, '가고': 25, '남산': 26, '위에': 27, '저': 28, '철갑을': 29, '두른': 30, '듯': 31, '바람': 32, '서리': 33, '불변함은': 34, '기상일세': 35, '이쁘다': 36, '공활한데': 37, '높고': 38, '구름': 39, '없이': 40, '밝은': 41, '달은': 42, '가슴': 43, '일편단심일세': 44, '보고': 45, '기상과': 46, '마음으로': 47, '충성을': 48, '다하여': 49, '괴로우나': 50, '즐거우나': 51, '나라': 52, '사랑하세': 53, '나라를': 54, '사랑하자': 55}\n"
          ],
          "name": "stdout"
        }
      ]
    },
    {
      "cell_type": "code",
      "metadata": {
        "colab": {
          "base_uri": "https://localhost:8080/"
        },
        "id": "h0N_d8o4ZjP-",
        "outputId": "7a071e71-6e05-46cf-fc70-222f4dad8ee5"
      },
      "source": [
        "# DTM 만들기\r\n",
        "print(t.texts_to_matrix(docs, mode='count'))"
      ],
      "execution_count": null,
      "outputs": [
        {
          "output_type": "stream",
          "text": [
            "[[0. 1. 1. 1. 1. 1. 1. 1. 1. 1. 2. 1. 0. 0. 0. 0. 0. 1. 1. 1. 1. 1. 1. 1.\n",
            "  1. 1. 0. 0. 0. 0. 0. 0. 0. 0. 0. 0. 0. 0. 0. 0. 0. 0. 0. 0. 0. 0. 0. 0.\n",
            "  0. 0. 0. 0. 0. 0. 0. 0.]\n",
            " [0. 1. 1. 1. 1. 1. 1. 1. 1. 1. 0. 0. 2. 1. 0. 0. 0. 0. 0. 0. 0. 0. 0. 0.\n",
            "  0. 0. 1. 1. 1. 1. 1. 1. 1. 1. 1. 1. 1. 0. 0. 0. 0. 0. 0. 0. 0. 0. 0. 0.\n",
            "  0. 0. 0. 0. 0. 0. 0. 0.]\n",
            " [0. 1. 1. 1. 1. 1. 1. 1. 1. 1. 0. 1. 0. 1. 2. 2. 0. 0. 0. 0. 0. 0. 0. 0.\n",
            "  0. 0. 0. 0. 0. 0. 0. 0. 0. 0. 0. 0. 0. 1. 1. 1. 1. 1. 1. 1. 1. 1. 0. 0.\n",
            "  0. 0. 0. 0. 0. 0. 0. 0.]\n",
            " [0. 1. 1. 1. 1. 1. 1. 1. 1. 1. 0. 0. 0. 0. 0. 0. 2. 0. 0. 0. 0. 0. 0. 0.\n",
            "  0. 0. 0. 0. 0. 0. 0. 0. 0. 0. 0. 0. 0. 0. 0. 0. 0. 0. 0. 0. 0. 0. 1. 1.\n",
            "  1. 1. 1. 1. 1. 1. 1. 1.]]\n"
          ],
          "name": "stdout"
        }
      ]
    },
    {
      "cell_type": "code",
      "metadata": {
        "colab": {
          "base_uri": "https://localhost:8080/"
        },
        "id": "m-wHcG6_ZlWA",
        "outputId": "75139eb3-8bcf-4639-9700-d433f1ed2900"
      },
      "source": [
        "# Binary 모드 : 있는지 없는지에 대한 인코딩만 수행함( 있으면 1, 없으면 0)\r\n",
        "print(t.texts_to_matrix(docs, mode='binary'))"
      ],
      "execution_count": null,
      "outputs": [
        {
          "output_type": "stream",
          "text": [
            "[[0. 1. 1. 1. 1. 1. 1. 1. 1. 1. 1. 1. 0. 0. 0. 0. 0. 1. 1. 1. 1. 1. 1. 1.\n",
            "  1. 1. 0. 0. 0. 0. 0. 0. 0. 0. 0. 0. 0. 0. 0. 0. 0. 0. 0. 0. 0. 0. 0. 0.\n",
            "  0. 0. 0. 0. 0. 0. 0. 0.]\n",
            " [0. 1. 1. 1. 1. 1. 1. 1. 1. 1. 0. 0. 1. 1. 0. 0. 0. 0. 0. 0. 0. 0. 0. 0.\n",
            "  0. 0. 1. 1. 1. 1. 1. 1. 1. 1. 1. 1. 1. 0. 0. 0. 0. 0. 0. 0. 0. 0. 0. 0.\n",
            "  0. 0. 0. 0. 0. 0. 0. 0.]\n",
            " [0. 1. 1. 1. 1. 1. 1. 1. 1. 1. 0. 1. 0. 1. 1. 1. 0. 0. 0. 0. 0. 0. 0. 0.\n",
            "  0. 0. 0. 0. 0. 0. 0. 0. 0. 0. 0. 0. 0. 1. 1. 1. 1. 1. 1. 1. 1. 1. 0. 0.\n",
            "  0. 0. 0. 0. 0. 0. 0. 0.]\n",
            " [0. 1. 1. 1. 1. 1. 1. 1. 1. 1. 0. 0. 0. 0. 0. 0. 1. 0. 0. 0. 0. 0. 0. 0.\n",
            "  0. 0. 0. 0. 0. 0. 0. 0. 0. 0. 0. 0. 0. 0. 0. 0. 0. 0. 0. 0. 0. 0. 1. 1.\n",
            "  1. 1. 1. 1. 1. 1. 1. 1.]]\n"
          ],
          "name": "stdout"
        }
      ]
    },
    {
      "cell_type": "code",
      "metadata": {
        "colab": {
          "base_uri": "https://localhost:8080/"
        },
        "id": "cJXbbf-HZlZG",
        "outputId": "01318235-9091-49b2-e6b0-9e19e6f72a3d"
      },
      "source": [
        "# tf-idf 모드\r\n",
        "print(t.texts_to_matrix(docs, mode='tfidf'))"
      ],
      "execution_count": null,
      "outputs": [
        {
          "output_type": "stream",
          "text": [
            "[[0.         0.58778666 0.58778666 0.58778666 0.58778666 0.58778666\n",
            "  0.58778666 0.58778666 0.58778666 0.58778666 1.8601123  0.84729786\n",
            "  0.         0.         0.         0.         0.         1.09861229\n",
            "  1.09861229 1.09861229 1.09861229 1.09861229 1.09861229 1.09861229\n",
            "  1.09861229 1.09861229 0.         0.         0.         0.\n",
            "  0.         0.         0.         0.         0.         0.\n",
            "  0.         0.         0.         0.         0.         0.\n",
            "  0.         0.         0.         0.         0.         0.\n",
            "  0.         0.         0.         0.         0.         0.\n",
            "  0.         0.        ]\n",
            " [0.         0.58778666 0.58778666 0.58778666 0.58778666 0.58778666\n",
            "  0.58778666 0.58778666 0.58778666 0.58778666 0.         0.\n",
            "  1.8601123  0.84729786 0.         0.         0.         0.\n",
            "  0.         0.         0.         0.         0.         0.\n",
            "  0.         0.         1.09861229 1.09861229 1.09861229 1.09861229\n",
            "  1.09861229 1.09861229 1.09861229 1.09861229 1.09861229 1.09861229\n",
            "  1.09861229 0.         0.         0.         0.         0.\n",
            "  0.         0.         0.         0.         0.         0.\n",
            "  0.         0.         0.         0.         0.         0.\n",
            "  0.         0.        ]\n",
            " [0.         0.58778666 0.58778666 0.58778666 0.58778666 0.58778666\n",
            "  0.58778666 0.58778666 0.58778666 0.58778666 0.         0.84729786\n",
            "  0.         0.84729786 1.8601123  1.8601123  0.         0.\n",
            "  0.         0.         0.         0.         0.         0.\n",
            "  0.         0.         0.         0.         0.         0.\n",
            "  0.         0.         0.         0.         0.         0.\n",
            "  0.         1.09861229 1.09861229 1.09861229 1.09861229 1.09861229\n",
            "  1.09861229 1.09861229 1.09861229 1.09861229 0.         0.\n",
            "  0.         0.         0.         0.         0.         0.\n",
            "  0.         0.        ]\n",
            " [0.         0.58778666 0.58778666 0.58778666 0.58778666 0.58778666\n",
            "  0.58778666 0.58778666 0.58778666 0.58778666 0.         0.\n",
            "  0.         0.         0.         0.         1.8601123  0.\n",
            "  0.         0.         0.         0.         0.         0.\n",
            "  0.         0.         0.         0.         0.         0.\n",
            "  0.         0.         0.         0.         0.         0.\n",
            "  0.         0.         0.         0.         0.         0.\n",
            "  0.         0.         0.         0.         1.09861229 1.09861229\n",
            "  1.09861229 1.09861229 1.09861229 1.09861229 1.09861229 1.09861229\n",
            "  1.09861229 1.09861229]]\n"
          ],
          "name": "stdout"
        }
      ]
    }
  ]
}