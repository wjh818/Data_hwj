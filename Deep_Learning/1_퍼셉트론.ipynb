{
  "nbformat": 4,
  "nbformat_minor": 0,
  "metadata": {
    "colab": {
      "name": "1. 퍼셉트론",
      "provenance": [],
      "authorship_tag": "ABX9TyPACdTJDuV/oNzneYhJx3ZA",
      "include_colab_link": true
    },
    "kernelspec": {
      "name": "python3",
      "display_name": "Python 3"
    }
  },
  "cells": [
    {
      "cell_type": "markdown",
      "metadata": {
        "id": "view-in-github",
        "colab_type": "text"
      },
      "source": [
        "<a href=\"https://colab.research.google.com/github/wjh818/Data_hwj/blob/main/Deep_Learning/1_%ED%8D%BC%EC%85%89%ED%8A%B8%EB%A1%A0.ipynb\" target=\"_parent\"><img src=\"https://colab.research.google.com/assets/colab-badge.svg\" alt=\"Open In Colab\"/></a>"
      ]
    },
    {
      "cell_type": "code",
      "metadata": {
        "id": "rALvfvPqRqQ_"
      },
      "source": [
        "import matplotlib.pyplot as plt\r\n",
        "import numpy as np"
      ],
      "execution_count": 2,
      "outputs": []
    },
    {
      "cell_type": "markdown",
      "metadata": {
        "id": "Vdv2-1AaSIr9"
      },
      "source": [
        "* 사전에 알 수 있는 값: 특성 값\r\n",
        "* 가중치는 아직 우리가 모름: 모델이 학습하는 값"
      ]
    },
    {
      "cell_type": "markdown",
      "metadata": {
        "id": "ho8SAYTGSyga"
      },
      "source": [
        "$$func1 = w_1x_1 + w_2x_2 > \\theta$$\r\n",
        "$$func1 = w_1x_1 + w_2x_2 < \\theta$$\r\n",
        "\r\n",
        "-----------------\r\n",
        "$$func1 = 0.5x_1 + 0.5x_2 > 2$$\r\n",
        "$$func1 = 0.5x_1 + 0.5x_2 < 2$$"
      ]
    },
    {
      "cell_type": "code",
      "metadata": {
        "colab": {
          "base_uri": "https://localhost:8080/",
          "height": 284
        },
        "id": "x3jKghGuR7Wl",
        "outputId": "8ea13807-38db-4079-f19f-2b81da5d2534"
      },
      "source": [
        "def func1(x1, x2):\r\n",
        "    w1, w2, theta = 0.5, 0.5,  2 # 가중치를 각각 0.5, 0.5로 설정하고, 임계값은 2로 설정\r\n",
        "    y = w1*x1 + w2*x2\r\n",
        "    \r\n",
        "    return y, y >= theta\r\n",
        "\r\n",
        "# 입력 데이터 생성\r\n",
        "x1 = np.linspace(-3, 7, 100)\r\n",
        "x2 = np.linspace(-3, 7, 100)\r\n",
        "\r\n",
        "y_value, y_result = func1(x1, x2)\r\n",
        "plt.plot(y_value, y_result)\r\n",
        "plt.yticks([0, 1])\r\n",
        "plt.xticks([-3,2,7], [r'-$\\infty$', r'$\\theta$', r'-$\\infty$'])\r\n",
        "plt.xlabel(r\"$w_1x_1+w_2x_2$\")\r\n",
        "plt.ylabel(\"y\", rotation=0)\r\n",
        "plt.show()"
      ],
      "execution_count": 3,
      "outputs": [
        {
          "output_type": "display_data",
          "data": {
            "image/png": "[encoded data removed]",
            "text/plain": [
              "<Figure size 432x288 with 1 Axes>"
            ]
          },
          "metadata": {
            "tags": [],
            "needs_background": "light"
          }
        }
      ]
    },
    {
      "cell_type": "markdown",
      "metadata": {
        "id": "Iwc5rtqdTjQO"
      },
      "source": [
        "$$\r\n",
        "z = w_1x_1 + w_2x_2 - \\theta\r\n",
        "$$\r\n",
        "\r\n",
        "--------------\r\n",
        "\r\n",
        "$$\r\n",
        "u(z) = \\begin{cases} \r\n",
        "0 \\enspace(z \\leq 0)\r\n",
        "\\\\\r\n",
        "1\\enspace(z > 0)\r\n",
        "\\end{cases}\r\n",
        "$$"
      ]
    },
    {
      "cell_type": "code",
      "metadata": {
        "colab": {
          "base_uri": "https://localhost:8080/",
          "height": 281
        },
        "id": "yrHY_P0eR7ZJ",
        "outputId": "d7276474-f6e3-4680-dd5b-4985197740d9"
      },
      "source": [
        "z = np.linspace(-3, 3, 100)\r\n",
        "plt.plot(z, z > 0)\r\n",
        "plt.yticks([0, 1])\r\n",
        "plt.xticks([-3, 0, 3],[r'-$\\infty$', r'$0$', r'-$\\infty$'])\r\n",
        "plt.xlabel(r\"$z$\")\r\n",
        "plt.ylabel(r\"$y=\\mathcal{u}(z)$\", rotation=0)\r\n",
        "plt.show()"
      ],
      "execution_count": 4,
      "outputs": [
        {
          "output_type": "display_data",
          "data": {
            "image/png": "[encoded data removed]",
            "text/plain": [
              "<Figure size 432x288 with 1 Axes>"
            ]
          },
          "metadata": {
            "tags": [],
            "needs_background": "light"
          }
        }
      ]
    },
    {
      "cell_type": "markdown",
      "metadata": {
        "id": "rX_H6VY6ZsL1"
      },
      "source": [
        "## 단층 퍼셉트론과 다층 퍼셉트론"
      ]
    },
    {
      "cell_type": "code",
      "metadata": {
        "colab": {
          "base_uri": "https://localhost:8080/"
        },
        "id": "Q0PBYCgbR7cd",
        "outputId": "5bb1dd65-ab28-4e96-9de2-52159bfc79db"
      },
      "source": [
        "def AND(x1, x2):\r\n",
        "    w1, w2, theta = 0.5, 0.5, 0.7\r\n",
        "    tmp = w1 * x1 + w2 * x2 - theta\r\n",
        "    \r\n",
        "    if tmp <= 0 :\r\n",
        "        return 0\r\n",
        "    elif tmp > 0 : \r\n",
        "        return 1\r\n",
        "\r\n",
        "AND(0, 0), AND(1, 0), AND(0, 1), AND(1, 1)"
      ],
      "execution_count": 5,
      "outputs": [
        {
          "output_type": "execute_result",
          "data": {
            "text/plain": [
              "(0, 0, 0, 1)"
            ]
          },
          "metadata": {
            "tags": []
          },
          "execution_count": 5
        }
      ]
    },
    {
      "cell_type": "markdown",
      "metadata": {
        "id": "ePC2EPd-afis"
      },
      "source": [
        "$$\r\n",
        "z = w_1x_1 + w_2x_2 - \\theta\r\n",
        "$$\r\n",
        "\r\n",
        "$ \\theta $를 $-b$로 치환\r\n",
        "\r\n",
        "$$\r\n",
        "z = w_1x_1 + w_2x_2 + b\r\n",
        "$$"
      ]
    },
    {
      "cell_type": "code",
      "metadata": {
        "colab": {
          "base_uri": "https://localhost:8080/"
        },
        "id": "N-15bfafR7fh",
        "outputId": "b5b741a0-bb50-417b-ed28-e668ff0855a9"
      },
      "source": [
        "# theta를 -b로 치환시킨 AND 게이트\r\n",
        "def AND(x1, x2):\r\n",
        "    x = np.array([x1, x2])\r\n",
        "    w = np.array([0.5, 0.5])\r\n",
        "    b = -0.7\r\n",
        "    \r\n",
        "    tmp = np.sum(w*x) + b # 계산\r\n",
        "    \r\n",
        "    if tmp <= 0:\r\n",
        "        return 0\r\n",
        "    else:\r\n",
        "        return 1\r\n",
        "    \r\n",
        "AND(0, 0), AND(1, 0), AND(0, 1), AND(1, 1)"
      ],
      "execution_count": 6,
      "outputs": [
        {
          "output_type": "execute_result",
          "data": {
            "text/plain": [
              "(0, 0, 0, 1)"
            ]
          },
          "metadata": {
            "tags": []
          },
          "execution_count": 6
        }
      ]
    },
    {
      "cell_type": "code",
      "metadata": {
        "colab": {
          "base_uri": "https://localhost:8080/"
        },
        "id": "eNr9j4PkR7ih",
        "outputId": "fec9e7ad-07d1-45a2-cca6-c2e3b11e2d52"
      },
      "source": [
        "def NAND(x1, x2):\r\n",
        "    x = np.array([x1, x2])\r\n",
        "    w = np.array([-0.5, -0.5]) # AND 게이트의 매개 변수 부호를 반대로\r\n",
        "    b = 0.7 \r\n",
        "    \r\n",
        "    tmp = np.sum(w * x) + b\r\n",
        "    if tmp <= 0:\r\n",
        "        return 0\r\n",
        "    else:\r\n",
        "        return 1\r\n",
        "\r\n",
        "NAND(0, 0), NAND(1, 0), NAND(0, 1), NAND(1, 1)"
      ],
      "execution_count": 7,
      "outputs": [
        {
          "output_type": "execute_result",
          "data": {
            "text/plain": [
              "(1, 1, 1, 0)"
            ]
          },
          "metadata": {
            "tags": []
          },
          "execution_count": 7
        }
      ]
    },
    {
      "cell_type": "code",
      "metadata": {
        "colab": {
          "base_uri": "https://localhost:8080/"
        },
        "id": "k_Xm2vB5R7lJ",
        "outputId": "1480511a-956b-47e0-9fd9-f04a94383cb9"
      },
      "source": [
        "def OR(x1, x2):\r\n",
        "    x = np.array([x1, x2])\r\n",
        "    w = np.array([0.5, 0.5])\r\n",
        "    b = -0.2 # 적절하게 편향만 조절하여 OR 게이트를 구현!\r\n",
        "    tmp = np.sum(w*x) + b\r\n",
        "    \r\n",
        "    if tmp <= 0:\r\n",
        "        return 0\r\n",
        "    else:\r\n",
        "        return 1\r\n",
        "\r\n",
        "OR(0, 0), OR(1, 0), OR(0, 1), OR(1, 1)"
      ],
      "execution_count": 8,
      "outputs": [
        {
          "output_type": "execute_result",
          "data": {
            "text/plain": [
              "(0, 1, 1, 1)"
            ]
          },
          "metadata": {
            "tags": []
          },
          "execution_count": 8
        }
      ]
    },
    {
      "cell_type": "markdown",
      "metadata": {
        "id": "to8slXSTb4kR"
      },
      "source": [
        "XOR는 어떻게 구현해야 할까\r\n",
        "\r\n",
        "XOR : 배타적 논리합"
      ]
    },
    {
      "cell_type": "code",
      "metadata": {
        "colab": {
          "base_uri": "https://localhost:8080/",
          "height": 281
        },
        "id": "f7oyBKaaR7oR",
        "outputId": "19b15deb-bdbe-4176-b4b6-6a6005291d26"
      },
      "source": [
        "plt.figure(figsize=(4,4))\r\n",
        "\r\n",
        "plt.scatter([0],[0], marker='o')\r\n",
        "plt.scatter([1,0,1],[0,1,1], marker='^')\r\n",
        "plt.xticks([0, 0.5, 1])\r\n",
        "plt.yticks([0, 0.5, 1])\r\n",
        "plt.xlim((-0.2,1.2))\r\n",
        "plt.ylim((-0.2,1.2))\r\n",
        "plt.xlabel(r'$x_1$')\r\n",
        "plt.ylabel(r'$x_2$', rotation=0)\r\n",
        "\r\n",
        "plt.show()"
      ],
      "execution_count": 9,
      "outputs": [
        {
          "output_type": "display_data",
          "data": {
            "image/png": "[encoded data removed]",
            "text/plain": [
              "<Figure size 288x288 with 1 Axes>"
            ]
          },
          "metadata": {
            "tags": [],
            "needs_background": "light"
          }
        }
      ]
    },
    {
      "cell_type": "code",
      "metadata": {
        "colab": {
          "base_uri": "https://localhost:8080/",
          "height": 281
        },
        "id": "Spa2Pm63R7rl",
        "outputId": "b28e9be4-aa3e-404f-8903-3ca6808ae159"
      },
      "source": [
        "# XOR 시각화\r\n",
        "plt.figure(figsize=(4,4))\r\n",
        "\r\n",
        "plt.scatter([0,1],[0,1], marker='o')\r\n",
        "plt.scatter([1,0],[0,1], marker='^')\r\n",
        "plt.xticks([0, 0.5, 1])\r\n",
        "plt.yticks([0, 0.5, 1])\r\n",
        "plt.xlim((-0.2,1.2))\r\n",
        "plt.ylim((-0.2,1.2))\r\n",
        "plt.xlabel(r'$x_1$')\r\n",
        "plt.ylabel(r'$x_2$', rotation=0)\r\n",
        "\r\n",
        "plt.show()"
      ],
      "execution_count": 10,
      "outputs": [
        {
          "output_type": "display_data",
          "data": {
            "image/png": "[encoded data removed]",
            "text/plain": [
              "<Figure size 288x288 with 1 Axes>"
            ]
          },
          "metadata": {
            "tags": [],
            "needs_background": "light"
          }
        }
      ]
    },
    {
      "cell_type": "markdown",
      "metadata": {
        "id": "HIqeZVBIzleJ"
      },
      "source": [
        "XOR는 단층 퍼셉트론으로는 해결할 수 없는 문제."
      ]
    }
  ]
}