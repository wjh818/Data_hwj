{
  "nbformat": 4,
  "nbformat_minor": 0,
  "metadata": {
    "colab": {
      "name": "8. 역전파 구현하기",
      "provenance": [],
      "collapsed_sections": [],
      "mount_file_id": "1tQ6o6RbK2G3bXsl0QdfrdwJJzk0DRke_",
      "authorship_tag": "ABX9TyMJfLMwgqVSZoXr6701p5go",
      "include_colab_link": true
    },
    "kernelspec": {
      "name": "python3",
      "display_name": "Python 3"
    }
  },
  "cells": [
    {
      "cell_type": "markdown",
      "metadata": {
        "id": "view-in-github",
        "colab_type": "text"
      },
      "source": [
        "<a href=\"https://colab.research.google.com/github/wjh818/Data_hwj/blob/main/Deep_Learning/8_%EC%97%AD%EC%A0%84%ED%8C%8C_%EA%B5%AC%ED%98%84%ED%95%98%EA%B8%B0.ipynb\" target=\"_parent\"><img src=\"https://colab.research.google.com/assets/colab-badge.svg\" alt=\"Open In Colab\"/></a>"
      ]
    },
    {
      "cell_type": "markdown",
      "metadata": {
        "id": "dIJIwrZdvewa"
      },
      "source": [
        "# 덧셈 노드\r\n",
        "* 순전파 : 단순히 두 값을 더한다.\r\n",
        "* 역전파 : 다음 노드로부터 들어온 미분값을 그대로 흘려 보낸다.\r\n",
        "* 순전파 시에 입력된 값을 저장하고 있을 필요는 없다."
      ]
    },
    {
      "cell_type": "code",
      "metadata": {
        "id": "9m1yD3BHve-B"
      },
      "source": [
        "import numpy as np\r\n",
        "\r\n",
        "class AddLayer:\r\n",
        "\r\n",
        "  def __init__(self):\r\n",
        "    pass\r\n",
        "  \r\n",
        "  # 덧셈 노드로 들어온 값을 더해서 리턴\r\n",
        "  def forward(self, x, y):\r\n",
        "    out = x + y\r\n",
        "    return out\r\n",
        "\r\n",
        "  def backward(self, dout):\r\n",
        "    # 모양새 맞추기\r\n",
        "    dx = dout * 1\r\n",
        "    dy = dout * 1\r\n",
        "\r\n",
        "    return dx, dy"
      ],
      "execution_count": 1,
      "outputs": []
    },
    {
      "cell_type": "markdown",
      "metadata": {
        "id": "q0U7eMUvvfGn"
      },
      "source": [
        "# 곱셈 노드\r\n",
        "* 순전파 : 두 값을 곱한다\r\n",
        "* 역전파 : 들어온 두 값에 미분값을 곱해서 반대로 전달한다.\r\n",
        "* 곱할 값들을 저장하고 있어야 한다. **역전파**시에 미분값을 곱한 다음 반대로 전달해야 하니까"
      ]
    },
    {
      "cell_type": "code",
      "metadata": {
        "id": "lLAJD7zvvfRZ"
      },
      "source": [
        "class MulLayer:\r\n",
        "\r\n",
        "  def __init__(self):\r\n",
        "    self.x = None\r\n",
        "    self.y = None\r\n",
        "  \r\n",
        "\r\n",
        "  def forward(self, x, y):\r\n",
        "    # 계산할 값들을 노드에 저장하고 있는다.\r\n",
        "    self.x = x\r\n",
        "    self.y = y\r\n",
        "\r\n",
        "    out = x * y\r\n",
        "    return out\r\n",
        "  \r\n",
        "  def backward(self, dout):\r\n",
        "    dx = dout * self.y\r\n",
        "    dy = dout * self.x\r\n",
        "\r\n",
        "    return dx, dy"
      ],
      "execution_count": 2,
      "outputs": []
    },
    {
      "cell_type": "code",
      "metadata": {
        "colab": {
          "base_uri": "https://localhost:8080/"
        },
        "id": "-uh7PC8bvr5s",
        "outputId": "4deb2002-5105-4c89-dd3b-8bf9dafca524"
      },
      "source": [
        "# 사과만 테스트\r\n",
        "apple = 100 # 사과 1개당 가격\r\n",
        "apple_cnt = 2 # 사과 개수\r\n",
        "tax = 1.1 # 소비세\r\n",
        "\r\n",
        "# 계층은 2개가 필요함\r\n",
        "# (apple * apple_cnt) * tax\r\n",
        "\r\n",
        "# 레이어 준비\r\n",
        "mul_apple_layer = MulLayer()\r\n",
        "mul_tax_layer   = MulLayer()\r\n",
        "\r\n",
        "# 순전파 먼저 수행\r\n",
        "apple_price = mul_apple_layer.forward(apple, apple_cnt)\r\n",
        "price       = mul_tax_layer.forward(apple_price, tax)\r\n",
        "\r\n",
        "print(\"최종 사과 가격 : {}\".format(price))"
      ],
      "execution_count": 3,
      "outputs": [
        {
          "output_type": "stream",
          "text": [
            "최종 사과 가격 : 220.00000000000003\n"
          ],
          "name": "stdout"
        }
      ]
    },
    {
      "cell_type": "code",
      "metadata": {
        "colab": {
          "base_uri": "https://localhost:8080/"
        },
        "id": "FeWE_8-HvuPi",
        "outputId": "e19b6843-f682-4134-9e68-e38e3f7a1c97"
      },
      "source": [
        "# 역전파 구현\r\n",
        "\r\n",
        "dprice = 1 # d돈통 / d포스기\r\n",
        "dapple_price, dtax = mul_tax_layer.backward(dprice)\r\n",
        "dapple, dapple_cnt = mul_apple_layer.backward(dapple_price)\r\n",
        "\r\n",
        "print(\"사과 가격 * 사과 개수에 대한 미분값 : {}\".format(dapple_price))\r\n",
        "print(\"사과 가격에 대한 미분값 : {}\".format(dapple))\r\n",
        "print(\"사과 개수에 대한 미분값 : {}\".format(dapple_cnt))\r\n",
        "print(\"소비세에 대한 미분값 : {}\".format(dtax))"
      ],
      "execution_count": 4,
      "outputs": [
        {
          "output_type": "stream",
          "text": [
            "사과 가격 * 사과 개수에 대한 미분값 : 1.1\n",
            "사과 가격에 대한 미분값 : 2.2\n",
            "사과 개수에 대한 미분값 : 110.00000000000001\n",
            "소비세에 대한 미분값 : 200\n"
          ],
          "name": "stdout"
        }
      ]
    },
    {
      "cell_type": "code",
      "metadata": {
        "id": "pWADGFxbvwsF"
      },
      "source": [
        "# 사과와 귤 계산하기\r\n",
        "apple = 100\r\n",
        "apple_cnt = 2\r\n",
        "\r\n",
        "orange = 150\r\n",
        "orange_cnt = 3\r\n",
        "\r\n",
        "tax = 1.1"
      ],
      "execution_count": 5,
      "outputs": []
    },
    {
      "cell_type": "markdown",
      "metadata": {
        "id": "BqxdRJi0vziI"
      },
      "source": [
        "## 1 계층\r\n",
        "* 각 과일에 대한 개수 계산 ( 과일 가격 * 개수 )"
      ]
    },
    {
      "cell_type": "code",
      "metadata": {
        "id": "KSeVlhFAv0f2"
      },
      "source": [
        "mul_apple_layer = MulLayer() # 사과 개수 * 사과 가격\r\n",
        "mul_orange_layer = MulLayer() # 귤 개수 * 귤 가격"
      ],
      "execution_count": 6,
      "outputs": []
    },
    {
      "cell_type": "markdown",
      "metadata": {
        "id": "MaOgbtj3v29r"
      },
      "source": [
        "## 2 계층\r\n",
        "* 사과 총 가격 + 귤 총 가격"
      ]
    },
    {
      "cell_type": "code",
      "metadata": {
        "id": "4wK7uCKgv442"
      },
      "source": [
        "add_apple_orange_layer = AddLayer() # 사과 총 가격 + 오렌지 총 가격"
      ],
      "execution_count": 7,
      "outputs": []
    },
    {
      "cell_type": "markdown",
      "metadata": {
        "id": "Tu2uQ6DJv7aN"
      },
      "source": [
        "## 3 계층\r\n",
        "* 과일들의 총 가격 * 소비세"
      ]
    },
    {
      "cell_type": "code",
      "metadata": {
        "id": "P1PF6DiDv9iU"
      },
      "source": [
        "mul_tax_layer = MulLayer() # 과일 총 가격 * 소비세"
      ],
      "execution_count": 8,
      "outputs": []
    },
    {
      "cell_type": "markdown",
      "metadata": {
        "id": "ZU02zX07wEJ5"
      },
      "source": [
        "## 연산 수행 ( 순전파 )"
      ]
    },
    {
      "cell_type": "code",
      "metadata": {
        "colab": {
          "base_uri": "https://localhost:8080/"
        },
        "id": "Rk_C3gVKwGlj",
        "outputId": "c63e9845-9969-4501-90ed-05c9b008c62a"
      },
      "source": [
        "# 1 계층\r\n",
        "apple_price = mul_apple_layer.forward(apple, apple_cnt)\r\n",
        "orange_price = mul_orange_layer.forward(orange, orange_cnt)\r\n",
        "\r\n",
        "# 2 계층\r\n",
        "total_price = add_apple_orange_layer.forward(apple_price, orange_price)\r\n",
        "\r\n",
        "# 3 계층\r\n",
        "price = mul_tax_layer.forward(total_price, tax)\r\n",
        "\r\n",
        "print(\"최종 가격 : {}\".format(int(price)))"
      ],
      "execution_count": 9,
      "outputs": [
        {
          "output_type": "stream",
          "text": [
            "최종 가격 : 715\n"
          ],
          "name": "stdout"
        }
      ]
    },
    {
      "cell_type": "markdown",
      "metadata": {
        "id": "7fiVRuHLwJHP"
      },
      "source": [
        "## 역전파"
      ]
    },
    {
      "cell_type": "code",
      "metadata": {
        "colab": {
          "base_uri": "https://localhost:8080/"
        },
        "id": "04GXDUf-wLEI",
        "outputId": "e1c92066-ba9b-4ff5-eac6-7f91fab23036"
      },
      "source": [
        "dprice = 1 # d돈통 / d포스기\r\n",
        "\r\n",
        "# dprice / dtotal_price, dprice / dtax\r\n",
        "dtotal_price, dtax = mul_tax_layer.backward(dprice)\r\n",
        "\r\n",
        "# d돈통 / dapple_price = ( d돈통 / d포스기 ) * (d돈통 / dtotal_price) * (dtotal_price / dapple_price)\r\n",
        "dapple_price, dorange_price = add_apple_orange_layer.backward(dtotal_price)\r\n",
        "\r\n",
        "dorange, dorange_cnt = mul_orange_layer.backward(dorange_price)\r\n",
        "dapple, dapple_cnt = mul_apple_layer.backward(dapple_price)\r\n",
        "\r\n",
        "print(\"사과 개수에 대한 미분값 : {}\".format(dapple_cnt))\r\n",
        "print(\"사과 가격에 대한 미분값 : {}\".format(dapple))\r\n",
        "\r\n",
        "print(\"귤 개수에 대한 미분값 : {}\".format(dorange_cnt))\r\n",
        "print(\"귤 가격에 대한 미분값 : {}\".format(dorange))"
      ],
      "execution_count": 10,
      "outputs": [
        {
          "output_type": "stream",
          "text": [
            "사과 개수에 대한 미분값 : 110.00000000000001\n",
            "사과 가격에 대한 미분값 : 2.2\n",
            "귤 개수에 대한 미분값 : 165.0\n",
            "귤 가격에 대한 미분값 : 3.3000000000000003\n"
          ],
          "name": "stdout"
        }
      ]
    },
    {
      "cell_type": "markdown",
      "metadata": {
        "id": "O8DXuNB6wP5W"
      },
      "source": [
        "# 신경망 레이어 만들기\r\n",
        "* ReLU\r\n",
        "* Sigmoid\r\n",
        "* Affine 레이어( 기하학 레이어 - Fully Connected, Dense )\r\n",
        "* SoftMax + Loss 레이어"
      ]
    },
    {
      "cell_type": "markdown",
      "metadata": {
        "id": "faI_rHshwQAg"
      },
      "source": [
        "## ReLU 구현"
      ]
    },
    {
      "cell_type": "code",
      "metadata": {
        "id": "FKDPg5KiwTim"
      },
      "source": [
        "class ReLU:\r\n",
        "  # mask : 순전파 시에 0이나 음수였던 인덱스를 저장하기 위함\r\n",
        "  # mask가 있어야 순전파 때 0이었던 부분을 역전파 때 0으로 만들어 줄 수 있다.\r\n",
        "  def __init__(self):\r\n",
        "    self.mask = None\r\n",
        "  \r\n",
        "  def forward(self, x):\r\n",
        "    self.mask = (x <= 0)\r\n",
        "    out = x.copy() # 원본 배열 복사\r\n",
        "    out[self.mask] = 0\r\n",
        "\r\n",
        "    return out\r\n",
        "  \r\n",
        "  # 순전파 때 음수였던 부분을 0으로 만들었음\r\n",
        "  # 음수였었던 인덱스를 기억하고 있다가 (self.mask) 미분값 전달시에 해당 인덱스를 0으로 만든다.\r\n",
        "  def backward(self, dout):\r\n",
        "    dout[self.mask] = 0 \r\n",
        "    dx = dout\r\n",
        "    \r\n",
        "    return dx"
      ],
      "execution_count": 11,
      "outputs": []
    },
    {
      "cell_type": "code",
      "metadata": {
        "colab": {
          "base_uri": "https://localhost:8080/"
        },
        "id": "Q6Nb8DHlwVpm",
        "outputId": "7ea19d1c-0dfe-4174-c4fb-f7da739bc108"
      },
      "source": [
        "x = np.array([ [1.0, -0.5], \r\n",
        "               [-2.0, 3.0] ])\r\n",
        "\r\n",
        "print(x)"
      ],
      "execution_count": 12,
      "outputs": [
        {
          "output_type": "stream",
          "text": [
            "[[ 1.  -0.5]\n",
            " [-2.   3. ]]\n"
          ],
          "name": "stdout"
        }
      ]
    },
    {
      "cell_type": "code",
      "metadata": {
        "colab": {
          "base_uri": "https://localhost:8080/"
        },
        "id": "eD77jsziwZkP",
        "outputId": "9d10f85e-cd6f-4911-c3b9-34e3c51d58b6"
      },
      "source": [
        "relu = ReLU()\r\n",
        "relu.forward(x)"
      ],
      "execution_count": 13,
      "outputs": [
        {
          "output_type": "execute_result",
          "data": {
            "text/plain": [
              "array([[1., 0.],\n",
              "       [0., 3.]])"
            ]
          },
          "metadata": {
            "tags": []
          },
          "execution_count": 13
        }
      ]
    },
    {
      "cell_type": "code",
      "metadata": {
        "colab": {
          "base_uri": "https://localhost:8080/"
        },
        "id": "J4guzieOwZm6",
        "outputId": "c8b94d9e-27ac-40c4-c91f-e9a43f934a6b"
      },
      "source": [
        "relu.mask"
      ],
      "execution_count": 14,
      "outputs": [
        {
          "output_type": "execute_result",
          "data": {
            "text/plain": [
              "array([[False,  True],\n",
              "       [ True, False]])"
            ]
          },
          "metadata": {
            "tags": []
          },
          "execution_count": 14
        }
      ]
    },
    {
      "cell_type": "code",
      "metadata": {
        "colab": {
          "base_uri": "https://localhost:8080/"
        },
        "id": "Kq693F_HwZpl",
        "outputId": "bef20bd1-1ed6-4159-d2b3-bc1b6e22efa2"
      },
      "source": [
        "dx = np.array([ [-0.1, 4.0],\r\n",
        "                [1.3, -1.1] ])\r\n",
        "\r\n",
        "relu.backward(dx)"
      ],
      "execution_count": 15,
      "outputs": [
        {
          "output_type": "execute_result",
          "data": {
            "text/plain": [
              "array([[-0.1,  0. ],\n",
              "       [ 0. , -1.1]])"
            ]
          },
          "metadata": {
            "tags": []
          },
          "execution_count": 15
        }
      ]
    },
    {
      "cell_type": "markdown",
      "metadata": {
        "id": "SWmOljM5wnh_"
      },
      "source": [
        "## 시그모이드 구현\r\n",
        "\r\n",
        "\r\n",
        "$$\r\n",
        "\\sigma(x) = \\frac{\\mathrm{1} }{\\mathrm{1} + exp(-x)}\r\n",
        "$$\r\n",
        "\r\n",
        "$$\r\n",
        "y = \\sigma(x)\r\n",
        "$$\r\n",
        "\r\n",
        "$$\r\n",
        "y' = \\sigma(x)(1-\\sigma(x))\r\n",
        "$$"
      ]
    },
    {
      "cell_type": "code",
      "metadata": {
        "id": "jc4_RX6Uwp0G"
      },
      "source": [
        "class Sigmoid:\r\n",
        "  def __init__(self):\r\n",
        "    self.out = None\r\n",
        "  \r\n",
        "  # 순전파\r\n",
        "  def forward(self, x):\r\n",
        "    out = 1 / ( 1 + np.exp(-x) )\r\n",
        "    self.out = out\r\n",
        "\r\n",
        "    return out\r\n",
        "  \r\n",
        "  # 역전파\r\n",
        "  def backward(self, dout):\r\n",
        "    dx = dout * self.out * (1.0 - self.out)\r\n",
        "    return dx"
      ],
      "execution_count": 16,
      "outputs": []
    },
    {
      "cell_type": "markdown",
      "metadata": {
        "id": "9VcQHv8x0Wji"
      },
      "source": [
        "## 어파인 계층 구현\r\n",
        "* 기하학에서 행렬의 내적을 Affine 변환( Affine Transformation )이라고 합니다."
      ]
    },
    {
      "cell_type": "code",
      "metadata": {
        "colab": {
          "base_uri": "https://localhost:8080/"
        },
        "id": "7aFc_DXE0XAw",
        "outputId": "e4b6f299-685a-4c4d-fd08-68a74ffb4408"
      },
      "source": [
        "# 어파인 변환 알아보기\r\n",
        "X = np.random.rand(2) # 입력\r\n",
        "W = np.random.rand(2, 3) # 가중치\r\n",
        "B = np.random.rand(3) # 편향\r\n",
        "\r\n",
        "X.shape, W.shape, B.shape"
      ],
      "execution_count": 17,
      "outputs": [
        {
          "output_type": "execute_result",
          "data": {
            "text/plain": [
              "((2,), (2, 3), (3,))"
            ]
          },
          "metadata": {
            "tags": []
          },
          "execution_count": 17
        }
      ]
    },
    {
      "cell_type": "code",
      "metadata": {
        "colab": {
          "base_uri": "https://localhost:8080/"
        },
        "id": "4haT9yOa0bET",
        "outputId": "b7836936-8355-45c2-8f72-2f21e44b522e"
      },
      "source": [
        "Y = np.dot(X, W) + B\r\n",
        "print(Y)"
      ],
      "execution_count": 18,
      "outputs": [
        {
          "output_type": "stream",
          "text": [
            "[0.37229624 0.35639051 0.72489276]\n"
          ],
          "name": "stdout"
        }
      ]
    },
    {
      "cell_type": "code",
      "metadata": {
        "id": "SoVjehsLKPAX"
      },
      "source": [
        "class Affine:\r\n",
        "\r\n",
        "  def __init__(self, W, b):\r\n",
        "    self.W = W\r\n",
        "    self.b = b\r\n",
        "\r\n",
        "    self.x = None\r\n",
        "\r\n",
        "    # 방어코드 (원본 x의 모양이 흩트러 지는 것을 방지하기 위함)\r\n",
        "    self.original_x_shape = None\r\n",
        "\r\n",
        "    # 최적화(Optimization)을 위해 각 매개변수의 미분값을 가지고 있어야 한다. 추후에 경사하강법 등을 구현하기 위해 사용\r\n",
        "    # dW, db를 update 하는 것을 <<학습>>\r\n",
        "    self.dW = None\r\n",
        "    self.db = None\r\n",
        "\r\n",
        "  def forward(self, x):\r\n",
        "    # 텐서 대응( 배치마다의 데이터 개수를 평평하게 세울것임) -> 몇차원 배열이 들어오든 (N, M)으로 만들 것임\r\n",
        "    # 예를 들면 (3, 4, 4) -> 제일 앞에 있는 3이 배치의 개수를 의미한다. -> (3, 16)\r\n",
        "    # (100, 28, 28, 1) -> (100, 784)\r\n",
        "    self.original_x_shape = x.shape\r\n",
        "    x = x.reshape(x.shape[0], -1) # shape[0] : batch_size\r\n",
        "\r\n",
        "    self.x = x\r\n",
        "\r\n",
        "    out = np.dot(self.x, self.W) + self.b\r\n",
        "    return out\r\n",
        "  \r\n",
        "\r\n",
        "  def backward(self, dout):\r\n",
        "    # dL / dx -> dout * W의 전치행렬\r\n",
        "    dx = np.dot(dout, self.W.T)\r\n",
        "    self.dW = np.dot(self.x.T, dout)\r\n",
        "    self.db = np.sum(dout, axis=0)\r\n",
        "\r\n",
        "    # dx를 원본 형상으로 복구\r\n",
        "    dx = dx.reshape(*self.original_x_shape) # (12, 3) -> *(12, 3) -> 12, 3 *을 붙이면 튜플이 순서대로 언패킹 됩니다.\r\n",
        "    return dx"
      ],
      "execution_count": 19,
      "outputs": []
    },
    {
      "cell_type": "markdown",
      "metadata": {
        "id": "ZTEaRt6AKQJ8"
      },
      "source": [
        "## SoftmaxWithLoss 계층\r\n",
        "* softmax에 의한 분류 및 cee를 활용한 손실함수를 동시에 구현\r\n",
        "* 순전파 시에는 softmax 적용 후 loss 적용\r\n",
        "  * 정답 레이블, 예측 레이블(소프트맥스 결과물), loss를 갖는다.\r\n",
        "* 역전파 시에 오차를 구해서 이전층에 전달해야 한다."
      ]
    },
    {
      "cell_type": "code",
      "metadata": {
        "colab": {
          "base_uri": "https://localhost:8080/"
        },
        "id": "olz8uGJtKlBq",
        "outputId": "a9450d29-eda7-4f92-a480-e1d0109c03fc"
      },
      "source": [
        "%cd /content/drive/MyDrive"
      ],
      "execution_count": 20,
      "outputs": [
        {
          "output_type": "stream",
          "text": [
            "/content/drive/MyDrive\n"
          ],
          "name": "stdout"
        }
      ]
    },
    {
      "cell_type": "code",
      "metadata": {
        "id": "WcDb_GfZK_Gw"
      },
      "source": [
        "from common.functions import softmax, cross_entropy_error\r\n",
        "\r\n",
        "class SoftmaxWithLoss:\r\n",
        "\r\n",
        "  def __init__(self):\r\n",
        "    self.loss = None # 손실값\r\n",
        "    self.y = None # 예측값\r\n",
        "    self.t = None # 정답 레이블\r\n",
        "\r\n",
        "  '''\r\n",
        "    x : 이전 층에서 들어온 값\r\n",
        "    t : 정답 레이블\r\n",
        "  '''\r\n",
        "  def forward(self, x, t):\r\n",
        "    self.t = t\r\n",
        "    self.y = softmax(x)\r\n",
        "    self.loss = cross_entropy_error(self.y, self.t)\r\n",
        "\r\n",
        "    return self.loss\r\n",
        "  \r\n",
        "  def backward(self, dout=1):\r\n",
        "    batch_size = self.t.shape[0]\r\n",
        "\r\n",
        "    if self.t.size == self.y.size: # 출력층의 원소의 개수를 비교하는 것은 원-핫 인코딩이 되어있는 레이블이라는 뜻이다.\r\n",
        "      dx = (self.y - self.t) / batch_size\r\n",
        "    \r\n",
        "    else:\r\n",
        "      dx = self.y.copy()\r\n",
        "      dx[np.arange(batch_size), self.t] -= 1\r\n",
        "      dx = dx / batch_size\r\n",
        "\r\n",
        "    return dx"
      ],
      "execution_count": 21,
      "outputs": []
    },
    {
      "cell_type": "markdown",
      "metadata": {
        "id": "Nx-Xh6CbRkMZ"
      },
      "source": [
        "# 네트워크 생성 및 조립"
      ]
    },
    {
      "cell_type": "code",
      "metadata": {
        "id": "BhI0tNiERk19"
      },
      "source": [
        "# 레이어마다 이름을 붙여주고, 레이어의 추가순서를 항상 유지\r\n",
        "# 원래 딕셔너리를 활용했는데, 일반 딕셔너리는 데이터 추가의 순서를 유지 하지 않는다.\r\n",
        "# 키값도 사용하면서, 동시에 레이어 추가 순서도 유지하기 위해 OrderedDict\r\n",
        "\r\n",
        "from common.gradient import numerical_gradient\r\n",
        "from collections import OrderedDict\r\n",
        "\r\n",
        "class TwoLayerNet:\r\n",
        "\r\n",
        "  def __init__(self, input_size, hidden_size, output_size, weight_init_std = 0.01):\r\n",
        "\r\n",
        "    # 매개변수 초기화\r\n",
        "    self.params = {}\r\n",
        "    self.params[\"W1\"] = weight_init_std * np.random.randn(input_size, hidden_size)\r\n",
        "    self.params[\"b1\"] = np.zeros(hidden_size)\r\n",
        "\r\n",
        "    self.params[\"W2\"] = weight_init_std * np.random.randn(hidden_size, output_size)\r\n",
        "    self.params[\"b2\"] = np.zeros(output_size)\r\n",
        "\r\n",
        "    # 레이어 만들기\r\n",
        "    self.layers = OrderedDict()\r\n",
        "\r\n",
        "    # Fully Connected #1\r\n",
        "    self.layers[\"Affine1\"] = Affine(self.params[\"W1\"], self.params[\"b1\"])\r\n",
        "    # Activation\r\n",
        "    self.layers[\"Relu\"] = ReLU()\r\n",
        "\r\n",
        "    # Fully Conncted #2 (출력층)\r\n",
        "    self.layers[\"Affine2\"] = Affine(self.params[\"W2\"], self.params[\"b2\"])\r\n",
        "\r\n",
        "    self.lastLayer = SoftmaxWithLoss()\r\n",
        "\r\n",
        "  def predict(self, x):\r\n",
        "    for layer in self.layers.values():\r\n",
        "      x = layer.forward(x)\r\n",
        "    \r\n",
        "    return x\r\n",
        "\r\n",
        "  def loss(self, x, t):\r\n",
        "    y = self.predict(x)\r\n",
        "    return self.lastLayer.forward(y, t)\r\n",
        "  \r\n",
        "  def accuracy(self, x, t):\r\n",
        "    y = self.predict(x)\r\n",
        "    y = np.argmax(y, axis=1)\r\n",
        "\r\n",
        "    # 원-핫 인코딩 처리\r\n",
        "    if t.ndim != 1 : t = np.argmax(t, axis=1)\r\n",
        "\r\n",
        "    accuracy = np.sum(y == t) / float(x.shape[0])\r\n",
        "    return accuracy\r\n",
        "\r\n",
        "  # 기울기 구하기 (역전파를 활용해서)\r\n",
        "  def gradient(self, x, t):\r\n",
        "    # 순전파\r\n",
        "    self.loss(x, t)\r\n",
        "\r\n",
        "    # 역전파\r\n",
        "    dout = 1 # dL / dL\r\n",
        "    dout = self.lastLayer.backward(dout)  # 순수한 오차가 구해짐\r\n",
        "\r\n",
        "    layers = list(self.layers.values()) # 레이어를 모두 가지고 온 다음\r\n",
        "    layers.reverse() # 순서 뒤집기\r\n",
        "\r\n",
        "    for layer in layers:\r\n",
        "      dout = layer.backward(dout)\r\n",
        "\r\n",
        "    # 구해진 기울기 배열 저장\r\n",
        "    grads = {}\r\n",
        "    grads[\"W1\"], grads[\"b1\"] = self.layers[\"Affine1\"].dW, self.layers[\"Affine1\"].db\r\n",
        "    grads[\"W2\"], grads[\"b2\"] = self.layers[\"Affine2\"].dW, self.layers[\"Affine2\"].db    \r\n",
        "\r\n",
        "    return grads\r\n",
        "\r\n",
        "  # 기울기 구하기 ( 수치미분 )\r\n",
        "  def numerical_gradient_params(self, x, t):\r\n",
        "    loss_W = lambda W: self.loss(x, t)\r\n",
        "        \r\n",
        "    grads = {}\r\n",
        "    grads['W1'] = numerical_gradient(loss_W, self.params['W1'])\r\n",
        "    grads['b1'] = numerical_gradient(loss_W, self.params['b1'])\r\n",
        "    grads['W2'] = numerical_gradient(loss_W, self.params['W2'])\r\n",
        "    grads['b2'] = numerical_gradient(loss_W, self.params['b2'])\r\n",
        "        \r\n",
        "    return grads"
      ],
      "execution_count": 23,
      "outputs": []
    },
    {
      "cell_type": "markdown",
      "metadata": {
        "id": "jKXhFs06Tm7P"
      },
      "source": [
        "수치미분과 오차역전파를 했을 때의 기울기 비교"
      ]
    },
    {
      "cell_type": "code",
      "metadata": {
        "colab": {
          "base_uri": "https://localhost:8080/"
        },
        "id": "LUZ-T_moTk1r",
        "outputId": "7808f78c-b395-4e47-b13a-6b96845bf354"
      },
      "source": [
        "from tensorflow.keras import datasets\r\n",
        "mnist = datasets.mnist\r\n",
        "\r\n",
        "(X_train, y_train), (X_test, y_test) = mnist.load_data()\r\n",
        "\r\n",
        "from sklearn.preprocessing import OneHotEncoder\r\n",
        "\r\n",
        "y_train_dummy = OneHotEncoder().fit_transform(y_train.reshape(-1, 1))\r\n",
        "y_train_dummy = y_train_dummy.toarray()\r\n",
        "\r\n",
        "y_test_dummy = OneHotEncoder().fit_transform(y_test.reshape(-1, 1))\r\n",
        "y_test_dummy = y_test_dummy.toarray()\r\n",
        "\r\n",
        "# feature 전처리\r\n",
        "X_train = X_train.reshape(X_train.shape[0], -1)\r\n",
        "X_train = X_train / 255.0 # 이미지 정규화 기법. 255.0 으로 나눠주면 모든 픽셀 데이터가 0 ~ 1사이의 값을 갖게 되고, 훈련이 쉽게 된다.\r\n",
        "\r\n",
        "X_test = X_test.reshape(X_test.shape[0], -1)\r\n",
        "X_test = X_test / 255.0\r\n",
        "\r\n",
        "X_train.shape, X_test.shape"
      ],
      "execution_count": 24,
      "outputs": [
        {
          "output_type": "stream",
          "text": [
            "Downloading data from https://storage.googleapis.com/tensorflow/tf-keras-datasets/mnist.npz\n",
            "11493376/11490434 [==============================] - 0s 0us/step\n"
          ],
          "name": "stdout"
        },
        {
          "output_type": "execute_result",
          "data": {
            "text/plain": [
              "((60000, 784), (10000, 784))"
            ]
          },
          "metadata": {
            "tags": []
          },
          "execution_count": 24
        }
      ]
    },
    {
      "cell_type": "code",
      "metadata": {
        "colab": {
          "base_uri": "https://localhost:8080/"
        },
        "id": "KQJ2_i_rTqQ2",
        "outputId": "8294b3b5-b9b9-45d1-8f7a-9a192ea67b15"
      },
      "source": [
        "network = TwoLayerNet(input_size=28*28, hidden_size=50, output_size=10)\r\n",
        "\r\n",
        "X_batch = X_train[:3]\r\n",
        "t_batch = y_train[:3]\r\n",
        "\r\n",
        "# 수치미분을 활용한 기울기배열\r\n",
        "grad_numerical = network.numerical_gradient_params(X_batch, t_batch)\r\n",
        "grad_backprop  = network.gradient(X_batch, t_batch)\r\n",
        "\r\n",
        "# 각 가중치의 절댓값의 차를 구한 다음 그 절댓값들의 평균 내기\r\n",
        "for key in grad_numerical.keys():\r\n",
        "  diff = np.average(np.abs(grad_backprop[key] - grad_numerical[key]))\r\n",
        "  print(\"key : {}\".format(diff))"
      ],
      "execution_count": 25,
      "outputs": [
        {
          "output_type": "stream",
          "text": [
            "key : 3.6334697910408976e-10\n",
            "key : 2.282751886597406e-09\n",
            "key : 4.893728767760255e-09\n",
            "key : 1.402144184398102e-07\n"
          ],
          "name": "stdout"
        }
      ]
    },
    {
      "cell_type": "markdown",
      "metadata": {
        "id": "cGq2ovZGTvxN"
      },
      "source": [
        "MNIST로 테스트 해보자"
      ]
    },
    {
      "cell_type": "code",
      "metadata": {
        "colab": {
          "base_uri": "https://localhost:8080/"
        },
        "id": "F2nZxvRGTqbS",
        "outputId": "e0eee78e-d3d3-4ab1-b458-eddcb7825190"
      },
      "source": [
        "network = TwoLayerNet(input_size=28*28, hidden_size=50, output_size=10)\r\n",
        "\r\n",
        "iters_num = 10000\r\n",
        "\r\n",
        "# 미니 배치 때문에 선언함\r\n",
        "train_size = X_train.shape[0]\r\n",
        "batch_size = 100\r\n",
        "learning_rate = 0.1\r\n",
        "\r\n",
        "train_loss_list = []\r\n",
        "train_acc_list = []\r\n",
        "test_acc_list = []\r\n",
        "\r\n",
        "iter_per_epoch = max(train_size / batch_size, 1) # 에폭 횟수 구하기\r\n",
        "\r\n",
        "for i in range(iters_num):\r\n",
        "  batch_mask = np.random.choice(train_size, batch_size)\r\n",
        "  X_batch = X_train[batch_mask]\r\n",
        "  t_batch = y_train[batch_mask]\r\n",
        "\r\n",
        "  # 기울기 계산\r\n",
        "  # grads = network.numerical_gradient_params(X_batch, t_batch) # 수치미분은 사용 안해\r\n",
        "  grads = network.gradient(X_batch, t_batch) # 오차 역전파 방식\r\n",
        "\r\n",
        "  # 경사하강법을 이용한 매개변수 갱신\r\n",
        "\r\n",
        "  for key in (\"W1\", \"b1\", \"W2\", \"b2\"):\r\n",
        "    network.params[key] -= learning_rate * grads[key]\r\n",
        "  \r\n",
        "  loss = network.loss(X_batch, t_batch)\r\n",
        "\r\n",
        "  # 에폭 : 배치데이터를 가지고 모든 데이터를 탐색 했다면 1 에폭이 된다.\r\n",
        "  if i % iter_per_epoch == 0:\r\n",
        "    train_acc = network.accuracy(X_train, y_train)\r\n",
        "    test_acc  = network.accuracy(X_test, y_test)\r\n",
        "    \r\n",
        "    train_loss_list.append(loss)\r\n",
        "\r\n",
        "    train_acc_list.append(train_acc)\r\n",
        "    test_acc_list.append(test_acc)\r\n",
        "\r\n",
        "    print(\"Train Accuracy : {:.6f} / Test Accuracy : {:.6f}\".format(train_acc, test_acc))"
      ],
      "execution_count": 26,
      "outputs": [
        {
          "output_type": "stream",
          "text": [
            "Train Accuracy : 0.120067 / Test Accuracy : 0.124800\n",
            "Train Accuracy : 0.904800 / Test Accuracy : 0.906600\n",
            "Train Accuracy : 0.920867 / Test Accuracy : 0.924100\n",
            "Train Accuracy : 0.935033 / Test Accuracy : 0.934400\n",
            "Train Accuracy : 0.944283 / Test Accuracy : 0.942200\n",
            "Train Accuracy : 0.949933 / Test Accuracy : 0.949700\n",
            "Train Accuracy : 0.958317 / Test Accuracy : 0.956000\n",
            "Train Accuracy : 0.962350 / Test Accuracy : 0.958000\n",
            "Train Accuracy : 0.965150 / Test Accuracy : 0.961400\n",
            "Train Accuracy : 0.968083 / Test Accuracy : 0.963500\n",
            "Train Accuracy : 0.970500 / Test Accuracy : 0.964200\n",
            "Train Accuracy : 0.972517 / Test Accuracy : 0.966100\n",
            "Train Accuracy : 0.974633 / Test Accuracy : 0.966800\n",
            "Train Accuracy : 0.975250 / Test Accuracy : 0.966000\n",
            "Train Accuracy : 0.977617 / Test Accuracy : 0.969500\n",
            "Train Accuracy : 0.977367 / Test Accuracy : 0.970000\n",
            "Train Accuracy : 0.980533 / Test Accuracy : 0.970700\n"
          ],
          "name": "stdout"
        }
      ]
    },
    {
      "cell_type": "code",
      "metadata": {
        "id": "v0ybQjS7YZsW"
      },
      "source": [
        "import matplotlib.pyplot as plt\r\n",
        "%matplotlib inline"
      ],
      "execution_count": 27,
      "outputs": []
    },
    {
      "cell_type": "code",
      "metadata": {
        "colab": {
          "base_uri": "https://localhost:8080/",
          "height": 334
        },
        "id": "qLFGKvgnYZvf",
        "outputId": "faa11d45-c8e0-41b3-cd10-ec8bfbfe07c0"
      },
      "source": [
        "plt.figure(figsize=(10, 5))\r\n",
        "plt.plot(np.arange(len(train_loss_list)), train_loss_list, label=\"loss\")\r\n",
        "plt.xlabel(\"epochs\")\r\n",
        "plt.ylabel(\"Loss\")\r\n",
        "plt.legend()\r\n",
        "plt.show()"
      ],
      "execution_count": 28,
      "outputs": [
        {
          "output_type": "display_data",
          "data": {
            "image/png": "[encoded data removed]",
            "text/plain": [
              "<Figure size 720x360 with 1 Axes>"
            ]
          },
          "metadata": {
            "tags": [],
            "needs_background": "light"
          }
        }
      ]
    },
    {
      "cell_type": "code",
      "metadata": {
        "colab": {
          "base_uri": "https://localhost:8080/",
          "height": 334
        },
        "id": "oYjIKT3kYZxp",
        "outputId": "08255fa0-549d-4841-8893-ffb24bf19305"
      },
      "source": [
        "plt.figure(figsize=(10, 5))\r\n",
        "plt.plot(np.arange(len(train_acc_list)), train_acc_list, label=\"Train Accuracy\")\r\n",
        "plt.plot(np.arange(len(test_acc_list)), test_acc_list, label=\"Test Accuracy\")\r\n",
        "plt.xlabel(\"epochs\")\r\n",
        "plt.ylabel(\"Accuracy\")\r\n",
        "plt.legend()\r\n",
        "plt.show()"
      ],
      "execution_count": 29,
      "outputs": [
        {
          "output_type": "display_data",
          "data": {
            "image/png": "[encoded data removed]",
            "text/plain": [
              "<Figure size 720x360 with 1 Axes>"
            ]
          },
          "metadata": {
            "tags": [],
            "needs_background": "light"
          }
        }
      ]
    }
  ]
}