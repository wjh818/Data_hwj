{
  "nbformat": 4,
  "nbformat_minor": 0,
  "metadata": {
    "colab": {
      "name": "4. 행렬과 신경망",
      "provenance": [],
      "authorship_tag": "ABX9TyPqo3A2pCEPOINPZjY8vjZ4",
      "include_colab_link": true
    },
    "kernelspec": {
      "name": "python3",
      "display_name": "Python 3"
    }
  },
  "cells": [
    {
      "cell_type": "markdown",
      "metadata": {
        "id": "view-in-github",
        "colab_type": "text"
      },
      "source": [
        "<a href=\"https://colab.research.google.com/github/wjh818/Data_hwj/blob/main/Deep_Learning/4_%ED%96%89%EB%A0%AC%EA%B3%BC_%EC%8B%A0%EA%B2%BD%EB%A7%9D.ipynb\" target=\"_parent\"><img src=\"https://colab.research.google.com/assets/colab-badge.svg\" alt=\"Open In Colab\"/></a>"
      ]
    },
    {
      "cell_type": "code",
      "metadata": {
        "id": "80FTGoguWFYb"
      },
      "source": [
        "import numpy as np"
      ],
      "execution_count": 1,
      "outputs": []
    },
    {
      "cell_type": "code",
      "metadata": {
        "colab": {
          "base_uri": "https://localhost:8080/"
        },
        "id": "BHYi20CiWWw9",
        "outputId": "554001e6-80ec-4a63-c1d1-8c25fac85fab"
      },
      "source": [
        "X = np.array([1.0, 0.5])\r\n",
        "W1 = np.array([[0.1, 0.3, 0.5], \r\n",
        "               [0.2, 0.4, 0.6]])  # 2개씩 입력을 받는 3개의 뉴런\r\n",
        "\r\n",
        "B1 = np.array([0.1, 0.2, 0.3])  # 3개의 뉴련에 더해질 편향들\r\n",
        "\r\n",
        "# 계산값 구하기\r\n",
        "Z1 = np.dot(X, W1) + B1\r\n",
        "Z1"
      ],
      "execution_count": 2,
      "outputs": [
        {
          "output_type": "execute_result",
          "data": {
            "text/plain": [
              "array([0.3, 0.7, 1.1])"
            ]
          },
          "metadata": {
            "tags": []
          },
          "execution_count": 2
        }
      ]
    },
    {
      "cell_type": "code",
      "metadata": {
        "id": "6NqokvQPXKHw"
      },
      "source": [
        "# 활성화 함수 준비\r\n",
        "def sigmoid(x):\r\n",
        "  return 1 / (1 + np.exp(-x))"
      ],
      "execution_count": 3,
      "outputs": []
    },
    {
      "cell_type": "code",
      "metadata": {
        "colab": {
          "base_uri": "https://localhost:8080/"
        },
        "id": "1tiBn9_AXKKP",
        "outputId": "bbb2c5d6-114e-414c-c0b6-d4a8afc04feb"
      },
      "source": [
        "A1 = sigmoid(Z1)\r\n",
        "A1"
      ],
      "execution_count": 4,
      "outputs": [
        {
          "output_type": "execute_result",
          "data": {
            "text/plain": [
              "array([0.57444252, 0.66818777, 0.75026011])"
            ]
          },
          "metadata": {
            "tags": []
          },
          "execution_count": 4
        }
      ]
    },
    {
      "cell_type": "code",
      "metadata": {
        "colab": {
          "base_uri": "https://localhost:8080/"
        },
        "id": "UoTS3z8jXKMm",
        "outputId": "1142b63c-682c-4da4-c368-2888e62340e6"
      },
      "source": [
        "W2 = np.array([[0.1, 0.4],\r\n",
        "               [0.2, 0.5],\r\n",
        "               [0.3, 0.6]]) # 3개의 입력을 받는 2개의 뉴런\r\n",
        "\r\n",
        "B2 = np.array([0.1, 0.2])\r\n",
        "\r\n",
        "print(A1.shape, W2.shape)\r\n",
        "\r\n",
        "Z2 = np.dot(A1, W2) + B2\r\n",
        "A2 = sigmoid(Z2)\r\n",
        "A2"
      ],
      "execution_count": 5,
      "outputs": [
        {
          "output_type": "stream",
          "text": [
            "(3,) (3, 2)\n"
          ],
          "name": "stdout"
        },
        {
          "output_type": "execute_result",
          "data": {
            "text/plain": [
              "array([0.62624937, 0.7710107 ])"
            ]
          },
          "metadata": {
            "tags": []
          },
          "execution_count": 5
        }
      ]
    },
    {
      "cell_type": "code",
      "metadata": {
        "colab": {
          "base_uri": "https://localhost:8080/"
        },
        "id": "Yos6OtnwXq9a",
        "outputId": "f291bf70-de88-4cc8-e9cd-03a1287c3e5a"
      },
      "source": [
        "# 출력층\r\n",
        "\r\n",
        "# 항등함수\r\n",
        "def identity_function(x):\r\n",
        "    return x\r\n",
        "\r\n",
        "W3 = np.array([[0.1, 0.3], \r\n",
        "               [0.2, 0.4]]) # 2개의 입력을 받는 2개의 뉴런\r\n",
        "\r\n",
        "B3 = np.array([0.1, 0.2])\r\n",
        "\r\n",
        "print(A2.shape, W3.shape)"
      ],
      "execution_count": 7,
      "outputs": [
        {
          "output_type": "stream",
          "text": [
            "(2,) (2, 2)\n"
          ],
          "name": "stdout"
        }
      ]
    },
    {
      "cell_type": "code",
      "metadata": {
        "colab": {
          "base_uri": "https://localhost:8080/"
        },
        "id": "wT1CcLotXq_5",
        "outputId": "4c5ff9cf-e7b3-4f26-85bd-25357eab8477"
      },
      "source": [
        "Z3 = np.dot(A2, W3) + B3\r\n",
        "Y  = identity_function(Z3)\r\n",
        "Y"
      ],
      "execution_count": 8,
      "outputs": [
        {
          "output_type": "execute_result",
          "data": {
            "text/plain": [
              "array([0.31682708, 0.69627909])"
            ]
          },
          "metadata": {
            "tags": []
          },
          "execution_count": 8
        }
      ]
    },
    {
      "cell_type": "markdown",
      "metadata": {
        "id": "hryXF4IQZNxT"
      },
      "source": [
        "최종 구현"
      ]
    },
    {
      "cell_type": "code",
      "metadata": {
        "id": "Ej84mhDVXrCt"
      },
      "source": [
        "def init_network():\r\n",
        "    # 네트워크 초기화 과정\r\n",
        "    # 네트워크가 초기화 되면 일반적으로 정규분포 * 0.01 정도의 랜덤값으로 초기화 한다.\r\n",
        "    # 다른 방법으로 카이밍 히(He 초깃값) 또는 사비에르(Xavier) 초깃값을 사용한다. ( 활성화 함수에 따라 달라져요 )\r\n",
        "    network = {}\r\n",
        "    network['W1'] = np.array([[0.1, 0.3, 0.5], [0.2, 0.4, 0.6]])\r\n",
        "    network['b1'] = np.array([0.1, 0.2, 0.3])\r\n",
        "    network['W2'] = np.array([[0.1, 0.4], [0.2, 0.5], [0.3, 0.6]])\r\n",
        "    network['b2'] = np.array([0.1, 0.2])\r\n",
        "    network['W3'] = np.array([[0.1, 0.3], [0.2, 0.4]])\r\n",
        "    network['b3'] = np.array([0.1, 0.2])\r\n",
        "    \r\n",
        "    return network\r\n",
        "# 순전파 과정\r\n",
        "def forward(network, x):\r\n",
        "    W1, W2, W3 = network['W1'], network['W2'], network['W3']\r\n",
        "    b1, b2, b3 = network['b1'], network['b2'], network['b3']\r\n",
        "    \r\n",
        "    z1 = np.dot(x, W1) + b1\r\n",
        "    a1 = sigmoid(z1)\r\n",
        "    \r\n",
        "    z2 = np.dot(a1, W2) + b2\r\n",
        "    a2 = sigmoid(z2)\r\n",
        "    \r\n",
        "    z3 = np.dot(a2, W3) + b3\r\n",
        "    y  = identity_function(z3)\r\n",
        "    \r\n",
        "    return y"
      ],
      "execution_count": 11,
      "outputs": []
    },
    {
      "cell_type": "code",
      "metadata": {
        "colab": {
          "base_uri": "https://localhost:8080/"
        },
        "id": "14rANdkvXrFY",
        "outputId": "1769cdb3-eeb3-4171-a0e8-5b1cdfa051e2"
      },
      "source": [
        "network = init_network()\r\n",
        "x = np.array([1.0, 0.5])\r\n",
        "y = forward(network, x)\r\n",
        "print(y)"
      ],
      "execution_count": 12,
      "outputs": [
        {
          "output_type": "stream",
          "text": [
            "[0.31682708 0.69627909]\n"
          ],
          "name": "stdout"
        }
      ]
    }
  ]
}