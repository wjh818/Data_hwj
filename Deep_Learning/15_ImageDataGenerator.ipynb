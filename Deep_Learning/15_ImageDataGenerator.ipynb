{
  "nbformat": 4,
  "nbformat_minor": 0,
  "metadata": {
    "colab": {
      "name": "15. ImageDataGenerator",
      "provenance": [],
      "authorship_tag": "ABX9TyPu50i+3r6vpLrNu6rKStt4",
      "include_colab_link": true
    },
    "kernelspec": {
      "name": "python3",
      "display_name": "Python 3"
    }
  },
  "cells": [
    {
      "cell_type": "markdown",
      "metadata": {
        "id": "view-in-github",
        "colab_type": "text"
      },
      "source": [
        "<a href=\"https://colab.research.google.com/github/wjh818/Data_hwj/blob/main/Deep_Learning/15_ImageDataGenerator.ipynb\" target=\"_parent\"><img src=\"https://colab.research.google.com/assets/colab-badge.svg\" alt=\"Open In Colab\"/></a>"
      ]
    },
    {
      "cell_type": "markdown",
      "metadata": {
        "id": "dIU7V_MWE82_"
      },
      "source": [
        "# Tensorflow ImageDataGenerator를 이용한 Augmentation"
      ]
    },
    {
      "cell_type": "markdown",
      "metadata": {
        "id": "NwF0VuSJE-uM"
      },
      "source": [
        "# Load Image"
      ]
    },
    {
      "cell_type": "code",
      "metadata": {
        "id": "9vR2N7wLE_OO"
      },
      "source": [
        "import matplotlib.pyplot as plt\r\n",
        "import numpy as np\r\n",
        "\r\n",
        "import tensorflow as tf\r\n",
        "from tensorflow.keras.datasets import mnist\r\n",
        "\r\n",
        "%matplotlib inline"
      ],
      "execution_count": 1,
      "outputs": []
    },
    {
      "cell_type": "code",
      "metadata": {
        "colab": {
          "base_uri": "https://localhost:8080/"
        },
        "id": "JI4O38ISFByc",
        "outputId": "d317a6d5-6d5f-461a-db1a-055390f671d7"
      },
      "source": [
        "(X_train, y_train), (X_test, y_test) = mnist.load_data()\r\n",
        "\r\n",
        "X_train = X_train[:, ..., tf.newaxis]\r\n",
        "X_train.shape"
      ],
      "execution_count": 2,
      "outputs": [
        {
          "output_type": "stream",
          "text": [
            "Downloading data from https://storage.googleapis.com/tensorflow/tf-keras-datasets/mnist.npz\n",
            "11493376/11490434 [==============================] - 0s 0us/step\n"
          ],
          "name": "stdout"
        },
        {
          "output_type": "execute_result",
          "data": {
            "text/plain": [
              "(60000, 28, 28, 1)"
            ]
          },
          "metadata": {
            "tags": []
          },
          "execution_count": 2
        }
      ]
    },
    {
      "cell_type": "code",
      "metadata": {
        "colab": {
          "base_uri": "https://localhost:8080/",
          "height": 265
        },
        "id": "E0kDDpHeFHGe",
        "outputId": "95ca5732-9d82-4ec0-f7e0-3ec77f374450"
      },
      "source": [
        "image = X_train[0, ..., 0]\r\n",
        "\r\n",
        "plt.imshow(image, 'gray')\r\n",
        "plt.show()"
      ],
      "execution_count": 3,
      "outputs": [
        {
          "output_type": "display_data",
          "data": {
            "image/png": "[encoded data removed]",
            "text/plain": [
              "<Figure size 432x288 with 1 Axes>"
            ]
          },
          "metadata": {
            "tags": [],
            "needs_background": "light"
          }
        }
      ]
    },
    {
      "cell_type": "markdown",
      "metadata": {
        "id": "ZsTt-dGyFPah"
      },
      "source": [
        "# Augmentation 이란?\r\n",
        "\r\n",
        "이미지를 훈련시키려고 하는데, 수집한 이미지나 가지고 있는 이미지가 조금 부족한 경우가 있을 수 있다.\r\n",
        "\r\n",
        "* 각 이미지에 약간의 **변형을 추가** ( = Augmentation을 줬다)\r\n",
        "* 제한된 이미지에서 여러가지 효과를 줄 수 있도록 하는 것이다.\r\n",
        "* 좌우반전, shift, zoom in / zoom out, rotation 등의 효과를 ImageDataGenerator를 이용해 줄 수 있다."
      ]
    },
    {
      "cell_type": "code",
      "metadata": {
        "id": "rDeQxxW_FtLS"
      },
      "source": [
        "from tensorflow.keras.preprocessing.image import ImageDataGenerator"
      ],
      "execution_count": 4,
      "outputs": []
    },
    {
      "cell_type": "code",
      "metadata": {
        "id": "XXqjZGkmF0bg"
      },
      "source": [
        "# Augmentation 활용\r\n",
        "\r\n",
        "datagen = ImageDataGenerator(\r\n",
        "    rotation_range = 20,\r\n",
        "    width_shift_range = 0.2,\r\n",
        "    height_shift_range = 0.2,\r\n",
        "    horizontal_flip = True\r\n",
        ")"
      ],
      "execution_count": 5,
      "outputs": []
    },
    {
      "cell_type": "markdown",
      "metadata": {
        "id": "yD4cCn5dGMo9"
      },
      "source": [
        "Augmentation을 주기 위해서는 데이터의 형식을 CNN 레이어에 들어가는 형식으로 맞춰 줘야 한다."
      ]
    },
    {
      "cell_type": "code",
      "metadata": {
        "colab": {
          "base_uri": "https://localhost:8080/"
        },
        "id": "MYpx4F3hGKCF",
        "outputId": "c879d198-0af7-4ea2-bc55-52f1a169028f"
      },
      "source": [
        "X_train.shape"
      ],
      "execution_count": 6,
      "outputs": [
        {
          "output_type": "execute_result",
          "data": {
            "text/plain": [
              "(60000, 28, 28, 1)"
            ]
          },
          "metadata": {
            "tags": []
          },
          "execution_count": 6
        }
      ]
    },
    {
      "cell_type": "code",
      "metadata": {
        "colab": {
          "base_uri": "https://localhost:8080/"
        },
        "id": "pZDY5GHBGKEx",
        "outputId": "9b05d250-6e6e-4f4b-fd46-44d0ec58728e"
      },
      "source": [
        "inputs = X_train[0]\r\n",
        "inputs = inputs[tf.newaxis, ...]\r\n",
        "inputs.shape"
      ],
      "execution_count": 7,
      "outputs": [
        {
          "output_type": "execute_result",
          "data": {
            "text/plain": [
              "(1, 28, 28, 1)"
            ]
          },
          "metadata": {
            "tags": []
          },
          "execution_count": 7
        }
      ]
    },
    {
      "cell_type": "code",
      "metadata": {
        "id": "rCD19JGhGKHL"
      },
      "source": [
        "image = next(iter(datagen.flow(inputs)))"
      ],
      "execution_count": 8,
      "outputs": []
    },
    {
      "cell_type": "code",
      "metadata": {
        "colab": {
          "base_uri": "https://localhost:8080/",
          "height": 216
        },
        "id": "W2jtCVYwGKMW",
        "outputId": "ae23c182-aa29-4d03-a750-89a60fb85a23"
      },
      "source": [
        "plt.subplot(121)\r\n",
        "plt.imshow(np.squeeze(inputs), 'gray')\r\n",
        "plt.title(\"Original image\")\r\n",
        "\r\n",
        "plt.subplot(122)\r\n",
        "plt.title(\"Augmented Image\")\r\n",
        "plt.imshow(np.squeeze(image), 'gray')\r\n",
        "plt.show()"
      ],
      "execution_count": 9,
      "outputs": [
        {
          "output_type": "display_data",
          "data": {
            "image/png": "[encoded data removed]",
            "text/plain": [
              "<Figure size 432x288 with 2 Axes>"
            ]
          },
          "metadata": {
            "tags": [],
            "needs_background": "light"
          }
        }
      ]
    },
    {
      "cell_type": "markdown",
      "metadata": {
        "id": "StM3tbEDJQ-8"
      },
      "source": [
        "## ImageDataGenerator의 변형 옵션\r\n",
        "\r\n",
        "* width_shift_range : 좌우 이동 범위 설정\r\n",
        "* height_shift_range : 상하 이동 범위 설정\r\n",
        "* brightness_range : 밝기 조절 설정\r\n",
        "* zoom_range : 확대 / 축소 범위 설정\r\n",
        "* horizontal_flip : 좌우반전 여부( bool )\r\n",
        "* vertical_flip : 상하반전 여부( bool )\r\n",
        "* **rescale : 픽셀 전처리 단위 설정**\r\n",
        "* preprocessing_function : opencv 등 외부 라이브러리를 이용한 전처리 할 때 사용"
      ]
    },
    {
      "cell_type": "markdown",
      "metadata": {
        "id": "QKO5JJYKJg4m"
      },
      "source": [
        "## Rescale 시 주의 사항\r\n",
        "train_data_gen에 rescale 옵션을 줬으면 test_data_gen에도 반드시 rescale이 되어야 한다."
      ]
    },
    {
      "cell_type": "code",
      "metadata": {
        "id": "Duzh7_FQGKOk"
      },
      "source": [
        "train_datagen = ImageDataGenerator(\r\n",
        "    zoom_range = 0.7,\r\n",
        "    rescale = 1./255. # 픽셀 단위를 1/255로 하겠다.\r\n",
        ")\r\n",
        "\r\n",
        "test_datagen = ImageDataGenerator(\r\n",
        "    rescale = 1. / 255. # 반드시 넣어 줄 것!\r\n",
        ")"
      ],
      "execution_count": 10,
      "outputs": []
    }
  ]
}