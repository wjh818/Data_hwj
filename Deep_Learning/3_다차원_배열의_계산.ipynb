{
  "nbformat": 4,
  "nbformat_minor": 0,
  "metadata": {
    "colab": {
      "name": "3. 다차원 배열의 계산",
      "provenance": [],
      "authorship_tag": "ABX9TyN6dg+0//4uizKS5ZUCav0Y",
      "include_colab_link": true
    },
    "kernelspec": {
      "name": "python3",
      "display_name": "Python 3"
    }
  },
  "cells": [
    {
      "cell_type": "markdown",
      "metadata": {
        "id": "view-in-github",
        "colab_type": "text"
      },
      "source": [
        "<a href=\"https://colab.research.google.com/github/wjh818/Data_hwj/blob/main/Deep_Learning/3_%EB%8B%A4%EC%B0%A8%EC%9B%90_%EB%B0%B0%EC%97%B4%EC%9D%98_%EA%B3%84%EC%82%B0.ipynb\" target=\"_parent\"><img src=\"https://colab.research.google.com/assets/colab-badge.svg\" alt=\"Open In Colab\"/></a>"
      ]
    },
    {
      "cell_type": "markdown",
      "metadata": {
        "id": "DXZB763uX1LK"
      },
      "source": [
        "## 행렬의 내적 (행렬의 곱)"
      ]
    },
    {
      "cell_type": "code",
      "metadata": {
        "id": "zs9yH4oGX3yz"
      },
      "source": [
        "import numpy as np"
      ],
      "execution_count": 1,
      "outputs": []
    },
    {
      "cell_type": "code",
      "metadata": {
        "colab": {
          "base_uri": "https://localhost:8080/"
        },
        "id": "XUhh0psPX32G",
        "outputId": "b24d179f-f67a-46a6-875b-4ae2d4ee02e6"
      },
      "source": [
        "A = np.array([ [1, 2],\r\n",
        "               [3, 4] ])\r\n",
        "\r\n",
        "B = np.array([ [5, 6],\r\n",
        "               [7, 8] ])\r\n",
        "\r\n",
        "print(\"A의 shape : {}\".format(A.shape))\r\n",
        "print(\"B의 shape : {}\".format(B.shape))"
      ],
      "execution_count": 2,
      "outputs": [
        {
          "output_type": "stream",
          "text": [
            "A의 shape : (2, 2)\n",
            "B의 shape : (2, 2)\n"
          ],
          "name": "stdout"
        }
      ]
    },
    {
      "cell_type": "markdown",
      "metadata": {
        "id": "m-c6OOEwYI5-"
      },
      "source": [
        "위의 행렬에서 $A \\times B$ 는 계산이 가능하다. A.shape[1]과 B.shape[0]이 같기 때문에"
      ]
    },
    {
      "cell_type": "code",
      "metadata": {
        "colab": {
          "base_uri": "https://localhost:8080/"
        },
        "id": "eQdL9u7-X35W",
        "outputId": "8a5b7b08-5d8c-401f-e994-0bdc913f324f"
      },
      "source": [
        "# numpy의 dot을 이용해 행렬의 내적을 구할 수 있다.\r\n",
        "print(\" A X B : \\n{}\\n\".format( np.dot(A, B) ))\r\n",
        "print(\" B X A : \\n{}\".format( np.dot(B, A) ))"
      ],
      "execution_count": 3,
      "outputs": [
        {
          "output_type": "stream",
          "text": [
            " A X B : \n",
            "[[19 22]\n",
            " [43 50]]\n",
            "\n",
            " B X A : \n",
            "[[23 34]\n",
            " [31 46]]\n"
          ],
          "name": "stdout"
        }
      ]
    },
    {
      "cell_type": "markdown",
      "metadata": {
        "id": "bchwnKS5YUEN"
      },
      "source": [
        "행열의 내적은 교환 법칙이 성립되지 않는다."
      ]
    },
    {
      "cell_type": "code",
      "metadata": {
        "colab": {
          "base_uri": "https://localhost:8080/"
        },
        "id": "RqcY2BJgX38Y",
        "outputId": "1e036c47-2ee9-48a2-b16e-5a5b5a32b689"
      },
      "source": [
        "A = np.array([[1, 2, 3],\r\n",
        "              [4, 5, 6]])\r\n",
        "\r\n",
        "B = np.array([[1, 2],\r\n",
        "              [3, 4],\r\n",
        "              [5, 6]])\r\n",
        "\r\n",
        "print(\"행렬 A의 shape : {}\".format(A.shape))\r\n",
        "print(\"행렬 B의 shape : {}\".format(B.shape))"
      ],
      "execution_count": 4,
      "outputs": [
        {
          "output_type": "stream",
          "text": [
            "행렬 A의 shape : (2, 3)\n",
            "행렬 B의 shape : (3, 2)\n"
          ],
          "name": "stdout"
        }
      ]
    },
    {
      "cell_type": "code",
      "metadata": {
        "colab": {
          "base_uri": "https://localhost:8080/"
        },
        "id": "Qif38sS_X3_0",
        "outputId": "386cf90d-49ba-46d0-ff03-c95e451b16ed"
      },
      "source": [
        "print(\" A X B : \\n{}\\n\".format( np.dot(A, B) ))\r\n",
        "print(\" B X A : \\n{}\".format( np.dot(B, A) ))"
      ],
      "execution_count": 5,
      "outputs": [
        {
          "output_type": "stream",
          "text": [
            " A X B : \n",
            "[[22 28]\n",
            " [49 64]]\n",
            "\n",
            " B X A : \n",
            "[[ 9 12 15]\n",
            " [19 26 33]\n",
            " [29 40 51]]\n"
          ],
          "name": "stdout"
        }
      ]
    },
    {
      "cell_type": "code",
      "metadata": {
        "colab": {
          "base_uri": "https://localhost:8080/"
        },
        "id": "cihKvdWuYY1N",
        "outputId": "5d98d785-9fe9-46bf-f96f-78fc59c5153d"
      },
      "source": [
        "C = np.array([[1, 2],\r\n",
        "              [3, 4]])\r\n",
        "\r\n",
        "print(\"행렬 C의 shape : {}\".format(C.shape))\r\n",
        "print(\"행렬 A의 shape : {}\".format(A.shape))"
      ],
      "execution_count": 6,
      "outputs": [
        {
          "output_type": "stream",
          "text": [
            "행렬 C의 shape : (2, 2)\n",
            "행렬 A의 shape : (2, 3)\n"
          ],
          "name": "stdout"
        }
      ]
    },
    {
      "cell_type": "code",
      "metadata": {
        "colab": {
          "base_uri": "https://localhost:8080/",
          "height": 196
        },
        "id": "Xa02p6RjYY32",
        "outputId": "587faa1f-9f07-4318-c0e5-8e8cd5876ce9"
      },
      "source": [
        "print(\" A X C : \\n{}\".format( np.dot(A, C) )) # 오류"
      ],
      "execution_count": 7,
      "outputs": [
        {
          "output_type": "error",
          "ename": "ValueError",
          "evalue": "ignored",
          "traceback": [
            "\u001b[0;31m---------------------------------------------------------------------------\u001b[0m",
            "\u001b[0;31mValueError\u001b[0m                                Traceback (most recent call last)",
            "\u001b[0;32m<ipython-input-7-7e0b9560688b>\u001b[0m in \u001b[0;36m<module>\u001b[0;34m()\u001b[0m\n\u001b[0;32m----> 1\u001b[0;31m \u001b[0mprint\u001b[0m\u001b[0;34m(\u001b[0m\u001b[0;34m\" A X C : \\n{}\"\u001b[0m\u001b[0;34m.\u001b[0m\u001b[0mformat\u001b[0m\u001b[0;34m(\u001b[0m \u001b[0mnp\u001b[0m\u001b[0;34m.\u001b[0m\u001b[0mdot\u001b[0m\u001b[0;34m(\u001b[0m\u001b[0mA\u001b[0m\u001b[0;34m,\u001b[0m \u001b[0mC\u001b[0m\u001b[0;34m)\u001b[0m \u001b[0;34m)\u001b[0m\u001b[0;34m)\u001b[0m \u001b[0;31m# 오류\u001b[0m\u001b[0;34m\u001b[0m\u001b[0;34m\u001b[0m\u001b[0m\n\u001b[0m",
            "\u001b[0;32m<__array_function__ internals>\u001b[0m in \u001b[0;36mdot\u001b[0;34m(*args, **kwargs)\u001b[0m\n",
            "\u001b[0;31mValueError\u001b[0m: shapes (2,3) and (2,2) not aligned: 3 (dim 1) != 2 (dim 0)"
          ]
        }
      ]
    },
    {
      "cell_type": "code",
      "metadata": {
        "colab": {
          "base_uri": "https://localhost:8080/"
        },
        "id": "1EbtOCwSYY7M",
        "outputId": "23a53dde-47e2-4f0c-8ea0-3a2690ff66f2"
      },
      "source": [
        "print(\" C X A : \\n{}\".format( np.dot(C, A) ))"
      ],
      "execution_count": 8,
      "outputs": [
        {
          "output_type": "stream",
          "text": [
            " C X A : \n",
            "[[ 9 12 15]\n",
            " [19 26 33]]\n"
          ],
          "name": "stdout"
        }
      ]
    },
    {
      "cell_type": "markdown",
      "metadata": {
        "id": "ngzajrvDYh6W"
      },
      "source": [
        "차원 수가 다른 경우의 계산도 가능하다."
      ]
    },
    {
      "cell_type": "code",
      "metadata": {
        "colab": {
          "base_uri": "https://localhost:8080/"
        },
        "id": "N6K0AI8AYY9u",
        "outputId": "707e8703-0b9a-4047-f879-62e8baa372bc"
      },
      "source": [
        "A = np.array([[1, 2],\r\n",
        "              [3, 4],\r\n",
        "              [5, 6]])\r\n",
        "\r\n",
        "B = np.array([7, 8])\r\n",
        "\r\n",
        "print(\"행렬 A의 shape : {}\".format(A.shape))\r\n",
        "print(\"행렬 B의 shape : {}\".format(B.shape))"
      ],
      "execution_count": 9,
      "outputs": [
        {
          "output_type": "stream",
          "text": [
            "행렬 A의 shape : (3, 2)\n",
            "행렬 B의 shape : (2,)\n"
          ],
          "name": "stdout"
        }
      ]
    },
    {
      "cell_type": "code",
      "metadata": {
        "colab": {
          "base_uri": "https://localhost:8080/"
        },
        "id": "qCXTtbiXYm8r",
        "outputId": "0822f465-ccd6-4211-d3d2-0081bcf80de9"
      },
      "source": [
        "print(\" A X B : \\n{}\".format( np.dot(A, B) ))"
      ],
      "execution_count": 10,
      "outputs": [
        {
          "output_type": "stream",
          "text": [
            " A X B : \n",
            "[23 53 83]\n"
          ],
          "name": "stdout"
        }
      ]
    },
    {
      "cell_type": "code",
      "metadata": {
        "colab": {
          "base_uri": "https://localhost:8080/",
          "height": 196
        },
        "id": "9ZZFB-KeYm_L",
        "outputId": "eb0158b9-7885-4e1e-9324-a741f7318f1e"
      },
      "source": [
        "print(\" B X A : \\n{}\".format( np.dot(B, A) )) # 오류"
      ],
      "execution_count": 11,
      "outputs": [
        {
          "output_type": "error",
          "ename": "ValueError",
          "evalue": "ignored",
          "traceback": [
            "\u001b[0;31m---------------------------------------------------------------------------\u001b[0m",
            "\u001b[0;31mValueError\u001b[0m                                Traceback (most recent call last)",
            "\u001b[0;32m<ipython-input-11-2d15d50c72d1>\u001b[0m in \u001b[0;36m<module>\u001b[0;34m()\u001b[0m\n\u001b[0;32m----> 1\u001b[0;31m \u001b[0mprint\u001b[0m\u001b[0;34m(\u001b[0m\u001b[0;34m\" B X A : \\n{}\"\u001b[0m\u001b[0;34m.\u001b[0m\u001b[0mformat\u001b[0m\u001b[0;34m(\u001b[0m \u001b[0mnp\u001b[0m\u001b[0;34m.\u001b[0m\u001b[0mdot\u001b[0m\u001b[0;34m(\u001b[0m\u001b[0mB\u001b[0m\u001b[0;34m,\u001b[0m \u001b[0mA\u001b[0m\u001b[0;34m)\u001b[0m \u001b[0;34m)\u001b[0m\u001b[0;34m)\u001b[0m\u001b[0;34m\u001b[0m\u001b[0;34m\u001b[0m\u001b[0m\n\u001b[0m",
            "\u001b[0;32m<__array_function__ internals>\u001b[0m in \u001b[0;36mdot\u001b[0;34m(*args, **kwargs)\u001b[0m\n",
            "\u001b[0;31mValueError\u001b[0m: shapes (2,) and (3,2) not aligned: 2 (dim 0) != 3 (dim 0)"
          ]
        }
      ]
    }
  ]
}