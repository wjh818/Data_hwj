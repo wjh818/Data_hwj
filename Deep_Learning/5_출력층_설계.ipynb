{
  "nbformat": 4,
  "nbformat_minor": 0,
  "metadata": {
    "colab": {
      "name": "5. 출력층 설계",
      "provenance": [],
      "authorship_tag": "ABX9TyNBJnwDFGP9fFy/eVB7MVWY",
      "include_colab_link": true
    },
    "kernelspec": {
      "name": "python3",
      "display_name": "Python 3"
    }
  },
  "cells": [
    {
      "cell_type": "markdown",
      "metadata": {
        "id": "view-in-github",
        "colab_type": "text"
      },
      "source": [
        "<a href=\"https://colab.research.google.com/github/wjh818/Data_hwj/blob/main/Deep_Learning/5_%EC%B6%9C%EB%A0%A5%EC%B8%B5_%EC%84%A4%EA%B3%84.ipynb\" target=\"_parent\"><img src=\"https://colab.research.google.com/assets/colab-badge.svg\" alt=\"Open In Colab\"/></a>"
      ]
    },
    {
      "cell_type": "markdown",
      "metadata": {
        "id": "ufX_ZmBvvq2S"
      },
      "source": [
        "# 출력층의 활성화 함수\r\n",
        "* 이진 분류(Binary Classification) : $softmax$, $sigmoid$ 함수를 주료 사용\r\n",
        "* 다중 분류(Mulitple Classification) : $softmax$\r\n",
        "\r\n",
        "보통 전천후 함수로 $softmax$ 함수를 주로 사용하는 추세이고, $sigmoid$를 출력층의 활성화 함수로 사용할 때는 **출력층의 뉴런은 한개로 설정**한다.\r\n",
        "\r\n",
        "$$\r\n",
        "y_k = \\frac{exp(a_k)}{\\sum_{i=1}^n exp(a_i)}\r\n",
        "\r\n",
        "$$"
      ]
    },
    {
      "cell_type": "code",
      "metadata": {
        "colab": {
          "base_uri": "https://localhost:8080/"
        },
        "id": "bRaDVEHrwMkS",
        "outputId": "6113f641-cf11-40a0-ceba-85e7d8b7ffbf"
      },
      "source": [
        "# softmax 함수 구현하기 - 원리\r\n",
        "import numpy as np\r\n",
        "\r\n",
        "a = np.array( [0.3, 2.9, 4.0] )\r\n",
        "\r\n",
        "# 분자 계산\r\n",
        "exp_a = np.exp(a) # 모든 입력 신호에 대한 지수 함수 적용\r\n",
        "\r\n",
        "# 분모 계산\r\n",
        "sum_exp_a = np.sum(exp_a) # 모든 입력 신호에 대한 지수 함수의 합\r\n",
        "\r\n",
        "y = exp_a / sum_exp_a\r\n",
        "print(\"softmax 결괏값 : {}\".format(y))"
      ],
      "execution_count": 2,
      "outputs": [
        {
          "output_type": "stream",
          "text": [
            "softmax 결괏값 : [0.01821127 0.24519181 0.73659691]\n"
          ],
          "name": "stdout"
        }
      ]
    },
    {
      "cell_type": "code",
      "metadata": {
        "colab": {
          "base_uri": "https://localhost:8080/"
        },
        "id": "zm64rAqCwMqQ",
        "outputId": "4bd584d2-65bb-46ee-fa01-b451d39f4200"
      },
      "source": [
        "print(\"softmax 결괏값의 총 합 : {}\".format(np.sum(y)))"
      ],
      "execution_count": 3,
      "outputs": [
        {
          "output_type": "stream",
          "text": [
            "softmax 결괏값의 총 합 : 1.0\n"
          ],
          "name": "stdout"
        }
      ]
    },
    {
      "cell_type": "markdown",
      "metadata": {
        "id": "3j4sPPNLzRje"
      },
      "source": [
        "$softmax$ 함수 직접 구현"
      ]
    },
    {
      "cell_type": "code",
      "metadata": {
        "id": "jdbF33_CwMtF"
      },
      "source": [
        "def softmax(a):\r\n",
        "  exp_a = np.exp(a)\r\n",
        "  sum_exp_a = np.sum(exp_a)\r\n",
        "  y = exp_a / sum_exp_a\r\n",
        "\r\n",
        "  return y"
      ],
      "execution_count": 4,
      "outputs": []
    },
    {
      "cell_type": "code",
      "metadata": {
        "colab": {
          "base_uri": "https://localhost:8080/"
        },
        "id": "VNrAc3Z9wMvu",
        "outputId": "8a6c9e11-1225-4cdb-afe5-4568056ac40f"
      },
      "source": [
        "# 위에와 결과가 똑같은 것을 볼 수 있다\r\n",
        "softmax(a)"
      ],
      "execution_count": 5,
      "outputs": [
        {
          "output_type": "execute_result",
          "data": {
            "text/plain": [
              "array([0.01821127, 0.24519181, 0.73659691])"
            ]
          },
          "metadata": {
            "tags": []
          },
          "execution_count": 5
        }
      ]
    },
    {
      "cell_type": "markdown",
      "metadata": {
        "id": "zpLnZikWzqkj"
      },
      "source": [
        "$softmax$ 함수 튜닝하기"
      ]
    },
    {
      "cell_type": "code",
      "metadata": {
        "colab": {
          "base_uri": "https://localhost:8080/"
        },
        "id": "p3rIEvvYwMyJ",
        "outputId": "aea40ff7-63c9-42b5-8878-7306a1da73fe"
      },
      "source": [
        "big_a = np.array([1010, 1000, 990])\r\n",
        "print(softmax(big_a))"
      ],
      "execution_count": 6,
      "outputs": [
        {
          "output_type": "stream",
          "text": [
            "[nan nan nan]\n"
          ],
          "name": "stdout"
        },
        {
          "output_type": "stream",
          "text": [
            "/usr/local/lib/python3.6/dist-packages/ipykernel_launcher.py:2: RuntimeWarning: overflow encountered in exp\n",
            "  \n",
            "/usr/local/lib/python3.6/dist-packages/ipykernel_launcher.py:4: RuntimeWarning: invalid value encountered in true_divide\n",
            "  after removing the cwd from sys.path.\n"
          ],
          "name": "stderr"
        }
      ]
    },
    {
      "cell_type": "markdown",
      "metadata": {
        "id": "IweGv6oL0IXy"
      },
      "source": [
        "## 오버플로우 발생 원인\r\n",
        "\r\n",
        "$exp$함수는 지수함수이다. $e^{10}$ 은 약 20,000 이고, $e^{100}$은 0이 40개 넘어가고, $e^{1000}$은 컴퓨팅 시스템에서 무한대를 의미하는 $inf$를 의미\r\n",
        "\r\n",
        "해결하기 위해서 $log$를 활용한다. 참고로 지수함수에서의 $log$는 뺄셈을 의미한다.\r\n",
        "\r\n",
        "\r\n",
        "$$\r\n",
        "y_k = \\frac{exp(a_k)}{\\sum_{i=1}^n exp(a_i)} = \\frac{C\\,exp(a_k)}{C\\,\\sum_{i=1}^n exp(a_i)} = \\frac{exp(a_k+logC)}{\\sum_{i=1}^n exp(a_i+logC)} = \\frac{exp(a_k+C^\\prime)}{\\sum_{i=1}^n exp(a_i+C^\\prime)} \r\n",
        "$$\r\n",
        "\r\n",
        "1. 분자와 분모에 $C$라는 임의의 정수를 곱합니다.\r\n",
        "2. $C$를 지수 함수 $exp$안으로 옮겨서 $log C$로 만들어 준다.\r\n",
        "3. $log C$를 $C^{'}$ 이라는 새로운 기호로 바꿔준다."
      ]
    },
    {
      "cell_type": "code",
      "metadata": {
        "colab": {
          "base_uri": "https://localhost:8080/"
        },
        "id": "gb84_z85wM1V",
        "outputId": "4f68a88b-3823-457c-ac12-ead2dbb7919d"
      },
      "source": [
        "# 보통 상수 C는 입력값 중에 제일 큰값으로 선정한다.\r\n",
        "c = np.max(big_a)\r\n",
        "print(big_a - c)"
      ],
      "execution_count": 7,
      "outputs": [
        {
          "output_type": "stream",
          "text": [
            "[  0 -10 -20]\n"
          ],
          "name": "stdout"
        }
      ]
    },
    {
      "cell_type": "code",
      "metadata": {
        "colab": {
          "base_uri": "https://localhost:8080/"
        },
        "id": "SjMAxdPewM5u",
        "outputId": "01eea38f-15ff-4356-fe44-5669d2266e75"
      },
      "source": [
        "print(np.exp(big_a - c) / np.sum(np.exp(big_a - c)))"
      ],
      "execution_count": 8,
      "outputs": [
        {
          "output_type": "stream",
          "text": [
            "[9.99954600e-01 4.53978686e-05 2.06106005e-09]\n"
          ],
          "name": "stdout"
        }
      ]
    },
    {
      "cell_type": "code",
      "metadata": {
        "id": "cB9gM7SIwM83"
      },
      "source": [
        "def softmax(a):\r\n",
        "  c = np.max(a) # 상수 c 구하기( 입력의 최댓값 )\r\n",
        "  exp_a = np.exp( a - c ) # a + log C\r\n",
        "\r\n",
        "  sum_exp_a = np.sum(exp_a)\r\n",
        "  y = exp_a / sum_exp_a\r\n",
        "\r\n",
        "  return y"
      ],
      "execution_count": 9,
      "outputs": []
    },
    {
      "cell_type": "code",
      "metadata": {
        "colab": {
          "base_uri": "https://localhost:8080/"
        },
        "id": "muimdhkiwM_p",
        "outputId": "470d5c83-d3ff-4e1a-aba3-9bf7f0463f0b"
      },
      "source": [
        "big_y = softmax(big_a)\r\n",
        "print(\"softmax 결과 : {}\".format(big_y))\r\n",
        "print(\"softmax 총합 : {}\".format(np.sum(big_y)))"
      ],
      "execution_count": 10,
      "outputs": [
        {
          "output_type": "stream",
          "text": [
            "softmax 결과 : [9.99954600e-01 4.53978686e-05 2.06106005e-09]\n",
            "softmax 총합 : 1.0\n"
          ],
          "name": "stdout"
        }
      ]
    },
    {
      "cell_type": "code",
      "metadata": {
        "colab": {
          "base_uri": "https://localhost:8080/"
        },
        "id": "NCTdry3VwNMJ",
        "outputId": "22b99447-894c-4d33-c349-da9b3ebf96c2"
      },
      "source": [
        "y = softmax(a)\r\n",
        "print(\"softmax 결과 : {}\".format(y))\r\n",
        "print(\"softmax 총합 : {}\".format(np.sum(y)))"
      ],
      "execution_count": 11,
      "outputs": [
        {
          "output_type": "stream",
          "text": [
            "softmax 결과 : [0.01821127 0.24519181 0.73659691]\n",
            "softmax 총합 : 1.0\n"
          ],
          "name": "stdout"
        }
      ]
    },
    {
      "cell_type": "code",
      "metadata": {
        "id": "zX1EAH5I3gS1"
      },
      "source": [
        ""
      ],
      "execution_count": null,
      "outputs": []
    },
    {
      "cell_type": "code",
      "metadata": {
        "id": "YcgSIM9s3gVc"
      },
      "source": [
        ""
      ],
      "execution_count": null,
      "outputs": []
    },
    {
      "cell_type": "code",
      "metadata": {
        "id": "t7nV9UBf3gY1"
      },
      "source": [
        ""
      ],
      "execution_count": null,
      "outputs": []
    },
    {
      "cell_type": "code",
      "metadata": {
        "id": "Xj8EgYkk3gbu"
      },
      "source": [
        ""
      ],
      "execution_count": null,
      "outputs": []
    },
    {
      "cell_type": "code",
      "metadata": {
        "id": "8KZXkTc83get"
      },
      "source": [
        ""
      ],
      "execution_count": null,
      "outputs": []
    },
    {
      "cell_type": "code",
      "metadata": {
        "id": "-LvWsRv03ghZ"
      },
      "source": [
        ""
      ],
      "execution_count": null,
      "outputs": []
    },
    {
      "cell_type": "code",
      "metadata": {
        "id": "VCXzFqm03gkn"
      },
      "source": [
        ""
      ],
      "execution_count": null,
      "outputs": []
    },
    {
      "cell_type": "code",
      "metadata": {
        "id": "izcZejzf3gnH"
      },
      "source": [
        ""
      ],
      "execution_count": null,
      "outputs": []
    },
    {
      "cell_type": "code",
      "metadata": {
        "id": "FNt9QZMi3gqp"
      },
      "source": [
        ""
      ],
      "execution_count": null,
      "outputs": []
    },
    {
      "cell_type": "code",
      "metadata": {
        "id": "p3jmyC963gtY"
      },
      "source": [
        ""
      ],
      "execution_count": null,
      "outputs": []
    },
    {
      "cell_type": "code",
      "metadata": {
        "id": "zxH6YXek3gv5"
      },
      "source": [
        ""
      ],
      "execution_count": null,
      "outputs": []
    },
    {
      "cell_type": "code",
      "metadata": {
        "id": "Gf8ffJ-r3gyr"
      },
      "source": [
        ""
      ],
      "execution_count": null,
      "outputs": []
    },
    {
      "cell_type": "code",
      "metadata": {
        "id": "hltZ_H1k3g_e"
      },
      "source": [
        ""
      ],
      "execution_count": null,
      "outputs": []
    },
    {
      "cell_type": "code",
      "metadata": {
        "id": "EZeKJnaB3hCA"
      },
      "source": [
        ""
      ],
      "execution_count": null,
      "outputs": []
    },
    {
      "cell_type": "code",
      "metadata": {
        "id": "DGQjl7BX3hE-"
      },
      "source": [
        ""
      ],
      "execution_count": null,
      "outputs": []
    },
    {
      "cell_type": "code",
      "metadata": {
        "id": "uXROQi4c3hH-"
      },
      "source": [
        ""
      ],
      "execution_count": null,
      "outputs": []
    },
    {
      "cell_type": "code",
      "metadata": {
        "id": "T3lieORz3hK6"
      },
      "source": [
        ""
      ],
      "execution_count": null,
      "outputs": []
    },
    {
      "cell_type": "code",
      "metadata": {
        "id": "AHXG1kHX3hP7"
      },
      "source": [
        ""
      ],
      "execution_count": null,
      "outputs": []
    },
    {
      "cell_type": "code",
      "metadata": {
        "id": "bNQC9-mK3hSm"
      },
      "source": [
        ""
      ],
      "execution_count": null,
      "outputs": []
    }
  ]
}