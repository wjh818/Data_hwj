{
  "nbformat": 4,
  "nbformat_minor": 0,
  "metadata": {
    "colab": {
      "name": "5. 출력층 설계",
      "provenance": [],
      "authorship_tag": "ABX9TyMRnfxNA9V6Y64xm1sjEqFl",
      "include_colab_link": true
    },
    "kernelspec": {
      "name": "python3",
      "display_name": "Python 3"
    }
  },
  "cells": [
    {
      "cell_type": "markdown",
      "metadata": {
        "id": "view-in-github",
        "colab_type": "text"
      },
      "source": [
        "<a href=\"https://colab.research.google.com/github/wjh818/Data_hwj/blob/main/Deep_Learning/5_%EC%B6%9C%EB%A0%A5%EC%B8%B5_%EC%84%A4%EA%B3%84.ipynb\" target=\"_parent\"><img src=\"https://colab.research.google.com/assets/colab-badge.svg\" alt=\"Open In Colab\"/></a>"
      ]
    },
    {
      "cell_type": "markdown",
      "metadata": {
        "id": "ufX_ZmBvvq2S"
      },
      "source": [
        "# 출력층의 활성화 함수\r\n",
        "* 이진 분류(Binary Classification) : $softmax$, $sigmoid$ 함수를 주료 사용\r\n",
        "* 다중 분류(Mulitple Classification) : $softmax$\r\n",
        "\r\n",
        "보통 전천후 함수로 $softmax$ 함수를 주로 사용하는 추세이고, $sigmoid$를 출력층의 활성화 함수로 사용할 때는 **출력층의 뉴런은 한개로 설정**한다.\r\n",
        "\r\n",
        "$$\r\n",
        "y_k = \\frac{exp(a_k)}{\\sum_{i=1}^n exp(a_i)}\r\n",
        "\r\n",
        "$$"
      ]
    },
    {
      "cell_type": "code",
      "metadata": {
        "colab": {
          "base_uri": "https://localhost:8080/"
        },
        "id": "bRaDVEHrwMkS",
        "outputId": "0100ac0f-e598-452c-e5e1-557cf6103c7a"
      },
      "source": [
        "# softmax 함수 구현하기 - 원리\r\n",
        "import numpy as np\r\n",
        "\r\n",
        "a = np.array( [0.3, 2.9, 4.0] )\r\n",
        "\r\n",
        "# 분자 계산\r\n",
        "exp_a = np.exp(a) # 모든 입력 신호에 대한 지수 함수 적용\r\n",
        "\r\n",
        "# 분모 계산\r\n",
        "sum_exp_a = np.sum(exp_a) # 모든 입력 신호에 대한 지수 함수의 합\r\n",
        "\r\n",
        "y = exp_a / sum_exp_a\r\n",
        "print(\"softmax 결괏값 : {}\".format(y))"
      ],
      "execution_count": 1,
      "outputs": [
        {
          "output_type": "stream",
          "text": [
            "softmax 결괏값 : [0.01821127 0.24519181 0.73659691]\n"
          ],
          "name": "stdout"
        }
      ]
    },
    {
      "cell_type": "code",
      "metadata": {
        "colab": {
          "base_uri": "https://localhost:8080/"
        },
        "id": "zm64rAqCwMqQ",
        "outputId": "011118ac-317e-455f-f34b-19a669792a5d"
      },
      "source": [
        "print(\"softmax 결괏값의 총 합 : {}\".format(np.sum(y)))"
      ],
      "execution_count": 2,
      "outputs": [
        {
          "output_type": "stream",
          "text": [
            "softmax 결괏값의 총 합 : 1.0\n"
          ],
          "name": "stdout"
        }
      ]
    },
    {
      "cell_type": "markdown",
      "metadata": {
        "id": "3j4sPPNLzRje"
      },
      "source": [
        "$softmax$ 함수 직접 구현"
      ]
    },
    {
      "cell_type": "code",
      "metadata": {
        "id": "jdbF33_CwMtF"
      },
      "source": [
        "def softmax(a):\r\n",
        "  exp_a = np.exp(a)\r\n",
        "  sum_exp_a = np.sum(exp_a)\r\n",
        "  y = exp_a / sum_exp_a\r\n",
        "\r\n",
        "  return y"
      ],
      "execution_count": 3,
      "outputs": []
    },
    {
      "cell_type": "code",
      "metadata": {
        "colab": {
          "base_uri": "https://localhost:8080/"
        },
        "id": "VNrAc3Z9wMvu",
        "outputId": "0676fd84-5fd7-483e-8699-a157ecdec460"
      },
      "source": [
        "# 위에와 결과가 똑같은 것을 볼 수 있다\r\n",
        "softmax(a)"
      ],
      "execution_count": 4,
      "outputs": [
        {
          "output_type": "execute_result",
          "data": {
            "text/plain": [
              "array([0.01821127, 0.24519181, 0.73659691])"
            ]
          },
          "metadata": {
            "tags": []
          },
          "execution_count": 4
        }
      ]
    },
    {
      "cell_type": "markdown",
      "metadata": {
        "id": "zpLnZikWzqkj"
      },
      "source": [
        "$softmax$ 함수 튜닝하기"
      ]
    },
    {
      "cell_type": "code",
      "metadata": {
        "colab": {
          "base_uri": "https://localhost:8080/"
        },
        "id": "p3rIEvvYwMyJ",
        "outputId": "62aca2cc-91fe-4f93-8080-c6db86e34e15"
      },
      "source": [
        "big_a = np.array([1010, 1000, 990])\r\n",
        "print(softmax(big_a))"
      ],
      "execution_count": 5,
      "outputs": [
        {
          "output_type": "stream",
          "text": [
            "[nan nan nan]\n"
          ],
          "name": "stdout"
        },
        {
          "output_type": "stream",
          "text": [
            "/usr/local/lib/python3.6/dist-packages/ipykernel_launcher.py:2: RuntimeWarning: overflow encountered in exp\n",
            "  \n",
            "/usr/local/lib/python3.6/dist-packages/ipykernel_launcher.py:4: RuntimeWarning: invalid value encountered in true_divide\n",
            "  after removing the cwd from sys.path.\n"
          ],
          "name": "stderr"
        }
      ]
    },
    {
      "cell_type": "markdown",
      "metadata": {
        "id": "IweGv6oL0IXy"
      },
      "source": [
        "## 오버플로우 발생 원인\r\n",
        "\r\n",
        "$exp$함수는 지수함수이다. $e^{10}$ 은 약 20,000 이고, $e^{100}$은 0이 40개 넘어가고, $e^{1000}$은 컴퓨팅 시스템에서 무한대를 의미하는 $inf$를 의미\r\n",
        "\r\n",
        "해결하기 위해서 $log$를 활용한다. 참고로 지수함수에서의 $log$는 뺄셈을 의미한다.\r\n",
        "\r\n",
        "\r\n",
        "$$\r\n",
        "y_k = \\frac{exp(a_k)}{\\sum_{i=1}^n exp(a_i)} = \\frac{C\\,exp(a_k)}{C\\,\\sum_{i=1}^n exp(a_i)} = \\frac{exp(a_k+logC)}{\\sum_{i=1}^n exp(a_i+logC)} = \\frac{exp(a_k+C^\\prime)}{\\sum_{i=1}^n exp(a_i+C^\\prime)} \r\n",
        "$$\r\n",
        "\r\n",
        "1. 분자와 분모에 $C$라는 임의의 정수를 곱합니다.\r\n",
        "2. $C$를 지수 함수 $exp$안으로 옮겨서 $log C$로 만들어 준다.\r\n",
        "3. $log C$를 $C^{'}$ 이라는 새로운 기호로 바꿔준다."
      ]
    },
    {
      "cell_type": "code",
      "metadata": {
        "colab": {
          "base_uri": "https://localhost:8080/"
        },
        "id": "gb84_z85wM1V",
        "outputId": "a82666f8-964b-415d-cf62-a94758ea81be"
      },
      "source": [
        "# 보통 상수 C는 입력값 중에 제일 큰값으로 선정한다.\r\n",
        "c = np.max(big_a)\r\n",
        "print(big_a - c)"
      ],
      "execution_count": 6,
      "outputs": [
        {
          "output_type": "stream",
          "text": [
            "[  0 -10 -20]\n"
          ],
          "name": "stdout"
        }
      ]
    },
    {
      "cell_type": "code",
      "metadata": {
        "colab": {
          "base_uri": "https://localhost:8080/"
        },
        "id": "SjMAxdPewM5u",
        "outputId": "bc081f90-1df4-4fac-e6cd-78ac73a2a76e"
      },
      "source": [
        "print(np.exp(big_a - c) / np.sum(np.exp(big_a - c)))"
      ],
      "execution_count": 7,
      "outputs": [
        {
          "output_type": "stream",
          "text": [
            "[9.99954600e-01 4.53978686e-05 2.06106005e-09]\n"
          ],
          "name": "stdout"
        }
      ]
    },
    {
      "cell_type": "code",
      "metadata": {
        "id": "cB9gM7SIwM83"
      },
      "source": [
        "def softmax(a):\r\n",
        "  c = np.max(a) # 상수 c 구하기( 입력의 최댓값 )\r\n",
        "  exp_a = np.exp( a - c ) # a + log C\r\n",
        "\r\n",
        "  sum_exp_a = np.sum(exp_a)\r\n",
        "  y = exp_a / sum_exp_a\r\n",
        "\r\n",
        "  return y"
      ],
      "execution_count": 8,
      "outputs": []
    },
    {
      "cell_type": "code",
      "metadata": {
        "colab": {
          "base_uri": "https://localhost:8080/"
        },
        "id": "muimdhkiwM_p",
        "outputId": "b118bdac-48b0-480d-9ca8-3ef94121d60e"
      },
      "source": [
        "big_y = softmax(big_a)\r\n",
        "print(\"softmax 결과 : {}\".format(big_y))\r\n",
        "print(\"softmax 총합 : {}\".format(np.sum(big_y)))"
      ],
      "execution_count": 9,
      "outputs": [
        {
          "output_type": "stream",
          "text": [
            "softmax 결과 : [9.99954600e-01 4.53978686e-05 2.06106005e-09]\n",
            "softmax 총합 : 1.0\n"
          ],
          "name": "stdout"
        }
      ]
    },
    {
      "cell_type": "code",
      "metadata": {
        "colab": {
          "base_uri": "https://localhost:8080/"
        },
        "id": "NCTdry3VwNMJ",
        "outputId": "a9b64e82-dced-45d2-8085-458fcc52c4f9"
      },
      "source": [
        "y = softmax(a)\r\n",
        "print(\"softmax 결과 : {}\".format(y))\r\n",
        "print(\"softmax 총합 : {}\".format(np.sum(y)))"
      ],
      "execution_count": 10,
      "outputs": [
        {
          "output_type": "stream",
          "text": [
            "softmax 결과 : [0.01821127 0.24519181 0.73659691]\n",
            "softmax 총합 : 1.0\n"
          ],
          "name": "stdout"
        }
      ]
    },
    {
      "cell_type": "markdown",
      "metadata": {
        "id": "G7nOH_GCp4LU"
      },
      "source": [
        "# 텐서플로우 MNIST 데이터 불러오고 형상 다루기"
      ]
    },
    {
      "cell_type": "code",
      "metadata": {
        "id": "zX1EAH5I3gS1"
      },
      "source": [
        "# tensorflow의 keras를 이용해서 MNIST 불러오기\r\n",
        "import tensorflow as tf\r\n",
        "import matplotlib.pyplot as plt\r\n",
        "\r\n",
        "%matplotlib inline"
      ],
      "execution_count": 11,
      "outputs": []
    },
    {
      "cell_type": "code",
      "metadata": {
        "id": "YcgSIM9s3gVc"
      },
      "source": [
        "# mnist 데이터셋 로딩\r\n",
        "from tensorflow.keras import datasets\r\n",
        "mnist = datasets.mnist\r\n",
        "\r\n",
        "(X_train, y_train), (X_test, y_test) = mnist.load_data()"
      ],
      "execution_count": 12,
      "outputs": []
    },
    {
      "cell_type": "markdown",
      "metadata": {
        "id": "VL_fNfwDsOsn"
      },
      "source": [
        "모아놓은 데이터의 형상(shape)부터 반드시 확인할 것"
      ]
    },
    {
      "cell_type": "code",
      "metadata": {
        "colab": {
          "base_uri": "https://localhost:8080/"
        },
        "id": "Xj8EgYkk3gbu",
        "outputId": "41814ebc-e77d-4645-f803-4a15041e41f1"
      },
      "source": [
        "X_train.shape"
      ],
      "execution_count": 13,
      "outputs": [
        {
          "output_type": "execute_result",
          "data": {
            "text/plain": [
              "(60000, 28, 28)"
            ]
          },
          "metadata": {
            "tags": []
          },
          "execution_count": 13
        }
      ]
    },
    {
      "cell_type": "code",
      "metadata": {
        "colab": {
          "base_uri": "https://localhost:8080/"
        },
        "id": "8KZXkTc83get",
        "outputId": "af04f501-8c45-42fc-9d46-5a2b9f070ccd"
      },
      "source": [
        "y_train.shape"
      ],
      "execution_count": 14,
      "outputs": [
        {
          "output_type": "execute_result",
          "data": {
            "text/plain": [
              "(60000,)"
            ]
          },
          "metadata": {
            "tags": []
          },
          "execution_count": 14
        }
      ]
    },
    {
      "cell_type": "code",
      "metadata": {
        "colab": {
          "base_uri": "https://localhost:8080/"
        },
        "id": "-LvWsRv03ghZ",
        "outputId": "f99ad745-1187-4d78-e50c-ad16f0b06756"
      },
      "source": [
        "# 이미지를 시각화\r\n",
        "image = X_train[0] # 첫 번째 이미지 가져오기\r\n",
        "image.shape"
      ],
      "execution_count": 15,
      "outputs": [
        {
          "output_type": "execute_result",
          "data": {
            "text/plain": [
              "(28, 28)"
            ]
          },
          "metadata": {
            "tags": []
          },
          "execution_count": 15
        }
      ]
    },
    {
      "cell_type": "code",
      "metadata": {
        "colab": {
          "base_uri": "https://localhost:8080/",
          "height": 265
        },
        "id": "VCXzFqm03gkn",
        "outputId": "f8a90546-c0cd-4d36-c8ec-26b29a2accc0"
      },
      "source": [
        "# matplotlib의 imshow를 이용해서 이미지 시각화\r\n",
        "plt.imshow(image, 'gray')\r\n",
        "plt.show()"
      ],
      "execution_count": 16,
      "outputs": [
        {
          "output_type": "display_data",
          "data": {
            "image/png": "[encoded data removed]",
            "text/plain": [
              "<Figure size 432x288 with 1 Axes>"
            ]
          },
          "metadata": {
            "tags": [],
            "needs_background": "light"
          }
        }
      ]
    },
    {
      "cell_type": "code",
      "metadata": {
        "colab": {
          "base_uri": "https://localhost:8080/",
          "height": 281
        },
        "id": "izcZejzf3gnH",
        "outputId": "d52fc7d0-869c-46c1-90d9-91e3b2ce7451"
      },
      "source": [
        "plt.imshow(X_train[1], 'gray')\r\n",
        "plt.title(y_train[1])\r\n",
        "plt.show()"
      ],
      "execution_count": 17,
      "outputs": [
        {
          "output_type": "display_data",
          "data": {
            "image/png": "[encoded data removed]",
            "text/plain": [
              "<Figure size 432x288 with 1 Axes>"
            ]
          },
          "metadata": {
            "tags": [],
            "needs_background": "light"
          }
        }
      ]
    },
    {
      "cell_type": "markdown",
      "metadata": {
        "id": "j_2vKUK9zSMO"
      },
      "source": [
        "신경망에 넣을 준비 - 훈련과 학습 모두다 똑같습니다... 1차원 형태로 데이터를 받는 레이어를 다음과 같이 이야기 합니다.\r\n",
        "\r\n",
        "* 신경망 - Dense Layer\r\n",
        "* 기하학 - Affine Layer\r\n",
        "* 통합적 - Fully Connected Layer (완전 연결 계층)\r\n",
        "\r\n",
        "세 방식의 공통점 : 입력되는 데이터의 차원이 (N, M) 여기서 N은 BATCH_SIZE, M은 데이터의 스칼라 개수\r\n",
        "* 배치를 이야기 하지 않으면 (M, )\r\n",
        "* 배치를 이야기 하면 (N, M)\r\n",
        "\r\n",
        "CNN은 Fully Connected Layer가 아니고 2차원 배치 데이터를 사용하기 때문에 입력 데이터의 형상이 `(N, H, W, C)`가 된다."
      ]
    },
    {
      "cell_type": "code",
      "metadata": {
        "colab": {
          "base_uri": "https://localhost:8080/"
        },
        "id": "FNt9QZMi3gqp",
        "outputId": "6ab5e867-1257-45c5-ada3-43eb2f81f426"
      },
      "source": [
        "image = X_train[0].flatten()\r\n",
        "image.shape"
      ],
      "execution_count": 18,
      "outputs": [
        {
          "output_type": "execute_result",
          "data": {
            "text/plain": [
              "(784,)"
            ]
          },
          "metadata": {
            "tags": []
          },
          "execution_count": 18
        }
      ]
    },
    {
      "cell_type": "code",
      "metadata": {
        "colab": {
          "base_uri": "https://localhost:8080/"
        },
        "id": "p3jmyC963gtY",
        "outputId": "db198dfb-6bdb-4b42-bc6b-50057b168d63"
      },
      "source": [
        "image = X_train[0].reshape(-1)\r\n",
        "image.shape"
      ],
      "execution_count": 19,
      "outputs": [
        {
          "output_type": "execute_result",
          "data": {
            "text/plain": [
              "(784,)"
            ]
          },
          "metadata": {
            "tags": []
          },
          "execution_count": 19
        }
      ]
    },
    {
      "cell_type": "code",
      "metadata": {
        "id": "zxH6YXek3gv5"
      },
      "source": [
        "# ravel()은 잘 쓰지 않는다. -> 원본 이미지가 훼손될 염려가 있기 때문에\r\n",
        "# image = np.ravel(X_train[0])\r\n",
        "# image.shape"
      ],
      "execution_count": 20,
      "outputs": []
    },
    {
      "cell_type": "markdown",
      "metadata": {
        "id": "urtIdJyg1zyn"
      },
      "source": [
        "위 처럼 2차원 데이터를 1차원으로 펴는 작업을 **데이터 평탄화**라고 한다."
      ]
    },
    {
      "cell_type": "code",
      "metadata": {
        "colab": {
          "base_uri": "https://localhost:8080/"
        },
        "id": "Gf8ffJ-r3gyr",
        "outputId": "ee1103ef-99e7-42a8-9975-03e3b9381b3f"
      },
      "source": [
        "image.shape"
      ],
      "execution_count": 21,
      "outputs": [
        {
          "output_type": "execute_result",
          "data": {
            "text/plain": [
              "(784,)"
            ]
          },
          "metadata": {
            "tags": []
          },
          "execution_count": 21
        }
      ]
    },
    {
      "cell_type": "code",
      "metadata": {
        "colab": {
          "base_uri": "https://localhost:8080/",
          "height": 265
        },
        "id": "hltZ_H1k3g_e",
        "outputId": "9f27abe5-a7cc-4bf2-c1cb-b8af61cf3591"
      },
      "source": [
        "# 평탄화된 이미지를 원래대로 복구\r\n",
        "image_bokgu = image.reshape(28, 28)\r\n",
        "plt.imshow(image_bokgu, 'gray')\r\n",
        "plt.show()"
      ],
      "execution_count": 22,
      "outputs": [
        {
          "output_type": "display_data",
          "data": {
            "image/png": "[encoded data removed]",
            "text/plain": [
              "<Figure size 432x288 with 1 Axes>"
            ]
          },
          "metadata": {
            "tags": [],
            "needs_background": "light"
          }
        }
      ]
    },
    {
      "cell_type": "markdown",
      "metadata": {
        "id": "yzsaWLdV15ql"
      },
      "source": [
        "MNIST 손글씨 데이터셋을 위한 신경망 만들기 - Fully Connected Layer ( ANN - Affine Neural Network)"
      ]
    },
    {
      "cell_type": "code",
      "metadata": {
        "id": "EZeKJnaB3hCA"
      },
      "source": [
        "# 활성화 함수 구현( 시그모이드 )\r\n",
        "def sigmoid(x):\r\n",
        "  return 1 / (1 + np.exp(-x))\r\n",
        "\r\n",
        "# 테스트용 데이터 가져오기\r\n",
        "def get_test_data():\r\n",
        "  (X_train, y_train), (X_test, y_test) = mnist.load_data()\r\n",
        "\r\n",
        "  IMAGE_SIZE = X_test.shape[0]\r\n",
        "  X_test_reshaped = X_test.reshape(IMAGE_SIZE, -1)\r\n",
        "\r\n",
        "  return X_test_reshaped, y_test\r\n",
        "\r\n",
        "\r\n",
        "\r\n",
        "# 훈련된 신경망 가져오기\r\n",
        "def init_network():\r\n",
        "  import pickle\r\n",
        "  with open('./sample_weight.pkl', 'rb') as f:\r\n",
        "    network = pickle.load(f)\r\n",
        "  \r\n",
        "  return network\r\n",
        "\r\n",
        "def predict(network, x):\r\n",
        "  \r\n",
        "  W1, W2, W3 = network['W1'], network['W2'], network['W3']\r\n",
        "  b1, b2, b3 = network['b1'], network['b2'], network['b3']\r\n",
        "\r\n",
        "  # 구현시에 나는 대부분의 오류는 데이터의 shape 때문이다.\r\n",
        "  # 1. 각 층은 입력되는 값과 해당층의 가중치를 곱하고 편향을 더한다.\r\n",
        "  # 2. (1)에 의해서 계산된 값에 각 층의 활성화 함수를 씌워주고 다음층으로 넘긴다.\r\n",
        "\r\n",
        "  # Layer 1 계산하기 ( 입력 : x )\r\n",
        "  z1 = np.dot(x, W1) + b1\r\n",
        "  a1 = sigmoid(z1)\r\n",
        "\r\n",
        "  # Layer 2 계산하기 ( 입력 : a1 )\r\n",
        "  z2 = np.dot(a1, W2) + b2\r\n",
        "  a2 = sigmoid(z2)\r\n",
        "\r\n",
        "  # Layer 3 계산하기 ( 입력 : a2 ) - 출력층이기 때문에 활성화 함수로 softmax를 사용한다.\r\n",
        "  z3 = np.dot(a2, W3) + b3\r\n",
        "  y = softmax(z3)\r\n",
        "\r\n",
        "  return y"
      ],
      "execution_count": 37,
      "outputs": []
    },
    {
      "cell_type": "code",
      "metadata": {
        "colab": {
          "base_uri": "https://localhost:8080/"
        },
        "id": "DGQjl7BX3hE-",
        "outputId": "b8d12a01-44c7-40ed-a241-247291502e2e"
      },
      "source": [
        "network = init_network()\r\n",
        "W1, W2, W3 = network['W1'], network['W2'], network['W3']\r\n",
        "b1, b2, b3 = network['b1'], network['b2'], network['b3'],\r\n",
        "\r\n",
        "W1.shape, W2.shape, W3.shape"
      ],
      "execution_count": 38,
      "outputs": [
        {
          "output_type": "execute_result",
          "data": {
            "text/plain": [
              "((784, 50), (50, 100), (100, 10))"
            ]
          },
          "metadata": {
            "tags": []
          },
          "execution_count": 38
        }
      ]
    },
    {
      "cell_type": "code",
      "metadata": {
        "colab": {
          "base_uri": "https://localhost:8080/"
        },
        "id": "uXROQi4c3hH-",
        "outputId": "a560a7d7-6064-48d5-ca5f-451c7962ea0b"
      },
      "source": [
        "b1.shape, b2.shape, b2.shape"
      ],
      "execution_count": 39,
      "outputs": [
        {
          "output_type": "execute_result",
          "data": {
            "text/plain": [
              "((50,), (100,), (100,))"
            ]
          },
          "metadata": {
            "tags": []
          },
          "execution_count": 39
        }
      ]
    },
    {
      "cell_type": "markdown",
      "metadata": {
        "id": "6VLGtUP34DYD"
      },
      "source": [
        "이미지 한장을 예측 (predict)\r\n",
        "\r\n",
        "* 각 은닉층의 활성화 함수는 $sigmoid$로 설정\r\n",
        "* 제일 마지막 출력층의 활성화 함수는 $softmax$로 설정"
      ]
    },
    {
      "cell_type": "code",
      "metadata": {
        "colab": {
          "base_uri": "https://localhost:8080/"
        },
        "id": "WHNmKkQ2HEtO",
        "outputId": "e7062c45-8cfc-48af-a43b-3f6bc432d3ec"
      },
      "source": [
        "X, y = get_test_data()\r\n",
        "\r\n",
        "test_image, test_target = X[0], y[0]\r\n",
        "\r\n",
        "test_image.shape, test_target.shape"
      ],
      "execution_count": 40,
      "outputs": [
        {
          "output_type": "execute_result",
          "data": {
            "text/plain": [
              "((784,), ())"
            ]
          },
          "metadata": {
            "tags": []
          },
          "execution_count": 40
        }
      ]
    },
    {
      "cell_type": "code",
      "metadata": {
        "colab": {
          "base_uri": "https://localhost:8080/"
        },
        "id": "VMwQ9FsrI1lt",
        "outputId": "295e0004-4db5-48f9-f65a-3fea18c715b8"
      },
      "source": [
        "network = init_network()\r\n",
        "\r\n",
        "test_result = predict(network, test_image)\r\n",
        "test_result, test_target"
      ],
      "execution_count": 41,
      "outputs": [
        {
          "output_type": "stream",
          "text": [
            "/usr/local/lib/python3.6/dist-packages/ipykernel_launcher.py:3: RuntimeWarning: overflow encountered in exp\n",
            "  This is separate from the ipykernel package so we can avoid doing imports until\n"
          ],
          "name": "stderr"
        },
        {
          "output_type": "execute_result",
          "data": {
            "text/plain": [
              "(array([4.2879005e-06, 4.5729317e-07, 1.8486280e-04, 8.3605024e-05,\n",
              "        1.5084674e-07, 6.3182205e-07, 4.5782045e-10, 9.9919468e-01,\n",
              "        3.8066935e-07, 5.3083024e-04], dtype=float32), 7)"
            ]
          },
          "metadata": {
            "tags": []
          },
          "execution_count": 41
        }
      ]
    },
    {
      "cell_type": "code",
      "metadata": {
        "colab": {
          "base_uri": "https://localhost:8080/"
        },
        "id": "zzLV8DjNJur4",
        "outputId": "abbabbc2-35ab-46b1-8994-4fadbb48463c"
      },
      "source": [
        "np.argmax(test_result) == test_target"
      ],
      "execution_count": 42,
      "outputs": [
        {
          "output_type": "execute_result",
          "data": {
            "text/plain": [
              "True"
            ]
          },
          "metadata": {
            "tags": []
          },
          "execution_count": 42
        }
      ]
    },
    {
      "cell_type": "code",
      "metadata": {
        "colab": {
          "base_uri": "https://localhost:8080/",
          "height": 281
        },
        "id": "_2IlFl77Juul",
        "outputId": "e1aa1066-5e00-4e45-96a9-a369e96d030b"
      },
      "source": [
        "plt.imshow(test_image.reshape(28, 28), 'gray')\r\n",
        "plt.title(test_target)\r\n",
        "plt.show()"
      ],
      "execution_count": 43,
      "outputs": [
        {
          "output_type": "display_data",
          "data": {
            "image/png": "[encoded data removed]",
            "text/plain": [
              "<Figure size 432x288 with 1 Axes>"
            ]
          },
          "metadata": {
            "tags": [],
            "needs_background": "light"
          }
        }
      ]
    },
    {
      "cell_type": "markdown",
      "metadata": {
        "id": "rO0pKy1mJ_bK"
      },
      "source": [
        "network의 정확도(accuracy) 구하기"
      ]
    },
    {
      "cell_type": "code",
      "metadata": {
        "colab": {
          "base_uri": "https://localhost:8080/"
        },
        "id": "e-GPhUDQKB-o",
        "outputId": "3a75b7fb-8bc6-40b6-da53-726a3ec8b88d"
      },
      "source": [
        "X, y = get_test_data()\r\n",
        "\r\n",
        "network = init_network()\r\n",
        "accuracy_count = 0 # 정답을 맞춘 개수를 저장\r\n",
        "\r\n",
        "# 사진을 한장씩 꺼내서 predict 하기\r\n",
        "for i in range(len(X)):\r\n",
        "  pred = predict(network, X[i]) # (10, )\r\n",
        "  pred = np.argmax(pred) # 확률이 가장 높은 원소의 인덱스\r\n",
        "\r\n",
        "  # 예측한 것과 정답이 같으면\r\n",
        "  if pred == y[i]:\r\n",
        "    accuracy_count += 1\r\n",
        "  \r\n",
        "\r\n",
        "print(float(accuracy_count) / len(X)) # 평균 정답 구하기"
      ],
      "execution_count": 44,
      "outputs": [
        {
          "output_type": "stream",
          "text": [
            "/usr/local/lib/python3.6/dist-packages/ipykernel_launcher.py:3: RuntimeWarning: overflow encountered in exp\n",
            "  This is separate from the ipykernel package so we can avoid doing imports until\n"
          ],
          "name": "stderr"
        },
        {
          "output_type": "stream",
          "text": [
            "0.9207\n"
          ],
          "name": "stdout"
        }
      ]
    },
    {
      "cell_type": "markdown",
      "metadata": {
        "id": "3As8kt0COIch"
      },
      "source": [
        "위의 코드의 단점\r\n",
        "* 10,000장의 이미지를 한장씩 예측하고 있다.\r\n",
        "* 시간이 오래걸린다는 이야기.\r\n",
        "\r\n",
        "어떻게 해결할 수 있을까?\r\n",
        "* BATCH를 사용해서 한장씩이 아닌 뭉터기로 예측하게 하겠다.\r\n",
        "* BATCH란 데이터의 뭉터기"
      ]
    },
    {
      "cell_type": "code",
      "metadata": {
        "colab": {
          "base_uri": "https://localhost:8080/"
        },
        "id": "aIj5WyzdOeow",
        "outputId": "175492fb-dcb1-423c-e040-f955c9632fa5"
      },
      "source": [
        "# 배치를 활용한 예측\r\n",
        "X, y = get_test_data()\r\n",
        "\r\n",
        "network = init_network()\r\n",
        "\r\n",
        "# 배치란? 데이터의 묶음이다.\r\n",
        "# batch_size : 1 배치당 들어있어야 하는 데이터의 개수\r\n",
        "# ex) 60,000개의 데이터를 batch_size 100으로 묶으면 600개의 배치가 생긴다.\r\n",
        "\r\n",
        "batch_size = 100\r\n",
        "accuracy_count = 0\r\n",
        "\r\n",
        "# batch_size 개씩 건너 뛰면서 예측 수행\r\n",
        "for i in range(0, len(X), batch_size):\r\n",
        "  X_batch = X[i : i + batch_size]\r\n",
        "  pred_batch = predict(network, X_batch) # 데이터를 100개씩 예측\r\n",
        "  pred_batch = np.argmax(pred_batch, axis=1) # axis 설정을 어떻게 해야 할까요?\r\n",
        "\r\n",
        "  accuracy_count += np.sum( pred_batch == y[i : i + batch_size]) # 예측값 + 정답 (100개씩 한꺼번에 계산)\r\n",
        "\r\n",
        "print(float(accuracy_count) / len(X)) # 전체 평균 구하기"
      ],
      "execution_count": 45,
      "outputs": [
        {
          "output_type": "stream",
          "text": [
            "0.9207\n"
          ],
          "name": "stdout"
        },
        {
          "output_type": "stream",
          "text": [
            "/usr/local/lib/python3.6/dist-packages/ipykernel_launcher.py:3: RuntimeWarning: overflow encountered in exp\n",
            "  This is separate from the ipykernel package so we can avoid doing imports until\n"
          ],
          "name": "stderr"
        }
      ]
    },
    {
      "cell_type": "markdown",
      "metadata": {
        "id": "zCf51MU3SOeY"
      },
      "source": [
        "배치를 활용해서 데이터를 모두 소모하면( 활용하면 ) 이것을 1 에폭(epoch)이라고 한다.\r\n",
        "\r\n",
        "`np.argmax`의 `axis`가 1인 이유\r\n",
        "1. $softmax$의 결과는 10개의 원소(결과물)를 가진 1차원 배열\r\n",
        "2. 이 결과물이 100개씩 묶음 지어져 있다. (배치)\r\n",
        "3. `np.argmax`의 `axis`를 1로 줘야지만 각 행별로 최대값의 인덱스를 구한다.\r\n",
        "4. `axis=0`은 1차원 배열이 추가되는 방향이기 때문에..."
      ]
    }
  ]
}