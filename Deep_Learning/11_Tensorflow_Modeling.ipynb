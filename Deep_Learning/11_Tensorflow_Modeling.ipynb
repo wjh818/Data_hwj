{
  "nbformat": 4,
  "nbformat_minor": 0,
  "metadata": {
    "colab": {
      "name": "11. Tensorflow Modeling",
      "provenance": [],
      "authorship_tag": "ABX9TyNB5vr5OAZ6jW8KT18+G0zK",
      "include_colab_link": true
    },
    "kernelspec": {
      "name": "python3",
      "display_name": "Python 3"
    },
    "accelerator": "GPU"
  },
  "cells": [
    {
      "cell_type": "markdown",
      "metadata": {
        "id": "view-in-github",
        "colab_type": "text"
      },
      "source": [
        "<a href=\"https://colab.research.google.com/github/wjh818/Data_hwj/blob/main/Deep_Learning/11_Tensorflow_Modeling.ipynb\" target=\"_parent\"><img src=\"https://colab.research.google.com/assets/colab-badge.svg\" alt=\"Open In Colab\"/></a>"
      ]
    },
    {
      "cell_type": "markdown",
      "metadata": {
        "id": "jqPjcpnC6O5D"
      },
      "source": [
        "# Tensorflow로 모델링 하는 2가지 방법\r\n",
        "\r\n",
        "* Sequential 모델링을 활용하는 방법\r\n",
        " * keras에서 제공하는 레이어들을 이어 붙여 가면서 모델링 하는 방법\r\n",
        " * 쉽고 빠르게 모델링이 가능\r\n",
        " * 커스터마이징이 조금 힘들다\r\n",
        "\r\n",
        "* Functional API를 활용하는 방법\r\n",
        " * 개발자가 직접 레이어를 정의해서 keras의 레이어 처럼 사용하게 할 수 있다.(`tf.keras.layers 상속`)\r\n",
        " * 기타 평가 방식이나 Loss, Optimizer 등등을 직접 정의해서 사용할 수 있다.\r\n",
        "\r\n"
      ]
    },
    {
      "cell_type": "markdown",
      "metadata": {
        "id": "iWCKWMtV6TQc"
      },
      "source": [
        "# tf.data 사용하기\r\n",
        "* 일반적인 배열이 아닌, 병렬 처리된 배열을 이용하여 매우 빠른 속도로 데이터의 입출력이 가능\r\n",
        "* dataset 이라는 개념을 이용해서 feature, label을 손쉽게 관리 할 수 있다."
      ]
    },
    {
      "cell_type": "code",
      "metadata": {
        "id": "weq5ZkdE1HB0"
      },
      "source": [
        "import tensorflow as tf\r\n",
        "from tensorflow.keras import layers\r\n",
        "from tensorflow.keras import datasets"
      ],
      "execution_count": 25,
      "outputs": []
    },
    {
      "cell_type": "code",
      "metadata": {
        "id": "sKFRVaQ66VzZ"
      },
      "source": [
        "mnist = tf.keras.datasets.mnist\r\n",
        "\r\n",
        "(X_train, y_train), (X_test, y_test) = mnist.load_data()\r\n",
        "\r\n",
        "X_train = X_train[..., tf.newaxis]\r\n",
        "X_test  = X_test[..., tf.newaxis]\r\n",
        "\r\n",
        "X_train, X_test = X_train / 255.0, X_test / 255.0"
      ],
      "execution_count": 26,
      "outputs": []
    },
    {
      "cell_type": "markdown",
      "metadata": {
        "id": "rQGK-pUE6by2"
      },
      "source": [
        "## tf.data의 함수들\r\n",
        "* `from_tensor_slices()` : feature, label을 합친 데이터세트(ds)를 생성\r\n",
        "* `shuffle()` : 데이터세트에 들어있는 데이터를 랜덤하게 섞음\r\n",
        "* `batch()` : 배치 생성하기"
      ]
    },
    {
      "cell_type": "code",
      "metadata": {
        "id": "pMrWXJt76d4H"
      },
      "source": [
        "# 제너레이트할 데이터를 넣어준다. 데이터를 병렬로 처리할 수 있다. ( 속도가 매우 빨라짐 )\r\n",
        "train_ds = tf.data.Dataset.from_tensor_slices((X_train, y_train))\r\n",
        "\r\n",
        "# 데이터 섞기\r\n",
        "train_ds = train_ds.shuffle(1000) # 매개 변수 숫자는 랜덤 시드가 아닌 랜덤을 생성하기 위한 버퍼 사이즈( 보통 1kb 정도로 설정 )\r\n",
        "\r\n",
        "# 배치 생성\r\n",
        "train_ds = train_ds.batch(32) # iteration 할 때마다 batch_size만큼 데이터가 나온다."
      ],
      "execution_count": 27,
      "outputs": []
    },
    {
      "cell_type": "code",
      "metadata": {
        "id": "onoC9Fc56h86"
      },
      "source": [
        "# 테스트 ds 만들기\r\n",
        "test_ds = tf.data.Dataset.from_tensor_slices((X_test, y_test))\r\n",
        "\r\n",
        "# 테스트 세트는 셔플이 필요 없다.\r\n",
        "test_ds = test_ds.batch(32)"
      ],
      "execution_count": 28,
      "outputs": []
    },
    {
      "cell_type": "markdown",
      "metadata": {
        "id": "5SnGeZBu6j8G"
      },
      "source": [
        "## tf.data로 만든 데이터세트의 시각화"
      ]
    },
    {
      "cell_type": "code",
      "metadata": {
        "id": "SW-2uRpP6kbA"
      },
      "source": [
        "import matplotlib.pyplot as plt\r\n",
        "%matplotlib inline"
      ],
      "execution_count": 29,
      "outputs": []
    },
    {
      "cell_type": "markdown",
      "metadata": {
        "id": "Pa6TDv3Y6opr"
      },
      "source": [
        "`take()` 함수를 이용하면 데이터를 배치 사이즈만큼 가지고 올 수 있다."
      ]
    },
    {
      "cell_type": "code",
      "metadata": {
        "colab": {
          "base_uri": "https://localhost:8080/",
          "height": 545
        },
        "id": "wSmgRDfC6mVm",
        "outputId": "564763d9-710e-4bd9-9ec5-d88493940d24"
      },
      "source": [
        "for images, labels in train_ds.take(2):\r\n",
        "  image = images[0, ..., 0]\r\n",
        "  label = labels.numpy()[0]\r\n",
        "\r\n",
        "  plt.title(label)\r\n",
        "  plt.imshow(image, 'gray')\r\n",
        "  plt.show()"
      ],
      "execution_count": 30,
      "outputs": [
        {
          "output_type": "display_data",
          "data": {
            "image/png": "[encoded data removed]",
            "text/plain": [
              "<Figure size 432x288 with 1 Axes>"
            ]
          },
          "metadata": {
            "tags": [],
            "needs_background": "light"
          }
        },
        {
          "output_type": "display_data",
          "data": {
            "image/png": "[encoded data removed]",
            "text/plain": [
              "<Figure size 432x288 with 1 Axes>"
            ]
          },
          "metadata": {
            "tags": [],
            "needs_background": "light"
          }
        }
      ]
    },
    {
      "cell_type": "markdown",
      "metadata": {
        "id": "OQWd06uG8kvv"
      },
      "source": [
        "## tf.data를 이용한 CNN 모델 훈련"
      ]
    },
    {
      "cell_type": "code",
      "metadata": {
        "id": "YfnoEJ4-6mYC"
      },
      "source": [
        "from tensorflow.keras.layers import Conv2D, Activation, MaxPool2D\r\n",
        "from tensorflow.keras.layers import Dropout, Flatten, Dense\r\n",
        "\r\n",
        "input_shape = ( 28, 28, 1 )\r\n",
        "num_classes = 10\r\n",
        "\r\n",
        "inputs = layers.Input(shape=input_shape)\r\n",
        "\r\n",
        "# Feature Extraction\r\n",
        "net = Conv2D(32, 3, padding='SAME')(inputs)\r\n",
        "net = Activation(\"relu\")(net)\r\n",
        "net = Conv2D(32, 3, padding='SAME')(net)\r\n",
        "net = Activation(\"relu\")(net)\r\n",
        "net = MaxPool2D((2, 2))(net)\r\n",
        "net = layers.Dropout(0.25)(net)\r\n",
        "\r\n",
        "net = Conv2D(64, 3, padding='SAME')(net)\r\n",
        "net = Activation(\"relu\")(net)\r\n",
        "net = Conv2D(64, 3, padding='SAME')(net)\r\n",
        "net = Activation(\"relu\")(net)\r\n",
        "net = MaxPool2D((2, 2))(net)\r\n",
        "net = layers.Dropout(0.25)(net)\r\n",
        "\r\n",
        "# Fully Connected\r\n",
        "net = Flatten()(net)\r\n",
        "net = Dense(512)(net)\r\n",
        "net = Activation(\"relu\")(net)\r\n",
        "net = Dropout(0.25)(net)\r\n",
        "\r\n",
        "# Output Layer\r\n",
        "net = Dense(num_classes)(net)\r\n",
        "net = Activation(\"softmax\")(net)\r\n",
        "\r\n",
        "model = tf.keras.Model(inputs=inputs, outputs=net, name='Basic_CNN')"
      ],
      "execution_count": 31,
      "outputs": []
    },
    {
      "cell_type": "code",
      "metadata": {
        "id": "UPzDe5XY6ma0"
      },
      "source": [
        "model.compile(optimizer=\"adam\", loss=\"sparse_categorical_crossentropy\")"
      ],
      "execution_count": 32,
      "outputs": []
    },
    {
      "cell_type": "code",
      "metadata": {
        "colab": {
          "base_uri": "https://localhost:8080/"
        },
        "id": "6qvdOMQ66mdR",
        "outputId": "867735b4-1b66-43c1-fe00-4789e1745a3c"
      },
      "source": [
        "# tf.data를 이용해서 훈련\r\n",
        "model.fit(train_ds, epochs=1) # train_ds에는 feature, label, batch 정보가 모두 들어있다."
      ],
      "execution_count": 33,
      "outputs": [
        {
          "output_type": "stream",
          "text": [
            "1875/1875 [==============================] - 7s 4ms/step - loss: 0.2924\n"
          ],
          "name": "stdout"
        },
        {
          "output_type": "execute_result",
          "data": {
            "text/plain": [
              "<tensorflow.python.keras.callbacks.History at 0x7fb11003bba8>"
            ]
          },
          "metadata": {
            "tags": []
          },
          "execution_count": 33
        }
      ]
    },
    {
      "cell_type": "markdown",
      "metadata": {
        "id": "QmTlYXCm8rSY"
      },
      "source": [
        "# Functional API 사용해 보기\r\n",
        "\r\n",
        "Loss Function이나 Optimizer 등을 Tensorflow 및 Keras에서 제공하는 것이 아닌, 개발자가 직접 함수를 만들어서 사용할 때 커스터마이징하기 위한 방법"
      ]
    },
    {
      "cell_type": "code",
      "metadata": {
        "id": "WZwnYQmU6mgM"
      },
      "source": [
        "# Loss Function\r\n",
        "loss_object = tf.keras.losses.SparseCategoricalCrossentropy()\r\n",
        "\r\n",
        "# Optimizer\r\n",
        "optimizer = tf.keras.optimizers.Adam()"
      ],
      "execution_count": 34,
      "outputs": []
    },
    {
      "cell_type": "code",
      "metadata": {
        "id": "LdvjJh556mib"
      },
      "source": [
        "train_loss = tf.keras.metrics.Mean(name=\"train_loss\") # 각 배치에 대한 평가 결과를 평균으로 관리\r\n",
        "train_accuracy = tf.keras.metrics.SparseCategoricalAccuracy(name='train_accuracy')\r\n",
        "\r\n",
        "test_loss = tf.keras.metrics.Mean(name=\"test_loss\")\r\n",
        "test_accuracy = tf.keras.metrics.SparseCategoricalAccuracy(name='test_accuracy')"
      ],
      "execution_count": 35,
      "outputs": []
    },
    {
      "cell_type": "markdown",
      "metadata": {
        "id": "t0TF2Rt_8yQI"
      },
      "source": [
        "## @tf.function\r\n",
        "Functional API에서 제일 많이 사용되는 어노테이션으로써, Tensorflow 세션에서 관리하는 함수가 될 수 있도록 해준다.\r\n",
        "\r\n",
        "`@tf.function`이 붙은 함수는 계산그래프가 모두 그려지고 실제 학습 되면서 수행되기 때문에, Tensorflow의 리소스를 이용할 수 있게 된다.\r\n",
        "\r\n",
        "보통 학습 및 테스트하는 함수에 붙는다."
      ]
    },
    {
      "cell_type": "code",
      "metadata": {
        "id": "i7orwEdVFcCe"
      },
      "source": [
        "@tf.function\r\n",
        "def train_step(images, labels):\r\n",
        "\r\n",
        "  # 자동 미분 수행을 위한 환경 만들기\r\n",
        "  # loss 구하는 과정\r\n",
        "  with tf.GradientTape() as tape:\r\n",
        "    # 1. 예측\r\n",
        "    prediction = model(images) # 모델이 훈련 모드가 된다.\r\n",
        "\r\n",
        "    # 2. loss 구하기\r\n",
        "    loss = loss_object(labels, prediction)\r\n",
        "  \r\n",
        "  # 3. 오차 역전파 수행 (gradients : 수정 되어야할 기울기 벡터)\r\n",
        "  gradients = tape.gradient(loss, model.trainable_variables)# model.trainable_variables : 가중치, 편향 정보 (수정가능한...)\r\n",
        "\r\n",
        "  # 4. 최적화 (apply_gradients : 매개변수 업데이트)\r\n",
        "  optimizer.apply_gradients(zip(gradients, model.trainable_variables))\r\n",
        "\r\n",
        "  # loss, accuracy를 기록\r\n",
        "  train_loss(loss)\r\n",
        "  train_accuracy(labels, prediction)"
      ],
      "execution_count": 36,
      "outputs": []
    },
    {
      "cell_type": "code",
      "metadata": {
        "id": "q8NH4oSxFewM"
      },
      "source": [
        "@tf.function\r\n",
        "def test_step(images, labels):\r\n",
        "  prediction = model(images)\r\n",
        "  t_loss = loss_object(labels, prediction)\r\n",
        "\r\n",
        "  test_loss(t_loss)\r\n",
        "  test_accuracy(labels, prediction)"
      ],
      "execution_count": 37,
      "outputs": []
    },
    {
      "cell_type": "code",
      "metadata": {
        "colab": {
          "base_uri": "https://localhost:8080/"
        },
        "id": "g_7qZSL6Fh-k",
        "outputId": "2bb4804a-ce74-4a4e-eb59-a8537d9f21f4"
      },
      "source": [
        "# Functional API 방식으로 훈련\r\n",
        "\r\n",
        "epochs = 10\r\n",
        "\r\n",
        "for epoch in range(epochs):\r\n",
        "\r\n",
        "  # 1 에폭은 모든 데이터에 대한 학습\r\n",
        "  for images, labels in train_ds:\r\n",
        "    train_step(images, labels)\r\n",
        "  \r\n",
        "  # 테스트 수행\r\n",
        "  for test_images, test_labels in test_ds:\r\n",
        "    test_step(test_images, test_labels)\r\n",
        "\r\n",
        "  template = 'Epoch {}, Loss : {:.3f}, Accuracy: {:.3f}, Test Loss : {:.3f}, Test Accuracy: {:.3f}'\r\n",
        "  print(template.format(epoch + 1, train_loss.result(), train_accuracy.result() * 100, test_loss.result(), test_accuracy.result() * 100))"
      ],
      "execution_count": 38,
      "outputs": [
        {
          "output_type": "stream",
          "text": [
            "Epoch 1, Loss : 0.041, Accuracy: 98.775, Test Loss : 0.033, Test Accuracy: 98.950\n",
            "Epoch 2, Loss : 0.033, Accuracy: 99.002, Test Loss : 0.032, Test Accuracy: 98.975\n",
            "Epoch 3, Loss : 0.028, Accuracy: 99.144, Test Loss : 0.030, Test Accuracy: 99.043\n",
            "Epoch 4, Loss : 0.024, Accuracy: 99.264, Test Loss : 0.030, Test Accuracy: 99.037\n",
            "Epoch 5, Loss : 0.022, Accuracy: 99.335, Test Loss : 0.031, Test Accuracy: 99.044\n",
            "Epoch 6, Loss : 0.020, Accuracy: 99.403, Test Loss : 0.032, Test Accuracy: 99.053\n",
            "Epoch 7, Loss : 0.018, Accuracy: 99.455, Test Loss : 0.032, Test Accuracy: 99.081\n",
            "Epoch 8, Loss : 0.017, Accuracy: 99.483, Test Loss : 0.033, Test Accuracy: 99.090\n",
            "Epoch 9, Loss : 0.016, Accuracy: 99.515, Test Loss : 0.033, Test Accuracy: 99.102\n",
            "Epoch 10, Loss : 0.015, Accuracy: 99.547, Test Loss : 0.034, Test Accuracy: 99.107\n"
          ],
          "name": "stdout"
        }
      ]
    }
  ]
}