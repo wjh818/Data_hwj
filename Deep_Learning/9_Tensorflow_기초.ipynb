{
  "nbformat": 4,
  "nbformat_minor": 0,
  "metadata": {
    "colab": {
      "name": "9. Tensorflow 기초",
      "provenance": [],
      "collapsed_sections": [],
      "authorship_tag": "ABX9TyN6yOzE02IQxWbAxXSFXdRQ",
      "include_colab_link": true
    },
    "kernelspec": {
      "name": "python3",
      "display_name": "Python 3"
    },
    "accelerator": "GPU"
  },
  "cells": [
    {
      "cell_type": "markdown",
      "metadata": {
        "id": "view-in-github",
        "colab_type": "text"
      },
      "source": [
        "<a href=\"https://colab.research.google.com/github/wjh818/Data_hwj/blob/main/Deep_Learning/9_Tensorflow_%EA%B8%B0%EC%B4%88.ipynb\" target=\"_parent\"><img src=\"https://colab.research.google.com/assets/colab-badge.svg\" alt=\"Open In Colab\"/></a>"
      ]
    },
    {
      "cell_type": "markdown",
      "metadata": {
        "id": "h03xOL0tv6vr"
      },
      "source": [
        "# Tensor란?\r\n",
        "\r\n",
        "Tensor : 배열\r\n",
        "\r\n",
        "* 배열인데 Rank 시스템이 있음\r\n",
        "* 0 Rank Tensor - Scalar - 상수\r\n",
        "* 1 Rank Tensor - Array (Vector)  - 1차원 배열\r\n",
        "* 2 Rank Tensor - Matrix - 행렬\r\n",
        "* 3 Rank Tensor - Tensor - 3차원 배열\r\n",
        "* 4 Rank Tensor - Tensor - 4차원 배열 ..."
      ]
    },
    {
      "cell_type": "markdown",
      "metadata": {
        "id": "1MY2O30Pv-rt"
      },
      "source": [
        "# TensorFlow는?\r\n",
        "* Tensor가 지나다닐 수 있는 **계산그래프**를 만들어 놓고 Tensor를 흘려(Flow) 보낸다."
      ]
    },
    {
      "cell_type": "code",
      "metadata": {
        "id": "pqla9fClv8sq"
      },
      "source": [
        "import tensorflow as tf\r\n",
        "import numpy as np"
      ],
      "execution_count": 1,
      "outputs": []
    },
    {
      "cell_type": "code",
      "metadata": {
        "colab": {
          "base_uri": "https://localhost:8080/"
        },
        "id": "bWJSDXGC11ZN",
        "outputId": "17b526b0-ca1a-479e-b0fc-d35da160704d"
      },
      "source": [
        "# 각종 시퀀스들을 Tensor로 변환이 가능\r\n",
        "\r\n",
        "#1. list -> tensor\r\n",
        "tf.constant([1, 2, 3])"
      ],
      "execution_count": 2,
      "outputs": [
        {
          "output_type": "execute_result",
          "data": {
            "text/plain": [
              "<tf.Tensor: shape=(3,), dtype=int32, numpy=array([1, 2, 3], dtype=int32)>"
            ]
          },
          "metadata": {
            "tags": []
          },
          "execution_count": 2
        }
      ]
    },
    {
      "cell_type": "code",
      "metadata": {
        "colab": {
          "base_uri": "https://localhost:8080/"
        },
        "id": "uEpChSSO11bw",
        "outputId": "63423688-dcbc-4b5d-954b-13445c31f8f9"
      },
      "source": [
        "# 2. tuple -> tensor\r\n",
        "tf.constant((1, 2, 3))"
      ],
      "execution_count": 3,
      "outputs": [
        {
          "output_type": "execute_result",
          "data": {
            "text/plain": [
              "<tf.Tensor: shape=(3,), dtype=int32, numpy=array([1, 2, 3], dtype=int32)>"
            ]
          },
          "metadata": {
            "tags": []
          },
          "execution_count": 3
        }
      ]
    },
    {
      "cell_type": "code",
      "metadata": {
        "colab": {
          "base_uri": "https://localhost:8080/"
        },
        "id": "8xdx_JVs11eW",
        "outputId": "136ed468-adf8-45d0-bcc6-6db443d52b98"
      },
      "source": [
        "# 3. ndarray -> tensor\r\n",
        "arr = np.array([1, 2, 3])\r\n",
        "tf.constant(arr)"
      ],
      "execution_count": 4,
      "outputs": [
        {
          "output_type": "execute_result",
          "data": {
            "text/plain": [
              "<tf.Tensor: shape=(3,), dtype=int64, numpy=array([1, 2, 3])>"
            ]
          },
          "metadata": {
            "tags": []
          },
          "execution_count": 4
        }
      ]
    },
    {
      "cell_type": "markdown",
      "metadata": {
        "id": "1htYF7hg2FqS"
      },
      "source": [
        "# Tensor 정보 확인하기"
      ]
    },
    {
      "cell_type": "code",
      "metadata": {
        "colab": {
          "base_uri": "https://localhost:8080/"
        },
        "id": "poauzJEL11hL",
        "outputId": "c56def89-ebc2-4829-bad0-0eaab0cf5952"
      },
      "source": [
        "tensor = tf.constant(np.array([1, 2, 3]))\r\n",
        "tensor.shape"
      ],
      "execution_count": 5,
      "outputs": [
        {
          "output_type": "execute_result",
          "data": {
            "text/plain": [
              "TensorShape([3])"
            ]
          },
          "metadata": {
            "tags": []
          },
          "execution_count": 5
        }
      ]
    },
    {
      "cell_type": "code",
      "metadata": {
        "colab": {
          "base_uri": "https://localhost:8080/"
        },
        "id": "Pl3XtwMG11jy",
        "outputId": "2db002cc-5d49-4977-dd81-693feea5aa51"
      },
      "source": [
        "tensor = tf.constant(np.arange(0, 10).reshape(2, 5))\r\n",
        "tensor.shape"
      ],
      "execution_count": 6,
      "outputs": [
        {
          "output_type": "execute_result",
          "data": {
            "text/plain": [
              "TensorShape([2, 5])"
            ]
          },
          "metadata": {
            "tags": []
          },
          "execution_count": 6
        }
      ]
    },
    {
      "cell_type": "code",
      "metadata": {
        "colab": {
          "base_uri": "https://localhost:8080/"
        },
        "id": "qfchCWMr11mr",
        "outputId": "0e48d5ac-e87f-400a-fcf5-5e62a8b4dc42"
      },
      "source": [
        "tensor.dtype"
      ],
      "execution_count": 7,
      "outputs": [
        {
          "output_type": "execute_result",
          "data": {
            "text/plain": [
              "tf.int64"
            ]
          },
          "metadata": {
            "tags": []
          },
          "execution_count": 7
        }
      ]
    },
    {
      "cell_type": "code",
      "metadata": {
        "colab": {
          "base_uri": "https://localhost:8080/"
        },
        "id": "Ocaxt_pI11pU",
        "outputId": "bdad9bf5-a917-4024-8ca7-1fd3c167965e"
      },
      "source": [
        "tensor = tf.constant(np.random.randn(2, 3))\r\n",
        "tensor.dtype"
      ],
      "execution_count": 8,
      "outputs": [
        {
          "output_type": "execute_result",
          "data": {
            "text/plain": [
              "tf.float64"
            ]
          },
          "metadata": {
            "tags": []
          },
          "execution_count": 8
        }
      ]
    },
    {
      "cell_type": "code",
      "metadata": {
        "colab": {
          "base_uri": "https://localhost:8080/"
        },
        "id": "9-5LR3Es11sH",
        "outputId": "e97a3d2b-fdbb-4418-dd81-5a3ca600ad0d"
      },
      "source": [
        "# 텐서를 구성하는 원소 중 데이터 타입이 가장 큰 것이 텐서의 데이터 타입이 된다.\r\n",
        "# 예를 들어 텐서에 정수와 실수가 섞여 있으면 텐서의 타입은 실수가 된다.\r\n",
        "\r\n",
        "tensor = tf.constant([1, 2.1, 3])\r\n",
        "tensor.dtype"
      ],
      "execution_count": 9,
      "outputs": [
        {
          "output_type": "execute_result",
          "data": {
            "text/plain": [
              "tf.float32"
            ]
          },
          "metadata": {
            "tags": []
          },
          "execution_count": 9
        }
      ]
    },
    {
      "cell_type": "code",
      "metadata": {
        "colab": {
          "base_uri": "https://localhost:8080/"
        },
        "id": "DJCS4swA11ud",
        "outputId": "2e4edbea-2c9a-47ef-af38-15def0aac10b"
      },
      "source": [
        "# 강제로 데이터 타입을 지정\r\n",
        "tensor = tf.constant([1, 2, 3], dtype=tf.float32)\r\n",
        "tensor.dtype"
      ],
      "execution_count": 10,
      "outputs": [
        {
          "output_type": "execute_result",
          "data": {
            "text/plain": [
              "tf.float32"
            ]
          },
          "metadata": {
            "tags": []
          },
          "execution_count": 10
        }
      ]
    },
    {
      "cell_type": "code",
      "metadata": {
        "colab": {
          "base_uri": "https://localhost:8080/"
        },
        "id": "BsKJciqy11xh",
        "outputId": "088fa165-ca04-407d-f503-2580e7d29f27"
      },
      "source": [
        "# tf.cast 를 활용해서 텐서의 타입을 변경\r\n",
        "tf.cast(tensor, tf.uint8).dtype"
      ],
      "execution_count": 11,
      "outputs": [
        {
          "output_type": "execute_result",
          "data": {
            "text/plain": [
              "tf.uint8"
            ]
          },
          "metadata": {
            "tags": []
          },
          "execution_count": 11
        }
      ]
    },
    {
      "cell_type": "code",
      "metadata": {
        "colab": {
          "base_uri": "https://localhost:8080/"
        },
        "id": "zognBt29110b",
        "outputId": "cc8a12a5-63c4-4b76-d666-5595e592cf87"
      },
      "source": [
        "# numpy와 tensorflow는 상호간에 호환이 가능\r\n",
        "\r\n",
        "# 1. tensor를 ndarray로 바꿔보기\r\n",
        "tensor.numpy()"
      ],
      "execution_count": 12,
      "outputs": [
        {
          "output_type": "execute_result",
          "data": {
            "text/plain": [
              "array([1., 2., 3.], dtype=float32)"
            ]
          },
          "metadata": {
            "tags": []
          },
          "execution_count": 12
        }
      ]
    },
    {
      "cell_type": "code",
      "metadata": {
        "colab": {
          "base_uri": "https://localhost:8080/"
        },
        "id": "-pVeRQll113U",
        "outputId": "2c7486db-9537-4a14-df0b-90ad60a16364"
      },
      "source": [
        "# np.array를 이용해서 tensor를 ndarray로 바꾸기\r\n",
        "np.array(tensor)"
      ],
      "execution_count": 13,
      "outputs": [
        {
          "output_type": "execute_result",
          "data": {
            "text/plain": [
              "array([1., 2., 3.], dtype=float32)"
            ]
          },
          "metadata": {
            "tags": []
          },
          "execution_count": 13
        }
      ]
    },
    {
      "cell_type": "markdown",
      "metadata": {
        "id": "Zl-i0cUF2iDF"
      },
      "source": [
        "# Tensorflow의 난수 생성"
      ]
    },
    {
      "cell_type": "code",
      "metadata": {
        "colab": {
          "base_uri": "https://localhost:8080/"
        },
        "id": "oHZA1wbr2moD",
        "outputId": "15e9f38c-cc24-406d-c25a-3e4031e09c66"
      },
      "source": [
        "# numpy로 정규분포 만들기\r\n",
        "np.random.randn(9)"
      ],
      "execution_count": 14,
      "outputs": [
        {
          "output_type": "execute_result",
          "data": {
            "text/plain": [
              "array([-0.61992001, -0.1414743 , -0.61628816,  0.38793401,  1.42940231,\n",
              "        0.77543513, -0.97053736,  0.71848298, -0.28880426])"
            ]
          },
          "metadata": {
            "tags": []
          },
          "execution_count": 14
        }
      ]
    },
    {
      "cell_type": "code",
      "metadata": {
        "colab": {
          "base_uri": "https://localhost:8080/"
        },
        "id": "JPhF6jAL2mqz",
        "outputId": "3f0bf53f-6ee2-4103-f9e1-fe279fd8dc73"
      },
      "source": [
        "# tensorflow로 정규분포 만들기\r\n",
        "tf.random.normal((3, 3))"
      ],
      "execution_count": 15,
      "outputs": [
        {
          "output_type": "execute_result",
          "data": {
            "text/plain": [
              "<tf.Tensor: shape=(3, 3), dtype=float32, numpy=\n",
              "array([[ 1.3838526 , -0.7821761 ,  0.8474799 ],\n",
              "       [ 0.229187  , -2.8187437 , -0.07250632],\n",
              "       [ 1.3739386 , -0.587615  , -0.9468933 ]], dtype=float32)>"
            ]
          },
          "metadata": {
            "tags": []
          },
          "execution_count": 15
        }
      ]
    },
    {
      "cell_type": "code",
      "metadata": {
        "colab": {
          "base_uri": "https://localhost:8080/"
        },
        "id": "heidjNKj2msx",
        "outputId": "3b12c6a5-b13b-4c11-be08-5a2aee6a337e"
      },
      "source": [
        "# tensorflow로 균등분포 만들기\r\n",
        "tf.random.uniform((3, 3))"
      ],
      "execution_count": 16,
      "outputs": [
        {
          "output_type": "execute_result",
          "data": {
            "text/plain": [
              "<tf.Tensor: shape=(3, 3), dtype=float32, numpy=\n",
              "array([[0.6669053 , 0.9245471 , 0.7182696 ],\n",
              "       [0.19897723, 0.6862745 , 0.2687949 ],\n",
              "       [0.6152959 , 0.5118426 , 0.7296634 ]], dtype=float32)>"
            ]
          },
          "metadata": {
            "tags": []
          },
          "execution_count": 16
        }
      ]
    },
    {
      "cell_type": "markdown",
      "metadata": {
        "id": "c7IYCVR32y-N"
      },
      "source": [
        "# Tensorflow로 One Hot Encoding"
      ]
    },
    {
      "cell_type": "code",
      "metadata": {
        "id": "pvikwEle2mvi"
      },
      "source": [
        "from tensorflow.keras.utils import to_categorical"
      ],
      "execution_count": 17,
      "outputs": []
    },
    {
      "cell_type": "code",
      "metadata": {
        "colab": {
          "base_uri": "https://localhost:8080/"
        },
        "id": "tWxWTt6W2mx7",
        "outputId": "3de3f31a-4242-4329-8f7f-46eb0847091c"
      },
      "source": [
        "to_categorical(1, 5)"
      ],
      "execution_count": 18,
      "outputs": [
        {
          "output_type": "execute_result",
          "data": {
            "text/plain": [
              "array([0., 1., 0., 0., 0.], dtype=float32)"
            ]
          },
          "metadata": {
            "tags": []
          },
          "execution_count": 18
        }
      ]
    }
  ]
}