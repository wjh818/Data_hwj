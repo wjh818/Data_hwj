{
  "nbformat": 4,
  "nbformat_minor": 0,
  "metadata": {
    "colab": {
      "name": "0. numpy 기초",
      "provenance": [],
      "authorship_tag": "ABX9TyNH9iT/Hs+Kydy5qHw+nPLl",
      "include_colab_link": true
    },
    "kernelspec": {
      "name": "python3",
      "display_name": "Python 3"
    }
  },
  "cells": [
    {
      "cell_type": "markdown",
      "metadata": {
        "id": "view-in-github",
        "colab_type": "text"
      },
      "source": [
        "<a href=\"https://colab.research.google.com/github/wjh818/Data_hwj/blob/main/Deep_Learning/0_numpy_%EA%B8%B0%EC%B4%88.ipynb\" target=\"_parent\"><img src=\"https://colab.research.google.com/assets/colab-badge.svg\" alt=\"Open In Colab\"/></a>"
      ]
    },
    {
      "cell_type": "code",
      "metadata": {
        "id": "ivpT5A3t6nXf"
      },
      "source": [
        "import numpy as np"
      ],
      "execution_count": null,
      "outputs": []
    },
    {
      "cell_type": "markdown",
      "metadata": {
        "id": "SRKpY16z7SiN"
      },
      "source": [
        "numpy는 내부적으로 c로 구현이 되어 있다. 수치에 관련된 프로그래밍을 할 때 일반 python보다 훨씬 빠르다.\r\n",
        "특히, 배열 연산에 특화되어 있다."
      ]
    },
    {
      "cell_type": "code",
      "metadata": {
        "colab": {
          "base_uri": "https://localhost:8080/"
        },
        "id": "shI8XhTT7ghr",
        "outputId": "cf98edf0-9ccb-4a74-b5b1-a33ef752c638"
      },
      "source": [
        "# 일반 파이썬 리스트를 numpy 배열화 (numpy 배열: ndarray)\r\n",
        "py_list = [1, 2, 3]\r\n",
        "arr1 = np.array(py_list)\r\n",
        "arr1"
      ],
      "execution_count": null,
      "outputs": [
        {
          "output_type": "execute_result",
          "data": {
            "text/plain": [
              "array([1, 2, 3])"
            ]
          },
          "metadata": {
            "tags": []
          },
          "execution_count": 2
        }
      ]
    },
    {
      "cell_type": "code",
      "metadata": {
        "colab": {
          "base_uri": "https://localhost:8080/"
        },
        "id": "R-J0jEri7gkY",
        "outputId": "d5cb635d-29d6-4e21-b52a-3529e35d19e0"
      },
      "source": [
        "# ndarray 타입 확인하기\r\n",
        "type(arr1)"
      ],
      "execution_count": null,
      "outputs": [
        {
          "output_type": "execute_result",
          "data": {
            "text/plain": [
              "numpy.ndarray"
            ]
          },
          "metadata": {
            "tags": []
          },
          "execution_count": 3
        }
      ]
    },
    {
      "cell_type": "code",
      "metadata": {
        "colab": {
          "base_uri": "https://localhost:8080/"
        },
        "id": "htuzotBt7gnU",
        "outputId": "5ad8cd1c-369f-4a49-d5b5-9a4fccb443ac"
      },
      "source": [
        "py_list = [ [1, 2, 3],\r\n",
        "            [4, 5, 6] ]\r\n",
        "\r\n",
        "arr2 = np.array(py_list)\r\n",
        "type(arr2)"
      ],
      "execution_count": null,
      "outputs": [
        {
          "output_type": "execute_result",
          "data": {
            "text/plain": [
              "numpy.ndarray"
            ]
          },
          "metadata": {
            "tags": []
          },
          "execution_count": 4
        }
      ]
    },
    {
      "cell_type": "markdown",
      "metadata": {
        "id": "bISBa7R48VXP"
      },
      "source": [
        "numpy 에서는 숫자 배열을 만들기 위한 여러가지 함수를 제공한다.\r\n",
        "\r\n",
        "---\r\n",
        "\r\n",
        "\r\n",
        "\r\n",
        "\r\n"
      ]
    },
    {
      "cell_type": "markdown",
      "metadata": {
        "id": "rrw_VDxn8bSS"
      },
      "source": [
        "# np.arange"
      ]
    },
    {
      "cell_type": "code",
      "metadata": {
        "colab": {
          "base_uri": "https://localhost:8080/"
        },
        "id": "Uc1AoPEG7gp_",
        "outputId": "a2b0fe6b-77fa-43ea-b87e-97f457c32bd2"
      },
      "source": [
        "# np.arange 함수는 파이썬의 range 함수와 매우 흡사하다.\r\n",
        "arr = np.arange(10) # 0 ~ 9 까지 들어있는 숫자 배열을 생성\r\n",
        "arr"
      ],
      "execution_count": null,
      "outputs": [
        {
          "output_type": "execute_result",
          "data": {
            "text/plain": [
              "array([0, 1, 2, 3, 4, 5, 6, 7, 8, 9])"
            ]
          },
          "metadata": {
            "tags": []
          },
          "execution_count": 5
        }
      ]
    },
    {
      "cell_type": "code",
      "metadata": {
        "colab": {
          "base_uri": "https://localhost:8080/"
        },
        "id": "KdXUMCBo7guA",
        "outputId": "c81784b6-0da8-4e37-fbe1-571caff10610"
      },
      "source": [
        "arr = np.arange(1, 10) # 1 ~ 9 까지 들어있는 숫자 배열을 생성\r\n",
        "arr"
      ],
      "execution_count": null,
      "outputs": [
        {
          "output_type": "execute_result",
          "data": {
            "text/plain": [
              "array([1, 2, 3, 4, 5, 6, 7, 8, 9])"
            ]
          },
          "metadata": {
            "tags": []
          },
          "execution_count": 6
        }
      ]
    },
    {
      "cell_type": "code",
      "metadata": {
        "colab": {
          "base_uri": "https://localhost:8080/"
        },
        "id": "MDlTr1xq9GS4",
        "outputId": "e8a1c237-de31-4009-ec1a-8f644e027dd2"
      },
      "source": [
        "arr = np.arange(1, 10, 2) # 1부터 9까지 2씩 띄워가면서 숫자 배열 생성\r\n",
        "arr"
      ],
      "execution_count": null,
      "outputs": [
        {
          "output_type": "execute_result",
          "data": {
            "text/plain": [
              "array([1, 3, 5, 7, 9])"
            ]
          },
          "metadata": {
            "tags": []
          },
          "execution_count": 7
        }
      ]
    },
    {
      "cell_type": "markdown",
      "metadata": {
        "id": "RW3cBs0I9Irt"
      },
      "source": [
        "# 다차원 배열 만들기\r\n",
        "* `np.zeros`\r\n",
        "* `np.ones`\r\n",
        "* `np.full`"
      ]
    },
    {
      "cell_type": "markdown",
      "metadata": {
        "id": "wB0ZsTZj9PQ9"
      },
      "source": [
        "## np.zeros\r\n",
        "지정된 차원에 모든 원소를 0으로 채운다."
      ]
    },
    {
      "cell_type": "code",
      "metadata": {
        "colab": {
          "base_uri": "https://localhost:8080/"
        },
        "id": "pOUtO4gN9GXd",
        "outputId": "51fe9142-1b29-4bcb-ef40-559e19e019b4"
      },
      "source": [
        "np.zeros(5) # 1차원 배열에 5개의 0을 채운다."
      ],
      "execution_count": null,
      "outputs": [
        {
          "output_type": "execute_result",
          "data": {
            "text/plain": [
              "array([0., 0., 0., 0., 0.])"
            ]
          },
          "metadata": {
            "tags": []
          },
          "execution_count": 8
        }
      ]
    },
    {
      "cell_type": "code",
      "metadata": {
        "colab": {
          "base_uri": "https://localhost:8080/"
        },
        "id": "HKxkGUDP9dFi",
        "outputId": "44cf2198-87b1-4847-e739-f6a17e29c143"
      },
      "source": [
        "np.zeros((4, 5)) # 4행 5열(2차원 배열)의 배열에 0을 채운다."
      ],
      "execution_count": null,
      "outputs": [
        {
          "output_type": "execute_result",
          "data": {
            "text/plain": [
              "array([[0., 0., 0., 0., 0.],\n",
              "       [0., 0., 0., 0., 0.],\n",
              "       [0., 0., 0., 0., 0.],\n",
              "       [0., 0., 0., 0., 0.]])"
            ]
          },
          "metadata": {
            "tags": []
          },
          "execution_count": 9
        }
      ]
    },
    {
      "cell_type": "code",
      "metadata": {
        "colab": {
          "base_uri": "https://localhost:8080/"
        },
        "id": "bPtKrcQA9dI5",
        "outputId": "64474b40-0502-49e6-a5c7-11cb8af6ba97"
      },
      "source": [
        "np.zeros((3, 4, 5))"
      ],
      "execution_count": null,
      "outputs": [
        {
          "output_type": "execute_result",
          "data": {
            "text/plain": [
              "array([[[0., 0., 0., 0., 0.],\n",
              "        [0., 0., 0., 0., 0.],\n",
              "        [0., 0., 0., 0., 0.],\n",
              "        [0., 0., 0., 0., 0.]],\n",
              "\n",
              "       [[0., 0., 0., 0., 0.],\n",
              "        [0., 0., 0., 0., 0.],\n",
              "        [0., 0., 0., 0., 0.],\n",
              "        [0., 0., 0., 0., 0.]],\n",
              "\n",
              "       [[0., 0., 0., 0., 0.],\n",
              "        [0., 0., 0., 0., 0.],\n",
              "        [0., 0., 0., 0., 0.],\n",
              "        [0., 0., 0., 0., 0.]]])"
            ]
          },
          "metadata": {
            "tags": []
          },
          "execution_count": 12
        }
      ]
    },
    {
      "cell_type": "markdown",
      "metadata": {
        "id": "eCC_pvPa-e0k"
      },
      "source": [
        "## np.ones\r\n",
        "지정한 차원에 모든 원소를 1로 채운다."
      ]
    },
    {
      "cell_type": "code",
      "metadata": {
        "colab": {
          "base_uri": "https://localhost:8080/"
        },
        "id": "L5LYSx6p9dMV",
        "outputId": "4114b5f9-f2ae-46ec-c070-9c53a7bf560d"
      },
      "source": [
        "np.ones(5)"
      ],
      "execution_count": null,
      "outputs": [
        {
          "output_type": "execute_result",
          "data": {
            "text/plain": [
              "array([1., 1., 1., 1., 1.])"
            ]
          },
          "metadata": {
            "tags": []
          },
          "execution_count": 13
        }
      ]
    },
    {
      "cell_type": "code",
      "metadata": {
        "colab": {
          "base_uri": "https://localhost:8080/"
        },
        "id": "0nRnTEN69dPi",
        "outputId": "b81bb2aa-e0ad-40c7-fd4e-36492acd652f"
      },
      "source": [
        "np.ones((4, 5))"
      ],
      "execution_count": null,
      "outputs": [
        {
          "output_type": "execute_result",
          "data": {
            "text/plain": [
              "array([[1., 1., 1., 1., 1.],\n",
              "       [1., 1., 1., 1., 1.],\n",
              "       [1., 1., 1., 1., 1.],\n",
              "       [1., 1., 1., 1., 1.]])"
            ]
          },
          "metadata": {
            "tags": []
          },
          "execution_count": 14
        }
      ]
    },
    {
      "cell_type": "code",
      "metadata": {
        "colab": {
          "base_uri": "https://localhost:8080/"
        },
        "id": "tQ8B6i6h-nbz",
        "outputId": "f320e44f-70fd-4afb-f512-fc05e4b1334b"
      },
      "source": [
        "np.ones((4, 5)) * 3"
      ],
      "execution_count": null,
      "outputs": [
        {
          "output_type": "execute_result",
          "data": {
            "text/plain": [
              "array([[3., 3., 3., 3., 3.],\n",
              "       [3., 3., 3., 3., 3.],\n",
              "       [3., 3., 3., 3., 3.],\n",
              "       [3., 3., 3., 3., 3.]])"
            ]
          },
          "metadata": {
            "tags": []
          },
          "execution_count": 15
        }
      ]
    },
    {
      "cell_type": "markdown",
      "metadata": {
        "id": "CzOsJCR2-rpE"
      },
      "source": [
        "## np.full\r\n",
        "지정한 차원에 모든 원소를 원하는 숫자로 채운다."
      ]
    },
    {
      "cell_type": "code",
      "metadata": {
        "colab": {
          "base_uri": "https://localhost:8080/"
        },
        "id": "j61a4DFb-sYZ",
        "outputId": "afc8d5d8-95e9-471b-cf2e-7c0a312af406"
      },
      "source": [
        "np.full((3, 4), 7)"
      ],
      "execution_count": null,
      "outputs": [
        {
          "output_type": "execute_result",
          "data": {
            "text/plain": [
              "array([[7, 7, 7, 7],\n",
              "       [7, 7, 7, 7],\n",
              "       [7, 7, 7, 7]])"
            ]
          },
          "metadata": {
            "tags": []
          },
          "execution_count": 16
        }
      ]
    },
    {
      "cell_type": "markdown",
      "metadata": {
        "id": "pOS8CX8G-xtU"
      },
      "source": [
        "# 단위 행렬 만들기\r\n",
        "* `np.eye`\r\n",
        "* 단위 행렬 : 대각선 방향의 원소가 1이고, 나머지 원소는 0인 행렬"
      ]
    },
    {
      "cell_type": "code",
      "metadata": {
        "colab": {
          "base_uri": "https://localhost:8080/"
        },
        "id": "wfOiG9Et-sfD",
        "outputId": "54e14a74-469a-4c78-ca37-c51cd1da8444"
      },
      "source": [
        "np.eye(3)"
      ],
      "execution_count": null,
      "outputs": [
        {
          "output_type": "execute_result",
          "data": {
            "text/plain": [
              "array([[1., 0., 0.],\n",
              "       [0., 1., 0.],\n",
              "       [0., 0., 1.]])"
            ]
          },
          "metadata": {
            "tags": []
          },
          "execution_count": 17
        }
      ]
    },
    {
      "cell_type": "code",
      "metadata": {
        "colab": {
          "base_uri": "https://localhost:8080/"
        },
        "id": "GEPqotB_-25q",
        "outputId": "a2a36b88-ed9a-4f3a-f481-374af8e1bfa9"
      },
      "source": [
        "np.eye(3, 4)"
      ],
      "execution_count": null,
      "outputs": [
        {
          "output_type": "execute_result",
          "data": {
            "text/plain": [
              "array([[1., 0., 0., 0.],\n",
              "       [0., 1., 0., 0.],\n",
              "       [0., 0., 1., 0.]])"
            ]
          },
          "metadata": {
            "tags": []
          },
          "execution_count": 18
        }
      ]
    },
    {
      "cell_type": "markdown",
      "metadata": {
        "id": "BB_GGkjA-7G4"
      },
      "source": [
        "# 구간 나누기\r\n",
        "* `np.linspace`"
      ]
    },
    {
      "cell_type": "code",
      "metadata": {
        "colab": {
          "base_uri": "https://localhost:8080/"
        },
        "id": "IxfLXtyD_zwp",
        "outputId": "84105a34-e986-47ef-c27a-1ec0f922f7c7"
      },
      "source": [
        "np.linspace(1, 10, 3) # 1부터 10까지 2개의 구간 만들기"
      ],
      "execution_count": null,
      "outputs": [
        {
          "output_type": "execute_result",
          "data": {
            "text/plain": [
              "array([ 1. ,  5.5, 10. ])"
            ]
          },
          "metadata": {
            "tags": []
          },
          "execution_count": 19
        }
      ]
    },
    {
      "cell_type": "code",
      "metadata": {
        "colab": {
          "base_uri": "https://localhost:8080/"
        },
        "id": "YPw-QP29_zzn",
        "outputId": "11184ce7-e828-40d2-d90b-24be5b925ef8"
      },
      "source": [
        "np.linspace(1, 10, 4)"
      ],
      "execution_count": null,
      "outputs": [
        {
          "output_type": "execute_result",
          "data": {
            "text/plain": [
              "array([ 1.,  4.,  7., 10.])"
            ]
          },
          "metadata": {
            "tags": []
          },
          "execution_count": 20
        }
      ]
    },
    {
      "cell_type": "code",
      "metadata": {
        "colab": {
          "base_uri": "https://localhost:8080/"
        },
        "id": "ObYXbheW_z25",
        "outputId": "409d739e-b05b-4416-c7d7-47a8792edd92"
      },
      "source": [
        "np.linspace(1, 10, 5)"
      ],
      "execution_count": null,
      "outputs": [
        {
          "output_type": "execute_result",
          "data": {
            "text/plain": [
              "array([ 1.  ,  3.25,  5.5 ,  7.75, 10.  ])"
            ]
          },
          "metadata": {
            "tags": []
          },
          "execution_count": 21
        }
      ]
    },
    {
      "cell_type": "markdown",
      "metadata": {
        "id": "Q4b6Nj-1_8TH"
      },
      "source": [
        "# Random을 사용하기 위한 numpy\r\n",
        "* 보통 랜덤한 배열은 딥러닝에서 매개변수의 초기화를 하기 위해 사용\r\n",
        "* 딥러닝에서는 일반적으로 Xavier 초깃값, He 초깃값, 정규분포 초깃값을 계산해 준다."
      ]
    },
    {
      "cell_type": "markdown",
      "metadata": {
        "id": "O-_jsVkf_9iw"
      },
      "source": [
        "## np.random.rand\r\n",
        "* 완전한 랜덤 만들기 ( 정규분포나 균등분포가 아닌 랜덤값 )"
      ]
    },
    {
      "cell_type": "code",
      "metadata": {
        "colab": {
          "base_uri": "https://localhost:8080/"
        },
        "id": "oykfzSQMABeL",
        "outputId": "cb847eb5-9cbc-4a7e-86bd-16b196ac2bf4"
      },
      "source": [
        "np.random.rand(2, 3) # 랜덤값을 채울 차원을 지정"
      ],
      "execution_count": null,
      "outputs": [
        {
          "output_type": "execute_result",
          "data": {
            "text/plain": [
              "array([[0.69695358, 0.22112954, 0.02953904],\n",
              "       [0.86041101, 0.51437531, 0.34434607]])"
            ]
          },
          "metadata": {
            "tags": []
          },
          "execution_count": 22
        }
      ]
    },
    {
      "cell_type": "markdown",
      "metadata": {
        "id": "EY0RQB_0AmuB"
      },
      "source": [
        "## np.random.randn\r\n",
        "* 정규분포 랜덤값 만들기"
      ]
    },
    {
      "cell_type": "code",
      "metadata": {
        "colab": {
          "base_uri": "https://localhost:8080/"
        },
        "id": "WsQQnlR5Anc7",
        "outputId": "9522ade7-6336-41b7-8005-6ff036984f56"
      },
      "source": [
        "np.random.randn(10)"
      ],
      "execution_count": null,
      "outputs": [
        {
          "output_type": "execute_result",
          "data": {
            "text/plain": [
              "array([-0.00458626, -0.06246228,  0.48817252,  0.26657474,  1.52376047,\n",
              "       -1.34546895, -0.29781937, -1.48720269, -1.88007909, -0.58775771])"
            ]
          },
          "metadata": {
            "tags": []
          },
          "execution_count": 23
        }
      ]
    },
    {
      "cell_type": "markdown",
      "metadata": {
        "id": "MF_swmFtAnm5"
      },
      "source": [
        "## np.random.uniform\r\n",
        "* 균등분포 랜덤값 만들기"
      ]
    },
    {
      "cell_type": "code",
      "metadata": {
        "colab": {
          "base_uri": "https://localhost:8080/"
        },
        "id": "z8ZKXmKOAnvz",
        "outputId": "60f35757-276c-4198-b3fe-ee237ddffc7e"
      },
      "source": [
        "np.random.uniform(1.0, 3.0, size=(4, 5)) # 1.0 ~ 3.0 까지 균등분포 랜덤값 생성"
      ],
      "execution_count": null,
      "outputs": [
        {
          "output_type": "execute_result",
          "data": {
            "text/plain": [
              "array([[2.59728779, 2.20523392, 2.00315387, 2.67915728, 1.48865042],\n",
              "       [2.27643238, 1.97404593, 2.47665551, 2.48670657, 2.26721437],\n",
              "       [2.24981178, 1.34366973, 1.86055642, 1.08872672, 1.44762697],\n",
              "       [2.35411202, 1.88321438, 1.47019225, 2.64036122, 2.21422128]])"
            ]
          },
          "metadata": {
            "tags": []
          },
          "execution_count": 24
        }
      ]
    },
    {
      "cell_type": "markdown",
      "metadata": {
        "id": "J6x-0a3cBgF3"
      },
      "source": [
        "# 정수 랜덤 만들기\r\n",
        "* `np.random.randint`"
      ]
    },
    {
      "cell_type": "code",
      "metadata": {
        "id": "pPwdCUPeBgs0",
        "colab": {
          "base_uri": "https://localhost:8080/"
        },
        "outputId": "a63b18ae-e3f4-4a6a-a0f6-4e7e9214556e"
      },
      "source": [
        "np.random.randint(1, 100, size=(5, )) # 1차원 배열의 원소 5개에 1 ~ 100까지의 랜덤값으로 채우기"
      ],
      "execution_count": 25,
      "outputs": [
        {
          "output_type": "execute_result",
          "data": {
            "text/plain": [
              "array([32, 55, 30, 78, 74])"
            ]
          },
          "metadata": {
            "tags": []
          },
          "execution_count": 25
        }
      ]
    },
    {
      "cell_type": "code",
      "metadata": {
        "colab": {
          "base_uri": "https://localhost:8080/"
        },
        "id": "_uM-q96GCBzy",
        "outputId": "a8682266-9d17-45dc-af03-8fdc13f37ba6"
      },
      "source": [
        "np.random.randint(1, 100, size=(5, 1)) # 2차원 배열에 랜덤 정수 채우기"
      ],
      "execution_count": 26,
      "outputs": [
        {
          "output_type": "execute_result",
          "data": {
            "text/plain": [
              "array([[53],\n",
              "       [55],\n",
              "       [28],\n",
              "       [67],\n",
              "       [65]])"
            ]
          },
          "metadata": {
            "tags": []
          },
          "execution_count": 26
        }
      ]
    },
    {
      "cell_type": "code",
      "metadata": {
        "colab": {
          "base_uri": "https://localhost:8080/"
        },
        "id": "kkxX3jgACB2j",
        "outputId": "8ebc11fd-9ae6-432b-ff9f-1a172acb5a51"
      },
      "source": [
        "np.random.randint(1, 100, size=(3, 4, 5))"
      ],
      "execution_count": 27,
      "outputs": [
        {
          "output_type": "execute_result",
          "data": {
            "text/plain": [
              "array([[[36,  4, 21, 41, 29],\n",
              "        [82, 32, 51, 83, 40],\n",
              "        [39, 15, 13, 32, 54],\n",
              "        [16,  2, 73, 51, 13]],\n",
              "\n",
              "       [[23, 60, 43, 49, 94],\n",
              "        [34, 94, 67, 21, 42],\n",
              "        [91,  3, 47, 95, 17],\n",
              "        [96, 29,  8,  9, 23]],\n",
              "\n",
              "       [[99, 24, 98, 46, 21],\n",
              "        [13, 30, 13, 88, 38],\n",
              "        [47, 51, 61, 41, 68],\n",
              "        [21, 51, 20,  5, 77]]])"
            ]
          },
          "metadata": {
            "tags": []
          },
          "execution_count": 27
        }
      ]
    },
    {
      "cell_type": "markdown",
      "metadata": {
        "id": "achFxaU6CJlc"
      },
      "source": [
        "# 정수 랜덤 샘플링 하기\r\n",
        "* `np.random.choice`\r\n",
        "* 랜덤 샘플링 : 일정한 범위 내에서 필요한 정수를 랜덤으로 추출\r\n",
        "* 미니배치를 만들 때 사용합니다.*이탤릭체 텍스트*"
      ]
    },
    {
      "cell_type": "code",
      "metadata": {
        "colab": {
          "base_uri": "https://localhost:8080/"
        },
        "id": "NV-DgasrCnDH",
        "outputId": "fcba3d8c-ec61-427a-d2c5-78f4fd7e688e"
      },
      "source": [
        "np.random.choice(100, size=(3, 4))"
      ],
      "execution_count": 28,
      "outputs": [
        {
          "output_type": "execute_result",
          "data": {
            "text/plain": [
              "array([[83,  8, 14, 48],\n",
              "       [57, 62, 29, 69],\n",
              "       [15, 43, 74, 88]])"
            ]
          },
          "metadata": {
            "tags": []
          },
          "execution_count": 28
        }
      ]
    },
    {
      "cell_type": "code",
      "metadata": {
        "colab": {
          "base_uri": "https://localhost:8080/"
        },
        "id": "SzdUz9QSCnL6",
        "outputId": "41adb99a-21ca-4c1a-a035-c944940bf1e1"
      },
      "source": [
        "# 임의의 배열을 만들어서 그 안에서 랜덤하게 추출할 수 있도록 함\r\n",
        "arr = np.arange(1, 6)\r\n",
        "\r\n",
        "np.random.choice(arr, size=(2, 2), replace=False) # replace가 True면 원소를 중복 추출, False면 중복 추출 X"
      ],
      "execution_count": 29,
      "outputs": [
        {
          "output_type": "execute_result",
          "data": {
            "text/plain": [
              "array([[4, 2],\n",
              "       [1, 3]])"
            ]
          },
          "metadata": {
            "tags": []
          },
          "execution_count": 29
        }
      ]
    },
    {
      "cell_type": "markdown",
      "metadata": {
        "id": "9QlMw9MxDFS8"
      },
      "source": [
        "# 인덱스와 슬라이싱"
      ]
    },
    {
      "cell_type": "code",
      "metadata": {
        "colab": {
          "base_uri": "https://localhost:8080/"
        },
        "id": "CA0kDOB6DKvD",
        "outputId": "4f4d500b-265c-4b11-9a2e-070a34d1ba1d"
      },
      "source": [
        "arr = np.arange(1, 11).reshape(2, 5)\r\n",
        "arr"
      ],
      "execution_count": 30,
      "outputs": [
        {
          "output_type": "execute_result",
          "data": {
            "text/plain": [
              "array([[ 1,  2,  3,  4,  5],\n",
              "       [ 6,  7,  8,  9, 10]])"
            ]
          },
          "metadata": {
            "tags": []
          },
          "execution_count": 30
        }
      ]
    },
    {
      "cell_type": "code",
      "metadata": {
        "colab": {
          "base_uri": "https://localhost:8080/"
        },
        "id": "VhZfCoBxD1eb",
        "outputId": "ef756399-5b8c-4aae-ba75-ca504273fe21"
      },
      "source": [
        "arr[0][2]"
      ],
      "execution_count": 31,
      "outputs": [
        {
          "output_type": "execute_result",
          "data": {
            "text/plain": [
              "3"
            ]
          },
          "metadata": {
            "tags": []
          },
          "execution_count": 31
        }
      ]
    },
    {
      "cell_type": "code",
      "metadata": {
        "colab": {
          "base_uri": "https://localhost:8080/"
        },
        "id": "vZGcuw8VD1hw",
        "outputId": "122828ba-34ad-49b4-d10b-c318f00da01a"
      },
      "source": [
        "arr[0, 2]"
      ],
      "execution_count": 32,
      "outputs": [
        {
          "output_type": "execute_result",
          "data": {
            "text/plain": [
              "3"
            ]
          },
          "metadata": {
            "tags": []
          },
          "execution_count": 32
        }
      ]
    },
    {
      "cell_type": "code",
      "metadata": {
        "colab": {
          "base_uri": "https://localhost:8080/"
        },
        "id": "Tj3cyMKuD1mP",
        "outputId": "a01fd5b9-ee4a-4e14-f8fe-9086a3cd3519"
      },
      "source": [
        "arr[:, 2] # 2차원 배열 내에서 1차원 배열은 전체 선택, 0차원 스칼라값은 2번째 인덱스에 있는 것을 선택"
      ],
      "execution_count": 33,
      "outputs": [
        {
          "output_type": "execute_result",
          "data": {
            "text/plain": [
              "array([3, 8])"
            ]
          },
          "metadata": {
            "tags": []
          },
          "execution_count": 33
        }
      ]
    },
    {
      "cell_type": "code",
      "metadata": {
        "colab": {
          "base_uri": "https://localhost:8080/"
        },
        "id": "M04EHyv8D8qx",
        "outputId": "01d7505b-6295-4e79-aeed-98e124c86867"
      },
      "source": [
        "arr = np.arange(1, 37).reshape(3, 4, 3)\r\n",
        "arr"
      ],
      "execution_count": 34,
      "outputs": [
        {
          "output_type": "execute_result",
          "data": {
            "text/plain": [
              "array([[[ 1,  2,  3],\n",
              "        [ 4,  5,  6],\n",
              "        [ 7,  8,  9],\n",
              "        [10, 11, 12]],\n",
              "\n",
              "       [[13, 14, 15],\n",
              "        [16, 17, 18],\n",
              "        [19, 20, 21],\n",
              "        [22, 23, 24]],\n",
              "\n",
              "       [[25, 26, 27],\n",
              "        [28, 29, 30],\n",
              "        [31, 32, 33],\n",
              "        [34, 35, 36]]])"
            ]
          },
          "metadata": {
            "tags": []
          },
          "execution_count": 34
        }
      ]
    },
    {
      "cell_type": "code",
      "metadata": {
        "colab": {
          "base_uri": "https://localhost:8080/"
        },
        "id": "3e6lOiyLEbYd",
        "outputId": "4ed0061d-fbfe-4ee6-ef5f-f6d10c5e95f6"
      },
      "source": [
        "arr[:, :2, :2]"
      ],
      "execution_count": 37,
      "outputs": [
        {
          "output_type": "execute_result",
          "data": {
            "text/plain": [
              "array([[[ 1,  2],\n",
              "        [ 4,  5]],\n",
              "\n",
              "       [[13, 14],\n",
              "        [16, 17]],\n",
              "\n",
              "       [[25, 26],\n",
              "        [28, 29]]])"
            ]
          },
          "metadata": {
            "tags": []
          },
          "execution_count": 37
        }
      ]
    },
    {
      "cell_type": "code",
      "metadata": {
        "colab": {
          "base_uri": "https://localhost:8080/"
        },
        "id": "b2HQHh9gEr4C",
        "outputId": "42fff0da-d5cc-4e3f-fc55-3b80d7f07c50"
      },
      "source": [
        "arr[1:, 1:3, 1:]"
      ],
      "execution_count": 42,
      "outputs": [
        {
          "output_type": "execute_result",
          "data": {
            "text/plain": [
              "array([[[17, 18],\n",
              "        [20, 21]],\n",
              "\n",
              "       [[29, 30],\n",
              "        [32, 33]]])"
            ]
          },
          "metadata": {
            "tags": []
          },
          "execution_count": 42
        }
      ]
    },
    {
      "cell_type": "markdown",
      "metadata": {
        "id": "-6Yd-k8LK16S"
      },
      "source": [
        "# 배열의 차원과 형상\r\n",
        "* 형상( `shape` )\r\n",
        "* 차원수( `ndim` )"
      ]
    },
    {
      "cell_type": "code",
      "metadata": {
        "colab": {
          "base_uri": "https://localhost:8080/"
        },
        "id": "-x73KIc-K43o",
        "outputId": "8cb3bde3-8e8f-4a21-eeee-680a9b38e153"
      },
      "source": [
        "arr = np.arange(12).reshape(3, 4)\r\n",
        "arr"
      ],
      "execution_count": 43,
      "outputs": [
        {
          "output_type": "execute_result",
          "data": {
            "text/plain": [
              "array([[ 0,  1,  2,  3],\n",
              "       [ 4,  5,  6,  7],\n",
              "       [ 8,  9, 10, 11]])"
            ]
          },
          "metadata": {
            "tags": []
          },
          "execution_count": 43
        }
      ]
    },
    {
      "cell_type": "code",
      "metadata": {
        "colab": {
          "base_uri": "https://localhost:8080/"
        },
        "id": "Z-gAKrXFK46V",
        "outputId": "2f612f31-c4a0-4911-8542-32255fe907e5"
      },
      "source": [
        "arr.shape"
      ],
      "execution_count": 44,
      "outputs": [
        {
          "output_type": "execute_result",
          "data": {
            "text/plain": [
              "(3, 4)"
            ]
          },
          "metadata": {
            "tags": []
          },
          "execution_count": 44
        }
      ]
    },
    {
      "cell_type": "code",
      "metadata": {
        "colab": {
          "base_uri": "https://localhost:8080/"
        },
        "id": "gs3gfdJcK49s",
        "outputId": "179f9ecc-cbbc-4eac-a509-aa25ea86b14f"
      },
      "source": [
        "arr.ndim"
      ],
      "execution_count": 45,
      "outputs": [
        {
          "output_type": "execute_result",
          "data": {
            "text/plain": [
              "2"
            ]
          },
          "metadata": {
            "tags": []
          },
          "execution_count": 45
        }
      ]
    },
    {
      "cell_type": "markdown",
      "metadata": {
        "id": "NiSsOSDkK_vp"
      },
      "source": [
        "# 차원수 확장하기\r\n",
        "* 항상 같은 예시는 아니지만, 보통은 이미지 분석( CNN )을 하기 위해 데이터를 전처리 하면서 사용 된다.\r\n",
        "* tensorflow는 `tf.newaxis`를 활용, numpy는 `np.newaxis`를 활용해서 추가 차원을 만들어 낼 수 있다."
      ]
    },
    {
      "cell_type": "code",
      "metadata": {
        "colab": {
          "base_uri": "https://localhost:8080/"
        },
        "id": "tgLs-bTWLBsZ",
        "outputId": "f1801c8d-f0c4-4dee-d707-9304735f9459"
      },
      "source": [
        "arr"
      ],
      "execution_count": 46,
      "outputs": [
        {
          "output_type": "execute_result",
          "data": {
            "text/plain": [
              "array([[ 0,  1,  2,  3],\n",
              "       [ 4,  5,  6,  7],\n",
              "       [ 8,  9, 10, 11]])"
            ]
          },
          "metadata": {
            "tags": []
          },
          "execution_count": 46
        }
      ]
    },
    {
      "cell_type": "code",
      "metadata": {
        "colab": {
          "base_uri": "https://localhost:8080/"
        },
        "id": "ITvDu0zCLBzR",
        "outputId": "2e77dd72-ec32-47b9-bdcb-5880f55b4a8f"
      },
      "source": [
        "arr.shape"
      ],
      "execution_count": 47,
      "outputs": [
        {
          "output_type": "execute_result",
          "data": {
            "text/plain": [
              "(3, 4)"
            ]
          },
          "metadata": {
            "tags": []
          },
          "execution_count": 47
        }
      ]
    },
    {
      "cell_type": "code",
      "metadata": {
        "colab": {
          "base_uri": "https://localhost:8080/"
        },
        "id": "eDc5tan2LVya",
        "outputId": "feeaed9d-31ba-44ce-d6c3-c8e166f1face"
      },
      "source": [
        "tmp_arr = arr[np.newaxis, :, :, np.newaxis] # arr의 첫 번째와 마지막에 차원을 1씩 확장\r\n",
        "tmp_arr"
      ],
      "execution_count": 48,
      "outputs": [
        {
          "output_type": "execute_result",
          "data": {
            "text/plain": [
              "array([[[[ 0],\n",
              "         [ 1],\n",
              "         [ 2],\n",
              "         [ 3]],\n",
              "\n",
              "        [[ 4],\n",
              "         [ 5],\n",
              "         [ 6],\n",
              "         [ 7]],\n",
              "\n",
              "        [[ 8],\n",
              "         [ 9],\n",
              "         [10],\n",
              "         [11]]]])"
            ]
          },
          "metadata": {
            "tags": []
          },
          "execution_count": 48
        }
      ]
    },
    {
      "cell_type": "code",
      "metadata": {
        "colab": {
          "base_uri": "https://localhost:8080/"
        },
        "id": "6EKpSAn6LV1R",
        "outputId": "2c221558-ee88-42ff-8c5c-0af47757109d"
      },
      "source": [
        "# 실제 데이터를 다룰 때는 실제 데이터를 보는 것이 아닌, shape만 보자..\r\n",
        "tmp_arr.shape"
      ],
      "execution_count": 49,
      "outputs": [
        {
          "output_type": "execute_result",
          "data": {
            "text/plain": [
              "(1, 3, 4, 1)"
            ]
          },
          "metadata": {
            "tags": []
          },
          "execution_count": 49
        }
      ]
    },
    {
      "cell_type": "code",
      "metadata": {
        "colab": {
          "base_uri": "https://localhost:8080/"
        },
        "id": "dRL-s1_tNMPk",
        "outputId": "7a649de6-175b-4929-ee1e-321fcaff4436"
      },
      "source": [
        "# 각 차원이 1인 차원 삭제하기\r\n",
        "tmp_arr2 = np.squeeze(tmp_arr)\r\n",
        "tmp_arr2.shape"
      ],
      "execution_count": 50,
      "outputs": [
        {
          "output_type": "execute_result",
          "data": {
            "text/plain": [
              "(3, 4)"
            ]
          },
          "metadata": {
            "tags": []
          },
          "execution_count": 50
        }
      ]
    },
    {
      "cell_type": "markdown",
      "metadata": {
        "id": "sNV1148KNO_q"
      },
      "source": [
        "`spread` 연산자 활용하기\r\n",
        "* 슬라이싱 도중에 특정 차원 부터는 전체를 선택할 때 사용한다."
      ]
    },
    {
      "cell_type": "code",
      "metadata": {
        "colab": {
          "base_uri": "https://localhost:8080/"
        },
        "id": "Zj_bC8SPNQWJ",
        "outputId": "7389be62-be61-4682-96e6-fd19c3358753"
      },
      "source": [
        "tmp_arr3 = arr[np.newaxis, ..., np.newaxis] # ... -> spread 연산자\r\n",
        "tmp_arr3.shape"
      ],
      "execution_count": 53,
      "outputs": [
        {
          "output_type": "execute_result",
          "data": {
            "text/plain": [
              "(1, 3, 4, 1)"
            ]
          },
          "metadata": {
            "tags": []
          },
          "execution_count": 53
        }
      ]
    },
    {
      "cell_type": "markdown",
      "metadata": {
        "id": "KNQJt3bHN3yz"
      },
      "source": [
        "# 배열의 형상(shape) 바꾸기\r\n",
        "* `np.newaxis`를 활용해서 축을 추가한다. (차원수를 늘린다.)\r\n",
        "\r\n",
        "평탄화\r\n",
        "* `ravel` : 원본 배열을 평탄화 시킨 참조배열을 만들어 낸다. (View 또는 Reference 를 만들었다 라고 표현한다.)\r\n",
        "* `flatten` : 평탄화 시킨 **복사된** 배열을 만들어 낸다.\r\n",
        "\r\n",
        "형상 변환\r\n",
        "* `reshape`\r\n"
      ]
    },
    {
      "cell_type": "code",
      "metadata": {
        "colab": {
          "base_uri": "https://localhost:8080/"
        },
        "id": "8OXzxNgpOMnP",
        "outputId": "964c78b1-a842-4e80-95fa-7e796f8478c3"
      },
      "source": [
        "x = np.arange(15).reshape(3, 5)\r\n",
        "x.shape"
      ],
      "execution_count": 54,
      "outputs": [
        {
          "output_type": "execute_result",
          "data": {
            "text/plain": [
              "(3, 5)"
            ]
          },
          "metadata": {
            "tags": []
          },
          "execution_count": 54
        }
      ]
    },
    {
      "cell_type": "code",
      "metadata": {
        "colab": {
          "base_uri": "https://localhost:8080/"
        },
        "id": "apr9Y43yO9w0",
        "outputId": "4a8709bb-b781-4635-bac3-dfbfd3e12fa1"
      },
      "source": [
        "print(\"원본 x : \\n{}\".format(x))"
      ],
      "execution_count": 55,
      "outputs": [
        {
          "output_type": "stream",
          "text": [
            "원본 x : \n",
            "[[ 0  1  2  3  4]\n",
            " [ 5  6  7  8  9]\n",
            " [10 11 12 13 14]]\n"
          ],
          "name": "stdout"
        }
      ]
    },
    {
      "cell_type": "code",
      "metadata": {
        "colab": {
          "base_uri": "https://localhost:8080/"
        },
        "id": "3J57w62rOMqA",
        "outputId": "e583155d-1f74-4a40-d0e5-aa7dec0d9d65"
      },
      "source": [
        "temp = np.ravel(x)\r\n",
        "print(\"ravel로 평탄화된 x의 shape : {}\".format(x.shape))\r\n",
        "print(\"ravel로 평탄화된 x : \\n{}\".format(temp))"
      ],
      "execution_count": 56,
      "outputs": [
        {
          "output_type": "stream",
          "text": [
            "ravel로 평탄화된 x의 shape : (3, 5)\n",
            "ravel로 평탄화된 x : \n",
            "[ 0  1  2  3  4  5  6  7  8  9 10 11 12 13 14]\n"
          ],
          "name": "stdout"
        }
      ]
    },
    {
      "cell_type": "markdown",
      "metadata": {
        "id": "9Ht7ZLRhO-Ko"
      },
      "source": [
        "`ravel`함수는 원본의 참조본을 만들어 낸다."
      ]
    },
    {
      "cell_type": "code",
      "metadata": {
        "colab": {
          "base_uri": "https://localhost:8080/"
        },
        "id": "7OYk2W4RP0e6",
        "outputId": "a8428cc0-15e1-4ea3-9c66-71c541fe0af1"
      },
      "source": [
        "print(temp[0])"
      ],
      "execution_count": 57,
      "outputs": [
        {
          "output_type": "stream",
          "text": [
            "0\n"
          ],
          "name": "stdout"
        }
      ]
    },
    {
      "cell_type": "code",
      "metadata": {
        "colab": {
          "base_uri": "https://localhost:8080/"
        },
        "id": "ygBtT5UnP0hh",
        "outputId": "08390749-7148-4eb1-f33f-5fdc6e25c22a"
      },
      "source": [
        "temp[0] = 100\r\n",
        "print(x)"
      ],
      "execution_count": 58,
      "outputs": [
        {
          "output_type": "stream",
          "text": [
            "[[100   1   2   3   4]\n",
            " [  5   6   7   8   9]\n",
            " [ 10  11  12  13  14]]\n"
          ],
          "name": "stdout"
        }
      ]
    },
    {
      "cell_type": "code",
      "metadata": {
        "colab": {
          "base_uri": "https://localhost:8080/"
        },
        "id": "VHIo2tm0P0kP",
        "outputId": "78d453ee-9b65-4465-d6dd-1283bc722ae4"
      },
      "source": [
        "# flatten은 복사본을 만들어 낸다.\r\n",
        "y = np.arange(15).reshape(3, 5)\r\n",
        "temp2 = y.flatten()\r\n",
        "print(\"원본 y : \\n{}\".format(y))\r\n",
        "print(\"flatten으로 평탄화된 temp2의 shape : {}\".format(temp2.shape))\r\n",
        "print(\"flatten으로 평탄화된 temp2 : \\n{}\".format(temp2))"
      ],
      "execution_count": 59,
      "outputs": [
        {
          "output_type": "stream",
          "text": [
            "원본 y : \n",
            "[[ 0  1  2  3  4]\n",
            " [ 5  6  7  8  9]\n",
            " [10 11 12 13 14]]\n",
            "flatten으로 평탄화된 temp2의 shape : (15,)\n",
            "flatten으로 평탄화된 temp2 : \n",
            "[ 0  1  2  3  4  5  6  7  8  9 10 11 12 13 14]\n"
          ],
          "name": "stdout"
        }
      ]
    },
    {
      "cell_type": "code",
      "metadata": {
        "colab": {
          "base_uri": "https://localhost:8080/"
        },
        "id": "PD2XJAk7RaNd",
        "outputId": "931339cc-cf1f-4f0e-999e-bd609b6a214a"
      },
      "source": [
        "temp2[0] = 100 # flatten을 활용해서 y의 복사본을 만들어 냈기 때문에 원본 y에는 영향을 미치지 않는다.\r\n",
        "print(temp2)\r\n",
        "print(y)"
      ],
      "execution_count": 60,
      "outputs": [
        {
          "output_type": "stream",
          "text": [
            "[100   1   2   3   4   5   6   7   8   9  10  11  12  13  14]\n",
            "[[ 0  1  2  3  4]\n",
            " [ 5  6  7  8  9]\n",
            " [10 11 12 13 14]]\n"
          ],
          "name": "stdout"
        }
      ]
    },
    {
      "cell_type": "markdown",
      "metadata": {
        "id": "Z3oUwlCHRbDV"
      },
      "source": [
        "`reshape` 사용하기"
      ]
    },
    {
      "cell_type": "code",
      "metadata": {
        "colab": {
          "base_uri": "https://localhost:8080/"
        },
        "id": "Nl2k0dudRe3n",
        "outputId": "b7cc2ed4-aad4-4409-a6e3-634627f36e30"
      },
      "source": [
        "x = np.arange(20)\r\n",
        "x"
      ],
      "execution_count": 61,
      "outputs": [
        {
          "output_type": "execute_result",
          "data": {
            "text/plain": [
              "array([ 0,  1,  2,  3,  4,  5,  6,  7,  8,  9, 10, 11, 12, 13, 14, 15, 16,\n",
              "       17, 18, 19])"
            ]
          },
          "metadata": {
            "tags": []
          },
          "execution_count": 61
        }
      ]
    },
    {
      "cell_type": "markdown",
      "metadata": {
        "id": "IMj8jIF2Rjp2"
      },
      "source": [
        "`reshape` 팁 : `reshape` 함수 내의 모든 숫자를 곱했을 때 스칼라 원소의 개수와 같기만 하면 된다."
      ]
    },
    {
      "cell_type": "code",
      "metadata": {
        "colab": {
          "base_uri": "https://localhost:8080/"
        },
        "id": "89xqwsfORkWz",
        "outputId": "dac6197b-eea1-4d99-e64b-ceeebf8ea079"
      },
      "source": [
        "x.reshape(2, 5, 2)"
      ],
      "execution_count": 62,
      "outputs": [
        {
          "output_type": "execute_result",
          "data": {
            "text/plain": [
              "array([[[ 0,  1],\n",
              "        [ 2,  3],\n",
              "        [ 4,  5],\n",
              "        [ 6,  7],\n",
              "        [ 8,  9]],\n",
              "\n",
              "       [[10, 11],\n",
              "        [12, 13],\n",
              "        [14, 15],\n",
              "        [16, 17],\n",
              "        [18, 19]]])"
            ]
          },
          "metadata": {
            "tags": []
          },
          "execution_count": 62
        }
      ]
    },
    {
      "cell_type": "markdown",
      "metadata": {
        "id": "6UpN9zT2R36l"
      },
      "source": [
        "`-1`을 `reshape`에 넣으면 남는 숫자를 자동으로 계산해 준다."
      ]
    },
    {
      "cell_type": "code",
      "metadata": {
        "colab": {
          "base_uri": "https://localhost:8080/"
        },
        "id": "43W0rIbIR4oN",
        "outputId": "c9677ef4-b69f-4612-eac0-87f029655cb0"
      },
      "source": [
        "x.reshape(2, 2, -1) # 2 * 2 는 4니까, -1은 5를 의미하게 된다."
      ],
      "execution_count": 63,
      "outputs": [
        {
          "output_type": "execute_result",
          "data": {
            "text/plain": [
              "array([[[ 0,  1,  2,  3,  4],\n",
              "        [ 5,  6,  7,  8,  9]],\n",
              "\n",
              "       [[10, 11, 12, 13, 14],\n",
              "        [15, 16, 17, 18, 19]]])"
            ]
          },
          "metadata": {
            "tags": []
          },
          "execution_count": 63
        }
      ]
    },
    {
      "cell_type": "code",
      "metadata": {
        "colab": {
          "base_uri": "https://localhost:8080/"
        },
        "id": "tXVnxSlwR4q8",
        "outputId": "b266a9a7-fc38-425a-e73c-5382a5f21c4e"
      },
      "source": [
        "x.reshape(2, -1, 2)"
      ],
      "execution_count": 64,
      "outputs": [
        {
          "output_type": "execute_result",
          "data": {
            "text/plain": [
              "array([[[ 0,  1],\n",
              "        [ 2,  3],\n",
              "        [ 4,  5],\n",
              "        [ 6,  7],\n",
              "        [ 8,  9]],\n",
              "\n",
              "       [[10, 11],\n",
              "        [12, 13],\n",
              "        [14, 15],\n",
              "        [16, 17],\n",
              "        [18, 19]]])"
            ]
          },
          "metadata": {
            "tags": []
          },
          "execution_count": 64
        }
      ]
    },
    {
      "cell_type": "code",
      "metadata": {
        "colab": {
          "base_uri": "https://localhost:8080/",
          "height": 179
        },
        "id": "0vlWrbUKR_V6",
        "outputId": "9ae186bf-0eee-4367-c3d0-9ea4233a05de"
      },
      "source": [
        "x.reshape(3, -1) # 오류... 한쪽 차원의 수가 3이면 원소의 개수인 20만큼 딱 떨어지지 않기 때문에 오류"
      ],
      "execution_count": 65,
      "outputs": [
        {
          "output_type": "error",
          "ename": "ValueError",
          "evalue": "ignored",
          "traceback": [
            "\u001b[0;31m---------------------------------------------------------------------------\u001b[0m",
            "\u001b[0;31mValueError\u001b[0m                                Traceback (most recent call last)",
            "\u001b[0;32m<ipython-input-65-9d7a9cede7ed>\u001b[0m in \u001b[0;36m<module>\u001b[0;34m()\u001b[0m\n\u001b[0;32m----> 1\u001b[0;31m \u001b[0mx\u001b[0m\u001b[0;34m.\u001b[0m\u001b[0mreshape\u001b[0m\u001b[0;34m(\u001b[0m\u001b[0;36m3\u001b[0m\u001b[0;34m,\u001b[0m \u001b[0;34m-\u001b[0m\u001b[0;36m1\u001b[0m\u001b[0;34m)\u001b[0m \u001b[0;31m# 오류... 한쪽 차원의 수가 3이면 원소의 개수인 20만큼 딱 떨어지지 않기 때문에 오류\u001b[0m\u001b[0;34m\u001b[0m\u001b[0;34m\u001b[0m\u001b[0m\n\u001b[0m",
            "\u001b[0;31mValueError\u001b[0m: cannot reshape array of size 20 into shape (3,newaxis)"
          ]
        }
      ]
    }
  ]
}