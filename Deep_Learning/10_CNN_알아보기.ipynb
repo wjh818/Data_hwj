{
  "nbformat": 4,
  "nbformat_minor": 0,
  "metadata": {
    "colab": {
      "name": "10. CNN 알아보기",
      "provenance": [],
      "collapsed_sections": [],
      "authorship_tag": "ABX9TyPtCF6N4biypfkrNv8X2LTF",
      "include_colab_link": true
    },
    "kernelspec": {
      "name": "python3",
      "display_name": "Python 3"
    },
    "accelerator": "GPU"
  },
  "cells": [
    {
      "cell_type": "markdown",
      "metadata": {
        "id": "view-in-github",
        "colab_type": "text"
      },
      "source": [
        "<a href=\"https://colab.research.google.com/github/wjh818/Data_hwj/blob/main/Deep_Learning/10_CNN_%EC%95%8C%EC%95%84%EB%B3%B4%EA%B8%B0.ipynb\" target=\"_parent\"><img src=\"https://colab.research.google.com/assets/colab-badge.svg\" alt=\"Open In Colab\"/></a>"
      ]
    },
    {
      "cell_type": "markdown",
      "metadata": {
        "id": "_EwN2aQwAhFO"
      },
      "source": [
        "# MNIST 데이터 준비 및 시각화"
      ]
    },
    {
      "cell_type": "code",
      "metadata": {
        "id": "fPLrd3mDAnVh"
      },
      "source": [
        "import tensorflow as tf\r\n",
        "from tensorflow.keras import datasets\r\n",
        "\r\n",
        "import matplotlib.pyplot as plt\r\n",
        "%matplotlib inline"
      ],
      "execution_count": 1,
      "outputs": []
    },
    {
      "cell_type": "code",
      "metadata": {
        "colab": {
          "base_uri": "https://localhost:8080/"
        },
        "id": "sqL6w51Unizv",
        "outputId": "e44494c7-0614-4109-d55d-3584d7bc6162"
      },
      "source": [
        "(X_train, y_train), (X_test, y_test) = datasets.mnist.load_data()"
      ],
      "execution_count": 2,
      "outputs": [
        {
          "output_type": "stream",
          "text": [
            "Downloading data from https://storage.googleapis.com/tensorflow/tf-keras-datasets/mnist.npz\n",
            "11493376/11490434 [==============================] - 0s 0us/step\n"
          ],
          "name": "stdout"
        }
      ]
    },
    {
      "cell_type": "code",
      "metadata": {
        "colab": {
          "base_uri": "https://localhost:8080/"
        },
        "id": "vOsXRl1Eni2h",
        "outputId": "ca6628aa-eabe-4f88-a801-862f64c763f3"
      },
      "source": [
        "# 이미지를 가져왔으니까 시각화 해보고, 형상(shape) 확인해 보자\r\n",
        "image = X_train[0]\r\n",
        "image.shape"
      ],
      "execution_count": 3,
      "outputs": [
        {
          "output_type": "execute_result",
          "data": {
            "text/plain": [
              "(28, 28)"
            ]
          },
          "metadata": {
            "tags": []
          },
          "execution_count": 3
        }
      ]
    },
    {
      "cell_type": "code",
      "metadata": {
        "colab": {
          "base_uri": "https://localhost:8080/",
          "height": 265
        },
        "id": "ds1gYcRJni5L",
        "outputId": "d6fa767b-ad54-48b1-95a9-2ea6237a6123"
      },
      "source": [
        "plt.imshow(image, 'gray')\r\n",
        "plt.show()"
      ],
      "execution_count": 4,
      "outputs": [
        {
          "output_type": "display_data",
          "data": {
            "image/png": "[encoded data removed]",
            "text/plain": [
              "<Figure size 432x288 with 1 Axes>"
            ]
          },
          "metadata": {
            "tags": [],
            "needs_background": "light"
          }
        }
      ]
    },
    {
      "cell_type": "code",
      "metadata": {
        "colab": {
          "base_uri": "https://localhost:8080/"
        },
        "id": "37mt7rPlni73",
        "outputId": "ea4697bc-ef92-47dd-ebc2-4162e2f5409b"
      },
      "source": [
        "# 실제 CNN 레이어에 집어 넣기 위해서는 4차원 형태를 유지해야 한다.\r\n",
        "# (N, H, W, C) -> ( 배치크기, 높이, 가로, 채널 )\r\n",
        "# MNIST 손글씨 이미지 : 높이 - 28px, 가로 - 28px, 채널 - 1 채널\r\n",
        "image = image[tf.newaxis, ..., tf.newaxis]\r\n",
        "image.shape"
      ],
      "execution_count": 5,
      "outputs": [
        {
          "output_type": "execute_result",
          "data": {
            "text/plain": [
              "(1, 28, 28, 1)"
            ]
          },
          "metadata": {
            "tags": []
          },
          "execution_count": 5
        }
      ]
    },
    {
      "cell_type": "markdown",
      "metadata": {
        "id": "nJHqY0v8nwfE"
      },
      "source": [
        "# Conv2D 레이어 사용하기\r\n",
        "* Keras의 대표적인 CNN 레이어는 두가지가 있다.\r\n",
        " 1. Conv2D\r\n",
        "  * `stride`가 2방향으로 움직인다.(가로, 세로)\r\n",
        "  * 이미지 분석을 위해 사용되는 일반적인 합성곱 레이어\r\n",
        " 2. Conv1D\r\n",
        "  * `stride`가 1방향으로 움직인다. (세로)\r\n",
        "  * 텍스트 분석을 위해 사용되는 레이어. ( `char CNN` )\r\n",
        "\r\n",
        "------\r\n",
        "## 매개변수 정리\r\n",
        "* `filters` : 필터의 개수\r\n",
        "* `kernel_size` : 필터의 크기\r\n",
        "* `strides` : 몇 개의 픽셀을 스킵 하면서 필터가 훑게 할지 결정\r\n",
        "* `padding` : `0`으로 쌓여진 패딩을 만들 것인지에 대한 설정\r\n",
        " * `VALID` : 패딩을 만들지 않기\r\n",
        " * `SAME` : 패딩 생성\r\n",
        "* `activation` : 활성화 함수 지정하기. 따로 설정하지 않고 추후 레이어로 추가 가능"
      ]
    },
    {
      "cell_type": "code",
      "metadata": {
        "colab": {
          "base_uri": "https://localhost:8080/"
        },
        "id": "cfZu-uRcni-P",
        "outputId": "cadf1c26-dbe9-4601-b025-d71c08e41ad3"
      },
      "source": [
        "tf.keras.layers.Conv2D(\r\n",
        "    filters= 3, # 필터 개수\r\n",
        "    kernel_size = (3, 3), # 필터 가로 세로 크기\r\n",
        "    strides= (1, 1), # 이동 걸음 걸이 크기\r\n",
        "    padding='SAME', # 패딩 여부( 패딩 O ) \r\n",
        "    activation='relu' # 활성화 함수 적용( 여기서 안넣고 레이어로 추가 가능 )\r\n",
        ")"
      ],
      "execution_count": 6,
      "outputs": [
        {
          "output_type": "execute_result",
          "data": {
            "text/plain": [
              "<tensorflow.python.keras.layers.convolutional.Conv2D at 0x7f6f9df1d9b0>"
            ]
          },
          "metadata": {
            "tags": []
          },
          "execution_count": 6
        }
      ]
    },
    {
      "cell_type": "code",
      "metadata": {
        "colab": {
          "base_uri": "https://localhost:8080/"
        },
        "id": "kslW0P11njBA",
        "outputId": "9705b091-67db-488a-9d8b-7a74aea14325"
      },
      "source": [
        "# 필터의 가로, 세로 크기 및 스트라이드의 가로 세로를 똑같이 하려면 굳이 튜플로 넣어줄 필요는 없다.\r\n",
        "tf.keras.layers.Conv2D(filters=3, kernel_size=3, strides=1, padding='SAME', activation='relu')"
      ],
      "execution_count": 7,
      "outputs": [
        {
          "output_type": "execute_result",
          "data": {
            "text/plain": [
              "<tensorflow.python.keras.layers.convolutional.Conv2D at 0x7f6f9ebb82e8>"
            ]
          },
          "metadata": {
            "tags": []
          },
          "execution_count": 7
        }
      ]
    },
    {
      "cell_type": "markdown",
      "metadata": {
        "id": "3xL2Q5Wwn6E-"
      },
      "source": [
        "# Convolution 레이어 시각화"
      ]
    },
    {
      "cell_type": "code",
      "metadata": {
        "colab": {
          "base_uri": "https://localhost:8080/"
        },
        "id": "RHdQIAGAnjDr",
        "outputId": "cb889007-e3a5-420c-9e09-53846cf0c273"
      },
      "source": [
        "# image를 tensorflow 배열로 만들기\r\n",
        "image = tf.cast(image, dtype=tf.float32)\r\n",
        "image.dtype"
      ],
      "execution_count": 8,
      "outputs": [
        {
          "output_type": "execute_result",
          "data": {
            "text/plain": [
              "tf.float32"
            ]
          },
          "metadata": {
            "tags": []
          },
          "execution_count": 8
        }
      ]
    },
    {
      "cell_type": "code",
      "metadata": {
        "id": "9168P34mnjGe"
      },
      "source": [
        "layer = tf.keras.layers.Conv2D(filters=5, kernel_size=3, strides=1, padding='SAME')"
      ],
      "execution_count": 9,
      "outputs": []
    },
    {
      "cell_type": "code",
      "metadata": {
        "colab": {
          "base_uri": "https://localhost:8080/"
        },
        "id": "1h17iQ87njJJ",
        "outputId": "08566655-86ab-4255-9e29-0c9281d17547"
      },
      "source": [
        "# tensorflow에서 레이어에 데이터 전달 하는 방법\r\n",
        "output = layer(image)\r\n",
        "output.shape"
      ],
      "execution_count": 10,
      "outputs": [
        {
          "output_type": "execute_result",
          "data": {
            "text/plain": [
              "TensorShape([1, 28, 28, 5])"
            ]
          },
          "metadata": {
            "tags": []
          },
          "execution_count": 10
        }
      ]
    },
    {
      "cell_type": "code",
      "metadata": {
        "colab": {
          "base_uri": "https://localhost:8080/",
          "height": 134
        },
        "id": "mY9AWTD_njMG",
        "outputId": "277e521b-470e-473c-e2f4-9241c8574688"
      },
      "source": [
        "# MNIST 이미지 5에 대한 Conv 레이어 통과 후 시각화\r\n",
        "\r\n",
        "_, axes = plt.subplots(nrows=1, ncols=6, figsize=(20, 10))\r\n",
        "axes[0].imshow(image[0, ..., 0], cmap='gray')\r\n",
        "axes[0].set_title(\"Original Image\")\r\n",
        "\r\n",
        "for idx, ax in enumerate(axes[1: ]):\r\n",
        "  ax.set_title(\"Output : {}\".format(idx + 1))\r\n",
        "  ax.imshow(output[0, ..., idx], cmap='gray')\r\n",
        "\r\n",
        "plt.show()"
      ],
      "execution_count": 11,
      "outputs": [
        {
          "output_type": "display_data",
          "data": {
            "image/png": "[encoded data removed]",
            "text/plain": [
              "<Figure size 1440x720 with 6 Axes>"
            ]
          },
          "metadata": {
            "tags": [],
            "needs_background": "light"
          }
        }
      ]
    },
    {
      "cell_type": "markdown",
      "metadata": {
        "id": "l8d5TvR8oEzP"
      },
      "source": [
        "# Filter 시각화 하기\r\n",
        "* CNN에서 Filter의 역할은 실제 CNN 레이어가 이미지의 무엇을 보고 있는가를 이야기 한다.\r\n",
        "* keras의 레이어들은 `get_weights()` 함수를 이용해서 편향과 가중치 등을 볼 수 있다."
      ]
    },
    {
      "cell_type": "code",
      "metadata": {
        "id": "O7yAvTvEnjOw"
      },
      "source": [
        "# 케라스의 모든 계산 가능한 레이어에서 매개변수 뽑아내기(가중치, 편향)\r\n",
        "# layer - Conv2D 레이어 필터 모양 : ( 3, 3, 1, 5 ) - ( 필터 세로, 필터 가로, 채널 수, 필터 개수 )\r\n",
        "weights = layer.get_weights()"
      ],
      "execution_count": 12,
      "outputs": []
    },
    {
      "cell_type": "code",
      "metadata": {
        "colab": {
          "base_uri": "https://localhost:8080/"
        },
        "id": "KJof12p6njRj",
        "outputId": "2723bffd-c1a2-4ee7-bf15-0ff8a24ef8b0"
      },
      "source": [
        "print(\"가중치의 형상 : {}\".format(weights[0].shape))\r\n",
        "print(\"편향의 형상 : {}\".format(weights[1].shape))"
      ],
      "execution_count": 13,
      "outputs": [
        {
          "output_type": "stream",
          "text": [
            "가중치의 형상 : (3, 3, 1, 5)\n",
            "편향의 형상 : (5,)\n"
          ],
          "name": "stdout"
        }
      ]
    },
    {
      "cell_type": "code",
      "metadata": {
        "colab": {
          "base_uri": "https://localhost:8080/",
          "height": 150
        },
        "id": "E6-y4dp5njUH",
        "outputId": "6d3c2449-e346-415e-a05a-c54cef3bf238"
      },
      "source": [
        "# 시각화\r\n",
        "_, axes = plt.subplots(nrows=1, ncols=5, figsize=(20, 10))\r\n",
        "\r\n",
        "for idx, ax in enumerate(axes):\r\n",
        "  ax.set_title(\"Filter {}\".format(idx + 1))\r\n",
        "  ax.imshow(weights[0][..., 0, idx], cmap='gray')\r\n",
        "  \r\n",
        "plt.show()"
      ],
      "execution_count": 14,
      "outputs": [
        {
          "output_type": "display_data",
          "data": {
            "image/png": "[encoded data removed]",
            "text/plain": [
              "<Figure size 1440x720 with 5 Axes>"
            ]
          },
          "metadata": {
            "tags": [],
            "needs_background": "light"
          }
        }
      ]
    },
    {
      "cell_type": "markdown",
      "metadata": {
        "id": "HfIY_mQFoNoA"
      },
      "source": [
        "# ReLU 레이어 시각화\r\n",
        "* 이미지 분석에서 `ReLU`가 자주 사용됩니다.\r\n",
        "* 이미지 데이터에서 음수 데이터는 필요가 없는 데이터이다.\r\n",
        " * 필요 없는 음수 데이터는 제거하고, 의미 있는 양수 데이터만 강조하기 위해서 `ReLU`가 일반적으로 사용된다."
      ]
    },
    {
      "cell_type": "code",
      "metadata": {
        "colab": {
          "base_uri": "https://localhost:8080/"
        },
        "id": "m0WWQBpqnjXC",
        "outputId": "8877de79-085f-443c-cafa-3d307bdb8e80"
      },
      "source": [
        "import numpy as np\r\n",
        "np.min(output), np.max(output)"
      ],
      "execution_count": 15,
      "outputs": [
        {
          "output_type": "execute_result",
          "data": {
            "text/plain": [
              "(-260.26645, 131.34831)"
            ]
          },
          "metadata": {
            "tags": []
          },
          "execution_count": 15
        }
      ]
    },
    {
      "cell_type": "code",
      "metadata": {
        "colab": {
          "base_uri": "https://localhost:8080/"
        },
        "id": "aljBQxs9njZt",
        "outputId": "6cec8339-af0f-4c73-bf89-2590834bd9e8"
      },
      "source": [
        "act_layer = tf.keras.layers.ReLU()\r\n",
        "act_output = act_layer(output) # 합성곱의 결과가 활성화 레이어로 들어간다.\r\n",
        "act_output.shape # output의 형상과 똑같다."
      ],
      "execution_count": 16,
      "outputs": [
        {
          "output_type": "execute_result",
          "data": {
            "text/plain": [
              "TensorShape([1, 28, 28, 5])"
            ]
          },
          "metadata": {
            "tags": []
          },
          "execution_count": 16
        }
      ]
    },
    {
      "cell_type": "code",
      "metadata": {
        "colab": {
          "base_uri": "https://localhost:8080/"
        },
        "id": "I25TKudQnjc1",
        "outputId": "55651673-296a-468a-cc58-64d7d86d393f"
      },
      "source": [
        "np.min(act_output), np.max(act_output)"
      ],
      "execution_count": 17,
      "outputs": [
        {
          "output_type": "execute_result",
          "data": {
            "text/plain": [
              "(0.0, 131.34831)"
            ]
          },
          "metadata": {
            "tags": []
          },
          "execution_count": 17
        }
      ]
    },
    {
      "cell_type": "code",
      "metadata": {
        "colab": {
          "base_uri": "https://localhost:8080/",
          "height": 134
        },
        "id": "vdL1ggzrnjft",
        "outputId": "627f2449-3524-4ed9-e6c9-52ba0213d105"
      },
      "source": [
        "# ReLU 레이어를 통과 시키고 나서의 결과\r\n",
        "_, axes = plt.subplots(nrows=1, ncols=6, figsize=(20, 10))\r\n",
        "\r\n",
        "axes[0].imshow(image[0, ..., 0], cmap='gray')\r\n",
        "axes[0].set_title(\"Original Image\")\r\n",
        "\r\n",
        "for idx, ax in enumerate(axes[1:]):\r\n",
        "  ax.set_title(\"ReLU Output : {}\".format(idx + 1))\r\n",
        "  ax.imshow(act_output[0, ..., idx], cmap='gray')\r\n",
        "\r\n",
        "plt.show()"
      ],
      "execution_count": 18,
      "outputs": [
        {
          "output_type": "display_data",
          "data": {
            "image/png": "[encoded data removed]",
            "text/plain": [
              "<Figure size 1440x720 with 6 Axes>"
            ]
          },
          "metadata": {
            "tags": [],
            "needs_background": "light"
          }
        }
      ]
    },
    {
      "cell_type": "markdown",
      "metadata": {
        "id": "PZZ-H0uKoW0D"
      },
      "source": [
        "# MaxPooling 레이어 확인하기\r\n",
        "이미지 A와 이미지 B가 예를 들어 1px 정도만 차이나는 굉장히 유사한 이미지라면, 그 결과물도 유사하게 나타나게 하기 위한 처리"
      ]
    },
    {
      "cell_type": "code",
      "metadata": {
        "colab": {
          "base_uri": "https://localhost:8080/"
        },
        "id": "xDrsK7W0njiw",
        "outputId": "44e2d255-b161-4d57-9a28-d51afe12b8e9"
      },
      "source": [
        "pool_layer = tf.keras.layers.MaxPool2D(pool_size=(2, 2), strides=(2, 2), padding='SAME')\r\n",
        "pool_output = pool_layer(act_output)\r\n",
        "\r\n",
        "pool_output.shape"
      ],
      "execution_count": 19,
      "outputs": [
        {
          "output_type": "execute_result",
          "data": {
            "text/plain": [
              "TensorShape([1, 14, 14, 5])"
            ]
          },
          "metadata": {
            "tags": []
          },
          "execution_count": 19
        }
      ]
    },
    {
      "cell_type": "code",
      "metadata": {
        "colab": {
          "base_uri": "https://localhost:8080/",
          "height": 134
        },
        "id": "zYN5iRLInjl5",
        "outputId": "034a2e42-bd8e-42cb-f2ef-5690a77f3278"
      },
      "source": [
        "_, axes = plt.subplots(nrows=1, ncols=6, figsize=(20, 10))\r\n",
        "\r\n",
        "axes[0].imshow(image[0, ..., 0], cmap='gray')\r\n",
        "axes[0].set_title(\"Original Image\")\r\n",
        "\r\n",
        "for idx, ax in enumerate(axes[1:]):\r\n",
        "  ax.set_title(\"MaxPool Output : {}\".format(idx + 1))\r\n",
        "  ax.imshow(pool_output[0, ..., idx], cmap='gray')\r\n",
        "\r\n",
        "plt.show()"
      ],
      "execution_count": 20,
      "outputs": [
        {
          "output_type": "display_data",
          "data": {
            "image/png": "[encoded data removed]",
            "text/plain": [
              "<Figure size 1440x720 with 6 Axes>"
            ]
          },
          "metadata": {
            "tags": [],
            "needs_background": "light"
          }
        }
      ]
    },
    {
      "cell_type": "markdown",
      "metadata": {
        "id": "0IRvASmeohdN"
      },
      "source": [
        "예측을 위한 과정 만들기\r\n",
        "\r\n",
        "예측을 하겠다 라는 이야기는 $WX+B$를 하겠다 라는 이야기 입니다. 즉 모든 데이터는 1차원 형태로 만들어져서 뉴런에 들어가야한다.\r\n",
        "\r\n",
        "# Flatten 레이어 확인하기\r\n",
        "* MaxPool2D 까지는 특징 추출 과정\r\n",
        " * 에측을 하기 위한 과정이 아닌, 데이터에 대한 특징만 추출\r\n",
        "* 예측을 하기 위해서는 Fully Connected 과정이 필요하다.\r\n",
        " * Dense 레이어를 사용할 것임\r\n",
        "* Fully Connected Layer를 사용하기 위해서는 데이터가 평탄화 되어 있어야 한다."
      ]
    },
    {
      "cell_type": "code",
      "metadata": {
        "colab": {
          "base_uri": "https://localhost:8080/"
        },
        "id": "B_BN8Tdenjom",
        "outputId": "0e31853b-eb25-48e1-e32c-79d2d47a37be"
      },
      "source": [
        "flatten_layer = tf.keras.layers.Flatten()\r\n",
        "flatten_output = flatten_layer(pool_output)\r\n",
        "\r\n",
        "flatten_output.shape # ( 1, 14, 14, 5 ) 형상의 데이터에서 배치크기 정보(1)를 제외한 픽셀, 필터 개수 정보가 모두 곱해져서 (1, 980)이 된다."
      ],
      "execution_count": 21,
      "outputs": [
        {
          "output_type": "execute_result",
          "data": {
            "text/plain": [
              "TensorShape([1, 980])"
            ]
          },
          "metadata": {
            "tags": []
          },
          "execution_count": 21
        }
      ]
    },
    {
      "cell_type": "markdown",
      "metadata": {
        "id": "bN8tiYtConuQ"
      },
      "source": [
        "# Dense 레이어 확인하기 ( Affine )\r\n",
        "* 계산 과정($WX+B$)을 위한 Dense 레이어 - Fully Connected 레이어 라고도 한다."
      ]
    },
    {
      "cell_type": "code",
      "metadata": {
        "colab": {
          "base_uri": "https://localhost:8080/"
        },
        "id": "jZB9BKGSnjtt",
        "outputId": "cee73e54-5c84-4ac7-8d9f-13b1984d75b8"
      },
      "source": [
        "# 유닛이 32개인 Dense 레이어 만들기\r\n",
        "dense_layer = tf.keras.layers.Dense(32, activation='relu')\r\n",
        "dense_output = dense_layer(flatten_output)\r\n",
        "\r\n",
        "dense_output.shape"
      ],
      "execution_count": 22,
      "outputs": [
        {
          "output_type": "execute_result",
          "data": {
            "text/plain": [
              "TensorShape([1, 32])"
            ]
          },
          "metadata": {
            "tags": []
          },
          "execution_count": 22
        }
      ]
    },
    {
      "cell_type": "code",
      "metadata": {
        "colab": {
          "base_uri": "https://localhost:8080/"
        },
        "id": "heJ8L2XYnjwt",
        "outputId": "88d721e9-e39e-4eee-f27c-58703c15300a"
      },
      "source": [
        "# 출력층 설계\r\n",
        "# 숫자의 개수는 10개니까, 출력층의 output 개수도 10개\r\n",
        "dense_layer2 = tf.keras.layers.Dense(10, activation='softmax')\r\n",
        "dense_output2 = dense_layer2(dense_output)\r\n",
        "\r\n",
        "dense_output2.shape"
      ],
      "execution_count": 23,
      "outputs": [
        {
          "output_type": "execute_result",
          "data": {
            "text/plain": [
              "TensorShape([1, 10])"
            ]
          },
          "metadata": {
            "tags": []
          },
          "execution_count": 23
        }
      ]
    },
    {
      "cell_type": "markdown",
      "metadata": {
        "id": "yClTNug0otrX"
      },
      "source": [
        "# Keras를 활용한 CNN 레이어 종합\r\n",
        "* 합성곱 레이어를 두번 통과\r\n",
        "* 은닉층 1개\r\n",
        "* 츨력층 1개"
      ]
    },
    {
      "cell_type": "code",
      "metadata": {
        "id": "XL0lR0KNnjzb"
      },
      "source": [
        "# 특성 추출을 위한 레이어 준비 ( Conv2D, Activation, MaxPool2D )\r\n",
        "from tensorflow.keras.layers import Conv2D, Activation, MaxPool2D\r\n",
        "\r\n",
        "# 데이터 입력을 위한 레이어 (Input). 입력층 레이어\r\n",
        "from tensorflow.keras.layers import Input\r\n",
        "\r\n",
        "# Classification을 위한 레이어 ( Fully Connected Layer 재료 - Dense, Dropout, Flatten)\r\n",
        "from tensorflow.keras.layers import Dense, Dropout, Flatten"
      ],
      "execution_count": 24,
      "outputs": []
    },
    {
      "cell_type": "code",
      "metadata": {
        "id": "xPVsWFs1nj2O"
      },
      "source": [
        "# 1. 입력 데이터의 형상 ( 배치 사이즈를 제외한... )\r\n",
        "input_shape = ( 28, 28, 1 )\r\n",
        "\r\n",
        "# 2. 분류할 클래스의 개수\r\n",
        "num_classes = 10"
      ],
      "execution_count": 25,
      "outputs": []
    },
    {
      "cell_type": "code",
      "metadata": {
        "id": "7pwsj1Ubnj47"
      },
      "source": [
        "# 원본 데이터를 입력받는 레이어\r\n",
        "inputs = Input(shape = input_shape)\r\n",
        "\r\n",
        "# Feature Extraction(특징 추출) - Convolution 레이어\r\n",
        "net = Conv2D(32, 3, padding='SAME')(inputs)\r\n",
        "net = Activation('relu')(net)\r\n",
        "net = Conv2D(32, 3, padding='SAME')(net)\r\n",
        "net = Activation('relu')(net)\r\n",
        "net = MaxPool2D((2, 2))(net)\r\n",
        "net = Dropout(0.25)(net) # 가중치를 0으로 만들 데이터의 비율 지정 ( 사용하지 않을 데이터의 비율을 지정 ) - 과대적합을 방지\r\n",
        "\r\n",
        "net = Conv2D(64, 3, padding='SAME')(net)\r\n",
        "net = Activation('relu')(net)\r\n",
        "net = Conv2D(64, 3, padding='SAME')(net)\r\n",
        "net = Activation('relu')(net)\r\n",
        "net = MaxPool2D((2, 2))(net)\r\n",
        "net = Dropout(0.25)(net)\r\n",
        "\r\n",
        "# Fully Connected 구성\r\n",
        "net = Flatten()(net)\r\n",
        "net = Dense(512)(net)\r\n",
        "net = Activation('relu')(net)\r\n",
        "net = Dropout(0.25)(net)\r\n",
        "\r\n",
        "# 출력층 구성\r\n",
        "net = Dense(num_classes)(net)\r\n",
        "net = Activation('softmax')(net)"
      ],
      "execution_count": 26,
      "outputs": []
    },
    {
      "cell_type": "markdown",
      "metadata": {
        "id": "U_l9EHRqo3FZ"
      },
      "source": [
        "텐서플로우는 계산그래프를 먼저 그린다. - 모델 생성 단계라고 한다."
      ]
    },
    {
      "cell_type": "code",
      "metadata": {
        "id": "qrn9-6YUo0V7"
      },
      "source": [
        "# 계산 그래프 그리기\r\n",
        "model = tf.keras.Model(inputs=inputs, outputs=net, name='CNN_ARABOZA')"
      ],
      "execution_count": 27,
      "outputs": []
    },
    {
      "cell_type": "code",
      "metadata": {
        "colab": {
          "base_uri": "https://localhost:8080/"
        },
        "id": "kHa83F9Go0Yb",
        "outputId": "de94f1e7-6816-4c6e-d39c-ee2de04cc872"
      },
      "source": [
        "model.summary()"
      ],
      "execution_count": 28,
      "outputs": [
        {
          "output_type": "stream",
          "text": [
            "Model: \"CNN_ARABOZA\"\n",
            "_________________________________________________________________\n",
            "Layer (type)                 Output Shape              Param #   \n",
            "=================================================================\n",
            "input_1 (InputLayer)         [(None, 28, 28, 1)]       0         \n",
            "_________________________________________________________________\n",
            "conv2d_3 (Conv2D)            (None, 28, 28, 32)        320       \n",
            "_________________________________________________________________\n",
            "activation (Activation)      (None, 28, 28, 32)        0         \n",
            "_________________________________________________________________\n",
            "conv2d_4 (Conv2D)            (None, 28, 28, 32)        9248      \n",
            "_________________________________________________________________\n",
            "activation_1 (Activation)    (None, 28, 28, 32)        0         \n",
            "_________________________________________________________________\n",
            "max_pooling2d_1 (MaxPooling2 (None, 14, 14, 32)        0         \n",
            "_________________________________________________________________\n",
            "dropout (Dropout)            (None, 14, 14, 32)        0         \n",
            "_________________________________________________________________\n",
            "conv2d_5 (Conv2D)            (None, 14, 14, 64)        18496     \n",
            "_________________________________________________________________\n",
            "activation_2 (Activation)    (None, 14, 14, 64)        0         \n",
            "_________________________________________________________________\n",
            "conv2d_6 (Conv2D)            (None, 14, 14, 64)        36928     \n",
            "_________________________________________________________________\n",
            "activation_3 (Activation)    (None, 14, 14, 64)        0         \n",
            "_________________________________________________________________\n",
            "max_pooling2d_2 (MaxPooling2 (None, 7, 7, 64)          0         \n",
            "_________________________________________________________________\n",
            "dropout_1 (Dropout)          (None, 7, 7, 64)          0         \n",
            "_________________________________________________________________\n",
            "flatten_1 (Flatten)          (None, 3136)              0         \n",
            "_________________________________________________________________\n",
            "dense_2 (Dense)              (None, 512)               1606144   \n",
            "_________________________________________________________________\n",
            "activation_4 (Activation)    (None, 512)               0         \n",
            "_________________________________________________________________\n",
            "dropout_2 (Dropout)          (None, 512)               0         \n",
            "_________________________________________________________________\n",
            "dense_3 (Dense)              (None, 10)                5130      \n",
            "_________________________________________________________________\n",
            "activation_5 (Activation)    (None, 10)                0         \n",
            "=================================================================\n",
            "Total params: 1,676,266\n",
            "Trainable params: 1,676,266\n",
            "Non-trainable params: 0\n",
            "_________________________________________________________________\n"
          ],
          "name": "stdout"
        }
      ]
    },
    {
      "cell_type": "markdown",
      "metadata": {
        "id": "0wQxi5dko8dx"
      },
      "source": [
        "# 최적화 선정하기\r\n",
        "* Loss Function( 손실 함수 ) - MSE, CEE 결정을 해주면 된다.\r\n",
        "* Optimization ( 최적화 함수 ) - SGD, ADAM, RMSProps를 쓸지 등등..\r\n",
        "* Metrics ( 테스트 세트, 검증세트에 대한 평가 기준 ) - accuracy를 많이 사용한다."
      ]
    },
    {
      "cell_type": "markdown",
      "metadata": {
        "id": "ucyzkhU2o9vV"
      },
      "source": [
        "## Loss Function 선정 기준\r\n",
        "* Binary Classification\r\n",
        " * `binary_crossentropy`\r\n",
        " * 보통 출력층의 뉴런 개수가 1개\r\n",
        " * `sig` 함수를 출력층의 활성화 함수로 사용\r\n",
        "\r\n",
        "* Categorical Classification\r\n",
        " * `categorical_crossentropy`\r\n",
        " * 출력의 뉴런 개수가 2개 이상\r\n",
        " * `softmax` 함수를 출력층의 활성화 함수로 사용"
      ]
    },
    {
      "cell_type": "markdown",
      "metadata": {
        "id": "ZLD-SABppFpp"
      },
      "source": [
        "### Categorical Cross Entropy Error의 종류\r\n",
        "* `label`의 형식이 `0, 1, 2` 같은 형태면\r\n",
        " - `sparse_categorical_cross_entropy`를 사용\r\n",
        "\r\n",
        "* `label`의 형식이 One Hot Encoding이 되어 있으면\r\n",
        " - `categorical_cross_entropy` 를 사용"
      ]
    },
    {
      "cell_type": "code",
      "metadata": {
        "colab": {
          "base_uri": "https://localhost:8080/"
        },
        "id": "uWW0t0ABo0bk",
        "outputId": "440fda23-828e-46b6-f7cf-fe690d42aec0"
      },
      "source": [
        "# Loss 함수 선정을 위해 y_train을 확인\r\n",
        "y_train[:3]"
      ],
      "execution_count": 29,
      "outputs": [
        {
          "output_type": "execute_result",
          "data": {
            "text/plain": [
              "array([5, 0, 4], dtype=uint8)"
            ]
          },
          "metadata": {
            "tags": []
          },
          "execution_count": 29
        }
      ]
    },
    {
      "cell_type": "markdown",
      "metadata": {
        "id": "rIu-RSDwpKlP"
      },
      "source": [
        "`y_train`의 원소의 값이 `[5, 0, 4]` 형태이다. \r\n",
        "* `sparse_categorical_cross_entropy`를 쓰자\r\n",
        "* `y_train`을 One Hot Encoding 한 다음 `categorical_cross_entropy`를 쓰자"
      ]
    },
    {
      "cell_type": "code",
      "metadata": {
        "colab": {
          "base_uri": "https://localhost:8080/"
        },
        "id": "FlOdzRQTo0dx",
        "outputId": "80f21383-9615-4b73-c7ea-8fb97d46cc64"
      },
      "source": [
        "# 함수 형태\r\n",
        "loss_func = tf.keras.losses.sparse_categorical_crossentropy\r\n",
        "loss_func"
      ],
      "execution_count": 30,
      "outputs": [
        {
          "output_type": "execute_result",
          "data": {
            "text/plain": [
              "<function tensorflow.python.keras.losses.sparse_categorical_crossentropy>"
            ]
          },
          "metadata": {
            "tags": []
          },
          "execution_count": 30
        }
      ]
    },
    {
      "cell_type": "code",
      "metadata": {
        "colab": {
          "base_uri": "https://localhost:8080/"
        },
        "id": "72ufNjVyo0gM",
        "outputId": "310704fc-4ea6-406c-c070-092c8860dff8"
      },
      "source": [
        "# 클래스 형태\r\n",
        "tf.keras.losses.SparseCategoricalCrossentropy()"
      ],
      "execution_count": 31,
      "outputs": [
        {
          "output_type": "execute_result",
          "data": {
            "text/plain": [
              "<tensorflow.python.keras.losses.SparseCategoricalCrossentropy at 0x7f6f42127cf8>"
            ]
          },
          "metadata": {
            "tags": []
          },
          "execution_count": 31
        }
      ]
    },
    {
      "cell_type": "code",
      "metadata": {
        "colab": {
          "base_uri": "https://localhost:8080/"
        },
        "id": "5jmJ6V2Ro0jG",
        "outputId": "c2860b1d-8842-4ea9-f40c-819c883f1885"
      },
      "source": [
        "# 만약에 레이블이 OHE 되어 있으면 쓰자\r\n",
        "tf.keras.losses.categorical_crossentropy"
      ],
      "execution_count": 32,
      "outputs": [
        {
          "output_type": "execute_result",
          "data": {
            "text/plain": [
              "<function tensorflow.python.keras.losses.categorical_crossentropy>"
            ]
          },
          "metadata": {
            "tags": []
          },
          "execution_count": 32
        }
      ]
    },
    {
      "cell_type": "code",
      "metadata": {
        "colab": {
          "base_uri": "https://localhost:8080/"
        },
        "id": "pAyrs5LTo0lU",
        "outputId": "10f49bf5-a798-4fcf-ce00-bbd2266e9d9e"
      },
      "source": [
        "# 이진 분류 시에 쓰자\r\n",
        "tf.keras.losses.binary_crossentropy"
      ],
      "execution_count": 33,
      "outputs": [
        {
          "output_type": "execute_result",
          "data": {
            "text/plain": [
              "<function tensorflow.python.keras.losses.binary_crossentropy>"
            ]
          },
          "metadata": {
            "tags": []
          },
          "execution_count": 33
        }
      ]
    },
    {
      "cell_type": "markdown",
      "metadata": {
        "id": "DrNCBDbxpTxa"
      },
      "source": [
        "## Metrics\r\n",
        "* 테스트 또는 검증 세트의 평가방식 ( evaluate )"
      ]
    },
    {
      "cell_type": "code",
      "metadata": {
        "id": "9vY2M9Vho0oD"
      },
      "source": [
        "metrics = ['accuracy'] # acc 또는 tf.keras.metrics.Accuracy() 활용 하면 된다. 대소문자 구분을 하기 때문에 오타 주의"
      ],
      "execution_count": 34,
      "outputs": []
    },
    {
      "cell_type": "markdown",
      "metadata": {
        "id": "-D327GFxsi6w"
      },
      "source": [
        "## Optimizer 선정하기\r\n",
        "* sgd - tf.keras.optimizers.SGD()\r\n",
        "* rmsprop - tf.keras.optimizers.RMSprop()\r\n",
        "* adam - tf.keras.optimizers.Adam()"
      ]
    },
    {
      "cell_type": "code",
      "metadata": {
        "id": "zPEQJ04so0qk"
      },
      "source": [
        "optimizer = tf.keras.optimizers.Adam()"
      ],
      "execution_count": 35,
      "outputs": []
    },
    {
      "cell_type": "markdown",
      "metadata": {
        "id": "6-RK-82WsnvR"
      },
      "source": [
        "# 모델 컴파일\r\n",
        "* 모델을 실제 세션에 만들어 주는 과정\r\n",
        "* 데이터를 흘려 보내기 직전 단계"
      ]
    },
    {
      "cell_type": "code",
      "metadata": {
        "id": "HU3hTopMo0tN"
      },
      "source": [
        "model.compile(optimizer=optimizer, loss=loss_func, metrics=metrics)"
      ],
      "execution_count": 36,
      "outputs": []
    },
    {
      "cell_type": "markdown",
      "metadata": {
        "id": "upuRRjFQsqOR"
      },
      "source": [
        "# 학습 1단계\r\n",
        "* 데이터 전처리"
      ]
    },
    {
      "cell_type": "code",
      "metadata": {
        "colab": {
          "base_uri": "https://localhost:8080/"
        },
        "id": "P6Of-5cYo0u2",
        "outputId": "efe713fa-c8e2-4383-a030-2af8ceef0591"
      },
      "source": [
        "X_train.shape, X_test.shape"
      ],
      "execution_count": 37,
      "outputs": [
        {
          "output_type": "execute_result",
          "data": {
            "text/plain": [
              "((60000, 28, 28), (10000, 28, 28))"
            ]
          },
          "metadata": {
            "tags": []
          },
          "execution_count": 37
        }
      ]
    },
    {
      "cell_type": "code",
      "metadata": {
        "colab": {
          "base_uri": "https://localhost:8080/"
        },
        "id": "SmBvhOLBstwj",
        "outputId": "c7f2db89-8f04-420a-f4c5-3d230ca3b6cd"
      },
      "source": [
        "# 채널 차원을 추가\r\n",
        "X_train = X_train[..., tf.newaxis]\r\n",
        "X_test  = X_test[..., tf.newaxis]\r\n",
        "\r\n",
        "X_train.shape, X_test.shape"
      ],
      "execution_count": 38,
      "outputs": [
        {
          "output_type": "execute_result",
          "data": {
            "text/plain": [
              "((60000, 28, 28, 1), (10000, 28, 28, 1))"
            ]
          },
          "metadata": {
            "tags": []
          },
          "execution_count": 38
        }
      ]
    },
    {
      "cell_type": "code",
      "metadata": {
        "colab": {
          "base_uri": "https://localhost:8080/"
        },
        "id": "sM3GDdDkstzG",
        "outputId": "68a51498-1e8d-497d-cfab-06d27a3c6e84"
      },
      "source": [
        "# 정규화 작업 (스케일링 처리)\r\n",
        "# 이미지 데이터의 전처리는 255.0으로 나눠주면 된다.\r\n",
        "X_train = X_train / 255.0\r\n",
        "X_test  = X_test / 255.0\r\n",
        "\r\n",
        "np.min(X_train), np.max(X_train)"
      ],
      "execution_count": 39,
      "outputs": [
        {
          "output_type": "execute_result",
          "data": {
            "text/plain": [
              "(0.0, 1.0)"
            ]
          },
          "metadata": {
            "tags": []
          },
          "execution_count": 39
        }
      ]
    },
    {
      "cell_type": "markdown",
      "metadata": {
        "id": "CPapo5hYsy5o"
      },
      "source": [
        "# 학습용 하이퍼 파라미터 설정\r\n",
        "* 에폭 횟수\r\n",
        "* 배치 크기"
      ]
    },
    {
      "cell_type": "code",
      "metadata": {
        "id": "ned2hlQ9st1k"
      },
      "source": [
        "num_epochs = 10 # 에폭이 10번\r\n",
        "batch_size = 32"
      ],
      "execution_count": 40,
      "outputs": []
    },
    {
      "cell_type": "markdown",
      "metadata": {
        "id": "zDLM0Hyls1hy"
      },
      "source": [
        "# 학습 수행하기\r\n",
        "* `fit` 활용하기"
      ]
    },
    {
      "cell_type": "code",
      "metadata": {
        "colab": {
          "base_uri": "https://localhost:8080/"
        },
        "id": "vSFEFJFhst3y",
        "outputId": "34627d6c-3be4-4744-8fe1-f8a86bd8914e"
      },
      "source": [
        "model.fit( X_train,\r\n",
        "           y_train,\r\n",
        "           batch_size=batch_size,\r\n",
        "           epochs=num_epochs,\r\n",
        "           shuffle=True) # shuffle : 데이터를 섞어가며 훈련하기"
      ],
      "execution_count": 41,
      "outputs": [
        {
          "output_type": "stream",
          "text": [
            "Epoch 1/10\n",
            "1875/1875 [==============================] - 7s 3ms/step - loss: 0.2835 - accuracy: 0.9088\n",
            "Epoch 2/10\n",
            "1875/1875 [==============================] - 6s 3ms/step - loss: 0.0539 - accuracy: 0.9839\n",
            "Epoch 3/10\n",
            "1875/1875 [==============================] - 6s 3ms/step - loss: 0.0369 - accuracy: 0.9882\n",
            "Epoch 4/10\n",
            "1875/1875 [==============================] - 6s 3ms/step - loss: 0.0306 - accuracy: 0.9903\n",
            "Epoch 5/10\n",
            "1875/1875 [==============================] - 6s 3ms/step - loss: 0.0251 - accuracy: 0.9920\n",
            "Epoch 6/10\n",
            "1875/1875 [==============================] - 6s 3ms/step - loss: 0.0199 - accuracy: 0.9932\n",
            "Epoch 7/10\n",
            "1875/1875 [==============================] - 6s 3ms/step - loss: 0.0183 - accuracy: 0.9942\n",
            "Epoch 8/10\n",
            "1875/1875 [==============================] - 6s 3ms/step - loss: 0.0172 - accuracy: 0.9945\n",
            "Epoch 9/10\n",
            "1875/1875 [==============================] - 6s 3ms/step - loss: 0.0163 - accuracy: 0.9949\n",
            "Epoch 10/10\n",
            "1875/1875 [==============================] - 6s 3ms/step - loss: 0.0158 - accuracy: 0.9947\n"
          ],
          "name": "stdout"
        },
        {
          "output_type": "execute_result",
          "data": {
            "text/plain": [
              "<tensorflow.python.keras.callbacks.History at 0x7f6f42060278>"
            ]
          },
          "metadata": {
            "tags": []
          },
          "execution_count": 41
        }
      ]
    },
    {
      "cell_type": "markdown",
      "metadata": {
        "id": "-vVqkk2Rs6vX"
      },
      "source": [
        "# 모델 최종 검증하기\r\n",
        "* evaulate"
      ]
    },
    {
      "cell_type": "code",
      "metadata": {
        "colab": {
          "base_uri": "https://localhost:8080/"
        },
        "id": "qW17zflNst6u",
        "outputId": "f61e4afe-0f7a-4319-a84c-3fd028af8ff6"
      },
      "source": [
        "model.evaluate(X_test, y_test)"
      ],
      "execution_count": 42,
      "outputs": [
        {
          "output_type": "stream",
          "text": [
            "313/313 [==============================] - 1s 2ms/step - loss: 0.0266 - accuracy: 0.9926\n"
          ],
          "name": "stdout"
        },
        {
          "output_type": "execute_result",
          "data": {
            "text/plain": [
              "[0.02656427025794983, 0.9926000237464905]"
            ]
          },
          "metadata": {
            "tags": []
          },
          "execution_count": 42
        }
      ]
    },
    {
      "cell_type": "markdown",
      "metadata": {
        "id": "GZ6IV0t9t7_U"
      },
      "source": [
        "# 예측 하기\r\n",
        "* `prediction` 해보기"
      ]
    },
    {
      "cell_type": "code",
      "metadata": {
        "colab": {
          "base_uri": "https://localhost:8080/",
          "height": 265
        },
        "id": "FEu2CtiFst82",
        "outputId": "7cf0ddba-9ab1-409d-b91f-b6a373a13aeb"
      },
      "source": [
        "# 테스트 이미지 준비하기\r\n",
        "test_img = X_test[0,...,0]\r\n",
        "plt.imshow(test_img, 'gray')\r\n",
        "plt.show()"
      ],
      "execution_count": 43,
      "outputs": [
        {
          "output_type": "display_data",
          "data": {
            "image/png": "[encoded data removed]",
            "text/plain": [
              "<Figure size 432x288 with 1 Axes>"
            ]
          },
          "metadata": {
            "tags": [],
            "needs_background": "light"
          }
        }
      ]
    },
    {
      "cell_type": "code",
      "metadata": {
        "colab": {
          "base_uri": "https://localhost:8080/"
        },
        "id": "UxE3vi1Cst_I",
        "outputId": "72e178f9-01ee-4edc-d94e-5338b5cde043"
      },
      "source": [
        "y_test[0] # 7이 나온다."
      ],
      "execution_count": 44,
      "outputs": [
        {
          "output_type": "execute_result",
          "data": {
            "text/plain": [
              "7"
            ]
          },
          "metadata": {
            "tags": []
          },
          "execution_count": 44
        }
      ]
    },
    {
      "cell_type": "markdown",
      "metadata": {
        "id": "loKZJLmTuByE"
      },
      "source": [
        "예측용 데이터의 처리\r\n",
        "- 훈련용 데이터의 shape과 일치해야 한다."
      ]
    },
    {
      "cell_type": "code",
      "metadata": {
        "colab": {
          "base_uri": "https://localhost:8080/"
        },
        "id": "Q9syG6AusuBt",
        "outputId": "be82d592-d9b0-4a58-b399-ade49e1f2303"
      },
      "source": [
        "test_img.shape"
      ],
      "execution_count": 45,
      "outputs": [
        {
          "output_type": "execute_result",
          "data": {
            "text/plain": [
              "(28, 28)"
            ]
          },
          "metadata": {
            "tags": []
          },
          "execution_count": 45
        }
      ]
    },
    {
      "cell_type": "code",
      "metadata": {
        "colab": {
          "base_uri": "https://localhost:8080/"
        },
        "id": "QXuLgfs0uEgJ",
        "outputId": "202df551-6aaf-4a79-dd72-67aabf3a30cb"
      },
      "source": [
        "test_img = test_img[tf.newaxis, ..., tf.newaxis]\r\n",
        "test_img.shape"
      ],
      "execution_count": 46,
      "outputs": [
        {
          "output_type": "execute_result",
          "data": {
            "text/plain": [
              "(1, 28, 28, 1)"
            ]
          },
          "metadata": {
            "tags": []
          },
          "execution_count": 46
        }
      ]
    },
    {
      "cell_type": "code",
      "metadata": {
        "id": "FjX8C9KduEjc"
      },
      "source": [
        "prediction = model.predict(test_img)"
      ],
      "execution_count": 47,
      "outputs": []
    },
    {
      "cell_type": "code",
      "metadata": {
        "colab": {
          "base_uri": "https://localhost:8080/"
        },
        "id": "aTnCdfQWuJXV",
        "outputId": "d804fc69-f012-4743-90da-62711d372ee5"
      },
      "source": [
        "print(\"softmax 결과 : {}\\n\".format(prediction))"
      ],
      "execution_count": 48,
      "outputs": [
        {
          "output_type": "stream",
          "text": [
            "softmax 결과 : [[1.8723250e-17 5.8441661e-11 9.0293680e-13 4.3897865e-11 3.1940442e-10\n",
            "  6.7939422e-14 2.8608840e-18 1.0000000e+00 5.3302441e-15 2.6104767e-09]]\n",
            "\n"
          ],
          "name": "stdout"
        }
      ]
    },
    {
      "cell_type": "code",
      "metadata": {
        "colab": {
          "base_uri": "https://localhost:8080/"
        },
        "id": "50FRuKETuKII",
        "outputId": "3e52fe9d-b093-4c9b-a9e5-cedcebaf7ffd"
      },
      "source": [
        "# 예측과 정답이 맞는지 비교\r\n",
        "np.argmax(prediction) == y_test[0]"
      ],
      "execution_count": 49,
      "outputs": [
        {
          "output_type": "execute_result",
          "data": {
            "text/plain": [
              "True"
            ]
          },
          "metadata": {
            "tags": []
          },
          "execution_count": 49
        }
      ]
    }
  ]
}