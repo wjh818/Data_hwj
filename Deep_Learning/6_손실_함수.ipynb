{
  "nbformat": 4,
  "nbformat_minor": 0,
  "metadata": {
    "colab": {
      "name": "6. 손실 함수",
      "provenance": [],
      "authorship_tag": "ABX9TyOTQTnk1aTsVYe2Db1lnzbW",
      "include_colab_link": true
    },
    "kernelspec": {
      "name": "python3",
      "display_name": "Python 3"
    }
  },
  "cells": [
    {
      "cell_type": "markdown",
      "metadata": {
        "id": "view-in-github",
        "colab_type": "text"
      },
      "source": [
        "<a href=\"https://colab.research.google.com/github/wjh818/Data_hwj/blob/main/Deep_Learning/6_%EC%86%90%EC%8B%A4_%ED%95%A8%EC%88%98.ipynb\" target=\"_parent\"><img src=\"https://colab.research.google.com/assets/colab-badge.svg\" alt=\"Open In Colab\"/></a>"
      ]
    },
    {
      "cell_type": "markdown",
      "metadata": {
        "id": "rVLjKmkzVfR6"
      },
      "source": [
        "# 평균 제곱 오차 ( MSE - Mean Squared Error )\r\n",
        "$$\r\n",
        "E = \\frac{1}{2}\\sum_{k}(y_k-t_k)^2\r\n",
        "$$\r\n",
        "\r\n",
        "앞쪽이 $\\frac{1}{2}$인 이유는 미분 했을 때 남는 식이 $(y_k-t_k)$ 이기 때문.\r\n",
        "* $y_k$는 예측값을 의미한다. ($\\hat y_k$)\r\n",
        "* $t_k$는 정답(타깃값)을 의미한다."
      ]
    },
    {
      "cell_type": "code",
      "metadata": {
        "id": "ZhZVEKVWVXXS"
      },
      "source": [
        "import numpy as np\r\n",
        "y = [0.1, 0.05, 0.6, 0.0, 0.05, 0.1, 0.0, 0.1, 0.0, 0.0]\r\n",
        "t = [0, 0, 1, 0, 0, 0, 0, 0, 0, 0]"
      ],
      "execution_count": 1,
      "outputs": []
    },
    {
      "cell_type": "markdown",
      "metadata": {
        "id": "yZ97BoG-VmLv"
      },
      "source": [
        "* `y`는 $softmax$의 결과물로써, 정답이 2일 확률을 60%로 추정하고 있다.\r\n",
        "* `t`는 One-Hot Encoding 된 정답 레이블로써, 원래 정답이 2라고 정해져 있다."
      ]
    },
    {
      "cell_type": "code",
      "metadata": {
        "id": "MWgttmqJVp2o"
      },
      "source": [
        "def mean_squared_error(y, t):\r\n",
        "  return 0.5 * np.sum((y-t) ** 2)"
      ],
      "execution_count": 2,
      "outputs": []
    },
    {
      "cell_type": "code",
      "metadata": {
        "colab": {
          "base_uri": "https://localhost:8080/"
        },
        "id": "uyovHOqkVp5s",
        "outputId": "eebe9eb0-7c53-4f8a-fb9f-6125fff309cb"
      },
      "source": [
        "print(\"정답을 2로 추정했을 때의 MSE 값 : {:.3f}\".format(mean_squared_error(np.array(y), np.array(t))))"
      ],
      "execution_count": 3,
      "outputs": [
        {
          "output_type": "stream",
          "text": [
            "정답을 2로 추정했을 때의 MSE 값 : 0.098\n"
          ],
          "name": "stdout"
        }
      ]
    },
    {
      "cell_type": "code",
      "metadata": {
        "colab": {
          "base_uri": "https://localhost:8080/"
        },
        "id": "u6tTGBA0Vp8i",
        "outputId": "1428ca68-df3f-4280-dfc2-771a44bec856"
      },
      "source": [
        "# 일부로 오답 예측을 만들어서 MSE 값을 측정하기. 예측값을 7이라고 가정한 경우로 테스트\r\n",
        "y = [0.1, 0.05, 0.1, 0.0, 0.05, 0.1, 0.0, 0.6, 0.0, 0.0]\r\n",
        "print(\"정답을 7로 추정했을 때의 MSE 값 : {:.3f}\".format(mean_squared_error(np.array(y), np.array(t))))"
      ],
      "execution_count": 4,
      "outputs": [
        {
          "output_type": "stream",
          "text": [
            "정답을 7로 추정했을 때의 MSE 값 : 0.598\n"
          ],
          "name": "stdout"
        }
      ]
    },
    {
      "cell_type": "markdown",
      "metadata": {
        "id": "qTLcZuepV1te"
      },
      "source": [
        "# 교차 엔트로피 오차 ( CEE - Cross Entropy Error )\r\n",
        "\r\n",
        "$$\r\n",
        "E = -\\sum_{k}t_klog\\;y_k\r\n",
        "$$\r\n",
        "\r\n",
        "One Hot Encoding된 $t_k$가 곱해지기 때문에, 정답이 아닌 타깃은 신경을 전혀 쓰지 않음. (곱하기 0)\r\n",
        "\r\n",
        "즉, 예측값 자체가 오차 출력값이 된다."
      ]
    },
    {
      "cell_type": "code",
      "metadata": {
        "id": "dgx2IEkxVp_r"
      },
      "source": [
        "def cross_entropy_error(y, t):\r\n",
        "  delta = 1e-7\r\n",
        "  return -np.sum(t * np.log(y + delta))"
      ],
      "execution_count": 5,
      "outputs": []
    },
    {
      "cell_type": "markdown",
      "metadata": {
        "id": "ZmQDkF_mV-fU"
      },
      "source": [
        "아주 작은 값인 $delta$를 더하는 이유는 `np.log` 함수에 `0`이 대입되면 마이너스 무한대를 나타내게 되기 때문에 `y`에 아주 작은 값인 delta를 더해서  `np.log` 함수의 결과물이 마이너스 무한대가 되는 것을 방지한다."
      ]
    },
    {
      "cell_type": "code",
      "metadata": {
        "colab": {
          "base_uri": "https://localhost:8080/"
        },
        "id": "KmzqrjQeVqCv",
        "outputId": "a29754ef-ab84-44ff-b1b0-6fd70b9ebd33"
      },
      "source": [
        "# 정답은 2\r\n",
        "t = [0, 0, 1, 0, 0, 0, 0, 0, 0, 0]\r\n",
        "\r\n",
        "# 정답이 2일 확률이 가장 높다고 추정함(0.6)\r\n",
        "y = [0.1, 0.05, 0.6, 0.0, 0.05, 0.1, 0.0, 0.1, 0.0, 0.0]\r\n",
        "print(\"정답을 2로 추정했을 때의 CEE값 : {:.3f}\".format(cross_entropy_error(np.array(y), np.array(t))))\r\n",
        "\r\n",
        "# 정답이 7일 확률이 가장 높다고 추정함(0.6)\r\n",
        "y = [0.1, 0.05, 0.1, 0.0, 0.05, 0.1, 0.0, 0.6, 0.0, 0.0]\r\n",
        "print(\"정답을 7로 추정했을 때의 CEE값 : {:.3f}\".format(cross_entropy_error(np.array(y), np.array(t))))"
      ],
      "execution_count": 6,
      "outputs": [
        {
          "output_type": "stream",
          "text": [
            "정답을 2로 추정했을 때의 CEE값 : 0.511\n",
            "정답을 7로 추정했을 때의 CEE값 : 2.303\n"
          ],
          "name": "stdout"
        }
      ]
    },
    {
      "cell_type": "markdown",
      "metadata": {
        "id": "wQFNSnHhWGWx"
      },
      "source": [
        "# 미니배치 학습\r\n",
        "$$\r\n",
        "E = -\\frac{1}{N}\\sum_n\\;\\sum_{k}t_{nk}log\\;y_{nk}\r\n",
        "$$\r\n",
        "\r\n",
        "$N$개의 배치 데이터를 활용했을 때 바뀐 CEE 공식"
      ]
    },
    {
      "cell_type": "code",
      "metadata": {
        "colab": {
          "base_uri": "https://localhost:8080/"
        },
        "id": "gE7jzUYtVqFs",
        "outputId": "7e1cbe35-2f44-4a81-c4ef-ad76de33abfc"
      },
      "source": [
        "# mnist 데이터셋 로딩\r\n",
        "from tensorflow.keras import datasets\r\n",
        "mnist = datasets.mnist\r\n",
        "\r\n",
        "(X_train, y_train), (X_test, y_test) = mnist.load_data()"
      ],
      "execution_count": 7,
      "outputs": [
        {
          "output_type": "stream",
          "text": [
            "Downloading data from https://storage.googleapis.com/tensorflow/tf-keras-datasets/mnist.npz\n",
            "11493376/11490434 [==============================] - 0s 0us/step\n"
          ],
          "name": "stdout"
        }
      ]
    },
    {
      "cell_type": "code",
      "metadata": {
        "colab": {
          "base_uri": "https://localhost:8080/"
        },
        "id": "OpFJVp5KVqJC",
        "outputId": "dcad4064-075a-46fb-a01a-44bca0d3707b"
      },
      "source": [
        "X_train.shape"
      ],
      "execution_count": 8,
      "outputs": [
        {
          "output_type": "execute_result",
          "data": {
            "text/plain": [
              "(60000, 28, 28)"
            ]
          },
          "metadata": {
            "tags": []
          },
          "execution_count": 8
        }
      ]
    },
    {
      "cell_type": "code",
      "metadata": {
        "colab": {
          "base_uri": "https://localhost:8080/"
        },
        "id": "HC3dePq1VqL-",
        "outputId": "71d78aab-d6d2-4b28-b590-209caadce6a4"
      },
      "source": [
        "y_train.shape"
      ],
      "execution_count": 9,
      "outputs": [
        {
          "output_type": "execute_result",
          "data": {
            "text/plain": [
              "(60000,)"
            ]
          },
          "metadata": {
            "tags": []
          },
          "execution_count": 9
        }
      ]
    },
    {
      "cell_type": "markdown",
      "metadata": {
        "id": "7FenIBMMWWGm"
      },
      "source": [
        "Cross Entropy는 One Hot Encoding 이 되어 있어야 함\r\n",
        "\r\n",
        "* `X_train.shape -> (60000, 784)`\r\n",
        "* `y_train.shape -> (60000, 10)`"
      ]
    },
    {
      "cell_type": "code",
      "metadata": {
        "colab": {
          "base_uri": "https://localhost:8080/"
        },
        "id": "O7o3SpnaVqPh",
        "outputId": "c050c9f7-5c84-40b6-e105-3f2f2c9fec4b"
      },
      "source": [
        "# step 1 : reshape 부터 진행 -> (60000, 1)\r\n",
        "y_train_step_1 = y_train.reshape(-1, 1)\r\n",
        "y_train_step_1.shape"
      ],
      "execution_count": 10,
      "outputs": [
        {
          "output_type": "execute_result",
          "data": {
            "text/plain": [
              "(60000, 1)"
            ]
          },
          "metadata": {
            "tags": []
          },
          "execution_count": 10
        }
      ]
    },
    {
      "cell_type": "code",
      "metadata": {
        "colab": {
          "base_uri": "https://localhost:8080/"
        },
        "id": "fLEMjSGYWbcR",
        "outputId": "2e3b3048-15af-4f7f-edbd-b06e98bc9210"
      },
      "source": [
        "y_train_step_1[:3]"
      ],
      "execution_count": 11,
      "outputs": [
        {
          "output_type": "execute_result",
          "data": {
            "text/plain": [
              "array([[5],\n",
              "       [0],\n",
              "       [4]], dtype=uint8)"
            ]
          },
          "metadata": {
            "tags": []
          },
          "execution_count": 11
        }
      ]
    },
    {
      "cell_type": "code",
      "metadata": {
        "colab": {
          "base_uri": "https://localhost:8080/"
        },
        "id": "wHkTTpGOWbev",
        "outputId": "91e3e700-39cd-4a26-f562-04923c9ee9c5"
      },
      "source": [
        "# OneHotEncoder를 이용해서 원핫 인코딩 수행\r\n",
        "from sklearn.preprocessing import OneHotEncoder\r\n",
        "\r\n",
        "y_train_one_hot = OneHotEncoder().fit_transform(y_train_step_1)\r\n",
        "y_train_one_hot = y_train_one_hot.toarray()\r\n",
        "\r\n",
        "y_train_one_hot.shape"
      ],
      "execution_count": 12,
      "outputs": [
        {
          "output_type": "execute_result",
          "data": {
            "text/plain": [
              "(60000, 10)"
            ]
          },
          "metadata": {
            "tags": []
          },
          "execution_count": 12
        }
      ]
    },
    {
      "cell_type": "code",
      "metadata": {
        "colab": {
          "base_uri": "https://localhost:8080/"
        },
        "id": "0dy376USWbh4",
        "outputId": "f4757864-3820-45fb-e610-b48143f84a35"
      },
      "source": [
        "y_train_one_hot[:3]"
      ],
      "execution_count": 13,
      "outputs": [
        {
          "output_type": "execute_result",
          "data": {
            "text/plain": [
              "array([[0., 0., 0., 0., 0., 1., 0., 0., 0., 0.],\n",
              "       [1., 0., 0., 0., 0., 0., 0., 0., 0., 0.],\n",
              "       [0., 0., 0., 0., 1., 0., 0., 0., 0., 0.]])"
            ]
          },
          "metadata": {
            "tags": []
          },
          "execution_count": 13
        }
      ]
    },
    {
      "cell_type": "code",
      "metadata": {
        "colab": {
          "base_uri": "https://localhost:8080/"
        },
        "id": "z-jIIcruWkCm",
        "outputId": "189e14b6-e2c0-4db1-e0ac-47393bec305a"
      },
      "source": [
        "X_train = X_train.reshape(60000, -1)\r\n",
        "X_train.shape"
      ],
      "execution_count": 14,
      "outputs": [
        {
          "output_type": "execute_result",
          "data": {
            "text/plain": [
              "(60000, 784)"
            ]
          },
          "metadata": {
            "tags": []
          },
          "execution_count": 14
        }
      ]
    },
    {
      "cell_type": "markdown",
      "metadata": {
        "id": "nXHjST3QWoEh"
      },
      "source": [
        "## 미니배치 구현하기"
      ]
    },
    {
      "cell_type": "code",
      "metadata": {
        "id": "zi8mwIeGWkFi"
      },
      "source": [
        "# 훈련 데이터에서 무작위로 10장만 빼내오기\r\n",
        "train_size = X_train.shape[0] # 전체 훈련 데이터셋 크기\r\n",
        "batch_size = 10 # 미니 배치의 사이즈\r\n",
        "batch_mask = np.random.choice(train_size, batch_size) # train_size에서 무작위로 batch_size만큼의 정수를 선택\r\n",
        "\r\n",
        "X_batch = X_train[batch_mask] # 랜덤으로 선택된 인덱스에 있는 데이터만 추려내기\r\n",
        "y_batch = y_train_one_hot[batch_mask] # 원핫 인코딩된 y_train에서 선택된 인덱스에 있는 데이터만 추려내기"
      ],
      "execution_count": 15,
      "outputs": []
    },
    {
      "cell_type": "code",
      "metadata": {
        "colab": {
          "base_uri": "https://localhost:8080/"
        },
        "id": "AK83L8C3WkJF",
        "outputId": "5abc9863-376a-49c0-f17a-c8899a3b1887"
      },
      "source": [
        "print(\"무작위로 선택된 인덱스 : {}\".format(batch_mask))"
      ],
      "execution_count": 16,
      "outputs": [
        {
          "output_type": "stream",
          "text": [
            "무작위로 선택된 인덱스 : [ 1764 23474 57514 51686 13671 58648  1254 13395 47693 37857]\n"
          ],
          "name": "stdout"
        }
      ]
    },
    {
      "cell_type": "markdown",
      "metadata": {
        "id": "ddadFShgW10C"
      },
      "source": [
        "배치용 교차 엔트로피\r\n",
        "$$\r\n",
        "E = -\\frac{1}{N}\\sum_n\\;\\sum_{k}t_{nk}log\\;y_{nk}\r\n",
        "$$"
      ]
    },
    {
      "cell_type": "code",
      "metadata": {
        "id": "PIdIRc-9WblT"
      },
      "source": [
        "# 배치 및 배치가 아닐 때 까지 고려\r\n",
        "def cross_entropy_error(y, t):\r\n",
        "\r\n",
        "  # 1차 원일 때에 대한 처리( 배치가 아닐 때의 처리 )\r\n",
        "  if y.ndim == 1:\r\n",
        "    # 강제로 2차원 배열화 시키는 것\r\n",
        "    t = t.reshape(1, t.size)\r\n",
        "    y = y.reshape(1, y.size)\r\n",
        "  \r\n",
        "  batch_size = y.shape[0]\r\n",
        "  return -np.sum(t * np.log(y)) / batch_size"
      ],
      "execution_count": 17,
      "outputs": []
    },
    {
      "cell_type": "code",
      "metadata": {
        "id": "dxUioasPW5pJ"
      },
      "source": [
        "# 원-핫 인코딩이 되어있지 않은 경우 대응\r\n",
        "def cross_entropy_error(y, t):\r\n",
        "  if y.ndim == 1:\r\n",
        "    t = t.reshape(1, t.size)\r\n",
        "    y = y.reshape(1, y.size)\r\n",
        "  \r\n",
        "  batch_size = y.shape[0]\r\n",
        "  return -np.sum(np.log(y[np.arange(batch_size), t])) / batch_size"
      ],
      "execution_count": 18,
      "outputs": []
    },
    {
      "cell_type": "code",
      "metadata": {
        "colab": {
          "base_uri": "https://localhost:8080/"
        },
        "id": "yNmveIdPW5rs",
        "outputId": "97fbc1d8-84ab-46a4-c62d-ed33e92bc616"
      },
      "source": [
        "arr = np.arange(10, 100)\r\n",
        "arr"
      ],
      "execution_count": 19,
      "outputs": [
        {
          "output_type": "execute_result",
          "data": {
            "text/plain": [
              "array([10, 11, 12, 13, 14, 15, 16, 17, 18, 19, 20, 21, 22, 23, 24, 25, 26,\n",
              "       27, 28, 29, 30, 31, 32, 33, 34, 35, 36, 37, 38, 39, 40, 41, 42, 43,\n",
              "       44, 45, 46, 47, 48, 49, 50, 51, 52, 53, 54, 55, 56, 57, 58, 59, 60,\n",
              "       61, 62, 63, 64, 65, 66, 67, 68, 69, 70, 71, 72, 73, 74, 75, 76, 77,\n",
              "       78, 79, 80, 81, 82, 83, 84, 85, 86, 87, 88, 89, 90, 91, 92, 93, 94,\n",
              "       95, 96, 97, 98, 99])"
            ]
          },
          "metadata": {
            "tags": []
          },
          "execution_count": 19
        }
      ]
    },
    {
      "cell_type": "code",
      "metadata": {
        "colab": {
          "base_uri": "https://localhost:8080/"
        },
        "id": "23D2GWHLW5up",
        "outputId": "cd2625ba-bade-43b0-b386-aff29110822d"
      },
      "source": [
        "arr[[1, 3, 6, 0, 5]]"
      ],
      "execution_count": 20,
      "outputs": [
        {
          "output_type": "execute_result",
          "data": {
            "text/plain": [
              "array([11, 13, 16, 10, 15])"
            ]
          },
          "metadata": {
            "tags": []
          },
          "execution_count": 20
        }
      ]
    },
    {
      "cell_type": "code",
      "metadata": {
        "id": "V-sjwfHHW5xQ"
      },
      "source": [
        ""
      ],
      "execution_count": null,
      "outputs": []
    },
    {
      "cell_type": "code",
      "metadata": {
        "id": "EqNY1usRW50q"
      },
      "source": [
        ""
      ],
      "execution_count": null,
      "outputs": []
    },
    {
      "cell_type": "code",
      "metadata": {
        "id": "pfLZztEjW54I"
      },
      "source": [
        ""
      ],
      "execution_count": null,
      "outputs": []
    },
    {
      "cell_type": "code",
      "metadata": {
        "id": "hdQ3fSccW57Z"
      },
      "source": [
        ""
      ],
      "execution_count": null,
      "outputs": []
    },
    {
      "cell_type": "code",
      "metadata": {
        "id": "GskGteEwW6AD"
      },
      "source": [
        ""
      ],
      "execution_count": null,
      "outputs": []
    },
    {
      "cell_type": "code",
      "metadata": {
        "id": "uXiKkR2WW6C5"
      },
      "source": [
        ""
      ],
      "execution_count": null,
      "outputs": []
    },
    {
      "cell_type": "code",
      "metadata": {
        "id": "9EBS7COlW6GU"
      },
      "source": [
        ""
      ],
      "execution_count": null,
      "outputs": []
    }
  ]
}