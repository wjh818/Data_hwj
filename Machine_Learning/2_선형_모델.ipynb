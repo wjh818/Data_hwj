{
  "nbformat": 4,
  "nbformat_minor": 0,
  "metadata": {
    "colab": {
      "name": "2. 선형 모델",
      "provenance": [],
      "collapsed_sections": [],
      "authorship_tag": "ABX9TyPd8iTv77IV2eL3GKQP4NoR",
      "include_colab_link": true
    },
    "kernelspec": {
      "name": "python3",
      "display_name": "Python 3"
    }
  },
  "cells": [
    {
      "cell_type": "markdown",
      "metadata": {
        "id": "view-in-github",
        "colab_type": "text"
      },
      "source": [
        "<a href=\"https://colab.research.google.com/github/wjh818/Data_hwj/blob/main/Machine_Learning/2_%EC%84%A0%ED%98%95_%EB%AA%A8%EB%8D%B8.ipynb\" target=\"_parent\"><img src=\"https://colab.research.google.com/assets/colab-badge.svg\" alt=\"Open In Colab\"/></a>"
      ]
    },
    {
      "cell_type": "markdown",
      "metadata": {
        "id": "GJKbjAKta6iE"
      },
      "source": [
        "## Linear Model"
      ]
    },
    {
      "cell_type": "code",
      "metadata": {
        "colab": {
          "base_uri": "https://localhost:8080/"
        },
        "id": "r7_FKNJ7a-V1",
        "outputId": "099db148-d281-403c-a17f-5080cb23f62b"
      },
      "source": [
        "!pip install mglearn"
      ],
      "execution_count": 1,
      "outputs": [
        {
          "output_type": "stream",
          "text": [
            "Collecting mglearn\n",
            "\u001b[?25l  Downloading https://files.pythonhosted.org/packages/65/38/8aced26fce0b2ae82c3c87cd3b6105f38ca6d9d51704ecc44aa54473e6b9/mglearn-0.1.9.tar.gz (540kB)\n",
            "\r\u001b[K     |▋                               | 10kB 15.1MB/s eta 0:00:01\r\u001b[K     |█▏                              | 20kB 19.8MB/s eta 0:00:01\r\u001b[K     |█▉                              | 30kB 12.4MB/s eta 0:00:01\r\u001b[K     |██▍                             | 40kB 9.4MB/s eta 0:00:01\r\u001b[K     |███                             | 51kB 9.2MB/s eta 0:00:01\r\u001b[K     |███▋                            | 61kB 9.4MB/s eta 0:00:01\r\u001b[K     |████▎                           | 71kB 9.0MB/s eta 0:00:01\r\u001b[K     |████▉                           | 81kB 9.2MB/s eta 0:00:01\r\u001b[K     |█████▌                          | 92kB 8.6MB/s eta 0:00:01\r\u001b[K     |██████                          | 102kB 8.4MB/s eta 0:00:01\r\u001b[K     |██████▊                         | 112kB 8.4MB/s eta 0:00:01\r\u001b[K     |███████▎                        | 122kB 8.4MB/s eta 0:00:01\r\u001b[K     |███████▉                        | 133kB 8.4MB/s eta 0:00:01\r\u001b[K     |████████▌                       | 143kB 8.4MB/s eta 0:00:01\r\u001b[K     |█████████                       | 153kB 8.4MB/s eta 0:00:01\r\u001b[K     |█████████▊                      | 163kB 8.4MB/s eta 0:00:01\r\u001b[K     |██████████▎                     | 174kB 8.4MB/s eta 0:00:01\r\u001b[K     |███████████                     | 184kB 8.4MB/s eta 0:00:01\r\u001b[K     |███████████▌                    | 194kB 8.4MB/s eta 0:00:01\r\u001b[K     |████████████▏                   | 204kB 8.4MB/s eta 0:00:01\r\u001b[K     |████████████▊                   | 215kB 8.4MB/s eta 0:00:01\r\u001b[K     |█████████████▍                  | 225kB 8.4MB/s eta 0:00:01\r\u001b[K     |██████████████                  | 235kB 8.4MB/s eta 0:00:01\r\u001b[K     |██████████████▋                 | 245kB 8.4MB/s eta 0:00:01\r\u001b[K     |███████████████▏                | 256kB 8.4MB/s eta 0:00:01\r\u001b[K     |███████████████▊                | 266kB 8.4MB/s eta 0:00:01\r\u001b[K     |████████████████▍               | 276kB 8.4MB/s eta 0:00:01\r\u001b[K     |█████████████████               | 286kB 8.4MB/s eta 0:00:01\r\u001b[K     |█████████████████▋              | 296kB 8.4MB/s eta 0:00:01\r\u001b[K     |██████████████████▏             | 307kB 8.4MB/s eta 0:00:01\r\u001b[K     |██████████████████▉             | 317kB 8.4MB/s eta 0:00:01\r\u001b[K     |███████████████████▍            | 327kB 8.4MB/s eta 0:00:01\r\u001b[K     |████████████████████            | 337kB 8.4MB/s eta 0:00:01\r\u001b[K     |████████████████████▋           | 348kB 8.4MB/s eta 0:00:01\r\u001b[K     |█████████████████████▎          | 358kB 8.4MB/s eta 0:00:01\r\u001b[K     |█████████████████████▉          | 368kB 8.4MB/s eta 0:00:01\r\u001b[K     |██████████████████████▌         | 378kB 8.4MB/s eta 0:00:01\r\u001b[K     |███████████████████████         | 389kB 8.4MB/s eta 0:00:01\r\u001b[K     |███████████████████████▋        | 399kB 8.4MB/s eta 0:00:01\r\u001b[K     |████████████████████████▎       | 409kB 8.4MB/s eta 0:00:01\r\u001b[K     |████████████████████████▉       | 419kB 8.4MB/s eta 0:00:01\r\u001b[K     |█████████████████████████▌      | 430kB 8.4MB/s eta 0:00:01\r\u001b[K     |██████████████████████████      | 440kB 8.4MB/s eta 0:00:01\r\u001b[K     |██████████████████████████▊     | 450kB 8.4MB/s eta 0:00:01\r\u001b[K     |███████████████████████████▎    | 460kB 8.4MB/s eta 0:00:01\r\u001b[K     |████████████████████████████    | 471kB 8.4MB/s eta 0:00:01\r\u001b[K     |████████████████████████████▌   | 481kB 8.4MB/s eta 0:00:01\r\u001b[K     |█████████████████████████████▏  | 491kB 8.4MB/s eta 0:00:01\r\u001b[K     |█████████████████████████████▊  | 501kB 8.4MB/s eta 0:00:01\r\u001b[K     |██████████████████████████████▍ | 512kB 8.4MB/s eta 0:00:01\r\u001b[K     |███████████████████████████████ | 522kB 8.4MB/s eta 0:00:01\r\u001b[K     |███████████████████████████████▌| 532kB 8.4MB/s eta 0:00:01\r\u001b[K     |████████████████████████████████| 542kB 8.4MB/s \n",
            "\u001b[?25hRequirement already satisfied: numpy in /usr/local/lib/python3.6/dist-packages (from mglearn) (1.19.4)\n",
            "Requirement already satisfied: matplotlib in /usr/local/lib/python3.6/dist-packages (from mglearn) (3.2.2)\n",
            "Requirement already satisfied: scikit-learn in /usr/local/lib/python3.6/dist-packages (from mglearn) (0.22.2.post1)\n",
            "Requirement already satisfied: pandas in /usr/local/lib/python3.6/dist-packages (from mglearn) (1.1.5)\n",
            "Requirement already satisfied: pillow in /usr/local/lib/python3.6/dist-packages (from mglearn) (7.0.0)\n",
            "Requirement already satisfied: cycler in /usr/local/lib/python3.6/dist-packages (from mglearn) (0.10.0)\n",
            "Requirement already satisfied: imageio in /usr/local/lib/python3.6/dist-packages (from mglearn) (2.4.1)\n",
            "Requirement already satisfied: joblib in /usr/local/lib/python3.6/dist-packages (from mglearn) (1.0.0)\n",
            "Requirement already satisfied: python-dateutil>=2.1 in /usr/local/lib/python3.6/dist-packages (from matplotlib->mglearn) (2.8.1)\n",
            "Requirement already satisfied: kiwisolver>=1.0.1 in /usr/local/lib/python3.6/dist-packages (from matplotlib->mglearn) (1.3.1)\n",
            "Requirement already satisfied: pyparsing!=2.0.4,!=2.1.2,!=2.1.6,>=2.0.1 in /usr/local/lib/python3.6/dist-packages (from matplotlib->mglearn) (2.4.7)\n",
            "Requirement already satisfied: scipy>=0.17.0 in /usr/local/lib/python3.6/dist-packages (from scikit-learn->mglearn) (1.4.1)\n",
            "Requirement already satisfied: pytz>=2017.2 in /usr/local/lib/python3.6/dist-packages (from pandas->mglearn) (2018.9)\n",
            "Requirement already satisfied: six in /usr/local/lib/python3.6/dist-packages (from cycler->mglearn) (1.15.0)\n",
            "Building wheels for collected packages: mglearn\n",
            "  Building wheel for mglearn (setup.py) ... \u001b[?25l\u001b[?25hdone\n",
            "  Created wheel for mglearn: filename=mglearn-0.1.9-py2.py3-none-any.whl size=582638 sha256=8ae02b50dcd09a5d37f5332d2df706fe530feb2bf0b45d2bef375ad9007ecbf8\n",
            "  Stored in directory: /root/.cache/pip/wheels/eb/a6/ea/a6a3716233fa62fc561259b5cb1e28f79e9ff3592c0adac5f0\n",
            "Successfully built mglearn\n",
            "Installing collected packages: mglearn\n",
            "Successfully installed mglearn-0.1.9\n"
          ],
          "name": "stdout"
        }
      ]
    },
    {
      "cell_type": "code",
      "metadata": {
        "id": "r9tNRZWxbBVs"
      },
      "source": [
        "import mglearn\r\n",
        "import numpy as np"
      ],
      "execution_count": 2,
      "outputs": []
    },
    {
      "cell_type": "code",
      "metadata": {
        "colab": {
          "base_uri": "https://localhost:8080/",
          "height": 464
        },
        "id": "xHOnBAIRbFnm",
        "outputId": "aebd1cdc-2718-47cb-8348-062d8b56891d"
      },
      "source": [
        "mglearn.plots.plot_linear_regression_wave()"
      ],
      "execution_count": 3,
      "outputs": [
        {
          "output_type": "stream",
          "text": [
            "w[0]: 0.393906  b: -0.031804\n"
          ],
          "name": "stdout"
        },
        {
          "output_type": "display_data",
          "data": {
            "image/png": "[encoded data removed]",
            "text/plain": [
              "<Figure size 576x576 with 1 Axes>"
            ]
          },
          "metadata": {
            "tags": [],
            "needs_background": "light"
          }
        }
      ]
    },
    {
      "cell_type": "code",
      "metadata": {
        "id": "ynoG7cxvbTdm"
      },
      "source": [
        "from sklearn.model_selection import train_test_split\r\n",
        "from sklearn.linear_model import LinearRegression\r\n",
        "\r\n",
        "X,y = mglearn.datasets.make_wave(n_samples=60)\r\n",
        "\r\n",
        "X_train, X_test, y_train, y_test = train_test_split(X, y, random_state=42)\r\n",
        "\r\n",
        "lr = LinearRegression().fit(X_train, y_train)"
      ],
      "execution_count": 4,
      "outputs": []
    },
    {
      "cell_type": "code",
      "metadata": {
        "colab": {
          "base_uri": "https://localhost:8080/"
        },
        "id": "3fkML99WbvCt",
        "outputId": "45bc74ff-3a95-4397-aa5d-3ebfdef2e7ef"
      },
      "source": [
        "X_train.shape, y_train.shape"
      ],
      "execution_count": 5,
      "outputs": [
        {
          "output_type": "execute_result",
          "data": {
            "text/plain": [
              "((45, 1), (45,))"
            ]
          },
          "metadata": {
            "tags": []
          },
          "execution_count": 5
        }
      ]
    },
    {
      "cell_type": "code",
      "metadata": {
        "colab": {
          "base_uri": "https://localhost:8080/"
        },
        "id": "mEsKp6HfbvFf",
        "outputId": "08f4d3cb-c420-431f-965d-898a53eaba3c"
      },
      "source": [
        "# 선형 회귀 모델이 학습한 가중치와 편향 보기\r\n",
        "print(\"lr의 가중치(weight) : {}\".format(lr.coef_))\r\n",
        "print(\"lr의 편향(bias) : {}\".format(lr.intercept_))"
      ],
      "execution_count": 6,
      "outputs": [
        {
          "output_type": "stream",
          "text": [
            "lr의 가중치(weight) : [0.39390555]\n",
            "lr의 편향(bias) : -0.031804343026759746\n"
          ],
          "name": "stdout"
        }
      ]
    },
    {
      "cell_type": "code",
      "metadata": {
        "colab": {
          "base_uri": "https://localhost:8080/"
        },
        "id": "Dq-X0zN_bvKE",
        "outputId": "1f2ba87b-6ad8-4e16-e07b-65f3278d43c4"
      },
      "source": [
        "# 훈련 세트와 데스트 세트 점수 확인\r\n",
        "print(\"훈련 세트 점수 : {:.2f}\".format(lr.score(X_train, y_train)))\r\n",
        "print(\"테스트 세트 점수 : {:.2f}\".format(lr.score(X_test, y_test)))"
      ],
      "execution_count": 7,
      "outputs": [
        {
          "output_type": "stream",
          "text": [
            "훈련 세트 점수 : 0.67\n",
            "테스트 세트 점수 : 0.66\n"
          ],
          "name": "stdout"
        }
      ]
    },
    {
      "cell_type": "markdown",
      "metadata": {
        "id": "CHsHPySydkZx"
      },
      "source": [
        "데이터의 특성이 많다면 어떻게 될까?"
      ]
    },
    {
      "cell_type": "code",
      "metadata": {
        "colab": {
          "base_uri": "https://localhost:8080/"
        },
        "id": "UR3LaCFectqK",
        "outputId": "362b49df-e814-41e2-a062-0ef1725840d5"
      },
      "source": [
        "# 확장된 boston 주택 가격 데이터섹 불러오기\r\n",
        "X, y = mglearn.datasets.load_extended_boston()\r\n",
        "\r\n",
        "X_train, X_test, y_train, y_test = train_test_split(X, y, random_state=0)\r\n",
        "lr = LinearRegression().fit(X_train, y_train)\r\n",
        "\r\n",
        "print(\"훈련 세트 점수 : {:.2f}\".format(lr.score(X_train, y_train)))\r\n",
        "print(\"테스트 세트 점수 : {:.2f}\".format(lr.score(X_test, y_test)))"
      ],
      "execution_count": 8,
      "outputs": [
        {
          "output_type": "stream",
          "text": [
            "훈련 세트 점수 : 0.95\n",
            "테스트 세트 점수 : 0.61\n"
          ],
          "name": "stdout"
        }
      ]
    },
    {
      "cell_type": "code",
      "metadata": {
        "colab": {
          "base_uri": "https://localhost:8080/"
        },
        "id": "f_Hl7cdAbvM_",
        "outputId": "0ea243cd-2b2c-453a-ddaf-b98bc724b6b7"
      },
      "source": [
        "X_train.shape"
      ],
      "execution_count": 9,
      "outputs": [
        {
          "output_type": "execute_result",
          "data": {
            "text/plain": [
              "(379, 104)"
            ]
          },
          "metadata": {
            "tags": []
          },
          "execution_count": 9
        }
      ]
    },
    {
      "cell_type": "markdown",
      "metadata": {
        "id": "Haj40vsdzsca"
      },
      "source": [
        "## 가중치 패널티($\\alpha$)\r\n",
        "$\\alpha$란 가중치를 억제하는 힘이라고 생각하면 편하다. 즉, $\\alpha$가 커질수록 가중치 $w$는 0에 가깝게 작아진다.\r\n",
        "\r\n",
        "  - Ridge 모델\r\n",
        "    - $\\alpha$가 커지면 가중치($w$)가 0에 가깝게 작아지지만, 실제 0이 되진 않는다.\r\n",
        "  - Lasso 모델\r\n",
        "    - $\\alpha$가 커지면 가중치($w$)가 0에 가까워지고, 실제 0이 되어버린다.\r\n",
        "    - 이러한 특징을 **모델에 의한 특성 선택**이라고 한다."
      ]
    },
    {
      "cell_type": "code",
      "metadata": {
        "colab": {
          "base_uri": "https://localhost:8080/"
        },
        "id": "M3QxMoGl1zGn",
        "outputId": "7ce3a243-3c84-4700-a3b9-c5811c310f43"
      },
      "source": [
        "# 사용할 데이터셋: 확장된 보스턴 주택가격 데이터셋 사용\r\n",
        "\r\n",
        "# 릿지 확인하기\r\n",
        "from sklearn.linear_model import Ridge\r\n",
        "\r\n",
        "ridge = Ridge().fit(X_train, y_train)\r\n",
        "\r\n",
        "print(\"훈련 세트의 점수 : {:.2f}\".format(ridge.score(X_train, y_train)))\r\n",
        "print(\"테스트 세트의 점수 : {:.2f}\".format(ridge.score(X_test, y_test)))"
      ],
      "execution_count": 10,
      "outputs": [
        {
          "output_type": "stream",
          "text": [
            "훈련 세트의 점수 : 0.89\n",
            "테스트 세트의 점수 : 0.75\n"
          ],
          "name": "stdout"
        }
      ]
    },
    {
      "cell_type": "code",
      "metadata": {
        "colab": {
          "base_uri": "https://localhost:8080/"
        },
        "id": "2rd8YTPM9A2N",
        "outputId": "a94b9a94-6153-43fe-a825-452f4629ab49"
      },
      "source": [
        "ridge"
      ],
      "execution_count": 11,
      "outputs": [
        {
          "output_type": "execute_result",
          "data": {
            "text/plain": [
              "Ridge(alpha=1.0, copy_X=True, fit_intercept=True, max_iter=None,\n",
              "      normalize=False, random_state=None, solver='auto', tol=0.001)"
            ]
          },
          "metadata": {
            "tags": []
          },
          "execution_count": 11
        }
      ]
    },
    {
      "cell_type": "code",
      "metadata": {
        "colab": {
          "base_uri": "https://localhost:8080/"
        },
        "id": "hW9CY2ly9A5h",
        "outputId": "137af782-e99a-4152-faf0-6376350e88f3"
      },
      "source": [
        "# alpha 값에 따른 릿지 모델의 성능 확인\r\n",
        "\r\n",
        "# alpha를 10으로 설정한 경우\r\n",
        "ridge10 = Ridge(alpha=10).fit(X_train, y_train)\r\n",
        "\r\n",
        "print(\"alpha = 10일 때의 훈련 세트의 점수 : {:.2f}\".format(ridge10.score(X_train, y_train)))\r\n",
        "print(\"alpha = 10일 때의 테스트 세트의 점수 : {:.2f}\".format(ridge10.score(X_test, y_test)))"
      ],
      "execution_count": 13,
      "outputs": [
        {
          "output_type": "stream",
          "text": [
            "alpha = 10일 때의 훈련 세트의 점수 : 0.79\n",
            "alpha = 10일 때의 테스트 세트의 점수 : 0.64\n"
          ],
          "name": "stdout"
        }
      ]
    },
    {
      "cell_type": "code",
      "metadata": {
        "colab": {
          "base_uri": "https://localhost:8080/"
        },
        "id": "xIifFi2r98SX",
        "outputId": "9543c3e0-991b-4209-82e2-03a534d2f20d"
      },
      "source": [
        "# alpha를 10으로 설정한 경우\r\n",
        "ridge01 = Ridge(alpha=0.1).fit(X_train, y_train)\r\n",
        "\r\n",
        "print(\"alpha = 0.1일 때의 훈련 세트의 점수 : {:.2f}\".format(ridge01.score(X_train, y_train)))\r\n",
        "print(\"alpha = 0.1일 때의 테스트 세트의 점수 : {:.2f}\".format(ridge01.score(X_test, y_test)))"
      ],
      "execution_count": 14,
      "outputs": [
        {
          "output_type": "stream",
          "text": [
            "alpha = 0.1일 때의 훈련 세트의 점수 : 0.93\n",
            "alpha = 0.1일 때의 테스트 세트의 점수 : 0.77\n"
          ],
          "name": "stdout"
        }
      ]
    },
    {
      "cell_type": "code",
      "metadata": {
        "id": "tjvt1Ers_Gdo"
      },
      "source": [
        "import matplotlib.pyplot as plt\r\n",
        "%matplotlib inline"
      ],
      "execution_count": 15,
      "outputs": []
    },
    {
      "cell_type": "code",
      "metadata": {
        "colab": {
          "base_uri": "https://localhost:8080/",
          "height": 626
        },
        "id": "6pk_OtqH9BAT",
        "outputId": "6ac04d7b-509a-43d7-f77e-e1f5c09f3831"
      },
      "source": [
        "# alpha 값에 따른 각각 특성에 대한 가중치의 분포도를 확인해 보자\r\n",
        "# 선형 모델의 coef_ 변수에 가중치 배열이 들어있음\r\n",
        "\r\n",
        "plt.figure(figsize=(20, 10))\r\n",
        "\r\n",
        "plt.plot(ridge10.coef_, '*', label=\"Ridge alpha 10\")\r\n",
        "plt.plot(ridge.coef_, 's', label=\"Ridge alpha 1.0\")\r\n",
        "plt.plot(ridge01.coef_, 'v', label=\"Ridge alpha 0.1\")\r\n",
        "plt.plot(lr.coef_, 'o', label=\"LinearRegression\")\r\n",
        "\r\n",
        "plt.xlabel(\"coef list\")\r\n",
        "plt.ylabel(\"coef size\")\r\n",
        "plt.hlines(0, 0, len(lr.coef_))\r\n",
        "plt.ylim(-25, 25)\r\n",
        "plt.legend()\r\n",
        "plt.show()"
      ],
      "execution_count": 17,
      "outputs": [
        {
          "output_type": "display_data",
          "data": {
            "image/png": "[encoded data removed]",
            "text/plain": [
              "<Figure size 1440x720 with 1 Axes>"
            ]
          },
          "metadata": {
            "tags": [],
            "needs_background": "light"
          }
        }
      ]
    },
    {
      "cell_type": "code",
      "metadata": {
        "colab": {
          "base_uri": "https://localhost:8080/"
        },
        "id": "__--4gnP9BDe",
        "outputId": "f53a9075-d218-4896-9e7e-39fc8e8e8640"
      },
      "source": [
        "# Lasso\r\n",
        "# (결과를 보면 과소적합인 것을 알 수 있음)\r\n",
        "from sklearn.linear_model import Lasso\r\n",
        "\r\n",
        "lasso = Lasso().fit(X_train, y_train)\r\n",
        "\r\n",
        "print(\"훈련 세트의 점수 : {:.2f}\".format(lasso.score(X_train, y_train)))\r\n",
        "print(\"테스트 세트의 점수 : {:.2f}\".format(lasso.score(X_test, y_test)))"
      ],
      "execution_count": 18,
      "outputs": [
        {
          "output_type": "stream",
          "text": [
            "훈련 세트의 점수 : 0.29\n",
            "테스트 세트의 점수 : 0.21\n"
          ],
          "name": "stdout"
        }
      ]
    },
    {
      "cell_type": "code",
      "metadata": {
        "colab": {
          "base_uri": "https://localhost:8080/"
        },
        "id": "Ib_zozm39BHL",
        "outputId": "f191e42e-0dce-4f1e-f5c8-b5c36af5a3e0"
      },
      "source": [
        "lasso"
      ],
      "execution_count": 19,
      "outputs": [
        {
          "output_type": "execute_result",
          "data": {
            "text/plain": [
              "Lasso(alpha=1.0, copy_X=True, fit_intercept=True, max_iter=1000,\n",
              "      normalize=False, positive=False, precompute=False, random_state=None,\n",
              "      selection='cyclic', tol=0.0001, warm_start=False)"
            ]
          },
          "metadata": {
            "tags": []
          },
          "execution_count": 19
        }
      ]
    },
    {
      "cell_type": "code",
      "metadata": {
        "colab": {
          "base_uri": "https://localhost:8080/"
        },
        "id": "HPjX9ZQ39BKF",
        "outputId": "3b83b357-4414-4b58-cc83-29f054ad360a"
      },
      "source": [
        "import numpy as np\r\n",
        "\r\n",
        "print(\"lasso에서 선택한 특성의 갯수 : {}\".format(np.sum(lasso.coef_ != 0)))"
      ],
      "execution_count": 20,
      "outputs": [
        {
          "output_type": "stream",
          "text": [
            "lasso에서 선택한 특성의 갯수 : 4\n"
          ],
          "name": "stdout"
        }
      ]
    },
    {
      "cell_type": "code",
      "metadata": {
        "colab": {
          "base_uri": "https://localhost:8080/"
        },
        "id": "LMXzIuOoHsdn",
        "outputId": "20ce4549-3ce0-4b0f-a363-8aa8accd44b2"
      },
      "source": [
        "# Lasso는 기본적으로 경사하강법을 이용해 오차를 수정한다\r\n",
        "# max_iter는 Lasso가 수행할 경사하강법의 최대 횟수이다\r\n",
        "\r\n",
        "lasso001 = Lasso(alpha=0.01, max_iter=1000000).fit(X_train, y_train)\r\n",
        "\r\n",
        "print(\"훈련 세트의 점수 : {:.2f}\".format(lasso001.score(X_train, y_train)))\r\n",
        "print(\"테스트 세트의 점수 : {:.2f}\".format(lasso001.score(X_test, y_test)))\r\n",
        "print(\"lasso001에서 선택한 특성의 갯수 : {}\".format(np.sum(lasso001.coef_ != 0)))"
      ],
      "execution_count": 25,
      "outputs": [
        {
          "output_type": "stream",
          "text": [
            "훈련 세트의 점수 : 0.90\n",
            "테스트 세트의 점수 : 0.77\n",
            "lasso001에서 선택한 특성의 갯수 : 33\n"
          ],
          "name": "stdout"
        }
      ]
    },
    {
      "cell_type": "code",
      "metadata": {
        "colab": {
          "base_uri": "https://localhost:8080/"
        },
        "id": "pJGkvnqEHsgE",
        "outputId": "e133e135-2d99-486d-983e-51943505171c"
      },
      "source": [
        "lasso00001 = Lasso(alpha=0.0001, max_iter=1000000).fit(X_train, y_train)\r\n",
        "\r\n",
        "print(\"훈련 세트의 점수 : {:.2f}\".format(lasso00001.score(X_train, y_train)))\r\n",
        "print(\"테스트 세트의 점수 : {:.2f}\".format(lasso00001.score(X_test, y_test)))\r\n",
        "print(\"lasso001에서 선택한 특성의 갯수 : {}\".format(np.sum(lasso00001.coef_ != 0)))"
      ],
      "execution_count": 26,
      "outputs": [
        {
          "output_type": "stream",
          "text": [
            "훈련 세트의 점수 : 0.95\n",
            "테스트 세트의 점수 : 0.64\n",
            "lasso001에서 선택한 특성의 갯수 : 96\n"
          ],
          "name": "stdout"
        }
      ]
    },
    {
      "cell_type": "markdown",
      "metadata": {
        "id": "Q6zRrIjKJpXy"
      },
      "source": [
        "이 데이터에서는 Ridge보다 Lasso가 더 성능이 좋은 것을 알 수 있음"
      ]
    },
    {
      "cell_type": "code",
      "metadata": {
        "colab": {
          "base_uri": "https://localhost:8080/",
          "height": 606
        },
        "id": "znvi4S_LHsit",
        "outputId": "c461e67a-6722-40d2-8dd7-b90e6257589b"
      },
      "source": [
        "# Ridge는 특성들을 버리지 않고 사용\r\n",
        "# Lasso는 특성들을 0으로 만들어 버림\r\n",
        "\r\n",
        "plt.figure(figsize=(20, 10))\r\n",
        "\r\n",
        "plt.plot(lasso.coef_, '*', label=\"lasso alpha 1\")\r\n",
        "plt.plot(lasso001.coef_, 's', label=\"lasso alpha 0.01\")\r\n",
        "plt.plot(lasso00001.coef_, 'v', label=\"lasso alpha 0.0001\")\r\n",
        "plt.plot(ridge01.coef_, 'o', label=\"Ridge alpha 0.1\")\r\n",
        "\r\n",
        "plt.xlabel(\"coef list\")\r\n",
        "plt.ylabel(\"coef size\")\r\n",
        "plt.hlines(0, 0, len(lr.coef_))\r\n",
        "plt.ylim(-25, 25)\r\n",
        "plt.legend()\r\n",
        "plt.show()"
      ],
      "execution_count": 27,
      "outputs": [
        {
          "output_type": "display_data",
          "data": {
            "image/png": "[encoded data removed]",
            "text/plain": [
              "<Figure size 1440x720 with 1 Axes>"
            ]
          },
          "metadata": {
            "tags": [],
            "needs_background": "light"
          }
        }
      ]
    },
    {
      "cell_type": "markdown",
      "metadata": {
        "id": "v3x5pszSK5fF"
      },
      "source": [
        "## Linear Model Classification\r\n",
        "\r\n",
        "$$\r\n",
        "\\hat{y}=w[0] * x[0] + w[1] * x[1] + ... + w[p] * x[p] + b > 0\r\n",
        "$$"
      ]
    },
    {
      "cell_type": "code",
      "metadata": {
        "id": "BMzckVbxHslI"
      },
      "source": [
        ""
      ],
      "execution_count": null,
      "outputs": []
    },
    {
      "cell_type": "code",
      "metadata": {
        "id": "L5bzI9mwHsnn"
      },
      "source": [
        ""
      ],
      "execution_count": null,
      "outputs": []
    },
    {
      "cell_type": "code",
      "metadata": {
        "id": "x8irXRcdHsqO"
      },
      "source": [
        ""
      ],
      "execution_count": null,
      "outputs": []
    },
    {
      "cell_type": "code",
      "metadata": {
        "id": "ZDSyPxARHssx"
      },
      "source": [
        ""
      ],
      "execution_count": null,
      "outputs": []
    },
    {
      "cell_type": "code",
      "metadata": {
        "id": "7A_I7BuyHsvc"
      },
      "source": [
        ""
      ],
      "execution_count": null,
      "outputs": []
    },
    {
      "cell_type": "code",
      "metadata": {
        "id": "px6XBWKI9BNL"
      },
      "source": [
        ""
      ],
      "execution_count": null,
      "outputs": []
    },
    {
      "cell_type": "code",
      "metadata": {
        "id": "qWAwPwIA9BQL"
      },
      "source": [
        ""
      ],
      "execution_count": null,
      "outputs": []
    }
  ]
}