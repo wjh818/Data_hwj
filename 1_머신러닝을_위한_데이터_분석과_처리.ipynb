{
  "nbformat": 4,
  "nbformat_minor": 0,
  "metadata": {
    "colab": {
      "name": "1. 머신러닝을 위한 데이터 분석과 처리",
      "provenance": [],
      "authorship_tag": "ABX9TyMMQgb948CbXilIblCNk3ov",
      "include_colab_link": true
    },
    "kernelspec": {
      "name": "python3",
      "display_name": "Python 3"
    }
  },
  "cells": [
    {
      "cell_type": "markdown",
      "metadata": {
        "id": "view-in-github",
        "colab_type": "text"
      },
      "source": [
        "<a href=\"https://colab.research.google.com/github/wjh818/data/blob/main/1_%EB%A8%B8%EC%8B%A0%EB%9F%AC%EB%8B%9D%EC%9D%84_%EC%9C%84%ED%95%9C_%EB%8D%B0%EC%9D%B4%ED%84%B0_%EB%B6%84%EC%84%9D%EA%B3%BC_%EC%B2%98%EB%A6%AC.ipynb\" target=\"_parent\"><img src=\"https://colab.research.google.com/assets/colab-badge.svg\" alt=\"Open In Colab\"/></a>"
      ]
    },
    {
      "cell_type": "code",
      "metadata": {
        "id": "GwZyazcAIzjV"
      },
      "source": [
        "# 사용할 데이터셋 다운로드 하기\r\n",
        "\r\n",
        "import os\r\n",
        "import tarfile\r\n",
        "import urllib.request\r\n",
        "\r\n",
        "DOWNLOAD_ROOT = \"https://raw.githubusercontent.com/ageron/handson-ml2/master/\"\r\n",
        "HOUSING_PATH = os.path.join(\"datasets\", \"housing\")\r\n",
        "HOUSING_URL  = DOWNLOAD_ROOT + \"datasets/housing/housing.tgz\"\r\n",
        "\r\n",
        "def fetch_housing_data(housing_url= HOUSING_URL, housing_path= HOUSING_PATH):\r\n",
        "  os.makedirs(housing_path, exist_ok= True)\r\n",
        "  tgz_path = os.path.join(housing_path, \"housing.tgz\")\r\n",
        "  urllib.request.urlretrieve(housing_url, tgz_path)\r\n",
        "  housing_tgz = tarfile.open(tgz_path)\r\n",
        "  housing_tgz.extractall(path= housing_path)\r\n",
        "  housing_tgz.close()\r\n",
        "  \r\n",
        "fetch_housing_data()"
      ],
      "execution_count": 1,
      "outputs": []
    },
    {
      "cell_type": "code",
      "metadata": {
        "id": "p9AxvGP7I_86"
      },
      "source": [
        ""
      ],
      "execution_count": null,
      "outputs": []
    },
    {
      "cell_type": "code",
      "metadata": {
        "id": "57AryleEJApx"
      },
      "source": [
        ""
      ],
      "execution_count": null,
      "outputs": []
    }
  ]
}